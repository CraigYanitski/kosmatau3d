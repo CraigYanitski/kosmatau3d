{
 "cells": [
  {
   "cell_type": "code",
   "execution_count": 1,
   "metadata": {},
   "outputs": [],
   "source": [
    "import os\n",
    "import sys\n",
    "import inspect\n",
    "import matplotlib.pyplot as plt\n",
    "from mpl_toolkits.mplot3d import Axes3D\n",
    "\n",
    "pathname = inspect.getframeinfo(inspect.currentframe()).filename\n",
    "sys.path.append(os.path.abspath(os.path.dirname(pathname))+'/classes/')\n",
    "\n",
    "from Model import *\n",
    "import constants"
   ]
  },
  {
   "cell_type": "code",
   "execution_count": 2,
   "metadata": {},
   "outputs": [],
   "source": [
    "complete = False\n",
    "\n",
    "x = 36\n",
    "y = 36\n",
    "z = 2\n",
    "\n",
    "shape = 'disk'\n",
    "\n",
    "resolution = 1000\n",
    "\n",
    "constants.changeDirectory('MilkyWay')\n",
    "\n",
    "modelFolder = 'r1000_n3015/'\n",
    "\n",
    "# Factors\n",
    "constants.clumpMassFactor = 1\n",
    "constants.interclumpMassFactor = 1\n",
    "constants.FUVFactor = 1\n",
    "constants.DensityFactor = 1\n",
    "\n",
    "# Constant\n",
    "constants.interclumpLogFUV = 1\n",
    "\n",
    "# Model masses\n",
    "constants.clumpLogMassNum = 4\n",
    "constants.clumpLogMassRange = [-1, 2]\n",
    "constants.interclumpLogMassNum = 2\n",
    "constants.interclumpLogMassRange = [-3, -2]"
   ]
  },
  {
   "cell_type": "code",
   "execution_count": 3,
   "metadata": {},
   "outputs": [
    {
     "name": "stdout",
     "output_type": "stream",
     "text": [
      "KOSMA-tau^3\n"
     ]
    }
   ],
   "source": [
    "print('KOSMA-tau^3')\n",
    "\n",
    "species = ['13CO 10', 'C+ 1', 'CO 1', 'CO 2', 'CO 3', 'CO 4', 'CO 5', 'CO 6', 'CO 7', 'CO 8', 'CO 9', 'CO 10', '13CO 1', '13CO 2', '13CO 3', '13CO 4', '13CO 5', '13CO 6', '13CO 7', '13CO 8', '13CO 9', '13CO 10', 'O 2']\n",
    "kosma = Model(x, y, z, modelType=shape, resolution=resolution)\n",
    "kosma.addSpecies(species)"
   ]
  },
  {
   "cell_type": "code",
   "execution_count": 5,
   "metadata": {},
   "outputs": [
    {
     "name": "stdout",
     "output_type": "stream",
     "text": [
      "(333,)\n",
      "23\n"
     ]
    }
   ],
   "source": [
    "import constants\n",
    "import species\n",
    "\n",
    "print(constants.wavelengths.shape)\n",
    "print(len(species.moleculeWavelengths))\n",
    "# print(np.array2string(np.append(constants.wavelengths, species.moleculeWavelengths), separator=','))"
   ]
  },
  {
   "cell_type": "code",
   "execution_count": 4,
   "metadata": {},
   "outputs": [
    {
     "name": "stderr",
     "output_type": "stream",
     "text": [
      "/home/craig/projects/pdr/KOSMA-tau^3/classes/cyplot/cygrid.py:149: RuntimeWarning: divide by zero encountered in true_divide\n",
      "  image = grid.get_datacube()\n",
      "/home/craig/projects/pdr/KOSMA-tau^3/classes/cyplot/cygrid.py:149: RuntimeWarning: invalid value encountered in true_divide\n",
      "  image = grid.get_datacube()\n"
     ]
    },
    {
     "name": "stdout",
     "output_type": "stream",
     "text": [
      "(33, 356, 200, 200)\n"
     ]
    }
   ],
   "source": [
    "constants.mapShape = (200, 200)\n",
    "\n",
    "import cyplot\n",
    "\n",
    "images,wcs = cyplot.convertMap(modelFolder, input_coord='spherical')\n",
    "print(images.shape)\n",
    "\n",
    "images = np.nan_to_num(images, nan=0)"
   ]
  },
  {
   "cell_type": "code",
   "execution_count": 5,
   "metadata": {},
   "outputs": [],
   "source": [
    "image = cyplot.integrateVelocity(images, splitWavelengths=False)\n",
    "# image2 = cyplot.integrateVelocity(images, splitWavelengths=True)"
   ]
  },
  {
   "cell_type": "code",
   "execution_count": 8,
   "metadata": {},
   "outputs": [
    {
     "data": {
      "text/plain": [
       "WCS Keywords\n",
       "\n",
       "Number of WCS axes: 2\n",
       "CTYPE : 'GLON'  'GLAT'  \n",
       "CRVAL : 0.0  0.0  \n",
       "CRPIX : 100.0  100.0  \n",
       "PC1_1 PC1_2  : 1.0  0.0  \n",
       "PC2_1 PC2_2  : 0.0  1.0  \n",
       "CDELT : 1.8  0.9  \n",
       "NAXIS : 200  200"
      ]
     },
     "execution_count": 8,
     "metadata": {},
     "output_type": "execute_result"
    }
   ],
   "source": [
    "wcs.celestial"
   ]
  },
  {
   "cell_type": "code",
   "execution_count": 7,
   "metadata": {
    "scrolled": false
   },
   "outputs": [
    {
     "data": {
      "image/png": "[encoded data removed]",
      "text/plain": [
       "<Figure size 2160x720 with 2 Axes>"
      ]
     },
     "metadata": {
      "needs_background": "light"
     },
     "output_type": "display_data"
    }
   ],
   "source": [
    "# for i in range(images[:,0,0,0].size):\n",
    "#   fig = plt.figure(figsize=(20,40))\n",
    "#   ax = fig.add_subplot(111, projection=wcs.celestial)\n",
    "#   plt.imshow(images[i,332,:,:], cmap='bone')\n",
    "#   plt.show()\n",
    "\n",
    "vmin = image[1,:,:].min()\n",
    "vmax = image[1,:,:].max()\n",
    "\n",
    "fig = plt.figure(figsize=(30, 10))\n",
    "ax1 = fig.add_subplot(111, projection=wcs.celestial)\n",
    "dust = ax1.imshow(image[1,:,:], alpha=0.5, vmin=vmin, vmax=vmax, cmap='bone')\n",
    "cbar1 = plt.colorbar(dust, ax=ax1, shrink=1)\n",
    "cbar1.ax.set_ylabel('Dust Intensity (K km/s)', rotation=270)\n",
    "# i = 340\n",
    "# mol1 = ax1.imshow(image[i,:,:], alpha=0.5, cmap='magma')\n",
    "# cbar2 = plt.colorbar(mol1, ax=ax1, shrink=1)\n",
    "# cbar2.ax.set_ylabel('{} Intensity (K km/s)'.format(species[i-333]), rotation=270)\n",
    "# i = 355\n",
    "# mol2 = ax1.imshow(image[i,:,:], alpha=0.5, cmap='hot')\n",
    "# cbar3 = plt.colorbar(mol2, ax=ax1, shrink=1)\n",
    "# cbar3.ax.set_ylabel('{} Intensity (K km/s)'.format(species[i-333]), rotation=270)\n",
    "plt.show()"
   ]
  },
  {
   "cell_type": "code",
   "execution_count": 7,
   "metadata": {},
   "outputs": [
    {
     "name": "stdout",
     "output_type": "stream",
     "text": [
      "22\n",
      "22\n",
      "22\n",
      "22\n",
      "22\n",
      "22\n",
      "22\n",
      "22\n",
      "22\n",
      "22\n",
      "22\n",
      "22\n",
      "22\n",
      "22\n",
      "22\n",
      "22\n",
      "22\n",
      "22\n",
      "22\n",
      "22\n",
      "22\n",
      "22\n",
      "22\n"
     ]
    },
    {
     "data": {
      "image/png": "[encoded data removed]",
      "text/plain": [
       "<Figure size 432x288 with 1 Axes>"
      ]
     },
     "metadata": {
      "needs_background": "light"
     },
     "output_type": "display_data"
    },
    {
     "data": {
      "text/plain": [
       "array([    0.,     0.,     0.,     0.,     0.,     0.,     0.,     0.,\n",
       "           0.,     0.,     0.,     0.,     0.,     0.,     0.,     0.,\n",
       "           0.,     0.,     0.,     0.,     0.,     0.,    50.,    50.,\n",
       "          50.,    50.,    50.,    50.,    50.,    50.,    50.,    50.,\n",
       "          50.,    50.,    50.,    50.,    50.,    50.,    50.,    50.,\n",
       "          50.,    50.,    50.,    50.,   100.,   100.,   100.,   100.,\n",
       "         100.,   100.,   100.,   100.,   100.,   100.,   100.,   100.,\n",
       "         100.,   100.,   100.,   100.,   100.,   100.,   100.,   100.,\n",
       "         100.,   100.,   150.,   150.,   150.,   150.,   150.,   150.,\n",
       "         150.,   150.,   150.,   150.,   150.,   150.,   150.,   150.,\n",
       "         150.,   150.,   150.,   150.,   150.,   150.,   150.,   150.,\n",
       "         200.,   200.,   200.,   200.,   200.,   200.,   200.,   200.,\n",
       "         200.,   200.,   200.,   200.,   200.,   200.,   200.,   200.,\n",
       "         200.,   200.,   200.,   200.,   200.,   200.,   300.,   300.,\n",
       "         300.,   300.,   300.,   300.,   300.,   300.,   300.,   300.,\n",
       "         300.,   300.,   300.,   300.,   300.,   300.,   300.,   300.,\n",
       "         300.,   300.,   300.,   300.,   400.,   400.,   400.,   400.,\n",
       "         400.,   400.,   400.,   400.,   400.,   400.,   400.,   400.,\n",
       "         400.,   400.,   400.,   400.,   400.,   400.,   400.,   400.,\n",
       "         400.,   400.,   600.,   600.,   600.,   600.,   600.,   600.,\n",
       "         600.,   600.,   600.,   600.,   600.,   600.,   600.,   600.,\n",
       "         600.,   600.,   600.,   600.,   600.,   600.,   600.,   600.,\n",
       "         800.,   800.,   800.,   800.,   800.,   800.,   800.,   800.,\n",
       "         800.,   800.,   800.,   800.,   800.,   800.,   800.,   800.,\n",
       "         800.,   800.,   800.,   800.,   800.,   800.,  1000.,  1000.,\n",
       "        1000.,  1000.,  1000.,  1000.,  1000.,  1000.,  1000.,  1000.,\n",
       "        1000.,  1000.,  1000.,  1000.,  1000.,  1000.,  1000.,  1000.,\n",
       "        1000.,  1000.,  1000.,  1000.,  1500.,  1500.,  1500.,  1500.,\n",
       "        1500.,  1500.,  1500.,  1500.,  1500.,  1500.,  1500.,  1500.,\n",
       "        1500.,  1500.,  1500.,  1500.,  1500.,  1500.,  1500.,  1500.,\n",
       "        1500.,  1500.,  2000.,  2000.,  2000.,  2000.,  2000.,  2000.,\n",
       "        2000.,  2000.,  2000.,  2000.,  2000.,  2000.,  2000.,  2000.,\n",
       "        2000.,  2000.,  2000.,  2000.,  2000.,  2000.,  2000.,  2000.,\n",
       "        3000.,  3000.,  3000.,  3000.,  3000.,  3000.,  3000.,  3000.,\n",
       "        3000.,  3000.,  3000.,  3000.,  3000.,  3000.,  3000.,  3000.,\n",
       "        3000.,  3000.,  3000.,  3000.,  3000.,  3000.,  4000.,  4000.,\n",
       "        4000.,  4000.,  4000.,  4000.,  4000.,  4000.,  4000.,  4000.,\n",
       "        4000.,  4000.,  4000.,  4000.,  4000.,  4000.,  4000.,  4000.,\n",
       "        4000.,  4000.,  4000.,  4000.,  4500.,  4500.,  4500.,  4500.,\n",
       "        4500.,  4500.,  4500.,  4500.,  4500.,  4500.,  4500.,  4500.,\n",
       "        4500.,  4500.,  4500.,  4500.,  4500.,  4500.,  4500.,  4500.,\n",
       "        4500.,  4500.,  5000.,  5000.,  5000.,  5000.,  5000.,  5000.,\n",
       "        5000.,  5000.,  5000.,  5000.,  5000.,  5000.,  5000.,  5000.,\n",
       "        5000.,  5000.,  5000.,  5000.,  5000.,  5000.,  5000.,  5000.,\n",
       "        6000.,  6000.,  6000.,  6000.,  6000.,  6000.,  6000.,  6000.,\n",
       "        6000.,  6000.,  6000.,  6000.,  6000.,  6000.,  6000.,  6000.,\n",
       "        6000.,  6000.,  6000.,  6000.,  6000.,  6000.,  8000.,  8000.,\n",
       "        8000.,  8000.,  8000.,  8000.,  8000.,  8000.,  8000.,  8000.,\n",
       "        8000.,  8000.,  8000.,  8000.,  8000.,  8000.,  8000.,  8000.,\n",
       "        8000.,  8000.,  8000.,  8000., 10000., 10000., 10000., 10000.,\n",
       "       10000., 10000., 10000., 10000., 10000., 10000., 10000., 10000.,\n",
       "       10000., 10000., 10000., 10000., 10000., 10000., 10000., 10000.,\n",
       "       10000., 10000., 12000., 12000., 12000., 12000., 12000., 12000.,\n",
       "       12000., 12000., 12000., 12000., 12000., 12000., 12000., 12000.,\n",
       "       12000., 12000., 12000., 12000., 12000., 12000., 12000., 12000.,\n",
       "       15000., 15000., 15000., 15000., 15000., 15000., 15000., 15000.,\n",
       "       15000., 15000., 15000., 15000., 15000., 15000., 15000., 15000.,\n",
       "       15000., 15000., 15000., 15000., 15000., 15000., 18000., 18000.,\n",
       "       18000., 18000., 18000., 18000., 18000., 18000., 18000., 18000.,\n",
       "       18000., 18000., 18000., 18000., 18000., 18000., 18000., 18000.,\n",
       "       18000., 18000., 18000., 18000., 24000., 24000., 24000., 24000.,\n",
       "       24000., 24000., 24000., 24000., 24000., 24000., 24000., 24000.,\n",
       "       24000., 24000., 24000., 24000., 24000., 24000., 24000., 24000.,\n",
       "       24000., 24000.])"
      ]
     },
     "execution_count": 7,
     "metadata": {},
     "output_type": "execute_result"
    }
   ],
   "source": [
    "fuv = np.genfromtxt('/home/craig/projects/pdr/KOSMA-tau^3/input/MilkyWay/galactic_FUV_complete.dat')\n",
    "fig,ax = plt.subplots(1)\n",
    "for r in np.unique(fuv[:,0]):\n",
    "    print((fuv[:,2][fuv[:,0]==r]).size)\n",
    "    ax.scatter(r, fuv[:,2][fuv[:,0]==r][0]/2.89/10**38, color='xkcd:royal purple')\n",
    "    ax.scatter(r, 0, color='xkcd:black')\n",
    "plt.show()\n",
    "fuv[:,0]"
   ]
  }
 ],
 "metadata": {
  "kernelspec": {
   "display_name": "Python 3",
   "language": "python",
   "name": "python3"
  },
  "language_info": {
   "codemirror_mode": {
    "name": "ipython",
    "version": 3
   },
   "file_extension": ".py",
   "mimetype": "text/x-python",
   "name": "python",
   "nbconvert_exporter": "python",
   "pygments_lexer": "ipython3",
   "version": "3.7.4"
  }
 },
 "nbformat": 4,
 "nbformat_minor": 4
}
