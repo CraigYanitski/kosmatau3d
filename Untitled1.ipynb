{
 "cells": [
  {
   "cell_type": "code",
   "execution_count": 1,
   "metadata": {},
   "outputs": [],
   "source": [
    "%load_ext autoreload\n",
    "%autoreload 2\n",
    "%matplotlib inline\n",
    "%config InlineBackend.figure_format = 'retina'"
   ]
  },
  {
   "cell_type": "code",
   "execution_count": 2,
   "metadata": {},
   "outputs": [],
   "source": [
    "import numpy as np\n",
    "import matplotlib.pyplot as plt\n",
    "\n",
    "from astropy.io import fits\n",
    "from astropy.coordinates import SkyCoord\n",
    "from astropy.wcs import WCS\n",
    "from scipy.interpolate import griddata\n",
    "\n",
    "import cygrid"
   ]
  },
  {
   "cell_type": "code",
   "execution_count": 3,
   "metadata": {},
   "outputs": [],
   "source": [
    "imkw = dict(origin='lower', interpolation='nearest')"
   ]
  },
  {
   "cell_type": "code",
   "execution_count": 4,
   "metadata": {},
   "outputs": [],
   "source": [
    "def setup_data(mapcenter, mapsize, beamsize_fwhm, num_samples, num_sources):\n",
    "    '''\n",
    "    Produce test data (including coords) - containing just noise and some point sources.\n",
    "    \n",
    "    Note: as in real astronomical measurements, the point sources are convolved with the\n",
    "          instrument's response function (PSF), or telescope beam.\n",
    "    '''\n",
    "\n",
    "    lon_scale = np.cos(np.radians(mapcenter[1]))\n",
    "    map_l, map_r = (\n",
    "        mapcenter[0] - 1.1 * mapsize[0] / 2. / lon_scale,\n",
    "        mapcenter[0] + 1.1 * mapsize[0] / 2. / lon_scale\n",
    "        )\n",
    "    map_b, map_t = mapcenter[1] - 1.1 * mapsize[1] / 2., mapcenter[1] + 1.1 * mapsize[1] / 2.\n",
    "    \n",
    "    # coordinates are drawn from a uniform distribution\n",
    "    xcoords = np.random.uniform(map_l, map_r, num_samples).astype(np.float64)\n",
    "    ycoords = np.random.uniform(map_b, map_t, num_samples).astype(np.float64)\n",
    "\n",
    "    # add Gaussian noise\n",
    "    signal = np.random.normal(0., 1., len(xcoords))\n",
    "    \n",
    "    beamsize_sigma = beamsize_fwhm / np.sqrt(8 * np.log(2))\n",
    "    \n",
    "    # put in artifical point source, with random amplitudes\n",
    "    # we'll assume a Gaussian-shaped PSF\n",
    "    \n",
    "    def gauss2d(x, y, x0, y0, A, s):\n",
    "        return A * np.exp(-((x-x0)**2 + (y-y0)**2) / 2. / s**2)\n",
    "    \n",
    "    for _ in range(num_sources):\n",
    "        \n",
    "        sou_x = np.random.uniform(map_l, map_r, 1).astype(np.float64)\n",
    "        sou_y = np.random.uniform(map_b, map_t, 1).astype(np.float64)\n",
    "        A = np.random.uniform(0, 10, 1)\n",
    "        signal += gauss2d(xcoords, ycoords, sou_x, sou_y, A, beamsize_sigma)\n",
    "\n",
    "    return xcoords, ycoords, signal"
   ]
  },
  {
   "cell_type": "code",
   "execution_count": 5,
   "metadata": {},
   "outputs": [],
   "source": [
    "mapcenter = 60., 30.  # all in degrees\n",
    "mapsize = 5., 5.\n",
    "beamsize_fwhm = 0.1\n",
    "num_samples = 10 ** 6\n",
    "num_sources = 20\n",
    "\n",
    "xcoords, ycoords, signal = setup_data(\n",
    "    mapcenter, mapsize, beamsize_fwhm, num_samples, num_sources\n",
    "    )"
   ]
  },
  {
   "cell_type": "code",
   "execution_count": 6,
   "metadata": {},
   "outputs": [],
   "source": [
    "def setup_header(mapcenter, mapsize, beamsize_fwhm):\n",
    "    '''\n",
    "    Produce a FITS header that contains the target field.\n",
    "    '''\n",
    "    \n",
    "    # define target grid (via fits header according to WCS convention)\n",
    "    # a good pixel size is a third of the FWHM of the PSF (avoids aliasing)\n",
    "    pixsize = beamsize_fwhm / 3.\n",
    "    dnaxis1 = int(mapsize[0] / pixsize)\n",
    "    dnaxis2 = int(mapsize[1] / pixsize)\n",
    "\n",
    "    header = {\n",
    "        'NAXIS': 2,\n",
    "        'NAXIS1': dnaxis1,\n",
    "        'NAXIS2': dnaxis2,\n",
    "        'CTYPE1': 'RA---SIN',\n",
    "        'CTYPE2': 'DEC--SIN',\n",
    "        'CUNIT1': 'deg',\n",
    "        'CUNIT2': 'deg',\n",
    "        'CDELT1': -pixsize,\n",
    "        'CDELT2': pixsize,\n",
    "        'CRPIX1': dnaxis1 / 2.,\n",
    "        'CRPIX2': dnaxis2 / 2.,\n",
    "        'CRVAL1': mapcenter[0],\n",
    "        'CRVAL2': mapcenter[1],\n",
    "        }\n",
    "    \n",
    "    return header"
   ]
  },
  {
   "cell_type": "code",
   "execution_count": 7,
   "metadata": {},
   "outputs": [],
   "source": [
    "target_header = setup_header(mapcenter, mapsize, beamsize_fwhm)\n",
    "\n",
    "# let's already define a WCS object for later use in our plots:\n",
    "target_wcs = WCS(target_header)"
   ]
  },
  {
   "cell_type": "code",
   "execution_count": 10,
   "metadata": {},
   "outputs": [],
   "source": [
    "target_header['NAXIS3'] = 1"
   ]
  },
  {
   "cell_type": "code",
   "execution_count": 11,
   "metadata": {},
   "outputs": [
    {
     "data": {
      "text/plain": [
       "{'NAXIS': 2,\n",
       " 'NAXIS1': 150,\n",
       " 'NAXIS2': 150,\n",
       " 'CTYPE1': 'RA---SIN',\n",
       " 'CTYPE2': 'DEC--SIN',\n",
       " 'CUNIT1': 'deg',\n",
       " 'CUNIT2': 'deg',\n",
       " 'CDELT1': -0.03333333333333333,\n",
       " 'CDELT2': 0.03333333333333333,\n",
       " 'CRPIX1': 75.0,\n",
       " 'CRPIX2': 75.0,\n",
       " 'CRVAL1': 60.0,\n",
       " 'CRVAL2': 30.0,\n",
       " 'NAXIS3': 1}"
      ]
     },
     "execution_count": 11,
     "metadata": {},
     "output_type": "execute_result"
    }
   ],
   "source": [
    "target_header"
   ]
  },
  {
   "cell_type": "code",
   "execution_count": 12,
   "metadata": {},
   "outputs": [],
   "source": [
    "gridder = cygrid.WcsGrid(target_header)"
   ]
  },
  {
   "cell_type": "code",
   "execution_count": 26,
   "metadata": {},
   "outputs": [],
   "source": [
    "kernelsize_fwhm = 2.5 / 60.  # degrees\n",
    "# see https://en.wikipedia.org/wiki/Full_width_at_half_maximum\n",
    "kernelsize_sigma = kernelsize_fwhm / np.log(8 * np.sqrt(2))\n",
    "sphere_radius = 3. * kernelsize_sigma\n",
    "\n",
    "gridder.set_kernel(\n",
    "    'gauss1d',\n",
    "    (kernelsize_sigma,),\n",
    "    sphere_radius,\n",
    "    kernelsize_sigma / 2.\n",
    "    )"
   ]
  },
  {
   "cell_type": "code",
   "execution_count": 17,
   "metadata": {},
   "outputs": [
    {
     "data": {
      "text/plain": [
       "(1000000,)"
      ]
     },
     "execution_count": 17,
     "metadata": {},
     "output_type": "execute_result"
    }
   ],
   "source": [
    "xcoords.shape"
   ]
  },
  {
   "cell_type": "code",
   "execution_count": 32,
   "metadata": {},
   "outputs": [
    {
     "data": {
      "text/plain": [
       "(1000000, 1)"
      ]
     },
     "execution_count": 32,
     "metadata": {},
     "output_type": "execute_result"
    }
   ],
   "source": [
    "signal.reshape(-1,1).shape"
   ]
  },
  {
   "cell_type": "code",
   "execution_count": 29,
   "metadata": {},
   "outputs": [
    {
     "data": {
      "text/plain": [
       "(1000000,)"
      ]
     },
     "execution_count": 29,
     "metadata": {},
     "output_type": "execute_result"
    }
   ],
   "source": [
    "signal.shape"
   ]
  },
  {
   "cell_type": "code",
   "execution_count": 31,
   "metadata": {},
   "outputs": [],
   "source": [
    "gridder.grid(xcoords, ycoords, signal.reshape(-1,1))"
   ]
  },
  {
   "cell_type": "code",
   "execution_count": null,
   "metadata": {},
   "outputs": [],
   "source": []
  }
 ],
 "metadata": {
  "kernelspec": {
   "display_name": "Python 3",
   "language": "python",
   "name": "python3"
  },
  "language_info": {
   "codemirror_mode": {
    "name": "ipython",
    "version": 3
   },
   "file_extension": ".py",
   "mimetype": "text/x-python",
   "name": "python",
   "nbconvert_exporter": "python",
   "pygments_lexer": "ipython3",
   "version": "3.7.4"
  }
 },
 "nbformat": 4,
 "nbformat_minor": 4
}
