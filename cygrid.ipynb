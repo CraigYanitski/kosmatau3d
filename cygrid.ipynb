{
 "cells": [
  {
   "cell_type": "code",
   "execution_count": 17,
   "metadata": {},
   "outputs": [],
   "source": [
    "header = {\n",
    "   'NAXIS': 3,\n",
    "   'NAXIS1': 101,\n",
    "   'NAXIS2': 101,\n",
    "   'NAXIS3': 10201,\n",
    "   'CTYPE1': 'GLON-SFL',\n",
    "   'CTYPE2': 'GLAT-SFL',\n",
    "   'CDELT1': -0.1,\n",
    "   'CDELT2': 0.1,\n",
    "   'CRPIX1': 51,\n",
    "   'CRPIX2': 51,\n",
    "   'CRVAL1': 12.345,\n",
    "   'CRVAL2': 3.14,\n",
    "   }"
   ]
  },
  {
   "cell_type": "code",
   "execution_count": 18,
   "metadata": {},
   "outputs": [],
   "source": [
    "import cygrid\n",
    "from astropy.io import fits\n",
    "import numpy as np"
   ]
  },
  {
   "cell_type": "code",
   "execution_count": 19,
   "metadata": {},
   "outputs": [],
   "source": [
    "kernelsize_sigma = 0.2\n",
    "kernel_type = 'gauss1d'\n",
    "kernel_params = (kernelsize_sigma,)\n",
    "kernel_support = 3*kernelsize_sigma\n",
    "hpx_maxres = kernelsize_sigma/2"
   ]
  },
  {
   "cell_type": "code",
   "execution_count": 20,
   "metadata": {},
   "outputs": [],
   "source": [
    "mygridder = cygrid.WcsGrid(header)\n",
    "mygridder.set_kernel(\n",
    "  kernel_type,\n",
    "  kernel_params,\n",
    "  kernel_support,\n",
    "  hpx_maxres\n",
    "  )"
   ]
  },
  {
   "cell_type": "code",
   "execution_count": 29,
   "metadata": {},
   "outputs": [
    {
     "data": {
      "text/plain": [
       "(10201,)"
      ]
     },
     "execution_count": 29,
     "metadata": {},
     "output_type": "execute_result"
    }
   ],
   "source": [
    "glon = np.linspace(-np.pi, np.pi, 101)\n",
    "glat = np.linspace(-np.pi/2, np.pi/2, 101)\n",
    "glon,glat = np.meshgrid(glon,glat)\n",
    "sig = np.random.rand(10201)\n",
    "sig.shape"
   ]
  },
  {
   "cell_type": "code",
   "execution_count": 30,
   "metadata": {},
   "outputs": [
    {
     "ename": "ShapeError",
     "evalue": "Number of spectral channels mismatch.",
     "output_type": "error",
     "traceback": [
      "\u001b[0;31m---------------------------------------------------------------------------\u001b[0m",
      "\u001b[0;31mShapeError\u001b[0m                                Traceback (most recent call last)",
      "\u001b[0;32m<ipython-input-30-a744a8c4b191>\u001b[0m in \u001b[0;36m<module>\u001b[0;34m\u001b[0m\n\u001b[0;32m----> 1\u001b[0;31m \u001b[0mmygridder\u001b[0m\u001b[0;34m.\u001b[0m\u001b[0mgrid\u001b[0m\u001b[0;34m(\u001b[0m\u001b[0mglon\u001b[0m\u001b[0;34m.\u001b[0m\u001b[0mflatten\u001b[0m\u001b[0;34m(\u001b[0m\u001b[0;34m)\u001b[0m\u001b[0;34m,\u001b[0m\u001b[0mglat\u001b[0m\u001b[0;34m.\u001b[0m\u001b[0mflatten\u001b[0m\u001b[0;34m(\u001b[0m\u001b[0;34m)\u001b[0m\u001b[0;34m,\u001b[0m\u001b[0mnp\u001b[0m\u001b[0;34m.\u001b[0m\u001b[0mreshape\u001b[0m\u001b[0;34m(\u001b[0m\u001b[0msig\u001b[0m\u001b[0;34m,\u001b[0m \u001b[0;34m(\u001b[0m\u001b[0;34m-\u001b[0m\u001b[0;36m1\u001b[0m\u001b[0;34m,\u001b[0m \u001b[0;36m1\u001b[0m\u001b[0;34m)\u001b[0m\u001b[0;34m)\u001b[0m\u001b[0;34m)\u001b[0m\u001b[0;34m\u001b[0m\u001b[0;34m\u001b[0m\u001b[0m\n\u001b[0m",
      "\u001b[0;32mcygrid/cygrid.pyx\u001b[0m in \u001b[0;36mcygrid.cygrid.Cygrid.grid\u001b[0;34m()\u001b[0m\n",
      "\u001b[0;31mShapeError\u001b[0m: Number of spectral channels mismatch."
     ]
    }
   ],
   "source": [
    "mygridder.grid(glon.flatten(),glat.flatten(),np.reshape(sig, (-1, 1)))"
   ]
  },
  {
   "cell_type": "code",
   "execution_count": 31,
   "metadata": {},
   "outputs": [
    {
     "name": "stderr",
     "output_type": "stream",
     "text": [
      "/home/yanitski/miniconda3/lib/python3.7/site-packages/ipykernel_launcher.py:1: RuntimeWarning: divide by zero encountered in true_divide\n",
      "  \"\"\"Entry point for launching an IPython kernel.\n",
      "/home/yanitski/miniconda3/lib/python3.7/site-packages/ipykernel_launcher.py:1: RuntimeWarning: invalid value encountered in true_divide\n",
      "  \"\"\"Entry point for launching an IPython kernel.\n"
     ]
    },
    {
     "data": {
      "text/plain": [
       "(10201, 101, 101)"
      ]
     },
     "execution_count": 31,
     "metadata": {},
     "output_type": "execute_result"
    }
   ],
   "source": [
    "data = mygridder.get_datacube()\n",
    "data.shape"
   ]
  }
 ],
 "metadata": {
  "kernelspec": {
   "display_name": "Python 3",
   "language": "python",
   "name": "python3"
  },
  "language_info": {
   "codemirror_mode": {
    "name": "ipython",
    "version": 3
   },
   "file_extension": ".py",
   "mimetype": "text/x-python",
   "name": "python",
   "nbconvert_exporter": "python",
   "pygments_lexer": "ipython3",
   "version": "3.7.4"
  }
 },
 "nbformat": 4,
 "nbformat_minor": 2
}
