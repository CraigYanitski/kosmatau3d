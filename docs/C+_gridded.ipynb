{
 "cells": [
  {
   "cell_type": "markdown",
   "metadata": {},
   "source": [
    "# KOSMA-$\\tau^3$"
   ]
  },
  {
   "cell_type": "markdown",
   "metadata": {},
   "source": [
    "It has been a fairly long time since I have sent you any plot or update, so I will show you some of the features I mentioned in the group meeting. The first aspect I want to show is that I am calculating the line-of-sight correctly. This can be seen in the plot below. I have run a large grid of sightlines to give this plot a high resolution. The size of each voxel is 1000 pc, so I will have to scale this to the sightline inside of the galactic disk."
   ]
  },
  {
   "cell_type": "markdown",
   "metadata": {},
   "source": [
    "![title](../losnumber.png)"
   ]
  },
  {
   "cell_type": "markdown",
   "metadata": {},
   "source": [
    "I have gridded the intensities with `cygrid` using a Mollweide projection, but all of the features are overshadowed by the galactic center. Due to the FUV distribution, this is expected. I tried limiting the colorbar to show the other features, and the features in the galactic disk are less than 10 000 times smaller than that of the core. I will try to create a figure of the $C^+$ intensity like in Cubick et al. (2003), but I want to get rid of these blocky features. Perhaps scaling my line of sight to the size of the disk (which needs to be done anyway) will fix this, but I need to look into it further. There is also still some asymmetry in the north-south direction that is not present in the individual voxels."
   ]
  },
  {
   "cell_type": "markdown",
   "metadata": {},
   "source": [
    "![title](../C+regridded.png)"
   ]
  },
  {
   "cell_type": "markdown",
   "metadata": {},
   "source": [
    "To see the nature of what I had regridded in `cygrid`, I plot a flat map of the observed intensities along these sightlines. It does seem a bit redundant to have so many intensities at latitudes near $\\pm \\frac{\\pi}{2}$, but it was necessary to conform to the `fits` standard. That being said, maybe I should not use the FITS standard for the synthetic integrated intensities. I am using it at the moment to support the ND-arrays produces by `KOSMA-$\\tau^3$`. It is clear that the large-scale blocky structures are an artefact of my code, and not an issue of resolution of the sightline integration. There is also some improvements I can make to determine whether a voxel is in the sightline."
   ]
  },
  {
   "cell_type": "markdown",
   "metadata": {},
   "source": [
    "![title](../C+map.png)"
   ]
  }
 ],
 "metadata": {
  "kernelspec": {
   "display_name": "Python 3",
   "language": "python",
   "name": "python3"
  },
  "language_info": {
   "codemirror_mode": {
    "name": "ipython",
    "version": 3
   },
   "file_extension": ".py",
   "mimetype": "text/x-python",
   "name": "python",
   "nbconvert_exporter": "python",
   "pygments_lexer": "ipython3",
   "version": "3.7.4"
  }
 },
 "nbformat": 4,
 "nbformat_minor": 4
}
