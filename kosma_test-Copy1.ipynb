{
 "cells": [
  {
   "cell_type": "markdown",
   "metadata": {},
   "source": [
    "# KOSMA-$\\tau^3$"
   ]
  },
  {
   "cell_type": "markdown",
   "metadata": {},
   "source": [
    "This is a working notebook to run and debug the PDR synthetic observation software KOSMA-$\\tau^3$."
   ]
  },
  {
   "cell_type": "code",
   "execution_count": 1,
   "metadata": {},
   "outputs": [],
   "source": [
    "%load_ext autoreload\n",
    "%autoreload 2\n",
    "%matplotlib widget"
   ]
  },
  {
   "cell_type": "code",
   "execution_count": 2,
   "metadata": {},
   "outputs": [],
   "source": [
    "import os\n",
    "import sys\n",
    "import inspect\n",
    "import matplotlib.pyplot as plt\n",
    "from mpl_toolkits.mplot3d import Axes3D\n",
    "from mpl_toolkits.axes_grid1 import make_axes_locatable, axes_size\n",
    "\n",
    "pathname = inspect.getframeinfo(inspect.currentframe()).filename\n",
    "sys.path.append(os.path.abspath(os.path.dirname(pathname))+'/classes/')\n",
    "\n",
    "from Model import *\n",
    "import constants"
   ]
  },
  {
   "cell_type": "markdown",
   "metadata": {},
   "source": [
    "The model parameters are set in this cell, with different flags available to limit the scope of model execution.\n",
    "\n",
    " - [x] **modelFlag**: Setup and evaluate the model emission for each voxel\n",
    " - [x] **rtFlag**: Evaluate the synthetic observation for a predefined number of sightlines\n",
    " - [ ] **cyplotFlag**: Re-grid the sightlines using `cygrid` and plot the map\n",
    " \n",
    " - **x,y,z**: overall size of model\n",
    " - **shape**: all fit within given dimensions\n",
    "   - [x] block\n",
    "   - [x] disk\n",
    "   - [x] ellipsoid\n",
    "   - [ ] shell\n",
    " - **resolution**: in parsecs\n",
    " - **focus**: how to limit the evaluated wavelengths\n",
    "   - molecular: $ \\lambda > 10^{-4}m $\n",
    "   - PAH: $ \\lambda > 5 * 10^{-6}m $\n",
    "   - all\n",
    " - **modelFolder**: needed when not running the full model; the directory of the model in `$ KOSMA-tau^3/history/`"
   ]
  },
  {
   "cell_type": "code",
   "execution_count": 3,
   "metadata": {},
   "outputs": [],
   "source": [
    "complete = False\n",
    "\n",
    "modelFlag = False\n",
    "rtFlag = True\n",
    "cyplotFlag = True\n",
    "\n",
    "x = 5\n",
    "y = 5\n",
    "z = 5\n",
    "\n",
    "shape = 'disk'\n",
    "\n",
    "resolution = 1000\n",
    "\n",
    "focus = 'molecular'\n",
    "\n",
    "constants.changeDirectory('MilkyWay')\n",
    "\n",
    "modelFolder = 'r1000_n96/'\n",
    "\n",
    "# Factors\n",
    "constants.clumpMassFactor = 1\n",
    "constants.interclumpMassFactor = 1\n",
    "constants.FUVFactor = 1\n",
    "constants.DensityFactor = 1\n",
    "\n",
    "# Constant\n",
    "constants.interclumpLogFUV = 1\n",
    "\n",
    "# Model masses\n",
    "constants.clumpLogMassNum = 4\n",
    "constants.clumpLogMassRange = [-1, 2]\n",
    "constants.interclumpLogMassNum = 2\n",
    "constants.interclumpLogMassRange = [-3, -2]"
   ]
  },
  {
   "cell_type": "code",
   "execution_count": 4,
   "metadata": {},
   "outputs": [
    {
     "name": "stdout",
     "output_type": "stream",
     "text": [
      "KOSMA-tau^3\n"
     ]
    }
   ],
   "source": [
    "# Limit dust calculation\n",
    "\n",
    "print('KOSMA-tau^3')\n",
    "\n",
    "species = ['13CO 10', 'C+ 1', 'CO 1', 'CO 2', 'CO 3', 'CO 4', 'CO 5', 'CO 6', 'CO 7', 'CO 8', 'CO 9', 'CO 10', '13CO 1', '13CO 2', '13CO 3', '13CO 4', '13CO 5', '13CO 6', '13CO 7', '13CO 8', '13CO 9', '13CO 10', 'O 2']\n",
    "kosma = Model(x, y, z, modelType=shape, resolution=resolution, dustLim=focus)\n",
    "kosma.addSpecies(species)"
   ]
  },
  {
   "cell_type": "code",
   "execution_count": 11,
   "metadata": {},
   "outputs": [],
   "source": [
    "import sys\n",
    "\n",
    "sys.path.insert(1, \"/home/craig/Desktop/Köln/KOSMA-tau^3/\")\n",
    "\n",
    "import spectrum"
   ]
  },
  {
   "cell_type": "code",
   "execution_count": 17,
   "metadata": {},
   "outputs": [
    {
     "data": {
      "application/vnd.jupyter.widget-view+json": {
       "model_id": "aa526f0e40a344dc9cfbde28830c82be",
       "version_major": 2,
       "version_minor": 0
      },
      "text/plain": [
       "Canvas(toolbar=Toolbar(toolitems=[('Home', 'Reset original view', 'home', 'home'), ('Back', 'Back to previous …"
      ]
     },
     "metadata": {},
     "output_type": "display_data"
    }
   ],
   "source": [
    "spectrum.spectrum(PAH=True)"
   ]
  },
  {
   "cell_type": "markdown",
   "metadata": {},
   "source": [
    "## Setup"
   ]
  },
  {
   "cell_type": "code",
   "execution_count": 5,
   "metadata": {},
   "outputs": [],
   "source": [
    "if modelFlag:\n",
    "\n",
    "  kosma.calculateModel()\n",
    "  kosma.writeEmission()\n",
    "  \n",
    "  modelFolder = constants.history"
   ]
  },
  {
   "cell_type": "markdown",
   "metadata": {},
   "source": [
    "## Radiative transfer"
   ]
  },
  {
   "cell_type": "code",
   "execution_count": 6,
   "metadata": {},
   "outputs": [],
   "source": [
    "# Calculate integrated intensity maps\n",
    "\n",
    "if rtFlag==False:\n",
    "\n",
    "  import radiativeTransfer\n",
    "\n",
    "  # radiativeTransfer.plotModel(plot='velocity', directory='r1000.0_n3015/')\n",
    "\n",
    "  radiativeTransfer.calculateObservation(directory=modelFolder, dim='spherical', terminal=False)"
   ]
  },
  {
   "cell_type": "markdown",
   "metadata": {},
   "source": [
    "### Plot intensity map"
   ]
  },
  {
   "cell_type": "code",
   "execution_count": 11,
   "metadata": {},
   "outputs": [
    {
     "data": {
      "application/vnd.jupyter.widget-view+json": {
       "model_id": "2a30d44f851b456aa172ab1988796392",
       "version_major": 2,
       "version_minor": 0
      },
      "text/plain": [
       "Canvas(toolbar=Toolbar(toolitems=[('Home', 'Reset original view', 'home', 'home'), ('Back', 'Back to previous …"
      ]
     },
     "metadata": {},
     "output_type": "display_data"
    },
    {
     "name": "stderr",
     "output_type": "stream",
     "text": [
      "/home/yanitski/miniconda3/lib/python3.7/site-packages/matplotlib/projections/geo.py:414: RuntimeWarning: invalid value encountered in arcsin\n",
      "  theta = np.arcsin(y / np.sqrt(2))\n"
     ]
    }
   ],
   "source": [
    "if rtFlag:\n",
    "  plt.close('all')\n",
    "\n",
    "  pos = fits.open('/home/yanitski/projects/pdr/KOSMA-tau^3/history/MilkyWay/r1000_n96/integrated_intensity.fits')[0]    \n",
    "  intensity = fits.open('/home/yanitski/projects/pdr/KOSMA-tau^3/history/MilkyWay/r1000_n96/integrated_intensity.fits')[1]\n",
    "\n",
    "  velocity = np.linspace(intensity.header['CRVAL4']-intensity.header['CRPIX4']*intensity.header['CDELT4'], intensity.header['CRVAL4']+intensity.header['CRPIX4']*intensity.header['CDELT4'], num=intensity.header['NAXIS4'])\n",
    "  intensity_integrated = np.trapz(intensity.data, velocity, axis=0)\n",
    "\n",
    "  if False:\n",
    "\n",
    "    for i in range(intensity.data[:,0,0,0].size):\n",
    "\n",
    "      proj = 'Galactic intensity map'\n",
    "      fig = plt.figure(figsize=(10,10))\n",
    "      ax = fig.add_subplot(111, projection='mollweide')\n",
    "\n",
    "      # aspect = 20\n",
    "      # pad_fraction = 0.5\n",
    "      # divider = make_axes_locatable(ax)\n",
    "      # width = axes_size.AxesY(ax, aspect=1./aspect)\n",
    "      # pad = axes_size.Fraction(pad_fraction, width)\n",
    "      # cax = divider.append_axes(\"right\", size=width, pad=pad)\n",
    "\n",
    "  #     cm = ax.scatter(pos.data[:,0], pos.data[:,1], c=intensity_integrated[:,:,23].flatten(), cmap='cubehelix', s=500, alpha = 0.5, marker='s')\n",
    "      cm = ax.scatter(pos.data[:,0], pos.data[:,1], c=intensity.data[i,:,:,23].flatten(), cmap='cubehelix', s=64, alpha = 0.5, marker='s')\n",
    "      cb = fig.colorbar(cm, extend='both', ax=ax, fraction = 0.02, )\n",
    "      cb.ax.set_ylabel('Intensity (K km/s)', fontsize=20, labelpad=20, rotation=270)\n",
    "  \n",
    "  else:\n",
    "    \n",
    "    proj = 'Galactic intensity map'\n",
    "    fig = plt.figure(figsize=(10,10))\n",
    "    ax = fig.add_subplot(111, projection='mollweide')\n",
    "\n",
    "    # aspect = 20\n",
    "    # pad_fraction = 0.5\n",
    "    # divider = make_axes_locatable(ax)\n",
    "    # width = axes_size.AxesY(ax, aspect=1./aspect)\n",
    "    # pad = axes_size.Fraction(pad_fraction, width)\n",
    "    # cax = divider.append_axes(\"right\", size=width, pad=pad)\n",
    "\n",
    "#     cm = ax.scatter(pos.data[:,0], pos.data[:,1], c=intensity_integrated[:,:,23].flatten(), cmap='cubehelix', s=500, alpha = 0.5, marker='s')\n",
    "    cm = ax.scatter(pos.data[:,0], pos.data[:,1], c=intensity_integrated[:,:,23].flatten(), cmap='cubehelix', s=64, alpha = 0.5, marker='s')\n",
    "    cb = fig.colorbar(cm, extend='both', ax=ax, fraction = 0.02, )\n",
    "    cb.ax.set_ylabel('Intensity (K km/s)', fontsize=20, labelpad=20, rotation=270)\n",
    "\n",
    "  ax.set_title(proj+r' $^{13}CO^{+}$', fontsize=24)\n",
    "  ax.grid(True)\n",
    "  ax.set_xticklabels([])\n",
    "  ax.set_yticklabels([])\n",
    "\n",
    "  plt.show()"
   ]
  },
  {
   "cell_type": "code",
   "execution_count": 42,
   "metadata": {},
   "outputs": [
    {
     "data": {
      "text/plain": [
       "(31, 50, 50, 68)"
      ]
     },
     "execution_count": 42,
     "metadata": {},
     "output_type": "execute_result"
    }
   ],
   "source": [
    "intensity.data.shape"
   ]
  },
  {
   "cell_type": "code",
   "execution_count": 8,
   "metadata": {},
   "outputs": [
    {
     "data": {
      "text/plain": [
       "(50, 50, 68)"
      ]
     },
     "execution_count": 8,
     "metadata": {},
     "output_type": "execute_result"
    }
   ],
   "source": [
    "intensity_integrated.shape"
   ]
  },
  {
   "cell_type": "code",
   "execution_count": 43,
   "metadata": {},
   "outputs": [
    {
     "name": "stderr",
     "output_type": "stream",
     "text": [
      "/home/yanitski/miniconda3/lib/python3.7/site-packages/ipykernel_launcher.py:3: RuntimeWarning: More than 20 figures have been opened. Figures created through the pyplot interface (`matplotlib.pyplot.figure`) are retained until explicitly closed and may consume too much memory. (To control this warning, see the rcParam `figure.max_open_warning`).\n",
      "  This is separate from the ipykernel package so we can avoid doing imports until\n"
     ]
    },
    {
     "data": {
      "application/vnd.jupyter.widget-view+json": {
       "model_id": "d9ca8aa70e364fff8ca152e3213833e6",
       "version_major": 2,
       "version_minor": 0
      },
      "text/plain": [
       "Canvas(toolbar=Toolbar(toolitems=[('Home', 'Reset original view', 'home', 'home'), ('Back', 'Back to previous …"
      ]
     },
     "metadata": {},
     "output_type": "display_data"
    }
   ],
   "source": [
    "from itertools import product, combinations\n",
    "\n",
    "fig = plt.figure()\n",
    "ax = fig.gca(projection='3d')\n",
    "#ax.set_aspect(\"equal\")\n",
    "\n",
    "for r in [[1,0], [0,1], [0,0]]:\n",
    "  for s, e in combinations(np.array(list(product(r, r, r))), 2):\n",
    "      if np.sum(np.abs(s-e)) == r[1]-r[0]:\n",
    "          ax.plot3D(*zip(s, e), color=\"k\")\n",
    "\n",
    "ax.scatter(np.random.rand(100),np.random.rand(100),np.random.rand(100), s=16*np.random.rand(100))\n",
    "          \n",
    "plt.show()"
   ]
  },
  {
   "cell_type": "code",
   "execution_count": 18,
   "metadata": {},
   "outputs": [
    {
     "data": {
      "application/vnd.jupyter.widget-view+json": {
       "model_id": "01cc5b55bb864ebeb9ba87a67d40b2b8",
       "version_major": 2,
       "version_minor": 0
      },
      "text/plain": [
       "Canvas(toolbar=Toolbar(toolitems=[('Home', 'Reset original view', 'home', 'home'), ('Back', 'Back to previous …"
      ]
     },
     "metadata": {},
     "output_type": "display_data"
    }
   ],
   "source": [
    "if rtFlag:\n",
    "  positions = fits.open('/home/yanitski/projects/pdr/KOSMA-tau^3/history/MilkyWay/r1000_n96/voxel_position.fits')[0].data/1000.\n",
    "  vel = fits.open('/home/yanitski/projects/pdr/KOSMA-tau^3/history/MilkyWay/r1000_n96/voxel_velocity.fits')[0].data\n",
    "\n",
    "  fig = plt.figure()\n",
    "  ax = fig.add_subplot(111, projection='3d')\n",
    "  cm = ax.scatter(positions.T[0], positions.T[1], positions.T[2], c='k', cmap='cubehelix', marker='s', s=81, alpha=0.5, linewidth=0)\n",
    "  #cb = fig.colorbar(cm)\n",
    "  #cb.ax.set_ylabel(r'Radial velocity ($\\frac{km}{s}$)', labelpad=16, rotation=270)\n",
    "\n",
    "  lon,lat = np.meshgrid(np.linspace(-np.pi, np.pi, num=9), np.linspace(-np.pi/2, np.pi/2, num=5))\n",
    "  x = 10 * (np.cos(lat.flatten()) * np.cos(lon.flatten()))\n",
    "  y = 10 * (np.cos(lat.flatten()) * np.sin(lon.flatten()))\n",
    "  z = 10 * np.sin(lat.flatten())\n",
    "\n",
    "  #ax.scatter([8.178], [0], [0], marker='o', s=49, c='b')\n",
    "  #ax.quiver(np.full_like(x, 8.178), np.full_like(x, 0), np.full_like(x, 0), x, y, z, color='k', arrow_length_ratio=0.2)\n",
    "\n",
    "  ax.set_xlabel('X (kpc)')\n",
    "  ax.set_ylabel('Y (kpc)')\n",
    "  ax.set_zlabel('Z (kpc)')\n",
    "  ax.set_xlim([-6, 6])\n",
    "  ax.set_ylim([-6, 6])\n",
    "  ax.set_zlim([-6, 6])\n",
    "  plt.show()"
   ]
  },
  {
   "cell_type": "code",
   "execution_count": 10,
   "metadata": {
    "collapsed": true,
    "jupyter": {
     "outputs_hidden": true
    }
   },
   "outputs": [
    {
     "data": {
      "application/vnd.jupyter.widget-view+json": {
       "model_id": "c27d9f3f4db14bb98bdb871d1765d11e",
       "version_major": 2,
       "version_minor": 0
      },
      "text/plain": [
       "Canvas(toolbar=Toolbar(toolitems=[('Home', 'Reset original view', 'home', 'home'), ('Back', 'Back to previous …"
      ]
     },
     "metadata": {},
     "output_type": "display_data"
    },
    {
     "ename": "IndexError",
     "evalue": "arrays used as indices must be of integer (or boolean) type",
     "output_type": "error",
     "traceback": [
      "\u001b[0;31m---------------------------------------------------------------------------\u001b[0m",
      "\u001b[0;31mIndexError\u001b[0m                                Traceback (most recent call last)",
      "\u001b[0;32m<ipython-input-10-2c4e9cb3c374>\u001b[0m in \u001b[0;36m<module>\u001b[0;34m\u001b[0m\n\u001b[1;32m     37\u001b[0m   \u001b[0;31m# z = 10 * np.sin(lat.flatten())\u001b[0m\u001b[0;34m\u001b[0m\u001b[0;34m\u001b[0m\u001b[0;34m\u001b[0m\u001b[0m\n\u001b[1;32m     38\u001b[0m   \u001b[0;31m#print(idx_obs)\u001b[0m\u001b[0;34m\u001b[0m\u001b[0;34m\u001b[0m\u001b[0;34m\u001b[0m\u001b[0m\n\u001b[0;32m---> 39\u001b[0;31m   \u001b[0max\u001b[0m\u001b[0;34m.\u001b[0m\u001b[0mscatter\u001b[0m\u001b[0;34m(\u001b[0m\u001b[0mpositions\u001b[0m\u001b[0;34m[\u001b[0m\u001b[0midx\u001b[0m\u001b[0;34m,\u001b[0m\u001b[0;36m0\u001b[0m\u001b[0;34m]\u001b[0m\u001b[0;34m[\u001b[0m\u001b[0midx_obs\u001b[0m\u001b[0;34m]\u001b[0m\u001b[0;34m,\u001b[0m \u001b[0mpositions\u001b[0m\u001b[0;34m[\u001b[0m\u001b[0midx\u001b[0m\u001b[0;34m,\u001b[0m\u001b[0;36m1\u001b[0m\u001b[0;34m]\u001b[0m\u001b[0;34m[\u001b[0m\u001b[0midx_obs\u001b[0m\u001b[0;34m]\u001b[0m\u001b[0;34m,\u001b[0m \u001b[0mpositions\u001b[0m\u001b[0;34m[\u001b[0m\u001b[0midx\u001b[0m\u001b[0;34m,\u001b[0m\u001b[0;36m2\u001b[0m\u001b[0;34m]\u001b[0m\u001b[0;34m[\u001b[0m\u001b[0midx_obs\u001b[0m\u001b[0;34m]\u001b[0m\u001b[0;34m,\u001b[0m \u001b[0mmarker\u001b[0m\u001b[0;34m=\u001b[0m\u001b[0;34m'o'\u001b[0m\u001b[0;34m,\u001b[0m \u001b[0ms\u001b[0m\u001b[0;34m=\u001b[0m\u001b[0;36m49\u001b[0m\u001b[0;34m,\u001b[0m \u001b[0mc\u001b[0m\u001b[0;34m=\u001b[0m\u001b[0;34m'b'\u001b[0m\u001b[0;34m)\u001b[0m\u001b[0;34m\u001b[0m\u001b[0;34m\u001b[0m\u001b[0m\n\u001b[0m\u001b[1;32m     40\u001b[0m   \u001b[0max\u001b[0m\u001b[0;34m.\u001b[0m\u001b[0mquiver\u001b[0m\u001b[0;34m(\u001b[0m\u001b[0mpositions\u001b[0m\u001b[0;34m[\u001b[0m\u001b[0midx\u001b[0m\u001b[0;34m,\u001b[0m\u001b[0;36m0\u001b[0m\u001b[0;34m]\u001b[0m\u001b[0;34m[\u001b[0m\u001b[0midx_obs\u001b[0m\u001b[0;34m]\u001b[0m\u001b[0;34m,\u001b[0m \u001b[0mpositions\u001b[0m\u001b[0;34m[\u001b[0m\u001b[0midx\u001b[0m\u001b[0;34m,\u001b[0m\u001b[0;36m1\u001b[0m\u001b[0;34m]\u001b[0m\u001b[0;34m[\u001b[0m\u001b[0midx_obs\u001b[0m\u001b[0;34m]\u001b[0m\u001b[0;34m,\u001b[0m \u001b[0mpositions\u001b[0m\u001b[0;34m[\u001b[0m\u001b[0midx\u001b[0m\u001b[0;34m,\u001b[0m\u001b[0;36m2\u001b[0m\u001b[0;34m]\u001b[0m\u001b[0;34m[\u001b[0m\u001b[0midx_obs\u001b[0m\u001b[0;34m]\u001b[0m\u001b[0;34m,\u001b[0m \u001b[0mnp\u001b[0m\u001b[0;34m.\u001b[0m\u001b[0mfull_like\u001b[0m\u001b[0;34m(\u001b[0m\u001b[0midx_obs\u001b[0m\u001b[0;34m,\u001b[0m \u001b[0;34m-\u001b[0m\u001b[0;36m24.178\u001b[0m\u001b[0;34m*\u001b[0m\u001b[0mnp\u001b[0m\u001b[0;34m.\u001b[0m\u001b[0msin\u001b[0m\u001b[0;34m(\u001b[0m\u001b[0mpositions\u001b[0m\u001b[0;34m[\u001b[0m\u001b[0midx\u001b[0m\u001b[0;34m,\u001b[0m\u001b[0;36m0\u001b[0m\u001b[0;34m]\u001b[0m\u001b[0;34m[\u001b[0m\u001b[0midx_obs\u001b[0m\u001b[0;34m]\u001b[0m\u001b[0;34m/\u001b[0m\u001b[0;36m8.178\u001b[0m\u001b[0;34m/\u001b[0m\u001b[0;36m2\u001b[0m\u001b[0;34m*\u001b[0m\u001b[0mnp\u001b[0m\u001b[0;34m.\u001b[0m\u001b[0mpi\u001b[0m\u001b[0;34m)\u001b[0m\u001b[0;34m)\u001b[0m\u001b[0;34m,\u001b[0m \u001b[0;36m0\u001b[0m\u001b[0;34m,\u001b[0m\u001b[0;36m0\u001b[0m\u001b[0;34m,\u001b[0m \u001b[0mcolor\u001b[0m\u001b[0;34m=\u001b[0m\u001b[0;34m'k'\u001b[0m\u001b[0;34m)\u001b[0m\u001b[0;34m\u001b[0m\u001b[0;34m\u001b[0m\u001b[0m\n\u001b[1;32m     41\u001b[0m   \u001b[0max\u001b[0m\u001b[0;34m.\u001b[0m\u001b[0mquiver\u001b[0m\u001b[0;34m(\u001b[0m\u001b[0mpositions\u001b[0m\u001b[0;34m[\u001b[0m\u001b[0midx\u001b[0m\u001b[0;34m,\u001b[0m\u001b[0;36m0\u001b[0m\u001b[0;34m]\u001b[0m\u001b[0;34m[\u001b[0m\u001b[0midx_obs\u001b[0m\u001b[0;34m]\u001b[0m\u001b[0;34m,\u001b[0m \u001b[0mpositions\u001b[0m\u001b[0;34m[\u001b[0m\u001b[0midx\u001b[0m\u001b[0;34m,\u001b[0m\u001b[0;36m1\u001b[0m\u001b[0;34m]\u001b[0m\u001b[0;34m[\u001b[0m\u001b[0midx_obs\u001b[0m\u001b[0;34m]\u001b[0m\u001b[0;34m,\u001b[0m \u001b[0mpositions\u001b[0m\u001b[0;34m[\u001b[0m\u001b[0midx\u001b[0m\u001b[0;34m,\u001b[0m\u001b[0;36m2\u001b[0m\u001b[0;34m]\u001b[0m\u001b[0;34m[\u001b[0m\u001b[0midx_obs\u001b[0m\u001b[0;34m]\u001b[0m\u001b[0;34m,\u001b[0m \u001b[0mnp\u001b[0m\u001b[0;34m.\u001b[0m\u001b[0mfull_like\u001b[0m\u001b[0;34m(\u001b[0m\u001b[0midx_obs\u001b[0m\u001b[0;34m,\u001b[0m \u001b[0;36m10\u001b[0m\u001b[0;34m)\u001b[0m\u001b[0;34m,\u001b[0m \u001b[0;36m0\u001b[0m\u001b[0;34m,\u001b[0m\u001b[0;36m0\u001b[0m\u001b[0;34m,\u001b[0m \u001b[0mcolor\u001b[0m\u001b[0;34m=\u001b[0m\u001b[0;34m'k'\u001b[0m\u001b[0;34m)\u001b[0m\u001b[0;34m\u001b[0m\u001b[0;34m\u001b[0m\u001b[0m\n",
      "\u001b[0;31mIndexError\u001b[0m: arrays used as indices must be of integer (or boolean) type"
     ]
    }
   ],
   "source": [
    "if rtFlag:\n",
    "  plt.close()\n",
    "\n",
    "  positions = fits.open('/home/yanitski/projects/pdr/KOSMA-tau^3/history/MilkyWay/r1000_n96/voxel_position.fits')[0].data/1000.\n",
    "  vel = fits.open('/home/yanitski/projects/pdr/KOSMA-tau^3/history/MilkyWay/r1000_n96/voxel_velocity.fits')[0].data\n",
    "\n",
    "  idx_plane = positions[:,2]==0\n",
    "  idx_Earth = (np.sqrt(positions[:,0]**2+positions[:,1]**2)<=8.178) & (positions[:,0]>=0) & idx_plane\n",
    "\n",
    "  idx = idx_Earth\n",
    "  idx_obs = []\n",
    "\n",
    "  for i in range(18,-19,-1):\n",
    "      line = ''\n",
    "      iy = i==positions[idx,1]\n",
    "      orbit = True\n",
    "      for j in range(18,-19,-1):\n",
    "          ix = j==positions[idx,0]\n",
    "          if (ix&iy).any() and orbit:\n",
    "              line += 'XX'\n",
    "              idx_obs.append(np.where(ix&iy)[0])\n",
    "              orbit = False\n",
    "          else: line += '--'\n",
    "      #print(line)\n",
    "\n",
    "  idx_obs = np.array(idx_obs)\n",
    "\n",
    "  fig = plt.figure()\n",
    "  ax = fig.add_subplot(111, projection='3d')\n",
    "  cm = ax.scatter(positions.T[0], positions.T[1], positions.T[2], c=vel[:,0], cmap='cubehelix', marker='s', s=27, alpha=0.5, linewidth=0)\n",
    "  cb = fig.colorbar(cm)\n",
    "  cb.ax.set_ylabel(r'Radial velocity ($\\frac{km}{s}$)', labelpad=16, rotation=270)\n",
    "\n",
    "  # lon,lat = np.meshgrid(np.linspace(-np.pi, np.pi, num=9), np.linspace(-np.pi/2, np.pi/2, num=5))\n",
    "  # x = 10 * (np.cos(lat.flatten()) * np.cos(lon.flatten()))\n",
    "  # y = 10 * (np.cos(lat.flatten()) * np.sin(lon.flatten()))\n",
    "  # z = 10 * np.sin(lat.flatten())\n",
    "  #print(idx_obs)\n",
    "  ax.scatter(positions[idx,0][idx_obs], positions[idx,1][idx_obs], positions[idx,2][idx_obs], marker='o', s=49, c='b')\n",
    "  ax.quiver(positions[idx,0][idx_obs], positions[idx,1][idx_obs], positions[idx,2][idx_obs], np.full_like(idx_obs, -24.178*np.sin(positions[idx,0][idx_obs]/8.178/2*np.pi)), 0,0, color='k')\n",
    "  ax.quiver(positions[idx,0][idx_obs], positions[idx,1][idx_obs], positions[idx,2][idx_obs], np.full_like(idx_obs, 10), 0,0, color='k')\n",
    "\n",
    "  ax.set_xlabel('X (kpc)')\n",
    "  ax.set_ylabel('Y (kpc)')\n",
    "  ax.set_zlabel('Z (kpc)')\n",
    "  ax.set_xlim([-18, 18])\n",
    "  ax.set_ylim([-18, 18])\n",
    "  ax.set_zlim([-18, 18])\n",
    "  plt.show()"
   ]
  },
  {
   "cell_type": "markdown",
   "metadata": {},
   "source": [
    "## Cygrid"
   ]
  },
  {
   "cell_type": "code",
   "execution_count": null,
   "metadata": {},
   "outputs": [],
   "source": [
    "# Create cygrid images\n",
    "\n",
    "if cyplotFlag:\n",
    "\n",
    "  constants.mapShape = (200, 200)\n",
    "\n",
    "  import cyplot\n",
    "\n",
    "  images,wcs = cyplot.convertMap(modelFolder, input_coord='spherical')\n",
    "  print(images.shape)\n",
    "\n",
    "  images = np.nan_to_num(images)\n",
    "\n",
    "  vmin = images[0,1,:,:].min()\n",
    "  vmax = images[0,1,:,:].max()\n",
    "\n",
    "  fig = plt.figure()\n",
    "  ax1 = fig.add_subplot(111, projection=wcs.celestial)\n",
    "  dust = ax1.imshow(images[0,0,:,:], alpha=0.5, vmin=vmin, vmax=vmax, cmap='bone')\n",
    "  cbar1 = plt.colorbar(dust, ax=ax1, shrink=1)\n",
    "  cbar1.ax.set_ylabel('Dust Intensity (K km/s)', rotation=270)\n",
    "#   i = 23\n",
    "#   mol1 = ax1.imshow(image[0,i,:,:], alpha=0.5, cmap='magma')\n",
    "#   cbar2 = plt.colorbar(mol1, ax=ax1, shrink=1)\n",
    "#   cbar2.ax.set_ylabel('{} Intensity (K km/s)'.format(species[i-333]), rotation=270)\n",
    "#   i = 44\n",
    "#   mol2 = ax1.imshow(image[0,i,:,:], alpha=0.5, cmap='hot')\n",
    "#   cbar3 = plt.colorbar(mol2, ax=ax1, shrink=1)\n",
    "#   cbar3.ax.set_ylabel('{} Intensity (K km/s)'.format(species[i-333]), rotation=270)\n",
    "  \n",
    "  plt.show()"
   ]
  }
 ],
 "metadata": {
  "kernelspec": {
   "display_name": "Python 3",
   "language": "python",
   "name": "python3"
  },
  "language_info": {
   "codemirror_mode": {
    "name": "ipython",
    "version": 3
   },
   "file_extension": ".py",
   "mimetype": "text/x-python",
   "name": "python",
   "nbconvert_exporter": "python",
   "pygments_lexer": "ipython3",
   "version": "3.7.4"
  }
 },
 "nbformat": 4,
 "nbformat_minor": 4
}
