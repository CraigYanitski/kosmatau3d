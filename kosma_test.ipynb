{
 "cells": [
  {
   "cell_type": "markdown",
   "metadata": {},
   "source": [
    "# KOSMA-$\\tau^3$"
   ]
  },
  {
   "cell_type": "markdown",
   "metadata": {},
   "source": [
    "This is a working notebook to run and debug the PDR synthetic observation software KOSMA-$\\tau^3$."
   ]
  },
  {
   "cell_type": "code",
   "execution_count": 1,
   "metadata": {},
   "outputs": [],
   "source": [
    "%load_ext autoreload\n",
    "%autoreload 2\n",
    "#%matplotlib widget"
   ]
  },
  {
   "cell_type": "code",
   "execution_count": 2,
   "metadata": {},
   "outputs": [],
   "source": [
    "import os\n",
    "import sys\n",
    "import inspect\n",
    "import matplotlib.pyplot as plt\n",
    "from mpl_toolkits.mplot3d import Axes3D\n",
    "from mpl_toolkits.axes_grid1 import make_axes_locatable, axes_size\n",
    "\n",
    "pathname = inspect.getframeinfo(inspect.currentframe()).filename\n",
    "sys.path.append(os.path.abspath(os.path.dirname(pathname))+'/classes/')\n",
    "\n",
    "from Model import *\n",
    "import constants"
   ]
  },
  {
   "cell_type": "markdown",
   "metadata": {},
   "source": [
    "The model parameters are set in this cell, with different flags available to limit the scope of model execution.\n",
    "\n",
    " - [x] **modelFlag**: Setup and evaluate the model emission for each voxel\n",
    " - [x] **rtFlag**: Evaluate the synthetic observation for a predefined number of sightlines\n",
    " - [ ] **cyplotFlag**: Re-grid the sightlines using `cygrid` and plot the map\n",
    " \n",
    " - **x,y,z**: overall size of model\n",
    " - **shape**: all fit within given dimensions\n",
    "   - [x] block\n",
    "   - [x] disk\n",
    "   - [x] ellipsoid\n",
    "   - [ ] shell\n",
    " - **resolution**: in parsecs\n",
    " - **focus**: how to limit the evaluated continuum wavelengths\n",
    "   - `molecular`\n",
    "     - $ \\lambda_\\mathrm{dust} > 10^{-4}m $\n",
    "     - *23 points*\n",
    "   - `PAH`\n",
    "     - $ \\lambda_\\mathrm{dust} > 5 * 10^{-6}m $\n",
    "     - *202 points*\n",
    "   - `all`\n",
    "     - *333 points*\n",
    " - **modelFolder**: needed when not running the full model; the directory of the model in `$ KOSMA-tau^3/history/`"
   ]
  },
  {
   "cell_type": "code",
   "execution_count": 3,
   "metadata": {},
   "outputs": [],
   "source": [
    "import sys\n",
    "\n",
    "sys.path.insert(1, \"/home/craig/projects/pdr/\")\n",
    "\n",
    "import spectrum"
   ]
  },
  {
   "cell_type": "code",
   "execution_count": 4,
   "metadata": {},
   "outputs": [
    {
     "name": "stdout",
     "output_type": "stream",
     "text": [
      "XTENSION= 'IMAGE   '           / Image extension                                \n",
      "BITPIX  =                  -64 / array data type                                \n",
      "NAXIS   =                    4 / number of array dimensions                     \n",
      "NAXIS1  =                   45                                                  \n",
      "NAXIS2  =                   50                                                  \n",
      "NAXIS3  =                   50                                                  \n",
      "NAXIS4  =                   89                                                  \n",
      "PCOUNT  =                    0 / number of parameters                           \n",
      "GCOUNT  =                    1 / number of groups                               \n",
      "BUNIT   = 'K       '                                                            \n",
      "CTYPE1  = 'Wavelength'                                                          \n",
      "CUNIT1  = 'm       '                                                            \n",
      "CRVAL1  = 'N/A     '                                                            \n",
      "CDELT1  = 'N/A     '                                                            \n",
      "CRPIX1  = 'N/A     '                                                            \n",
      "CTYPE2  = 'GLON    '                                                            \n",
      "CUNIT2  = 'rad     '                                                            \n",
      "CRVAL2  =                  0.0                                                  \n",
      "CDELT2  =   0.1256637061435917                                                  \n",
      "CRPIX2  =                 24.5                                                  \n",
      "CTYPE3  = 'GLAT    '                                                            \n",
      "CUNIT3  = 'rad     '                                                            \n",
      "CRVAL3  =                  0.0                                                  \n",
      "CDELT3  =  0.06283185307179587                                                  \n",
      "CRPIX3  =                 24.5                                                  \n",
      "CTYPE4  = 'Velocity'                                                            \n",
      "CUNIT4  = 'km/s    '                                                            \n",
      "CRVAL4  =                  0.0                                                  \n",
      "CDELT4  =    5.113636363636363                                                  \n",
      "CRPIX4  =                 44.5                                                  \n",
      "DIREC   = 'Radial  '                                                            \n",
      "22 22 1\n"
     ]
    },
    {
     "data": {
      "image/png": "[encoded data removed]",
      "text/plain": [
       "<Figure size 576x288 with 1 Axes>"
      ]
     },
     "metadata": {
      "needs_background": "light"
     },
     "output_type": "display_data"
    }
   ],
   "source": [
    "spectrum.spectrum(lon=25, lat=25, PAH=False)"
   ]
  },
  {
   "cell_type": "code",
   "execution_count": 5,
   "metadata": {},
   "outputs": [
    {
     "data": {
      "image/png": "[encoded data removed]",
      "text/plain": [
       "<Figure size 432x288 with 2 Axes>"
      ]
     },
     "metadata": {
      "needs_background": "light"
     },
     "output_type": "display_data"
    }
   ],
   "source": [
    "spectrum.PVdiagram()"
   ]
  },
  {
   "cell_type": "code",
   "execution_count": 4,
   "metadata": {},
   "outputs": [],
   "source": [
    "complete = False\n",
    "\n",
    "modelFlag = True\n",
    "rtFlag = True\n",
    "plotFlag = True\n",
    "cyplotFlag = True\n",
    "\n",
    "x = 36\n",
    "y = 36\n",
    "z = 2\n",
    "\n",
    "shape = 'disk'\n",
    "\n",
    "resolution = 1000\n",
    "\n",
    "focus = 'molecular'\n",
    "\n",
    "constants.changeDirectory('MilkyWay')\n",
    "\n",
    "modelFolder = 'r1000_n3015/'\n",
    "\n",
    "# Factors\n",
    "constants.clumpMassFactor = 1\n",
    "constants.interclumpMassFactor = 1\n",
    "constants.FUVFactor = 1\n",
    "constants.DensityFactor = 1\n",
    "\n",
    "# Constant\n",
    "constants.interclumpLogFUV = 1\n",
    "\n",
    "# Model masses\n",
    "constants.clumpLogMassNum = 4\n",
    "constants.clumpLogMassRange = [-1, 2]\n",
    "constants.interclumpLogMassNum = 2\n",
    "constants.interclumpLogMassRange = [-3, -2]"
   ]
  },
  {
   "cell_type": "code",
   "execution_count": 5,
   "metadata": {},
   "outputs": [
    {
     "name": "stdout",
     "output_type": "stream",
     "text": [
      "KOSMA-tau^3\n"
     ]
    }
   ],
   "source": [
    "# Limit dust calculation\n",
    "\n",
    "print('KOSMA-tau^3')\n",
    "\n",
    "species = ['13CO 10', 'C+ 1', 'CO 1', 'CO 2', 'CO 3', 'CO 4', 'CO 5', 'CO 6', 'CO 7', 'CO 8', 'CO 9', 'CO 10', '13CO 1', '13CO 2', '13CO 3', '13CO 4', '13CO 5', '13CO 6', '13CO 7', '13CO 8', '13CO 9', '13CO 10', 'O 2']\n",
    "kosma = Model(x, y, z, modelType=shape, resolution=resolution, dustLim=focus)\n",
    "kosma.addSpecies(species)"
   ]
  },
  {
   "cell_type": "markdown",
   "metadata": {},
   "source": [
    "## Setup"
   ]
  },
  {
   "cell_type": "code",
   "execution_count": 6,
   "metadata": {},
   "outputs": [
    {
     "name": "stderr",
     "output_type": "stream",
     "text": [
      "Voxels initialised:   0%|          | 0/3015 [00:00<?, ?it/s]"
     ]
    },
    {
     "name": "stdout",
     "output_type": "stream",
     "text": [
      "\n",
      "Calculating Grid Emission...\n"
     ]
    },
    {
     "name": "stderr",
     "output_type": "stream",
     "text": [
      "Voxels initialised: 100%|██████████| 3015/3015 [03:54<00:00, 12.88it/s]\n"
     ]
    },
    {
     "name": "stdout",
     "output_type": "stream",
     "text": [
      "\n",
      "Emission calculated successfully.\n",
      "\n",
      "Streaming to fits files...\n"
     ]
    },
    {
     "name": "stderr",
     "output_type": "stream",
     "text": [
      "Voxel emissions: 100%|██████████| 3015/3015 [02:48<00:00, 17.84it/s]"
     ]
    },
    {
     "name": "stdout",
     "output_type": "stream",
     "text": [
      "\n",
      "Data files have been written successfully.\n",
      "\n"
     ]
    },
    {
     "name": "stderr",
     "output_type": "stream",
     "text": [
      "\n"
     ]
    }
   ],
   "source": [
    "if modelFlag:\n",
    "\n",
    "  kosma.calculateModel()\n",
    "  kosma.writeEmission()\n",
    "  \n",
    "  modelFolder = constants.history"
   ]
  },
  {
   "cell_type": "markdown",
   "metadata": {},
   "source": [
    "## Radiative transfer"
   ]
  },
  {
   "cell_type": "code",
   "execution_count": 6,
   "metadata": {},
   "outputs": [
    {
     "name": "stderr",
     "output_type": "stream",
     "text": [
      "Observing velocity:  88%|████████▊ | 107/121 [03:37<00:08,  1.65it/s]"
     ]
    }
   ],
   "source": [
    "# Calculate integrated intensity maps\n",
    "\n",
    "if rtFlag:\n",
    "\n",
    "  import radiativeTransfer\n",
    "\n",
    "  # radiativeTransfer.plotModel(plot='velocity', directory='r1000.0_n3015/')\n",
    "\n",
    "  radiativeTransfer.calculateObservation(directory=modelFolder, dim='spherical', terminal=False)"
   ]
  },
  {
   "cell_type": "markdown",
   "metadata": {},
   "source": [
    "### Plot intensity map"
   ]
  },
  {
   "cell_type": "code",
   "execution_count": 7,
   "metadata": {},
   "outputs": [],
   "source": [
    "if plotFlag:\n",
    "\n",
    "  pos = fits.open('/home/craig/projects/pdr/KOSMA-tau^3/history/MilkyWay/r1000_n3015/integrated_intensity.fits')[0]    \n",
    "  intensity = fits.open('/home/craig/projects/pdr/KOSMA-tau^3/history/MilkyWay/r1000_n3015/integrated_intensity.fits')[1]\n",
    "\n",
    "  velocity = np.linspace(intensity.header['CRVAL4']-intensity.header['CRPIX4']*intensity.header['CDELT4'], intensity.header['CRVAL4']+intensity.header['CRPIX4']*intensity.header['CDELT4'], num=intensity.header['NAXIS4'])\n",
    "  intensity_integrated = np.trapz(intensity.data, velocity, axis=0)\n",
    "\n",
    "  if False:\n",
    "\n",
    "    for i in range(intensity.data[:,0,0,0].size):\n",
    "\n",
    "#       plt.close()\n",
    "      \n",
    "      proj = 'Galactic intensity map'\n",
    "      fig = plt.figure(figsize=(10,10))\n",
    "      ax = fig.add_subplot(111, projection='mollweide')\n",
    "\n",
    "      # aspect = 20\n",
    "      # pad_fraction = 0.5\n",
    "      # divider = make_axes_locatable(ax)\n",
    "      # width = axes_size.AxesY(ax, aspect=1./aspect)\n",
    "      # pad = axes_size.Fraction(pad_fraction, width)\n",
    "      # cax = divider.append_axes(\"right\", size=width, pad=pad)\n",
    "\n",
    "  #     cm = ax.scatter(pos.data[:,0], pos.data[:,1], c=intensity_integrated[:,:,23].flatten(), cmap='cubehelix', s=500, alpha = 0.5, marker='s')\n",
    "      cm = ax.scatter(pos.data[:,0], pos.data[:,1], c=intensity.data[i,:,:,23].flatten(), cmap='cubehelix', s=64, alpha = 0.5, marker='s')\n",
    "      cb = fig.colorbar(cm, extend='both', ax=ax, fraction = 0.02, )\n",
    "      cb.ax.set_ylabel('Intensity (K km/s)', fontsize=20, labelpad=20, rotation=270)\n",
    "  \n",
    "  else:\n",
    "    \n",
    "    proj = 'Galactic intensity map'\n",
    "    fig = plt.figure(figsize=(10,10))\n",
    "    ax = fig.add_subplot(111, projection='mollweide')\n",
    "\n",
    "    # aspect = 20\n",
    "    # pad_fraction = 0.5\n",
    "    # divider = make_axes_locatable(ax)\n",
    "    # width = axes_size.AxesY(ax, aspect=1./aspect)\n",
    "    # pad = axes_size.Fraction(pad_fraction, width)\n",
    "    # cax = divider.append_axes(\"right\", size=width, pad=pad)\n",
    "\n",
    "#     cm = ax.imshow(intensity_integrated[:,:,23], cmap='cubehelix')\n",
    "    cm = ax.scatter(pos.data[:,0], pos.data[:,1], c=intensity_integrated[:,:,23].flatten(), cmap='cubehelix', s=64, alpha = 0.5, marker='s')\n",
    "    cb = fig.colorbar(cm, extend='both', ax=ax, fraction = 0.02, )\n",
    "    cb.ax.set_ylabel('Intensity (K km/s)', fontsize=20, labelpad=20, rotation=270)\n",
    "\n",
    "  ax.set_title(proj+r' $^{13}CO^{+}$', fontsize=24)\n",
    "  ax.grid(True)\n",
    "  ax.set_xticklabels([])\n",
    "  ax.set_yticklabels([])\n",
    "\n",
    "  plt.show()"
   ]
  },
  {
   "cell_type": "code",
   "execution_count": 8,
   "metadata": {},
   "outputs": [
    {
     "data": {
      "text/plain": [
       "(50, 50, 45)"
      ]
     },
     "execution_count": 8,
     "metadata": {},
     "output_type": "execute_result"
    }
   ],
   "source": [
    "intensity_integrated.shape"
   ]
  },
  {
   "cell_type": "markdown",
   "metadata": {},
   "source": [
    "### Previous calculation"
   ]
  },
  {
   "cell_type": "code",
   "execution_count": 9,
   "metadata": {},
   "outputs": [
    {
     "data": {
      "application/vnd.jupyter.widget-view+json": {
       "model_id": "5fa4f33f52754b1480a1419d2a5a8b1c",
       "version_major": 2,
       "version_minor": 0
      },
      "text/plain": [
       "Canvas(toolbar=Toolbar(toolitems=[('Home', 'Reset original view', 'home', 'home'), ('Back', 'Back to previous …"
      ]
     },
     "metadata": {},
     "output_type": "display_data"
    }
   ],
   "source": [
    "if plotFlag:\n",
    "  plt.close()\n",
    "\n",
    "  positions = fits.open('/home/craig/projects/pdr/KOSMA-tau^3/history/MilkyWay/r1000_n3015/voxel_position.fits')[0].data/1000.\n",
    "  vel = fits.open('/home/craig/projects/pdr/KOSMA-tau^3/history/MilkyWay/r1000_n3015/voxel_velocity.fits')[0].data\n",
    "\n",
    "  idx_plane = positions[:,2]==0\n",
    "  idx_Earth = (np.sqrt(positions[:,0]**2+positions[:,1]**2)<=8.178) & (positions[:,0]>=0) & idx_plane\n",
    "\n",
    "  idx = idx_Earth\n",
    "  idx_obs = []\n",
    "\n",
    "  for i in range(18,-19,-1):\n",
    "      line = ''\n",
    "      iy = i==positions[idx,1]\n",
    "      orbit = True\n",
    "      for j in range(18,-19,-1):\n",
    "          ix = j==positions[idx,0]\n",
    "          if (ix&iy).any() and orbit:\n",
    "              line += 'XX'\n",
    "              idx_obs.append(np.where(ix&iy)[0])\n",
    "              orbit = False\n",
    "          else: line += '--'\n",
    "      #print(line)\n",
    "\n",
    "  idx_obs = np.array(idx_obs)\n",
    "\n",
    "  fig = plt.figure()\n",
    "  ax = fig.add_subplot(111, projection='3d')\n",
    "  cm = ax.scatter(positions.T[0], positions.T[1], positions.T[2], c=vel[:,0], cmap='cubehelix', marker='s', s=27, alpha=0.5, linewidth=0)\n",
    "  cb = fig.colorbar(cm)\n",
    "  cb.ax.set_ylabel(r'Radial velocity ($\\frac{km}{s}$)', labelpad=16, rotation=270)\n",
    "\n",
    "  # lon,lat = np.meshgrid(np.linspace(-np.pi, np.pi, num=9), np.linspace(-np.pi/2, np.pi/2, num=5))\n",
    "  # x = 10 * (np.cos(lat.flatten()) * np.cos(lon.flatten()))\n",
    "  # y = 10 * (np.cos(lat.flatten()) * np.sin(lon.flatten()))\n",
    "  # z = 10 * np.sin(lat.flatten())\n",
    "  #print(idx_obs)\n",
    "  ax.scatter(positions[idx,0][idx_obs], positions[idx,1][idx_obs], positions[idx,2][idx_obs], marker='o', s=49, c='b')\n",
    "  ax.quiver(positions[idx,0][idx_obs], positions[idx,1][idx_obs], positions[idx,2][idx_obs], np.full_like(idx_obs, -24.178*np.sin(positions[idx,0][idx_obs]/8.178/2*np.pi)), 0,0, color='k')\n",
    "  ax.quiver(positions[idx,0][idx_obs], positions[idx,1][idx_obs], positions[idx,2][idx_obs], np.full_like(idx_obs, 10), 0,0, color='k')\n",
    "\n",
    "  ax.set_xlabel('X (kpc)')\n",
    "  ax.set_ylabel('Y (kpc)')\n",
    "  ax.set_zlabel('Z (kpc)')\n",
    "  ax.set_xlim([-18, 18])\n",
    "  ax.set_ylim([-18, 18])\n",
    "  ax.set_zlim([-18, 18])\n",
    "  plt.show()"
   ]
  },
  {
   "cell_type": "markdown",
   "metadata": {},
   "source": [
    "### Current desired calculation"
   ]
  },
  {
   "cell_type": "code",
   "execution_count": 10,
   "metadata": {},
   "outputs": [
    {
     "data": {
      "application/vnd.jupyter.widget-view+json": {
       "model_id": "b1e0ed63b77c45f4894d671f61fdc149",
       "version_major": 2,
       "version_minor": 0
      },
      "text/plain": [
       "Canvas(toolbar=Toolbar(toolitems=[('Home', 'Reset original view', 'home', 'home'), ('Back', 'Back to previous …"
      ]
     },
     "metadata": {},
     "output_type": "display_data"
    }
   ],
   "source": [
    "if plotFlag:\n",
    "  positions = fits.open('/home/craig/projects/pdr/KOSMA-tau^3/history/MilkyWay/r1000_n3015/voxel_position.fits')[0].data/1000.\n",
    "  vel = fits.open('/home/craig/projects/pdr/KOSMA-tau^3/history/MilkyWay/r1000_n3015/voxel_velocity.fits')[0].data\n",
    "\n",
    "  fig = plt.figure()\n",
    "  ax = fig.add_subplot(111, projection='3d')\n",
    "  cm = ax.scatter(positions.T[0], positions.T[1], positions.T[2], c=vel[:,0], cmap='cubehelix', marker='s', s=27, alpha=0.5, linewidth=0)\n",
    "  cb = fig.colorbar(cm)\n",
    "  cb.ax.set_ylabel(r'Radial velocity ($\\frac{km}{s}$)', labelpad=16, rotation=270)\n",
    "\n",
    "  lon,lat = np.meshgrid(np.linspace(-np.pi, np.pi, num=9), np.linspace(-np.pi/2, np.pi/2, num=5))\n",
    "  x = 10 * (np.cos(lat.flatten()) * np.cos(lon.flatten()))\n",
    "  y = 10 * (np.cos(lat.flatten()) * np.sin(lon.flatten()))\n",
    "  z = 10 * np.sin(lat.flatten())\n",
    "\n",
    "  ax.scatter([8.178], [0], [0], marker='o', s=49, c='b')\n",
    "  ax.quiver(np.full_like(x, 8.178), np.full_like(x, 0), np.full_like(x, 0), x, y, z, color='k', arrow_length_ratio=0.2)\n",
    "\n",
    "  ax.set_xlabel('X (kpc)')\n",
    "  ax.set_ylabel('Y (kpc)')\n",
    "  ax.set_zlabel('Z (kpc)')\n",
    "  ax.set_xlim([-18, 18])\n",
    "  ax.set_ylim([-18, 18])\n",
    "  ax.set_zlim([-18, 18])\n",
    "  plt.show()"
   ]
  },
  {
   "cell_type": "markdown",
   "metadata": {},
   "source": [
    "## Cygrid"
   ]
  },
  {
   "cell_type": "code",
   "execution_count": 11,
   "metadata": {},
   "outputs": [
    {
     "name": "stdout",
     "output_type": "stream",
     "text": [
      "(50, 50, 45)\n",
      "[[-3.0787608  -1.5393804 ]\n",
      " [-2.95309709 -1.5393804 ]\n",
      " [-2.82743339 -1.5393804 ]\n",
      " ...\n",
      " [-0.31415927  1.5393804 ]\n",
      " [-0.18849556  1.5393804 ]\n",
      " [-0.06283185  1.5393804 ]] (2500, 45)\n",
      "14158\n",
      "20000 14158\n",
      "0.0 122641.13\n"
     ]
    },
    {
     "name": "stderr",
     "output_type": "stream",
     "text": [
      "/home/craig/projects/pdr/KOSMA-tau^3/classes/cyplot/cygrid.py:191: RuntimeWarning: divide by zero encountered in true_divide\n",
      "  grid.grid(positions[:,0]*cyplot.r2d, positions[:,1]*cyplot.r2d, flatMap[:,23])\n",
      "/home/craig/projects/pdr/KOSMA-tau^3/classes/cyplot/cygrid.py:191: RuntimeWarning: invalid value encountered in true_divide\n",
      "  grid.grid(positions[:,0]*cyplot.r2d, positions[:,1]*cyplot.r2d, flatMap[:,23])\n",
      "/home/craig/miniconda3/lib/python3.7/site-packages/ipykernel_launcher.py:14: RuntimeWarning: divide by zero encountered in true_divide\n",
      "  \n",
      "/home/craig/miniconda3/lib/python3.7/site-packages/ipykernel_launcher.py:14: RuntimeWarning: invalid value encountered in true_divide\n",
      "  \n"
     ]
    },
    {
     "data": {
      "application/vnd.jupyter.widget-view+json": {
       "model_id": "2cd0f6bfc4da4924963faed277148a7d",
       "version_major": 2,
       "version_minor": 0
      },
      "text/plain": [
       "Canvas(toolbar=Toolbar(toolitems=[('Home', 'Reset original view', 'home', 'home'), ('Back', 'Back to previous …"
      ]
     },
     "metadata": {},
     "output_type": "display_data"
    }
   ],
   "source": [
    "%matplotlib widget\n",
    "# Create cygrid images\n",
    "\n",
    "if cyplotFlag:\n",
    "\n",
    "  constants.mapShape = (200, 100)\n",
    "\n",
    "  import cyplot\n",
    "  \n",
    "  modelFolder = 'r1000_n3015/'\n",
    "\n",
    "  grid = cyplot.convertMap(modelFolder, input_coord='spherical')\n",
    "  \n",
    "  images = grid.get_datacube()\n",
    "  wcs = grid.get_wcs()\n",
    "  print(images.size, np.where(np.isnan(images))[0].size)\n",
    "\n",
    "  images = np.nan_to_num(images)\n",
    "  \n",
    "  i = 0\n",
    "\n",
    "  print(np.nanmin(images[i,:,:]), np.nanmax(images[i,:,:]))\n",
    "  vmin = np.nanmin(images[i,:,:])\n",
    "  vmax = np.nanmax(images[i,:,:])\n",
    "  \n",
    "  plt.close()\n",
    "\n",
    "  fig = plt.figure()\n",
    "  ax1 = fig.add_subplot(111, projection=wcs.celestial)\n",
    "  dust = ax1.imshow(images[i,:,:], alpha=1, vmin=vmin, vmax=vmax, cmap='cubehelix')\n",
    "  cbar1 = plt.colorbar(dust, ax=ax1, shrink=1)\n",
    "  cbar1.ax.set_ylabel('Intensity (K km/s)', rotation=270)\n",
    "#   i = 23\n",
    "#   mol1 = ax1.imshow(image[i,:,:], alpha=0.5, cmap='magma')\n",
    "#   cbar2 = plt.colorbar(mol1, ax=ax1, shrink=1)\n",
    "#   cbar2.ax.set_ylabel('{} Intensity (K km/s)'.format(species[i-333]), rotation=270)\n",
    "#   i = 44\n",
    "#   mol2 = ax1.imshow(image[i,:,:], alpha=0.5, cmap='hot')\n",
    "#   cbar3 = plt.colorbar(mol2, ax=ax1, shrink=1)\n",
    "#   cbar3.ax.set_ylabel('{} Intensity (K km/s)'.format(species[i-333]), rotation=270)\n",
    "  \n",
    "  plt.show()"
   ]
  },
  {
   "cell_type": "code",
   "execution_count": 24,
   "metadata": {},
   "outputs": [],
   "source": [
    "intensity = fits.open('history/MilkyWay/r1000_n3015/integrated_intensity.fits')"
   ]
  },
  {
   "cell_type": "code",
   "execution_count": 26,
   "metadata": {},
   "outputs": [
    {
     "data": {
      "text/plain": [
       "XTENSION= 'IMAGE   '           / Image extension                                \n",
       "BITPIX  =                  -64 / array data type                                \n",
       "NAXIS   =                    4 / number of array dimensions                     \n",
       "NAXIS1  =                   45                                                  \n",
       "NAXIS2  =                   50                                                  \n",
       "NAXIS3  =                   50                                                  \n",
       "NAXIS4  =                   89                                                  \n",
       "PCOUNT  =                    0 / number of parameters                           \n",
       "GCOUNT  =                    1 / number of groups                               \n",
       "BUNIT   = 'K       '                                                            \n",
       "CTYPE1  = 'Wavelength'                                                          \n",
       "CUNIT1  = 'm       '                                                            \n",
       "CRVAL1  = 'N/A     '                                                            \n",
       "CDELT1  = 'N/A     '                                                            \n",
       "CRPIX1  = 'N/A     '                                                            \n",
       "CTYPE2  = 'GLON    '                                                            \n",
       "CUNIT2  = 'rad     '                                                            \n",
       "CRVAL2  =                  0.0                                                  \n",
       "CDELT2  =   0.1256637061435917                                                  \n",
       "CRPIX2  =                 24.5                                                  \n",
       "CTYPE3  = 'GLAT    '                                                            \n",
       "CUNIT3  = 'rad     '                                                            \n",
       "CRVAL3  =                  0.0                                                  \n",
       "CDELT3  =  0.06283185307179587                                                  \n",
       "CRPIX3  =                 24.5                                                  \n",
       "CTYPE4  = 'Velocity'                                                            \n",
       "CUNIT4  = 'km/s    '                                                            \n",
       "CRVAL4  =                  0.0                                                  \n",
       "CDELT4  =    5.113636363636363                                                  \n",
       "CRPIX4  =                 44.5                                                  \n",
       "DIREC   = 'Radial  '                                                            "
      ]
     },
     "execution_count": 26,
     "metadata": {},
     "output_type": "execute_result"
    }
   ],
   "source": [
    "intensity[1].header"
   ]
  },
  {
   "cell_type": "code",
   "execution_count": 21,
   "metadata": {},
   "outputs": [
    {
     "data": {
      "text/plain": [
       "0.0"
      ]
     },
     "execution_count": 21,
     "metadata": {},
     "output_type": "execute_result"
    }
   ],
   "source": [
    "np.nanmin(images[i,:,:])"
   ]
  },
  {
   "cell_type": "code",
   "execution_count": 13,
   "metadata": {},
   "outputs": [
    {
     "data": {
      "text/plain": [
       "{'BUNIT': 'K',\n",
       " 'NAXIS': 3,\n",
       " 'NAXIS1': 200,\n",
       " 'NAXIS2': 100,\n",
       " 'NAXIS3': 45,\n",
       " 'CTYPE1': 'GLON',\n",
       " 'CTYPE2': 'GLAT',\n",
       " 'CTYPE3': 'INTENSITY',\n",
       " 'CUNIT1': 'deg',\n",
       " 'CUNIT2': 'deg',\n",
       " 'CDELT1': 1.8,\n",
       " 'CDELT2': 1.8,\n",
       " 'CRPIX1': 100.0,\n",
       " 'CRPIX2': 50.0,\n",
       " 'CRVAL1': 0,\n",
       " 'CRVAL2': 0,\n",
       " 'VELOCITY': 0}"
      ]
     },
     "execution_count": 13,
     "metadata": {},
     "output_type": "execute_result"
    }
   ],
   "source": [
    "cyplot.header"
   ]
  },
  {
   "cell_type": "code",
   "execution_count": 12,
   "metadata": {},
   "outputs": [
    {
     "data": {
      "text/plain": [
       "{'BUNIT': 'K km/s',\n",
       " 'NAXIS': 3,\n",
       " 'NAXIS1': 200,\n",
       " 'NAXIS2': 100,\n",
       " 'NAXIS3': 1,\n",
       " 'CTYPE1': 'GLON-MOL',\n",
       " 'CUNIT1': 'deg',\n",
       " 'CDELT1': 1.8,\n",
       " 'CRPIX1': 100.0,\n",
       " 'CRVAL1': 0,\n",
       " 'CTYPE2': 'GLAT-MOL',\n",
       " 'CUNIT2': 'deg',\n",
       " 'CDELT2': 1.8,\n",
       " 'CRPIX2': 50.0,\n",
       " 'CRVAL2': 0,\n",
       " 'VELOCITY': 0}"
      ]
     },
     "execution_count": 12,
     "metadata": {},
     "output_type": "execute_result"
    }
   ],
   "source": [
    "grid.get_header()"
   ]
  },
  {
   "cell_type": "code",
   "execution_count": 13,
   "metadata": {},
   "outputs": [
    {
     "data": {
      "text/plain": [
       "WCS Keywords\n",
       "\n",
       "Number of WCS axes: 2\n",
       "CTYPE : 'GLON-MOL'  'GLAT-MOL'  \n",
       "CRVAL : 0.0  0.0  \n",
       "CRPIX : 100.0  50.0  \n",
       "PC1_1 PC1_2  : 1.0  0.0  \n",
       "PC2_1 PC2_2  : 0.0  1.0  \n",
       "CDELT : 1.8  1.8  \n",
       "NAXIS : 200  100  1"
      ]
     },
     "execution_count": 13,
     "metadata": {},
     "output_type": "execute_result"
    }
   ],
   "source": [
    "grid.get_wcs()"
   ]
  },
  {
   "cell_type": "code",
   "execution_count": 8,
   "metadata": {},
   "outputs": [
    {
     "data": {
      "text/plain": [
       "10"
      ]
     },
     "execution_count": 8,
     "metadata": {},
     "output_type": "execute_result"
    }
   ],
   "source": [
    "np.where(images[20,:,:])[0].size"
   ]
  },
  {
   "cell_type": "code",
   "execution_count": 9,
   "metadata": {},
   "outputs": [],
   "source": [
    "intensity = fits.open('history/MilkyWay/r1000_n3015/integrated_intensity.fits')[1]\n",
    "lon = np.linspace(intensity.header['CRVAL2']-intensity.header['CRPIX2']*intensity.header['CDELT2'], \\\n",
    "                  intensity.header['CRVAL2']+intensity.header['CRPIX2']*intensity.header['CDELT2'], \\\n",
    "                  num=intensity.header['NAXIS2'])"
   ]
  },
  {
   "cell_type": "code",
   "execution_count": 10,
   "metadata": {},
   "outputs": [
    {
     "data": {
      "text/plain": [
       "10012500"
      ]
     },
     "execution_count": 10,
     "metadata": {},
     "output_type": "execute_result"
    }
   ],
   "source": [
    "intensity.data.size"
   ]
  },
  {
   "cell_type": "code",
   "execution_count": 11,
   "metadata": {},
   "outputs": [
    {
     "data": {
      "text/plain": [
       "1497324"
      ]
     },
     "execution_count": 11,
     "metadata": {},
     "output_type": "execute_result"
    }
   ],
   "source": [
    "np.where(np.nonzero(intensity.data))[0].size"
   ]
  },
  {
   "cell_type": "code",
   "execution_count": 12,
   "metadata": {},
   "outputs": [
    {
     "data": {
      "text/plain": [
       "0.0"
      ]
     },
     "execution_count": 12,
     "metadata": {},
     "output_type": "execute_result"
    }
   ],
   "source": [
    "intensity.data.min()"
   ]
  },
  {
   "cell_type": "code",
   "execution_count": 13,
   "metadata": {},
   "outputs": [],
   "source": [
    "integratedI = cyplot.integrateVelocity(intensity, splitWavelengths=False)"
   ]
  },
  {
   "cell_type": "code",
   "execution_count": 14,
   "metadata": {},
   "outputs": [
    {
     "data": {
      "text/plain": [
       "0"
      ]
     },
     "execution_count": 14,
     "metadata": {},
     "output_type": "execute_result"
    }
   ],
   "source": [
    "np.where(np.isnan(integratedI))[0].size"
   ]
  },
  {
   "cell_type": "code",
   "execution_count": 15,
   "metadata": {},
   "outputs": [
    {
     "data": {
      "text/plain": [
       "(50, 50, 45)"
      ]
     },
     "execution_count": 15,
     "metadata": {},
     "output_type": "execute_result"
    }
   ],
   "source": [
    "integratedI.shape"
   ]
  },
  {
   "cell_type": "code",
   "execution_count": 16,
   "metadata": {},
   "outputs": [
    {
     "data": {
      "image/png": "[encoded data removed]",
      "text/plain": [
       "<Figure size 432x288 with 2 Axes>"
      ]
     },
     "metadata": {
      "needs_background": "light"
     },
     "output_type": "display_data"
    }
   ],
   "source": [
    "cm = plt.imshow(integratedI[:,:,0], extent=[-180, 180, -90, 90], cmap='cubehelix')\n",
    "cb = plt.colorbar(cm, shrink=0.6)"
   ]
  },
  {
   "cell_type": "code",
   "execution_count": 17,
   "metadata": {},
   "outputs": [
    {
     "data": {
      "image/png": "[encoded data removed]",
      "text/plain": [
       "<Figure size 432x288 with 2 Axes>"
      ]
     },
     "metadata": {
      "needs_background": "light"
     },
     "output_type": "display_data"
    }
   ],
   "source": [
    "cm = plt.imshow(integratedI[:,:,23], extent=[-180, 180, -90, 90], cmap='cubehelix')\n",
    "cb = plt.colorbar(cm, shrink=0.6)"
   ]
  },
  {
   "cell_type": "code",
   "execution_count": null,
   "metadata": {},
   "outputs": [],
   "source": []
  }
 ],
 "metadata": {
  "kernelspec": {
   "display_name": "Python 3",
   "language": "python",
   "name": "python3"
  },
  "language_info": {
   "codemirror_mode": {
    "name": "ipython",
    "version": 3
   },
   "file_extension": ".py",
   "mimetype": "text/x-python",
   "name": "python",
   "nbconvert_exporter": "python",
   "pygments_lexer": "ipython3",
   "version": "3.7.4"
  }
 },
 "nbformat": 4,
 "nbformat_minor": 4
}
