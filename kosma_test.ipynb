{
 "cells": [
  {
   "cell_type": "markdown",
   "metadata": {},
   "source": [
    "# KOSMA-$\\tau^3$"
   ]
  },
  {
   "cell_type": "markdown",
   "metadata": {},
   "source": [
    "This is a working notebook to run and debug the PDR synthetic observation software KOSMA-$\\tau^3$."
   ]
  },
  {
   "cell_type": "code",
   "execution_count": 1,
   "metadata": {},
   "outputs": [
    {
     "ename": "ModuleNotFoundError",
     "evalue": "No module named 'ipympl'",
     "output_type": "error",
     "traceback": [
      "\u001b[0;31m---------------------------------------------------------------------------\u001b[0m",
      "\u001b[0;31mModuleNotFoundError\u001b[0m                       Traceback (most recent call last)",
      "\u001b[0;32m<ipython-input-1-b591dd544eca>\u001b[0m in \u001b[0;36m<module>\u001b[0;34m\u001b[0m\n\u001b[1;32m      1\u001b[0m \u001b[0mget_ipython\u001b[0m\u001b[0;34m(\u001b[0m\u001b[0;34m)\u001b[0m\u001b[0;34m.\u001b[0m\u001b[0mrun_line_magic\u001b[0m\u001b[0;34m(\u001b[0m\u001b[0;34m'load_ext'\u001b[0m\u001b[0;34m,\u001b[0m \u001b[0;34m'autoreload'\u001b[0m\u001b[0;34m)\u001b[0m\u001b[0;34m\u001b[0m\u001b[0;34m\u001b[0m\u001b[0m\n\u001b[1;32m      2\u001b[0m \u001b[0mget_ipython\u001b[0m\u001b[0;34m(\u001b[0m\u001b[0;34m)\u001b[0m\u001b[0;34m.\u001b[0m\u001b[0mrun_line_magic\u001b[0m\u001b[0;34m(\u001b[0m\u001b[0;34m'autoreload'\u001b[0m\u001b[0;34m,\u001b[0m \u001b[0;34m'2'\u001b[0m\u001b[0;34m)\u001b[0m\u001b[0;34m\u001b[0m\u001b[0;34m\u001b[0m\u001b[0m\n\u001b[0;32m----> 3\u001b[0;31m \u001b[0mget_ipython\u001b[0m\u001b[0;34m(\u001b[0m\u001b[0;34m)\u001b[0m\u001b[0;34m.\u001b[0m\u001b[0mrun_line_magic\u001b[0m\u001b[0;34m(\u001b[0m\u001b[0;34m'matplotlib'\u001b[0m\u001b[0;34m,\u001b[0m \u001b[0;34m'widget'\u001b[0m\u001b[0;34m)\u001b[0m\u001b[0;34m\u001b[0m\u001b[0;34m\u001b[0m\u001b[0m\n\u001b[0m",
      "\u001b[0;32m~/miniconda3/lib/python3.7/site-packages/IPython/core/interactiveshell.py\u001b[0m in \u001b[0;36mrun_line_magic\u001b[0;34m(self, magic_name, line, _stack_depth)\u001b[0m\n\u001b[1;32m   2305\u001b[0m                 \u001b[0mkwargs\u001b[0m\u001b[0;34m[\u001b[0m\u001b[0;34m'local_ns'\u001b[0m\u001b[0;34m]\u001b[0m \u001b[0;34m=\u001b[0m \u001b[0msys\u001b[0m\u001b[0;34m.\u001b[0m\u001b[0m_getframe\u001b[0m\u001b[0;34m(\u001b[0m\u001b[0mstack_depth\u001b[0m\u001b[0;34m)\u001b[0m\u001b[0;34m.\u001b[0m\u001b[0mf_locals\u001b[0m\u001b[0;34m\u001b[0m\u001b[0;34m\u001b[0m\u001b[0m\n\u001b[1;32m   2306\u001b[0m             \u001b[0;32mwith\u001b[0m \u001b[0mself\u001b[0m\u001b[0;34m.\u001b[0m\u001b[0mbuiltin_trap\u001b[0m\u001b[0;34m:\u001b[0m\u001b[0;34m\u001b[0m\u001b[0;34m\u001b[0m\u001b[0m\n\u001b[0;32m-> 2307\u001b[0;31m                 \u001b[0mresult\u001b[0m \u001b[0;34m=\u001b[0m \u001b[0mfn\u001b[0m\u001b[0;34m(\u001b[0m\u001b[0;34m*\u001b[0m\u001b[0margs\u001b[0m\u001b[0;34m,\u001b[0m \u001b[0;34m**\u001b[0m\u001b[0mkwargs\u001b[0m\u001b[0;34m)\u001b[0m\u001b[0;34m\u001b[0m\u001b[0;34m\u001b[0m\u001b[0m\n\u001b[0m\u001b[1;32m   2308\u001b[0m             \u001b[0;32mreturn\u001b[0m \u001b[0mresult\u001b[0m\u001b[0;34m\u001b[0m\u001b[0;34m\u001b[0m\u001b[0m\n\u001b[1;32m   2309\u001b[0m \u001b[0;34m\u001b[0m\u001b[0m\n",
      "\u001b[0;32m</home/yanitski/miniconda3/lib/python3.7/site-packages/decorator.py:decorator-gen-108>\u001b[0m in \u001b[0;36mmatplotlib\u001b[0;34m(self, line)\u001b[0m\n",
      "\u001b[0;32m~/miniconda3/lib/python3.7/site-packages/IPython/core/magic.py\u001b[0m in \u001b[0;36m<lambda>\u001b[0;34m(f, *a, **k)\u001b[0m\n\u001b[1;32m    185\u001b[0m     \u001b[0;31m# but it's overkill for just that one bit of state.\u001b[0m\u001b[0;34m\u001b[0m\u001b[0;34m\u001b[0m\u001b[0;34m\u001b[0m\u001b[0m\n\u001b[1;32m    186\u001b[0m     \u001b[0;32mdef\u001b[0m \u001b[0mmagic_deco\u001b[0m\u001b[0;34m(\u001b[0m\u001b[0marg\u001b[0m\u001b[0;34m)\u001b[0m\u001b[0;34m:\u001b[0m\u001b[0;34m\u001b[0m\u001b[0;34m\u001b[0m\u001b[0m\n\u001b[0;32m--> 187\u001b[0;31m         \u001b[0mcall\u001b[0m \u001b[0;34m=\u001b[0m \u001b[0;32mlambda\u001b[0m \u001b[0mf\u001b[0m\u001b[0;34m,\u001b[0m \u001b[0;34m*\u001b[0m\u001b[0ma\u001b[0m\u001b[0;34m,\u001b[0m \u001b[0;34m**\u001b[0m\u001b[0mk\u001b[0m\u001b[0;34m:\u001b[0m \u001b[0mf\u001b[0m\u001b[0;34m(\u001b[0m\u001b[0;34m*\u001b[0m\u001b[0ma\u001b[0m\u001b[0;34m,\u001b[0m \u001b[0;34m**\u001b[0m\u001b[0mk\u001b[0m\u001b[0;34m)\u001b[0m\u001b[0;34m\u001b[0m\u001b[0;34m\u001b[0m\u001b[0m\n\u001b[0m\u001b[1;32m    188\u001b[0m \u001b[0;34m\u001b[0m\u001b[0m\n\u001b[1;32m    189\u001b[0m         \u001b[0;32mif\u001b[0m \u001b[0mcallable\u001b[0m\u001b[0;34m(\u001b[0m\u001b[0marg\u001b[0m\u001b[0;34m)\u001b[0m\u001b[0;34m:\u001b[0m\u001b[0;34m\u001b[0m\u001b[0;34m\u001b[0m\u001b[0m\n",
      "\u001b[0;32m~/miniconda3/lib/python3.7/site-packages/IPython/core/magics/pylab.py\u001b[0m in \u001b[0;36mmatplotlib\u001b[0;34m(self, line)\u001b[0m\n\u001b[1;32m     97\u001b[0m             \u001b[0mprint\u001b[0m\u001b[0;34m(\u001b[0m\u001b[0;34m\"Available matplotlib backends: %s\"\u001b[0m \u001b[0;34m%\u001b[0m \u001b[0mbackends_list\u001b[0m\u001b[0;34m)\u001b[0m\u001b[0;34m\u001b[0m\u001b[0;34m\u001b[0m\u001b[0m\n\u001b[1;32m     98\u001b[0m         \u001b[0;32melse\u001b[0m\u001b[0;34m:\u001b[0m\u001b[0;34m\u001b[0m\u001b[0;34m\u001b[0m\u001b[0m\n\u001b[0;32m---> 99\u001b[0;31m             \u001b[0mgui\u001b[0m\u001b[0;34m,\u001b[0m \u001b[0mbackend\u001b[0m \u001b[0;34m=\u001b[0m \u001b[0mself\u001b[0m\u001b[0;34m.\u001b[0m\u001b[0mshell\u001b[0m\u001b[0;34m.\u001b[0m\u001b[0menable_matplotlib\u001b[0m\u001b[0;34m(\u001b[0m\u001b[0margs\u001b[0m\u001b[0;34m.\u001b[0m\u001b[0mgui\u001b[0m\u001b[0;34m.\u001b[0m\u001b[0mlower\u001b[0m\u001b[0;34m(\u001b[0m\u001b[0;34m)\u001b[0m \u001b[0;32mif\u001b[0m \u001b[0misinstance\u001b[0m\u001b[0;34m(\u001b[0m\u001b[0margs\u001b[0m\u001b[0;34m.\u001b[0m\u001b[0mgui\u001b[0m\u001b[0;34m,\u001b[0m \u001b[0mstr\u001b[0m\u001b[0;34m)\u001b[0m \u001b[0;32melse\u001b[0m \u001b[0margs\u001b[0m\u001b[0;34m.\u001b[0m\u001b[0mgui\u001b[0m\u001b[0;34m)\u001b[0m\u001b[0;34m\u001b[0m\u001b[0;34m\u001b[0m\u001b[0m\n\u001b[0m\u001b[1;32m    100\u001b[0m             \u001b[0mself\u001b[0m\u001b[0;34m.\u001b[0m\u001b[0m_show_matplotlib_backend\u001b[0m\u001b[0;34m(\u001b[0m\u001b[0margs\u001b[0m\u001b[0;34m.\u001b[0m\u001b[0mgui\u001b[0m\u001b[0;34m,\u001b[0m \u001b[0mbackend\u001b[0m\u001b[0;34m)\u001b[0m\u001b[0;34m\u001b[0m\u001b[0;34m\u001b[0m\u001b[0m\n\u001b[1;32m    101\u001b[0m \u001b[0;34m\u001b[0m\u001b[0m\n",
      "\u001b[0;32m~/miniconda3/lib/python3.7/site-packages/IPython/core/interactiveshell.py\u001b[0m in \u001b[0;36menable_matplotlib\u001b[0;34m(self, gui)\u001b[0m\n\u001b[1;32m   3405\u001b[0m                 \u001b[0mgui\u001b[0m\u001b[0;34m,\u001b[0m \u001b[0mbackend\u001b[0m \u001b[0;34m=\u001b[0m \u001b[0mpt\u001b[0m\u001b[0;34m.\u001b[0m\u001b[0mfind_gui_and_backend\u001b[0m\u001b[0;34m(\u001b[0m\u001b[0mself\u001b[0m\u001b[0;34m.\u001b[0m\u001b[0mpylab_gui_select\u001b[0m\u001b[0;34m)\u001b[0m\u001b[0;34m\u001b[0m\u001b[0;34m\u001b[0m\u001b[0m\n\u001b[1;32m   3406\u001b[0m \u001b[0;34m\u001b[0m\u001b[0m\n\u001b[0;32m-> 3407\u001b[0;31m         \u001b[0mpt\u001b[0m\u001b[0;34m.\u001b[0m\u001b[0mactivate_matplotlib\u001b[0m\u001b[0;34m(\u001b[0m\u001b[0mbackend\u001b[0m\u001b[0;34m)\u001b[0m\u001b[0;34m\u001b[0m\u001b[0;34m\u001b[0m\u001b[0m\n\u001b[0m\u001b[1;32m   3408\u001b[0m         \u001b[0mpt\u001b[0m\u001b[0;34m.\u001b[0m\u001b[0mconfigure_inline_support\u001b[0m\u001b[0;34m(\u001b[0m\u001b[0mself\u001b[0m\u001b[0;34m,\u001b[0m \u001b[0mbackend\u001b[0m\u001b[0;34m)\u001b[0m\u001b[0;34m\u001b[0m\u001b[0;34m\u001b[0m\u001b[0m\n\u001b[1;32m   3409\u001b[0m \u001b[0;34m\u001b[0m\u001b[0m\n",
      "\u001b[0;32m~/miniconda3/lib/python3.7/site-packages/IPython/core/pylabtools.py\u001b[0m in \u001b[0;36mactivate_matplotlib\u001b[0;34m(backend)\u001b[0m\n\u001b[1;32m    314\u001b[0m     \u001b[0;31m# when this function runs.\u001b[0m\u001b[0;34m\u001b[0m\u001b[0;34m\u001b[0m\u001b[0;34m\u001b[0m\u001b[0m\n\u001b[1;32m    315\u001b[0m     \u001b[0;31m# So avoid needing matplotlib attribute-lookup to access pyplot.\u001b[0m\u001b[0;34m\u001b[0m\u001b[0;34m\u001b[0m\u001b[0;34m\u001b[0m\u001b[0m\n\u001b[0;32m--> 316\u001b[0;31m     \u001b[0;32mfrom\u001b[0m \u001b[0mmatplotlib\u001b[0m \u001b[0;32mimport\u001b[0m \u001b[0mpyplot\u001b[0m \u001b[0;32mas\u001b[0m \u001b[0mplt\u001b[0m\u001b[0;34m\u001b[0m\u001b[0;34m\u001b[0m\u001b[0m\n\u001b[0m\u001b[1;32m    317\u001b[0m \u001b[0;34m\u001b[0m\u001b[0m\n\u001b[1;32m    318\u001b[0m     \u001b[0mplt\u001b[0m\u001b[0;34m.\u001b[0m\u001b[0mswitch_backend\u001b[0m\u001b[0;34m(\u001b[0m\u001b[0mbackend\u001b[0m\u001b[0;34m)\u001b[0m\u001b[0;34m\u001b[0m\u001b[0;34m\u001b[0m\u001b[0m\n",
      "\u001b[0;32m~/miniconda3/lib/python3.7/site-packages/matplotlib/pyplot.py\u001b[0m in \u001b[0;36m<module>\u001b[0;34m\u001b[0m\n\u001b[1;32m   2353\u001b[0m     \u001b[0mdict\u001b[0m\u001b[0;34m.\u001b[0m\u001b[0m__setitem__\u001b[0m\u001b[0;34m(\u001b[0m\u001b[0mrcParams\u001b[0m\u001b[0;34m,\u001b[0m \u001b[0;34m\"backend\"\u001b[0m\u001b[0;34m,\u001b[0m \u001b[0mrcsetup\u001b[0m\u001b[0;34m.\u001b[0m\u001b[0m_auto_backend_sentinel\u001b[0m\u001b[0;34m)\u001b[0m\u001b[0;34m\u001b[0m\u001b[0;34m\u001b[0m\u001b[0m\n\u001b[1;32m   2354\u001b[0m \u001b[0;31m# Set up the backend.\u001b[0m\u001b[0;34m\u001b[0m\u001b[0;34m\u001b[0m\u001b[0;34m\u001b[0m\u001b[0m\n\u001b[0;32m-> 2355\u001b[0;31m \u001b[0mswitch_backend\u001b[0m\u001b[0;34m(\u001b[0m\u001b[0mrcParams\u001b[0m\u001b[0;34m[\u001b[0m\u001b[0;34m\"backend\"\u001b[0m\u001b[0;34m]\u001b[0m\u001b[0;34m)\u001b[0m\u001b[0;34m\u001b[0m\u001b[0;34m\u001b[0m\u001b[0m\n\u001b[0m\u001b[1;32m   2356\u001b[0m \u001b[0;34m\u001b[0m\u001b[0m\n\u001b[1;32m   2357\u001b[0m \u001b[0;31m# Just to be safe.  Interactive mode can be turned on without\u001b[0m\u001b[0;34m\u001b[0m\u001b[0;34m\u001b[0m\u001b[0;34m\u001b[0m\u001b[0m\n",
      "\u001b[0;32m~/miniconda3/lib/python3.7/site-packages/matplotlib/pyplot.py\u001b[0m in \u001b[0;36mswitch_backend\u001b[0;34m(newbackend)\u001b[0m\n\u001b[1;32m    219\u001b[0m         else \"matplotlib.backends.backend_{}\".format(newbackend.lower()))\n\u001b[1;32m    220\u001b[0m \u001b[0;34m\u001b[0m\u001b[0m\n\u001b[0;32m--> 221\u001b[0;31m     \u001b[0mbackend_mod\u001b[0m \u001b[0;34m=\u001b[0m \u001b[0mimportlib\u001b[0m\u001b[0;34m.\u001b[0m\u001b[0mimport_module\u001b[0m\u001b[0;34m(\u001b[0m\u001b[0mbackend_name\u001b[0m\u001b[0;34m)\u001b[0m\u001b[0;34m\u001b[0m\u001b[0;34m\u001b[0m\u001b[0m\n\u001b[0m\u001b[1;32m    222\u001b[0m     Backend = type(\n\u001b[1;32m    223\u001b[0m         \"Backend\", (matplotlib.backends._Backend,), vars(backend_mod))\n",
      "\u001b[0;32m~/miniconda3/lib/python3.7/importlib/__init__.py\u001b[0m in \u001b[0;36mimport_module\u001b[0;34m(name, package)\u001b[0m\n\u001b[1;32m    125\u001b[0m                 \u001b[0;32mbreak\u001b[0m\u001b[0;34m\u001b[0m\u001b[0;34m\u001b[0m\u001b[0m\n\u001b[1;32m    126\u001b[0m             \u001b[0mlevel\u001b[0m \u001b[0;34m+=\u001b[0m \u001b[0;36m1\u001b[0m\u001b[0;34m\u001b[0m\u001b[0;34m\u001b[0m\u001b[0m\n\u001b[0;32m--> 127\u001b[0;31m     \u001b[0;32mreturn\u001b[0m \u001b[0m_bootstrap\u001b[0m\u001b[0;34m.\u001b[0m\u001b[0m_gcd_import\u001b[0m\u001b[0;34m(\u001b[0m\u001b[0mname\u001b[0m\u001b[0;34m[\u001b[0m\u001b[0mlevel\u001b[0m\u001b[0;34m:\u001b[0m\u001b[0;34m]\u001b[0m\u001b[0;34m,\u001b[0m \u001b[0mpackage\u001b[0m\u001b[0;34m,\u001b[0m \u001b[0mlevel\u001b[0m\u001b[0;34m)\u001b[0m\u001b[0;34m\u001b[0m\u001b[0;34m\u001b[0m\u001b[0m\n\u001b[0m\u001b[1;32m    128\u001b[0m \u001b[0;34m\u001b[0m\u001b[0m\n\u001b[1;32m    129\u001b[0m \u001b[0;34m\u001b[0m\u001b[0m\n",
      "\u001b[0;31mModuleNotFoundError\u001b[0m: No module named 'ipympl'"
     ]
    }
   ],
   "source": [
    "%load_ext autoreload\n",
    "%autoreload 2\n",
    "%matplotlib widget"
   ]
  },
  {
   "cell_type": "code",
   "execution_count": 1,
   "metadata": {},
   "outputs": [],
   "source": [
    "import os\n",
    "import sys\n",
    "import inspect\n",
    "import matplotlib.pyplot as plt\n",
    "from mpl_toolkits.mplot3d import Axes3D\n",
    "from mpl_toolkits.axes_grid1 import make_axes_locatable, axes_size\n",
    "\n",
    "pathname = inspect.getframeinfo(inspect.currentframe()).filename\n",
    "sys.path.append(os.path.abspath(os.path.dirname(pathname))+'/classes/')\n",
    "\n",
    "from Model import *\n",
    "import constants"
   ]
  },
  {
   "cell_type": "markdown",
   "metadata": {},
   "source": [
    "The model parameters are set in this cell, with different flags available to limit the scope of model execution.\n",
    "\n",
    " - [x] **modelFlag**: Setup and evaluate the model emission for each voxel\n",
    " - [x] **rtFlag**: Evaluate the synthetic observation for a predefined number of sightlines\n",
    " - [ ] **cyplotFlag**: Re-grid the sightlines using `cygrid` and plot the map\n",
    " \n",
    " - **x,y,z**: overall size of model\n",
    " - **shape**: all fit within given dimensions\n",
    "   - [x] block\n",
    "   - [x] disk\n",
    "   - [x] ellipsoid\n",
    "   - [ ] shell\n",
    " - **resolution**: in parsecs\n",
    " - **focus**: how to limit the evaluated continuum wavelengths\n",
    "   - `molecular`\n",
    "     - $ \\lambda_\\mathrm{dust} > 10^{-4}m $\n",
    "     - *23 points*\n",
    "   - `PAH`\n",
    "     - $ \\lambda_\\mathrm{dust} > 5 * 10^{-6}m $\n",
    "     - *202 points*\n",
    "   - `all`\n",
    "     - *333 points*\n",
    " - **modelFolder**: needed when not running the full model; the directory of the model in `$ KOSMA-tau^3/history/`"
   ]
  },
  {
   "cell_type": "code",
   "execution_count": 2,
   "metadata": {},
   "outputs": [
    {
     "ename": "ModuleNotFoundError",
     "evalue": "No module named 'spectrum'",
     "output_type": "error",
     "traceback": [
      "\u001b[0;31m---------------------------------------------------------------------------\u001b[0m",
      "\u001b[0;31mModuleNotFoundError\u001b[0m                       Traceback (most recent call last)",
      "\u001b[0;32m<ipython-input-2-d5c278fb3516>\u001b[0m in \u001b[0;36m<module>\u001b[0;34m\u001b[0m\n\u001b[1;32m      3\u001b[0m \u001b[0msys\u001b[0m\u001b[0;34m.\u001b[0m\u001b[0mpath\u001b[0m\u001b[0;34m.\u001b[0m\u001b[0minsert\u001b[0m\u001b[0;34m(\u001b[0m\u001b[0;36m1\u001b[0m\u001b[0;34m,\u001b[0m \u001b[0;34m\"/home/craig/Desktop/Köln/KOSMA-tau^3/\"\u001b[0m\u001b[0;34m)\u001b[0m\u001b[0;34m\u001b[0m\u001b[0;34m\u001b[0m\u001b[0m\n\u001b[1;32m      4\u001b[0m \u001b[0;34m\u001b[0m\u001b[0m\n\u001b[0;32m----> 5\u001b[0;31m \u001b[0;32mimport\u001b[0m \u001b[0mspectrum\u001b[0m\u001b[0;34m\u001b[0m\u001b[0;34m\u001b[0m\u001b[0m\n\u001b[0m",
      "\u001b[0;31mModuleNotFoundError\u001b[0m: No module named 'spectrum'"
     ]
    }
   ],
   "source": [
    "import sys\n",
    "\n",
    "sys.path.insert(1, \"/home/craig/Desktop/Köln/KOSMA-tau^3/\")\n",
    "\n",
    "import spectrum"
   ]
  },
  {
   "cell_type": "code",
   "execution_count": 17,
   "metadata": {},
   "outputs": [
    {
     "data": {
      "application/vnd.jupyter.widget-view+json": {
       "model_id": "aa526f0e40a344dc9cfbde28830c82be",
       "version_major": 2,
       "version_minor": 0
      },
      "text/plain": [
       "Canvas(toolbar=Toolbar(toolitems=[('Home', 'Reset original view', 'home', 'home'), ('Back', 'Back to previous …"
      ]
     },
     "metadata": {},
     "output_type": "display_data"
    }
   ],
   "source": [
    "spectrum.spectrum(PAH=True)"
   ]
  },
  {
   "cell_type": "code",
   "execution_count": 3,
   "metadata": {},
   "outputs": [],
   "source": [
    "complete = False\n",
    "\n",
    "modelFlag = True\n",
    "rtFlag = True\n",
    "plotFlag = False\n",
    "cyplotFlag = False\n",
    "\n",
    "x = 36\n",
    "y = 36\n",
    "z = 2\n",
    "\n",
    "shape = 'disk'\n",
    "\n",
    "resolution = 1000\n",
    "\n",
    "focus = 'molecular'\n",
    "\n",
    "constants.changeDirectory('MilkyWay')\n",
    "\n",
    "modelFolder = 'r400_n38094/'\n",
    "\n",
    "# Factors\n",
    "constants.clumpMassFactor = 1\n",
    "constants.interclumpMassFactor = 1\n",
    "constants.FUVFactor = 1\n",
    "constants.DensityFactor = 1\n",
    "\n",
    "# Constant\n",
    "constants.interclumpLogFUV = 1\n",
    "\n",
    "# Model masses\n",
    "constants.clumpLogMassNum = 4\n",
    "constants.clumpLogMassRange = [-1, 2]\n",
    "constants.interclumpLogMassNum = 2\n",
    "constants.interclumpLogMassRange = [-3, -2]"
   ]
  },
  {
   "cell_type": "code",
   "execution_count": 4,
   "metadata": {},
   "outputs": [
    {
     "name": "stdout",
     "output_type": "stream",
     "text": [
      "KOSMA-tau^3\n"
     ]
    }
   ],
   "source": [
    "# Limit dust calculation\n",
    "\n",
    "print('KOSMA-tau^3')\n",
    "\n",
    "species = ['13CO 10', 'C+ 1', 'CO 1', 'CO 2', 'CO 3', 'CO 4', 'CO 5', 'CO 6', 'CO 7', 'CO 8', 'CO 9', 'CO 10', '13CO 1', '13CO 2', '13CO 3', '13CO 4', '13CO 5', '13CO 6', '13CO 7', '13CO 8', '13CO 9', '13CO 10', 'O 2']\n",
    "kosma = Model(x, y, z, modelType=shape, resolution=resolution, dustLim=focus)\n",
    "kosma.addSpecies(species)"
   ]
  },
  {
   "cell_type": "markdown",
   "metadata": {},
   "source": [
    "## Setup"
   ]
  },
  {
   "cell_type": "code",
   "execution_count": 5,
   "metadata": {},
   "outputs": [
    {
     "name": "stderr",
     "output_type": "stream",
     "text": [
      "Voxels initialised:   0%|          | 0/3015 [00:00<?, ?it/s]"
     ]
    },
    {
     "name": "stdout",
     "output_type": "stream",
     "text": [
      "\n",
      "Calculating Grid Emission...\n"
     ]
    },
    {
     "name": "stderr",
     "output_type": "stream",
     "text": [
      "Voxels initialised:   0%|          | 0/3015 [00:01<?, ?it/s]\n"
     ]
    },
    {
     "ename": "IndexError",
     "evalue": "index 0 is out of bounds for axis 0 with size 0",
     "output_type": "error",
     "traceback": [
      "\u001b[0;31m---------------------------------------------------------------------------\u001b[0m",
      "\u001b[0;31mIndexError\u001b[0m                                Traceback (most recent call last)",
      "\u001b[0;32m<ipython-input-5-36bde616f21e>\u001b[0m in \u001b[0;36m<module>\u001b[0;34m\u001b[0m\n\u001b[1;32m      1\u001b[0m \u001b[0;32mif\u001b[0m \u001b[0mmodelFlag\u001b[0m\u001b[0;34m:\u001b[0m\u001b[0;34m\u001b[0m\u001b[0;34m\u001b[0m\u001b[0m\n\u001b[1;32m      2\u001b[0m \u001b[0;34m\u001b[0m\u001b[0m\n\u001b[0;32m----> 3\u001b[0;31m   \u001b[0mkosma\u001b[0m\u001b[0;34m.\u001b[0m\u001b[0mcalculateModel\u001b[0m\u001b[0;34m(\u001b[0m\u001b[0;34m)\u001b[0m\u001b[0;34m\u001b[0m\u001b[0;34m\u001b[0m\u001b[0m\n\u001b[0m\u001b[1;32m      4\u001b[0m   \u001b[0mkosma\u001b[0m\u001b[0;34m.\u001b[0m\u001b[0mwriteEmission\u001b[0m\u001b[0;34m(\u001b[0m\u001b[0;34m)\u001b[0m\u001b[0;34m\u001b[0m\u001b[0;34m\u001b[0m\u001b[0m\n\u001b[1;32m      5\u001b[0m \u001b[0;34m\u001b[0m\u001b[0m\n",
      "\u001b[0;32m~/projects/pdr/KOSMA-tau^3/classes/Model.py\u001b[0m in \u001b[0;36mcalculateModel\u001b[0;34m(self)\u001b[0m\n\u001b[1;32m     84\u001b[0m \u001b[0;34m\u001b[0m\u001b[0m\n\u001b[1;32m     85\u001b[0m   \u001b[0;32mdef\u001b[0m \u001b[0mcalculateModel\u001b[0m\u001b[0;34m(\u001b[0m\u001b[0mself\u001b[0m\u001b[0;34m)\u001b[0m\u001b[0;34m:\u001b[0m\u001b[0;34m\u001b[0m\u001b[0;34m\u001b[0m\u001b[0m\n\u001b[0;32m---> 86\u001b[0;31m     \u001b[0mself\u001b[0m\u001b[0;34m.\u001b[0m\u001b[0m__grid\u001b[0m\u001b[0;34m.\u001b[0m\u001b[0mcalculateEmission\u001b[0m\u001b[0;34m(\u001b[0m\u001b[0;34m)\u001b[0m\u001b[0;34m\u001b[0m\u001b[0;34m\u001b[0m\u001b[0m\n\u001b[0m\u001b[1;32m     87\u001b[0m     \u001b[0;32mreturn\u001b[0m\u001b[0;34m\u001b[0m\u001b[0;34m\u001b[0m\u001b[0m\n\u001b[1;32m     88\u001b[0m \u001b[0;34m\u001b[0m\u001b[0m\n",
      "\u001b[0;32m~/projects/pdr/KOSMA-tau^3/classes/VoxelGrid.py\u001b[0m in \u001b[0;36mcalculateEmission\u001b[0;34m(self, index, verbose)\u001b[0m\n\u001b[1;32m     94\u001b[0m         \u001b[0mvoxel\u001b[0m\u001b[0;34m.\u001b[0m\u001b[0msetIndex\u001b[0m\u001b[0;34m(\u001b[0m\u001b[0mi\u001b[0m\u001b[0;34m)\u001b[0m\u001b[0;31m#-len(self.__unusedVoxels))\u001b[0m\u001b[0;34m\u001b[0m\u001b[0;34m\u001b[0m\u001b[0m\n\u001b[1;32m     95\u001b[0m         \u001b[0mvoxel\u001b[0m\u001b[0;34m.\u001b[0m\u001b[0msetPosition\u001b[0m\u001b[0;34m(\u001b[0m\u001b[0mx\u001b[0m\u001b[0;34m[\u001b[0m\u001b[0mi\u001b[0m\u001b[0;34m]\u001b[0m\u001b[0;34m,\u001b[0m \u001b[0my\u001b[0m\u001b[0;34m[\u001b[0m\u001b[0mi\u001b[0m\u001b[0;34m]\u001b[0m\u001b[0;34m,\u001b[0m \u001b[0mz\u001b[0m\u001b[0;34m[\u001b[0m\u001b[0mi\u001b[0m\u001b[0;34m]\u001b[0m\u001b[0;34m,\u001b[0m \u001b[0mr\u001b[0m\u001b[0;34m[\u001b[0m\u001b[0mi\u001b[0m\u001b[0;34m]\u001b[0m\u001b[0;34m,\u001b[0m \u001b[0mphi\u001b[0m\u001b[0;34m[\u001b[0m\u001b[0mi\u001b[0m\u001b[0;34m]\u001b[0m\u001b[0;34m)\u001b[0m\u001b[0;34m\u001b[0m\u001b[0;34m\u001b[0m\u001b[0m\n\u001b[0;32m---> 96\u001b[0;31m         \u001b[0mvoxel\u001b[0m\u001b[0;34m.\u001b[0m\u001b[0msetProperties\u001b[0m\u001b[0;34m(\u001b[0m\u001b[0;34m)\u001b[0m\u001b[0;34m\u001b[0m\u001b[0;34m\u001b[0m\u001b[0m\n\u001b[0m\u001b[1;32m     97\u001b[0m \u001b[0;34m\u001b[0m\u001b[0m\n\u001b[1;32m     98\u001b[0m         \u001b[0mself\u001b[0m\u001b[0;34m.\u001b[0m\u001b[0m__voxelAfuv\u001b[0m\u001b[0;34m.\u001b[0m\u001b[0mappend\u001b[0m\u001b[0;34m(\u001b[0m\u001b[0mvoxel\u001b[0m\u001b[0;34m.\u001b[0m\u001b[0mgetAfuv\u001b[0m\u001b[0;34m(\u001b[0m\u001b[0;34m)\u001b[0m\u001b[0;34m)\u001b[0m\u001b[0;34m\u001b[0m\u001b[0;34m\u001b[0m\u001b[0m\n",
      "\u001b[0;32m~/projects/pdr/KOSMA-tau^3/classes/Voxel.py\u001b[0m in \u001b[0;36msetProperties\u001b[0;34m(self, values, clumpMass, interclumpMass, mass, velocity, density, FUV, debug)\u001b[0m\n\u001b[1;32m    186\u001b[0m \u001b[0;34m\u001b[0m\u001b[0m\n\u001b[1;32m    187\u001b[0m     \u001b[0mmasspoints\u001b[0m\u001b[0;34m.\u001b[0m\u001b[0msetMasspointData\u001b[0m\u001b[0;34m(\u001b[0m\u001b[0mdensity\u001b[0m\u001b[0;34m=\u001b[0m\u001b[0mself\u001b[0m\u001b[0;34m.\u001b[0m\u001b[0m__density\u001b[0m\u001b[0;34m,\u001b[0m \u001b[0mFUV\u001b[0m\u001b[0;34m=\u001b[0m\u001b[0mself\u001b[0m\u001b[0;34m.\u001b[0m\u001b[0m__FUV\u001b[0m\u001b[0;34m)\u001b[0m\u001b[0;34m\u001b[0m\u001b[0;34m\u001b[0m\u001b[0m\n\u001b[0;32m--> 188\u001b[0;31m     \u001b[0mensemble\u001b[0m\u001b[0;34m.\u001b[0m\u001b[0minitialise\u001b[0m\u001b[0;34m(\u001b[0m\u001b[0mvelocity\u001b[0m\u001b[0;34m=\u001b[0m\u001b[0mvelocity\u001b[0m\u001b[0;34m,\u001b[0m \u001b[0mclumpMass\u001b[0m\u001b[0;34m=\u001b[0m\u001b[0mself\u001b[0m\u001b[0;34m.\u001b[0m\u001b[0m__clumpMass\u001b[0m\u001b[0;34m,\u001b[0m \u001b[0minterclumpMass\u001b[0m\u001b[0;34m=\u001b[0m\u001b[0mself\u001b[0m\u001b[0;34m.\u001b[0m\u001b[0m__interclumpMass\u001b[0m\u001b[0;34m)\u001b[0m\u001b[0;34m\u001b[0m\u001b[0;34m\u001b[0m\u001b[0m\n\u001b[0m\u001b[1;32m    189\u001b[0m     combinations.initialise(clumpCombination=ensemble.clumpCombinations[ensemble.clumpLargestIndex], \\\n\u001b[1;32m    190\u001b[0m                             interclumpCombination=ensemble.interclumpCombinations[ensemble.interclumpLargestIndex])\n",
      "\u001b[0;32m~/projects/pdr/KOSMA-tau^3/classes/ensemble/ensemble.py\u001b[0m in \u001b[0;36minitialise\u001b[0;34m(velocity, clumpMass, interclumpMass, verbose)\u001b[0m\n\u001b[1;32m     26\u001b[0m   \u001b[0mensemble\u001b[0m\u001b[0;34m.\u001b[0m\u001b[0mclumpMass\u001b[0m \u001b[0;34m=\u001b[0m \u001b[0mclumpMass\u001b[0m\u001b[0;34m\u001b[0m\u001b[0;34m\u001b[0m\u001b[0m\n\u001b[1;32m     27\u001b[0m   \u001b[0mensemble\u001b[0m\u001b[0;34m.\u001b[0m\u001b[0minterclumpMass\u001b[0m \u001b[0;34m=\u001b[0m \u001b[0minterclumpMass\u001b[0m\u001b[0;34m\u001b[0m\u001b[0;34m\u001b[0m\u001b[0m\n\u001b[0;32m---> 28\u001b[0;31m   \u001b[0mcreateCombinationObjects\u001b[0m\u001b[0;34m(\u001b[0m\u001b[0mvelocity\u001b[0m\u001b[0;34m)\u001b[0m\u001b[0;34m\u001b[0m\u001b[0;34m\u001b[0m\u001b[0m\n\u001b[0m\u001b[1;32m     29\u001b[0m   \u001b[0;32mreturn\u001b[0m\u001b[0;34m\u001b[0m\u001b[0;34m\u001b[0m\u001b[0m\n\u001b[1;32m     30\u001b[0m \u001b[0;34m\u001b[0m\u001b[0m\n",
      "\u001b[0;32m~/projects/pdr/KOSMA-tau^3/classes/ensemble/ensemble.py\u001b[0m in \u001b[0;36mcreateCombinationObjects\u001b[0;34m(velocity, verbose, debug)\u001b[0m\n\u001b[1;32m    365\u001b[0m   \u001b[0;32mif\u001b[0m \u001b[0mensemble\u001b[0m\u001b[0;34m.\u001b[0m\u001b[0minterclumpIndeces\u001b[0m\u001b[0;34m.\u001b[0m\u001b[0msize\u001b[0m\u001b[0;34m>\u001b[0m\u001b[0mconstants\u001b[0m\u001b[0;34m.\u001b[0m\u001b[0minterclumpMaxIndeces\u001b[0m\u001b[0;34m:\u001b[0m \u001b[0mconstants\u001b[0m\u001b[0;34m.\u001b[0m\u001b[0minterclumpMaxIndeces\u001b[0m \u001b[0;34m=\u001b[0m \u001b[0mensemble\u001b[0m\u001b[0;34m.\u001b[0m\u001b[0minterclumpIndeces\u001b[0m\u001b[0;34m.\u001b[0m\u001b[0msize\u001b[0m\u001b[0;34m\u001b[0m\u001b[0;34m\u001b[0m\u001b[0m\n\u001b[1;32m    366\u001b[0m \u001b[0;34m\u001b[0m\u001b[0m\n\u001b[0;32m--> 367\u001b[0;31m   \u001b[0mensemble\u001b[0m\u001b[0;34m.\u001b[0m\u001b[0mclumpCombinations\u001b[0m \u001b[0;34m=\u001b[0m \u001b[0mnp\u001b[0m\u001b[0;34m.\u001b[0m\u001b[0marray\u001b[0m\u001b[0;34m(\u001b[0m\u001b[0mensemble\u001b[0m\u001b[0;34m.\u001b[0m\u001b[0mclumpCombinations\u001b[0m\u001b[0;34m[\u001b[0m\u001b[0mensemble\u001b[0m\u001b[0;34m.\u001b[0m\u001b[0mclumpIndeces\u001b[0m\u001b[0;34m[\u001b[0m\u001b[0;36m0\u001b[0m\u001b[0;34m]\u001b[0m\u001b[0;34m:\u001b[0m\u001b[0;34m(\u001b[0m\u001b[0mensemble\u001b[0m\u001b[0;34m.\u001b[0m\u001b[0mclumpIndeces\u001b[0m\u001b[0;34m[\u001b[0m\u001b[0;34m-\u001b[0m\u001b[0;36m1\u001b[0m\u001b[0;34m]\u001b[0m\u001b[0;34m+\u001b[0m\u001b[0;36m1\u001b[0m\u001b[0;34m)\u001b[0m\u001b[0;34m]\u001b[0m\u001b[0;34m)\u001b[0m\u001b[0;34m\u001b[0m\u001b[0;34m\u001b[0m\u001b[0m\n\u001b[0m\u001b[1;32m    368\u001b[0m   \u001b[0mensemble\u001b[0m\u001b[0;34m.\u001b[0m\u001b[0minterclumpCombinations\u001b[0m \u001b[0;34m=\u001b[0m \u001b[0mnp\u001b[0m\u001b[0;34m.\u001b[0m\u001b[0marray\u001b[0m\u001b[0;34m(\u001b[0m\u001b[0mensemble\u001b[0m\u001b[0;34m.\u001b[0m\u001b[0minterclumpCombinations\u001b[0m\u001b[0;34m[\u001b[0m\u001b[0mensemble\u001b[0m\u001b[0;34m.\u001b[0m\u001b[0minterclumpIndeces\u001b[0m\u001b[0;34m[\u001b[0m\u001b[0;36m0\u001b[0m\u001b[0;34m]\u001b[0m\u001b[0;34m:\u001b[0m\u001b[0;34m(\u001b[0m\u001b[0mensemble\u001b[0m\u001b[0;34m.\u001b[0m\u001b[0minterclumpIndeces\u001b[0m\u001b[0;34m[\u001b[0m\u001b[0;34m-\u001b[0m\u001b[0;36m1\u001b[0m\u001b[0;34m]\u001b[0m\u001b[0;34m+\u001b[0m\u001b[0;36m1\u001b[0m\u001b[0;34m)\u001b[0m\u001b[0;34m]\u001b[0m\u001b[0;34m)\u001b[0m\u001b[0;34m\u001b[0m\u001b[0;34m\u001b[0m\u001b[0m\n\u001b[1;32m    369\u001b[0m \u001b[0;34m\u001b[0m\u001b[0m\n",
      "\u001b[0;31mIndexError\u001b[0m: index 0 is out of bounds for axis 0 with size 0"
     ]
    }
   ],
   "source": [
    "if modelFlag:\n",
    "\n",
    "  kosma.calculateModel()\n",
    "  kosma.writeEmission()\n",
    "  \n",
    "  modelFolder = constants.history"
   ]
  },
  {
   "cell_type": "markdown",
   "metadata": {},
   "source": [
    "## Radiative transfer"
   ]
  },
  {
   "cell_type": "code",
   "execution_count": null,
   "metadata": {},
   "outputs": [
    {
     "name": "stderr",
     "output_type": "stream",
     "text": [
      "Observing velocity:  52%|█████▏    | 53/101 [55:40<3:51:25, 289.29s/it]"
     ]
    }
   ],
   "source": [
    "# Calculate integrated intensity maps\n",
    "\n",
    "if rtFlag:\n",
    "\n",
    "  import radiativeTransfer\n",
    "\n",
    "  # radiativeTransfer.plotModel(plot='velocity', directory='r1000.0_n3015/')\n",
    "\n",
    "  radiativeTransfer.calculateObservation(directory=modelFolder, dim='spherical', terminal=False)"
   ]
  },
  {
   "cell_type": "markdown",
   "metadata": {},
   "source": [
    "### Plot intensity map"
   ]
  },
  {
   "cell_type": "code",
   "execution_count": null,
   "metadata": {},
   "outputs": [],
   "source": [
    "if plotFlag:\n",
    "\n",
    "  pos = fits.open('/home/craig/projects/pdr/KOSMA-tau^3/history/MilkyWay/r1000_n3015/integrated_intensity.fits')[0]    \n",
    "  intensity = fits.open('/home/craig/projects/pdr/KOSMA-tau^3/history/MilkyWay/r1000_n3015/integrated_intensity.fits')[1]\n",
    "\n",
    "  velocity = np.linspace(intensity.header['CRVAL4']-intensity.header['CRPIX4']*intensity.header['CDELT4'], intensity.header['CRVAL4']+intensity.header['CRPIX4']*intensity.header['CDELT4'], num=intensity.header['NAXIS4'])\n",
    "  intensity_integrated = np.trapz(intensity.data, velocity, axis=0)\n",
    "\n",
    "  if False:\n",
    "\n",
    "    for i in range(intensity.data[:,0,0,0].size):\n",
    "\n",
    "      plt.close()\n",
    "      \n",
    "      proj = 'Galactic intensity map'\n",
    "      fig = plt.figure(figsize=(10,10))\n",
    "      ax = fig.add_subplot(111, projection='mollweide')\n",
    "\n",
    "      # aspect = 20\n",
    "      # pad_fraction = 0.5\n",
    "      # divider = make_axes_locatable(ax)\n",
    "      # width = axes_size.AxesY(ax, aspect=1./aspect)\n",
    "      # pad = axes_size.Fraction(pad_fraction, width)\n",
    "      # cax = divider.append_axes(\"right\", size=width, pad=pad)\n",
    "\n",
    "  #     cm = ax.scatter(pos.data[:,0], pos.data[:,1], c=intensity_integrated[:,:,23].flatten(), cmap='cubehelix', s=500, alpha = 0.5, marker='s')\n",
    "      cm = ax.scatter(pos.data[:,0], pos.data[:,1], c=intensity.data[i,:,:,23].flatten(), cmap='cubehelix', s=64, alpha = 0.5, marker='s')\n",
    "      cb = fig.colorbar(cm, extend='both', ax=ax, fraction = 0.02, )\n",
    "      cb.ax.set_ylabel('Intensity (K km/s)', fontsize=20, labelpad=20, rotation=270)\n",
    "  \n",
    "  else:\n",
    "    \n",
    "    proj = 'Galactic intensity map'\n",
    "    fig = plt.figure(figsize=(10,10))\n",
    "    ax = fig.add_subplot(111, projection='mollweide')\n",
    "\n",
    "    # aspect = 20\n",
    "    # pad_fraction = 0.5\n",
    "    # divider = make_axes_locatable(ax)\n",
    "    # width = axes_size.AxesY(ax, aspect=1./aspect)\n",
    "    # pad = axes_size.Fraction(pad_fraction, width)\n",
    "    # cax = divider.append_axes(\"right\", size=width, pad=pad)\n",
    "\n",
    "#     cm = ax.scatter(pos.data[:,0], pos.data[:,1], c=intensity_integrated[:,:,23].flatten(), cmap='cubehelix', s=500, alpha = 0.5, marker='s')\n",
    "    cm = ax.scatter(pos.data[:,0], pos.data[:,1], c=intensity_integrated[:,:,23].flatten(), cmap='cubehelix', s=64, alpha = 0.5, marker='s')\n",
    "    cb = fig.colorbar(cm, extend='both', ax=ax, fraction = 0.02, )\n",
    "    cb.ax.set_ylabel('Intensity (K km/s)', fontsize=20, labelpad=20, rotation=270)\n",
    "\n",
    "  ax.set_title(proj+r' $^{13}CO^{+}$', fontsize=24)\n",
    "  ax.grid(True)\n",
    "  ax.set_xticklabels([])\n",
    "  ax.set_yticklabels([])\n",
    "\n",
    "  plt.show()"
   ]
  },
  {
   "cell_type": "code",
   "execution_count": null,
   "metadata": {},
   "outputs": [],
   "source": [
    "intensity_integrated.shape"
   ]
  },
  {
   "cell_type": "markdown",
   "metadata": {},
   "source": [
    "### Previous calculation"
   ]
  },
  {
   "cell_type": "code",
   "execution_count": null,
   "metadata": {},
   "outputs": [],
   "source": [
    "if plotFlag:\n",
    "  plt.close()\n",
    "\n",
    "  positions = fits.open('/home/craig/projects/pdr/KOSMA-tau^3/history/MilkyWay/r1000_n3015/voxel_position.fits')[0].data/1000.\n",
    "  vel = fits.open('/home/craig/projects/pdr/KOSMA-tau^3/history/MilkyWay/r1000_n3015/voxel_velocity.fits')[0].data\n",
    "\n",
    "  idx_plane = positions[:,2]==0\n",
    "  idx_Earth = (np.sqrt(positions[:,0]**2+positions[:,1]**2)<=8.178) & (positions[:,0]>=0) & idx_plane\n",
    "\n",
    "  idx = idx_Earth\n",
    "  idx_obs = []\n",
    "\n",
    "  for i in range(18,-19,-1):\n",
    "      line = ''\n",
    "      iy = i==positions[idx,1]\n",
    "      orbit = True\n",
    "      for j in range(18,-19,-1):\n",
    "          ix = j==positions[idx,0]\n",
    "          if (ix&iy).any() and orbit:\n",
    "              line += 'XX'\n",
    "              idx_obs.append(np.where(ix&iy)[0])\n",
    "              orbit = False\n",
    "          else: line += '--'\n",
    "      #print(line)\n",
    "\n",
    "  idx_obs = np.array(idx_obs)\n",
    "\n",
    "  fig = plt.figure()\n",
    "  ax = fig.add_subplot(111, projection='3d')\n",
    "  cm = ax.scatter(positions.T[0], positions.T[1], positions.T[2], c=vel[:,0], cmap='cubehelix', marker='s', s=27, alpha=0.5, linewidth=0)\n",
    "  cb = fig.colorbar(cm)\n",
    "  cb.ax.set_ylabel(r'Radial velocity ($\\frac{km}{s}$)', labelpad=16, rotation=270)\n",
    "\n",
    "  # lon,lat = np.meshgrid(np.linspace(-np.pi, np.pi, num=9), np.linspace(-np.pi/2, np.pi/2, num=5))\n",
    "  # x = 10 * (np.cos(lat.flatten()) * np.cos(lon.flatten()))\n",
    "  # y = 10 * (np.cos(lat.flatten()) * np.sin(lon.flatten()))\n",
    "  # z = 10 * np.sin(lat.flatten())\n",
    "  #print(idx_obs)\n",
    "  ax.scatter(positions[idx,0][idx_obs], positions[idx,1][idx_obs], positions[idx,2][idx_obs], marker='o', s=49, c='b')\n",
    "  ax.quiver(positions[idx,0][idx_obs], positions[idx,1][idx_obs], positions[idx,2][idx_obs], np.full_like(idx_obs, -24.178*np.sin(positions[idx,0][idx_obs]/8.178/2*np.pi)), 0,0, color='k')\n",
    "  ax.quiver(positions[idx,0][idx_obs], positions[idx,1][idx_obs], positions[idx,2][idx_obs], np.full_like(idx_obs, 10), 0,0, color='k')\n",
    "\n",
    "  ax.set_xlabel('X (kpc)')\n",
    "  ax.set_ylabel('Y (kpc)')\n",
    "  ax.set_zlabel('Z (kpc)')\n",
    "  ax.set_xlim([-18, 18])\n",
    "  ax.set_ylim([-18, 18])\n",
    "  ax.set_zlim([-18, 18])\n",
    "  plt.show()"
   ]
  },
  {
   "cell_type": "markdown",
   "metadata": {},
   "source": [
    "### Current desired calculation"
   ]
  },
  {
   "cell_type": "code",
   "execution_count": null,
   "metadata": {},
   "outputs": [],
   "source": [
    "if plotFlag:\n",
    "  positions = fits.open('/home/craig/projects/pdr/KOSMA-tau^3/history/MilkyWay/r1000_n3015/voxel_position.fits')[0].data/1000.\n",
    "  vel = fits.open('/home/craig/projects/pdr/KOSMA-tau^3/history/MilkyWay/r1000_n3015/voxel_velocity.fits')[0].data\n",
    "\n",
    "  fig = plt.figure()\n",
    "  ax = fig.add_subplot(111, projection='3d')\n",
    "  cm = ax.scatter(positions.T[0], positions.T[1], positions.T[2], c=vel[:,0], cmap='cubehelix', marker='s', s=27, alpha=0.5, linewidth=0)\n",
    "  cb = fig.colorbar(cm)\n",
    "  cb.ax.set_ylabel(r'Radial velocity ($\\frac{km}{s}$)', labelpad=16, rotation=270)\n",
    "\n",
    "  lon,lat = np.meshgrid(np.linspace(-np.pi, np.pi, num=9), np.linspace(-np.pi/2, np.pi/2, num=5))\n",
    "  x = 10 * (np.cos(lat.flatten()) * np.cos(lon.flatten()))\n",
    "  y = 10 * (np.cos(lat.flatten()) * np.sin(lon.flatten()))\n",
    "  z = 10 * np.sin(lat.flatten())\n",
    "\n",
    "  ax.scatter([8.178], [0], [0], marker='o', s=49, c='b')\n",
    "  ax.quiver(np.full_like(x, 8.178), np.full_like(x, 0), np.full_like(x, 0), x, y, z, color='k', arrow_length_ratio=0.2)\n",
    "\n",
    "  ax.set_xlabel('X (kpc)')\n",
    "  ax.set_ylabel('Y (kpc)')\n",
    "  ax.set_zlabel('Z (kpc)')\n",
    "  ax.set_xlim([-18, 18])\n",
    "  ax.set_ylim([-18, 18])\n",
    "  ax.set_zlim([-18, 18])\n",
    "  plt.show()"
   ]
  },
  {
   "cell_type": "markdown",
   "metadata": {},
   "source": [
    "## Cygrid"
   ]
  },
  {
   "cell_type": "code",
   "execution_count": null,
   "metadata": {},
   "outputs": [],
   "source": [
    "# Create cygrid images\n",
    "\n",
    "if cyplotFlag:\n",
    "\n",
    "  constants.mapShape = (200, 200)\n",
    "\n",
    "  import cyplot\n",
    "\n",
    "  images,wcs = cyplot.convertMap(modelFolder, input_coord='spherical')\n",
    "  print(images.shape)\n",
    "\n",
    "  images = np.nan_to_num(images)\n",
    "\n",
    "  vmin = images[0,1,:,:].min()\n",
    "  vmax = images[0,1,:,:].max()\n",
    "\n",
    "  fig = plt.figure()\n",
    "  ax1 = fig.add_subplot(111, projection=wcs.celestial)\n",
    "  dust = ax1.imshow(images[0,0,:,:], alpha=0.5, vmin=vmin, vmax=vmax, cmap='bone')\n",
    "  cbar1 = plt.colorbar(dust, ax=ax1, shrink=1)\n",
    "  cbar1.ax.set_ylabel('Dust Intensity (K km/s)', rotation=270)\n",
    "#   i = 23\n",
    "#   mol1 = ax1.imshow(image[0,i,:,:], alpha=0.5, cmap='magma')\n",
    "#   cbar2 = plt.colorbar(mol1, ax=ax1, shrink=1)\n",
    "#   cbar2.ax.set_ylabel('{} Intensity (K km/s)'.format(species[i-333]), rotation=270)\n",
    "#   i = 44\n",
    "#   mol2 = ax1.imshow(image[0,i,:,:], alpha=0.5, cmap='hot')\n",
    "#   cbar3 = plt.colorbar(mol2, ax=ax1, shrink=1)\n",
    "#   cbar3.ax.set_ylabel('{} Intensity (K km/s)'.format(species[i-333]), rotation=270)\n",
    "  \n",
    "  plt.show()"
   ]
  }
 ],
 "metadata": {
  "kernelspec": {
   "display_name": "Python 3",
   "language": "python",
   "name": "python3"
  },
  "language_info": {
   "codemirror_mode": {
    "name": "ipython",
    "version": 3
   },
   "file_extension": ".py",
   "mimetype": "text/x-python",
   "name": "python",
   "nbconvert_exporter": "python",
   "pygments_lexer": "ipython3",
   "version": "3.7.4"
  }
 },
 "nbformat": 4,
 "nbformat_minor": 4
}
