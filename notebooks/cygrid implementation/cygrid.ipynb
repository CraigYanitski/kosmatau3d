{
 "cells": [
  {
   "cell_type": "markdown",
   "metadata": {},
   "source": [
    "# Test of using cygrid with the data\n",
    "\n",
    "The capability of cygrid when interfacing with the integrated intensity maps is tested here. If it goes well, a self-contained module will be soon created."
   ]
  },
  {
   "cell_type": "code",
   "execution_count": 1,
   "metadata": {},
   "outputs": [],
   "source": [
    "import cygrid\n",
    "from astropy.io import fits\n",
    "import numpy as np"
   ]
  },
  {
   "cell_type": "markdown",
   "metadata": {},
   "source": [
    "### Extract Cartesian HDUL for cygrid\n",
    "\n",
    "For the poor-man's approximation (still **reasonable**), the FITS HDU list contains 4 HDUs for each observing velocity. These sight-lines are aranged as (inner position, inner intensity, outer position, outer intensity), where inner and outer refer to the direction of observation from Earth. These Cartesian positions are converted to galactic coordinates to interface with cygrid.\n",
    "\n",
    "The results of this test will help for the debugging process for the complete implementation of cygrid (defining beam size and line-of-sight from Earth's position)."
   ]
  },
  {
   "cell_type": "code",
   "execution_count": 2,
   "metadata": {},
   "outputs": [
    {
     "data": {
      "text/plain": [
       "SIMPLE  =                    T / conforms to FITS standard                      \n",
       "BITPIX  =                  -64 / array data type                                \n",
       "NAXIS   =                    2 / number of array dimensions                     \n",
       "NAXIS1  =                    2                                                  \n",
       "NAXIS2  =                    5                                                  \n",
       "EXTEND  =                    T                                                  \n",
       "VELOCITY=                -48.0                                                  \n",
       "DIREC   = 'Inner disk'                                                          "
      ]
     },
     "execution_count": 2,
     "metadata": {},
     "output_type": "execute_result"
    }
   ],
   "source": [
    "hdul = fits.open('history/MilkyWay/r500_n20245/integrated_intensity.fits')\n",
    "\n",
    "r2d = 180./np.pi\n",
    "d2r = np.pi/180.\n",
    "\n",
    "rGal = 18000\n",
    "rGalEarth = 8178\n",
    "hdul[0].header"
   ]
  },
  {
   "cell_type": "code",
   "execution_count": 4,
   "metadata": {},
   "outputs": [
    {
     "name": "stdout",
     "output_type": "stream",
     "text": [
      "144 \n",
      "\n",
      "38\n",
      "42\n",
      "46\n",
      "50\n",
      "54\n",
      "58\n",
      "62\n",
      "66\n",
      "70\n",
      "74\n",
      "78\n",
      "82\n",
      "86\n",
      "90\n",
      "94\n",
      "98\n",
      "102\n"
     ]
    }
   ],
   "source": [
    "print(len(hdul), '\\n')\n",
    "for i in np.arange(0, len(hdul), 2):\n",
    "    if hdul[i+1].data.any(): print(i)"
   ]
  },
  {
   "cell_type": "code",
   "execution_count": 57,
   "metadata": {},
   "outputs": [
    {
     "data": {
      "text/plain": [
       "-16.0"
      ]
     },
     "execution_count": 57,
     "metadata": {},
     "output_type": "execute_result"
    }
   ],
   "source": [
    "i = 40\n",
    "\n",
    "positions = []\n",
    "intensityMap = []\n",
    "\n",
    "# Convert the Cartesian map to galactic coordinates for the input to cygrid\n",
    "tempPositions = hdul[i+0].data\n",
    "intensityMap = np.array(hdul[i+1].data)\n",
    "galPosition = [r2d*np.arcsin(tempPositions[:,0]/rGalEarth),\n",
    "               r2d*np.arctan2(tempPositions[:,1], (np.sqrt(rGal**2-tempPositions[:,0]**2)+np.sqrt(rGalEarth**2-tempPositions[:,0]**2)))]\n",
    "positions = np.array(galPosition).T\n",
    "\n",
    "# Convert the Cartesian map to galactic coordinates for the input to cygrid\n",
    "tempPositions = hdul[i+2].data\n",
    "intensityMap = np.append(intensityMap, hdul[i+3].data, axis=0)\n",
    "galPosition = [r2d*np.arcsin(tempPositions[:,0]/rGalEarth),\n",
    "               r2d*np.arctan2(tempPositions[:,1], (np.sqrt(rGal**2-tempPositions[:,0]**2)-np.sqrt(rGalEarth**2-tempPositions[:,0]**2)))]\n",
    "galPosition = np.array(galPosition).T\n",
    "galPosition[galPosition[:,0]>=0,0] = 90 + galPosition[galPosition[:,0]>=0,0][::-1]\n",
    "galPosition[galPosition[:,0]<0,0] = -90 + galPosition[galPosition[:,0]<0,0][::-1]\n",
    "positions = np.append(positions, galPosition, axis=0)\n",
    "hdul[i].header['VELOCITY']"
   ]
  },
  {
   "cell_type": "markdown",
   "metadata": {},
   "source": [
    "## CAREFUL!!"
   ]
  },
  {
   "cell_type": "markdown",
   "metadata": {},
   "source": [
    "The ``CRPIX`` values need to be the *exact* (float) center of their corresponding ``NAXIS`` values. Otherwise there will be a series of undefined behaviour due to the weights being assigned as zeros.\n",
    "\n",
    "The values in the header define the datacube that is created. The input data to cygrid is ideally greater than the desired resolution.\n",
    "\n",
    "The function of the different header keys is summarised below.\n",
    "\n",
    "  * ``NAXIS`` is the number of axes. The minimum number of dimensions is 3.\n",
    "  * ``NAXISi`` refers to the size of the *i*th axis. The first axis is for longitude and the second is for lattitude, and they need to be the same length and one-dimensional. The remaining axis is for frequencies observed, and it can be n dimensions.\n",
    "  * ``CTYPEi`` is typically used for the positional axes, where it defines the type of coordinates used (using the ``astropy`` convention). For this galactic example, these are GLON and GLAT to refer to the galactic longitude and lattitude. For specific observations in the Milky Way, such as PDRs, one can use ``RA`` and ``DEC``.\n",
    "  * ``CUNITi`` is the units used for the axis, again using the ``astropy`` convention.\n",
    "  * ``CDELTi`` is the size of the individual pixels in the desired output image (thus i=(1,2)). For an image with map size (l<sub>1</sub>,l<sub>2</sub>), the formula used is ``CDELT1``=``NAXIS1``/l<sub>1</sub> and ``CDELT2``=``NAXIS2``/l<sub>2</sub>.\n",
    "  * ``CRPIXi`` is the indeces of the center reference pixel in the output image. This should be a float if there is an odd number of pixels in one of the axis (see above).\n",
    "  * ``CRVALi`` is the value of the center reference pixel. By default, it is (0,0)."
   ]
  },
  {
   "cell_type": "code",
   "execution_count": 58,
   "metadata": {},
   "outputs": [],
   "source": [
    "mapsize = (360, 15)\n",
    "axis1size = 100\n",
    "axis2size = 25\n",
    "\n",
    "header = {\n",
    "   'NAXIS': 3,\n",
    "   'NAXIS1': axis1size,\n",
    "   'NAXIS2': axis2size,\n",
    "   'NAXIS3': intensityMap.shape[1],\n",
    "   'CTYPE1': 'GLON-SFL',\n",
    "   'CTYPE2': 'GLAT-SFL',\n",
    "   'CUNIT1': 'deg',\n",
    "   'CUNIT2': 'deg',\n",
    "   'CDELT1': mapsize[0]/axis1size,\n",
    "   'CDELT2': mapsize[1]/axis2size,\n",
    "   'CRPIX1': axis1size/2.,\n",
    "   'CRPIX2': axis2size/2.,\n",
    "   'CRVAL1': 0,\n",
    "   'CRVAL2': 0,\n",
    "   }"
   ]
  },
  {
   "cell_type": "markdown",
   "metadata": {},
   "source": [
    "Initialise the gridder with the header of the desired image."
   ]
  },
  {
   "cell_type": "code",
   "execution_count": 59,
   "metadata": {},
   "outputs": [],
   "source": [
    "kernelsize_sigma = 1\n",
    "kernel_type = 'gauss1d'\n",
    "kernel_params = (kernelsize_sigma,)\n",
    "kernel_support = 3*kernelsize_sigma\n",
    "hpx_maxres = kernelsize_sigma/2\n",
    "\n",
    "mygridder = cygrid.WcsGrid(header)\n",
    "mygridder.set_kernel(\n",
    "  kernel_type,\n",
    "  kernel_params,\n",
    "  kernel_support,\n",
    "  hpx_maxres\n",
    "  )"
   ]
  },
  {
   "cell_type": "code",
   "execution_count": 60,
   "metadata": {
    "scrolled": true
   },
   "outputs": [],
   "source": [
    "mygridder.grid(positions[:,0], positions[:,1], intensityMap, weights=None)\n",
    "# if not mygridder.get_weights().all(): print('ERROR')"
   ]
  },
  {
   "cell_type": "markdown",
   "metadata": {},
   "source": [
    "The input data contains only the sight-lines which have an integrated intensity at the corresponding observing velocity, so obtaining the datacube will likely produce a number of NaN values. This is because some of the positions in the output map cannot be inferred from the input data. Usually the input data for ``cygrid`` is oversampled, thus the output image does not have this issue.\n",
    "\n",
    "While it is not a major issue (some useful data is still contained in the appropriate coordinates), it does need some post-processing before being plotted. A method is still required to correct for this in the KOSMA-tau<sup>3</sup> models."
   ]
  },
  {
   "cell_type": "code",
   "execution_count": 61,
   "metadata": {},
   "outputs": [
    {
     "name": "stderr",
     "output_type": "stream",
     "text": [
      "/home/craig/miniconda3/lib/python3.7/site-packages/ipykernel_launcher.py:1: RuntimeWarning: divide by zero encountered in true_divide\n",
      "  \"\"\"Entry point for launching an IPython kernel.\n",
      "/home/craig/miniconda3/lib/python3.7/site-packages/ipykernel_launcher.py:1: RuntimeWarning: invalid value encountered in true_divide\n",
      "  \"\"\"Entry point for launching an IPython kernel.\n"
     ]
    }
   ],
   "source": [
    "data = mygridder.get_datacube()"
   ]
  },
  {
   "cell_type": "code",
   "execution_count": 49,
   "metadata": {},
   "outputs": [],
   "source": [
    "gridcy = mygridder.get_world_coords()"
   ]
  },
  {
   "cell_type": "markdown",
   "metadata": {},
   "source": [
    "The purpose of using the ``get_world_coords`` method of the gridder instance is that it can compare the output coordinates with the input coordinates. This is done below to show that the output image coordinates (in orange) covers encompasses the input coordinates (in blue)."
   ]
  },
  {
   "cell_type": "code",
   "execution_count": 18,
   "metadata": {},
   "outputs": [
    {
     "name": "stdout",
     "output_type": "stream",
     "text": [
      "(25, 100)\n",
      "(356, 25, 100)\n"
     ]
    },
    {
     "data": {
      "text/plain": [
       "<matplotlib.collections.PathCollection at 0x7fec4346f810>"
      ]
     },
     "execution_count": 18,
     "metadata": {},
     "output_type": "execute_result"
    },
    {
     "data": {
      "image/png": "[encoded data removed]",
      "text/plain": [
       "<Figure size 1440x720 with 1 Axes>"
      ]
     },
     "metadata": {
      "needs_background": "light"
     },
     "output_type": "display_data"
    }
   ],
   "source": [
    "plt.figure(figsize=(20,10))\n",
    "plt.scatter(positions[:,0]+180, positions[:,1])\n",
    "non_nan = np.isnan(np.mean(data,axis=0))\n",
    "print(non_nan.shape)\n",
    "print(data.shape)\n",
    "plt.scatter(gridcy[0], gridcy[1], alpha=0.2, s=5)"
   ]
  },
  {
   "cell_type": "markdown",
   "metadata": {},
   "source": [
    "Finally the image from ``cygrid`` can be plotted. It is of an appropriate resolution that there are ~~no~~ few stripes of undefined pixels. There are still glitches visible in the plot at the top and bottom of the galactic plane, and this is part of the pixelated method that was used to determine these sight-lines.\n",
    "\n",
    "The next step for the model is to utilise a beam definition to determine the sightlines, then do the same procedure with ``cygrid``. That *should* complete this part of the model. Also it will help remove the errors thrown by the astropy celestial coordinates."
   ]
  },
  {
   "cell_type": "code",
   "execution_count": 73,
   "metadata": {},
   "outputs": [
    {
     "data": {
      "text/plain": [
       "<matplotlib.image.AxesImage at 0x7fec53b97a90>"
      ]
     },
     "execution_count": 73,
     "metadata": {},
     "output_type": "execute_result"
    },
    {
     "name": "stderr",
     "output_type": "stream",
     "text": [
      "/home/craig/miniconda3/lib/python3.7/site-packages/astropy/visualization/wcsaxes/coordinate_range.py:74: RuntimeWarning: invalid value encountered in sign\n",
      "  wjump = wjump + np.sign(wjump) * 180.\n",
      "/home/craig/miniconda3/lib/python3.7/site-packages/astropy/visualization/wcsaxes/coordinate_range.py:83: RuntimeWarning: invalid value encountered in sign\n",
      "  wjump = wjump + np.sign(wjump) * 180.\n",
      "/home/craig/miniconda3/lib/python3.7/site-packages/astropy/visualization/wcsaxes/coordinate_range.py:74: RuntimeWarning: invalid value encountered in sign\n",
      "  wjump = wjump + np.sign(wjump) * 180.\n",
      "/home/craig/miniconda3/lib/python3.7/site-packages/astropy/visualization/wcsaxes/coordinate_range.py:83: RuntimeWarning: invalid value encountered in sign\n",
      "  wjump = wjump + np.sign(wjump) * 180.\n",
      "/home/craig/miniconda3/lib/python3.7/site-packages/astropy/visualization/wcsaxes/coordinate_range.py:74: RuntimeWarning: invalid value encountered in sign\n",
      "  wjump = wjump + np.sign(wjump) * 180.\n",
      "/home/craig/miniconda3/lib/python3.7/site-packages/astropy/visualization/wcsaxes/coordinate_range.py:83: RuntimeWarning: invalid value encountered in sign\n",
      "  wjump = wjump + np.sign(wjump) * 180.\n",
      "/home/craig/miniconda3/lib/python3.7/site-packages/astropy/visualization/wcsaxes/coordinate_range.py:74: RuntimeWarning: invalid value encountered in sign\n",
      "  wjump = wjump + np.sign(wjump) * 180.\n",
      "/home/craig/miniconda3/lib/python3.7/site-packages/astropy/visualization/wcsaxes/coordinate_range.py:83: RuntimeWarning: invalid value encountered in sign\n",
      "  wjump = wjump + np.sign(wjump) * 180.\n"
     ]
    },
    {
     "data": {
      "image/png": "[encoded data removed]",
      "text/plain": [
       "<Figure size 1440x2880 with 1 Axes>"
      ]
     },
     "metadata": {
      "needs_background": "light"
     },
     "output_type": "display_data"
    }
   ],
   "source": [
    "import matplotlib.pyplot as plt\n",
    "from astropy import wcs\n",
    "\n",
    "target_wcs = wcs.WCS(header)\n",
    "\n",
    "fig = plt.figure(figsize=(20,40))\n",
    "ax = fig.add_subplot(111, projection=target_wcs.celestial)\n",
    "ax.imshow(np.nan_to_num(data[60,:,:]), origin='lower', interpolation='gaussian')"
   ]
  }
 ],
 "metadata": {
  "kernelspec": {
   "display_name": "Python 3",
   "language": "python",
   "name": "python3"
  },
  "language_info": {
   "codemirror_mode": {
    "name": "ipython",
    "version": 3
   },
   "file_extension": ".py",
   "mimetype": "text/x-python",
   "name": "python",
   "nbconvert_exporter": "python",
   "pygments_lexer": "ipython3",
   "version": "3.7.4"
  }
 },
 "nbformat": 4,
 "nbformat_minor": 2
}
