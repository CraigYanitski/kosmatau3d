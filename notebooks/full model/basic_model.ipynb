{
 "cells": [
  {
   "cell_type": "markdown",
   "id": "30b841c6-f6c4-49e4-886a-de6d30561dec",
   "metadata": {},
   "source": [
    "# Basic `kosmatau3d` model"
   ]
  },
  {
   "cell_type": "markdown",
   "id": "fe70e787-d949-4cfb-a1ed-93f572c63ef4",
   "metadata": {},
   "source": [
    "Here we will examine what are the basic parameters to set in order to establish a simple three-dimensional model. Since we want this example to be easily-relatable, we will attempt to build the `kosmatau3d` version of the famous Hollenbach and Tielens (1999) PDR structure image."
   ]
  },
  {
   "cell_type": "code",
   "execution_count": 1,
   "id": "29dc215d",
   "metadata": {},
   "outputs": [],
   "source": [
    "import matplotlib.pyplot as plt\n",
    "import numpy as np\n",
    "\n",
    "from kosmatau3d import models\n",
    "from matplotlib.ticker import AutoMinorLocator\n",
    "from pprint import pprint"
   ]
  },
  {
   "cell_type": "markdown",
   "id": "64b950c5",
   "metadata": {},
   "source": [
    "## Simple constant-density example"
   ]
  },
  {
   "cell_type": "markdown",
   "id": "e1351d37",
   "metadata": {},
   "source": [
    "This example assumes each voxel in the seup has the same properties (mass, density, $\\tau_\\mathrm{FUV}$) and only differ in the amount of far-UV radiation. The attenuation of the radiation is then simple to calculate.\n",
    "\n",
    "For our fiducial case we will assume a voxel size of 0.1 pc, an ensemble density of $10^4$ $\\mathrm{cm}^{-3}$, and thus a mass of $\\sim$0.16 $M_\\odot$."
   ]
  },
  {
   "cell_type": "markdown",
   "id": "10002c55",
   "metadata": {},
   "source": [
    "### without clumpyness"
   ]
  },
  {
   "cell_type": "markdown",
   "id": "003b2a70",
   "metadata": {},
   "source": [
    "Here we want a voxel fully-filled with one clump. We can estimate this by specifying a clump mass equal to the ensemble mass and constraining it by requiring $f_\\mathrm{V}=1$. This will mean $f_\\mathrm{A}$ is a bit larger than 1, but we are looking more at the volume in this example."
   ]
  },
  {
   "cell_type": "code",
   "execution_count": 21,
   "id": "2238f709",
   "metadata": {
    "tags": []
   },
   "outputs": [
    {
     "data": {
      "image/png": "[encoded data removed]",
      "text/plain": [
       "<Figure size 720x360 with 1 Axes>"
      ]
     },
     "metadata": {
      "needs_background": "light"
     },
     "output_type": "display_data"
    },
    {
     "name": "stdout",
     "output_type": "stream",
     "text": [
      "\n",
      "Volume Filling Factor\n",
      "---------------------\n",
      "Clump 1: 0.040\n",
      "\n",
      "Density\n",
      "---------------------\n",
      "Clump 1: 1.000e+04\n",
      "\n"
     ]
    }
   ],
   "source": [
    "%matplotlib inline\n",
    "\n",
    "suggested_calc = True\n",
    "\n",
    "models.constants.n_sigma = 3\n",
    "\n",
    "models.constants.dtype = np.float32\n",
    "\n",
    "mass = 10\n",
    "\n",
    "# Use these to change the voxel properties, which is necessary in the default mode.\n",
    "parameters = {\n",
    "                # Model parameters\n",
    "                'voxel_size' : 1,\n",
    "                 'molecules' : 'all',\n",
    "                      'dust' : 'PAH',\n",
    "            'clumpMassRange' : [[-2, 0]],\n",
    "            #'clumpMassRange' : [[np.log10(mass)]],\n",
    "           'clumpMassNumber' : [3],\n",
    "           #'clumpMassNumber' : [1],\n",
    "                 'clumpNmax' : [1],\n",
    "             'velocityRange' : [-5, 5],\n",
    "            'velocityNumber' : 201,\n",
    "\n",
    "                # Voxel properties\n",
    "                  'velocity' : 0,\n",
    "        'ensembleDispersion' : 0.71,#1,\n",
    "              'ensembleMass' : [mass],#7.15, 5.22#10**1,#0.8,\n",
    "#               'volumeFactor' : [0.8, 0.2],\n",
    "           'ensembleDensity' : [10**4],#4.13, 4.17#10**5,#4.5,\n",
    "                       'FUV' : 10**6,#1.13, 1.07#1.7,\n",
    "                      # 'crir' : 2e-16,\n",
    "    \n",
    "                # initialisation\n",
    "                    'dilled' : True,\n",
    "\n",
    "                # calculation\n",
    "            'suggested_calc' : suggested_calc,\n",
    "       'velocity_resolution' : 3,\n",
    "    \n",
    "                # logging\n",
    "                   'verbose' : False,\n",
    "                     'timed' : False,\n",
    "                     'debug' : False\n",
    "          }\n",
    "    \n",
    "vox = models.Voxel()\n",
    "vox.setProperties(**parameters)\n",
    "#print('initialised:', time()-t1)\n",
    "vox.calculateEmission(verbose=False, timed=False)\n",
    "#print('calculated:', time()-t1)\n",
    "# vox.plot_clump_number(effective=True)\n",
    "# vox.plotMolecule(quantity='intensity', kind='slinear', molecule=['C+ 1', 'O 1', 'CO 4', 'CO 45'], moleculeName=[r'$\\mathrm{C}^+ 1 \\rightarrow 0$', r'$\\mathrm{O} 1 \\rightarrow 0$', r'$\\mathrm{CO} 4 \\rightarrow 3$', r'$\\mathrm{CO} 45 \\rightarrow 46$'])\n",
    "vox.plotMolecule(quantity='intensity', kind='slinear', molecule=['C+ 1', 'C 1', 'CO 1', 'CO 5'], moleculeName=[r'$\\mathrm{C}^+ 1 \\rightarrow 0$', r'$\\mathrm{C} 1 \\rightarrow 0$', r'$\\mathrm{CO} 1 \\rightarrow 0$', r'$\\mathrm{CO} 5 \\rightarrow 4$'])\n",
    "# vox.plotSpectrum(quantity='intensity', kind='slinear', integrated=True)\n",
    "\n",
    "#print(time()-t0, '\\n')\n",
    "print('\\nVolume Filling Factor')\n",
    "print('---------------------')\n",
    "print('\\n'.join(['Clump {}: {:.3f}'.format(_+1, vox.getVolumeFillingFactor()[_]) for _ in range(models.constants.ensembles)]))\n",
    "print('\\nDensity')\n",
    "print('---------------------')\n",
    "print('\\n'.join(['Clump {}: {:.3e}'.format(_+1, vox.getDensity()[_]) for _ in range(models.constants.ensembles)]))\n",
    "print()"
   ]
  },
  {
   "cell_type": "code",
   "execution_count": 6,
   "id": "9880e579",
   "metadata": {},
   "outputs": [
    {
     "data": {
      "text/plain": [
       "0.247"
      ]
     },
     "execution_count": 6,
     "metadata": {},
     "output_type": "execute_result"
    }
   ],
   "source": [
    "(10**models.constants.clumpLogMass[0]*models.ensemble.clumpNj[0]).sum()"
   ]
  },
  {
   "cell_type": "code",
   "execution_count": 3,
   "id": "60611595",
   "metadata": {},
   "outputs": [
    {
     "data": {
      "text/plain": [
       "[array([[5.44684421, 0.78730852, 0.11380071]])]"
      ]
     },
     "execution_count": 3,
     "metadata": {},
     "output_type": "execute_result"
    }
   ],
   "source": [
    "models.ensemble.clumpNj"
   ]
  },
  {
   "cell_type": "code",
   "execution_count": 29,
   "id": "d26ae5fe",
   "metadata": {},
   "outputs": [
    {
     "data": {
      "text/plain": [
       "array([0.012086])"
      ]
     },
     "execution_count": 29,
     "metadata": {},
     "output_type": "execute_result"
    }
   ],
   "source": [
    "models.masspoints.clumpRadius[0][0]**2*np.pi"
   ]
  },
  {
   "cell_type": "code",
   "execution_count": 39,
   "id": "a44aca57",
   "metadata": {},
   "outputs": [
    {
     "data": {
      "text/plain": [
       "171"
      ]
     },
     "execution_count": 39,
     "metadata": {},
     "output_type": "execute_result"
    }
   ],
   "source": [
    "transitions = models.species.molecules\n",
    "len(transitions)"
   ]
  },
  {
   "cell_type": "code",
   "execution_count": 86,
   "id": "097b08aa",
   "metadata": {},
   "outputs": [
    {
     "data": {
      "text/plain": [
       "0.00014551804423748544"
      ]
     },
     "execution_count": 86,
     "metadata": {},
     "output_type": "execute_result"
    }
   ],
   "source": [
    "models.species.moleculeWavelengths[transitions.index('O 2')]"
   ]
  },
  {
   "cell_type": "code",
   "execution_count": 63,
   "id": "ede90e34",
   "metadata": {},
   "outputs": [
    {
     "data": {
      "text/plain": [
       "['C+ 1',\n",
       " 'C 1',\n",
       " 'C 2',\n",
       " 'C 3',\n",
       " 'O 1',\n",
       " 'O 2',\n",
       " 'O 3',\n",
       " 'CO 1',\n",
       " 'CO 2',\n",
       " 'CO 3',\n",
       " 'CO 4',\n",
       " 'CO 5',\n",
       " 'CO 6',\n",
       " 'CO 7',\n",
       " 'CO 8',\n",
       " 'CO 9',\n",
       " 'CO 10',\n",
       " 'CO 11',\n",
       " 'CO 12',\n",
       " 'CO 13',\n",
       " 'CO 14',\n",
       " 'CO 15',\n",
       " 'CO 16',\n",
       " 'CO 17',\n",
       " 'CO 18',\n",
       " 'CO 19',\n",
       " 'CO 20',\n",
       " 'CO 21',\n",
       " 'CO 22',\n",
       " 'CO 23',\n",
       " 'CO 24',\n",
       " 'CO 25',\n",
       " 'CO 26',\n",
       " 'CO 27',\n",
       " 'CO 28',\n",
       " 'CO 29',\n",
       " 'CO 30',\n",
       " 'CO 31',\n",
       " 'CO 32',\n",
       " 'CO 33',\n",
       " 'CO 34',\n",
       " 'CO 35',\n",
       " 'CO 36',\n",
       " 'CO 37',\n",
       " 'CO 38',\n",
       " 'CO 39',\n",
       " 'CO 40',\n",
       " 'CO 41',\n",
       " 'CO 42',\n",
       " 'CO 43',\n",
       " 'CO 44',\n",
       " 'CO 45',\n",
       " 'CO 46',\n",
       " 'CO 47',\n",
       " 'CO 48',\n",
       " 'CO 49',\n",
       " '13CO 1',\n",
       " '13CO 2',\n",
       " '13CO 3',\n",
       " '13CO 4',\n",
       " '13CO 5',\n",
       " '13CO 6',\n",
       " '13CO 7',\n",
       " '13CO 8',\n",
       " '13CO 9',\n",
       " '13CO 10',\n",
       " '13CO 11',\n",
       " '13CO 12',\n",
       " '13CO 13',\n",
       " '13CO 14',\n",
       " '13CO 15',\n",
       " '13CO 16',\n",
       " '13CO 17',\n",
       " '13CO 18',\n",
       " '13CO 19',\n",
       " '13CO 20',\n",
       " '13CO 21',\n",
       " '13CO 22',\n",
       " '13CO 23',\n",
       " '13CO 24',\n",
       " '13CO 25',\n",
       " '13CO 26',\n",
       " '13CO 27',\n",
       " '13CO 28',\n",
       " '13CO 29',\n",
       " '13CO 30',\n",
       " '13CO 31',\n",
       " '13CO 32',\n",
       " '13CO 33',\n",
       " '13CO 34',\n",
       " '13CO 35',\n",
       " '13CO 36',\n",
       " '13CO 37',\n",
       " '13CO 38',\n",
       " '13CO 39',\n",
       " '13CO 40',\n",
       " '13CO 41',\n",
       " '13CO 42',\n",
       " '13CO 43',\n",
       " '13CO 44',\n",
       " '13CO 45',\n",
       " '13CO 46',\n",
       " '13CO 47',\n",
       " '13CO 48',\n",
       " '13CO 49',\n",
       " '13C+ 1',\n",
       " '13C 1',\n",
       " '13C 2',\n",
       " '13C 3',\n",
       " 'HCO+ 1',\n",
       " 'HCO+ 2',\n",
       " 'HCO+ 3',\n",
       " 'HCO+ 4',\n",
       " 'HCO+ 5',\n",
       " 'HCO+ 6',\n",
       " 'HCO+ 7',\n",
       " 'HCO+ 8',\n",
       " 'HCO+ 9',\n",
       " 'HCO+ 10',\n",
       " 'HCO+ 11',\n",
       " 'HCO+ 12',\n",
       " 'HCO+ 13',\n",
       " 'HCO+ 14',\n",
       " 'HCO+ 15',\n",
       " 'H13CO+ 1',\n",
       " 'H13CO+ 2',\n",
       " 'H13CO+ 3',\n",
       " 'H13CO+ 4',\n",
       " 'H13CO+ 5',\n",
       " 'H13CO+ 6',\n",
       " 'H13CO+ 7',\n",
       " 'H13CO+ 8',\n",
       " 'H13CO+ 9',\n",
       " 'H13CO+ 10',\n",
       " 'H13CO+ 11',\n",
       " 'H13CO+ 12',\n",
       " 'H13CO+ 13',\n",
       " 'H13CO+ 14',\n",
       " 'H13CO+ 15',\n",
       " 'H13CO+ 16',\n",
       " 'H13CO+ 17',\n",
       " 'H13CO+ 18',\n",
       " 'H13CO+ 19',\n",
       " 'H13CO+ 20',\n",
       " 'H13CO+ 21',\n",
       " 'H13CO+ 22',\n",
       " 'H13CO+ 23',\n",
       " 'H13CO+ 24',\n",
       " 'H13CO+ 25',\n",
       " 'H13CO+ 26',\n",
       " 'H13CO+ 27',\n",
       " 'H13CO+ 28',\n",
       " 'H13CO+ 29',\n",
       " 'H13CO+ 30',\n",
       " 'H3O+ 1',\n",
       " 'H3O+ 2',\n",
       " 'H3O+ 3',\n",
       " 'H3O+ 4',\n",
       " 'H3O+ 5',\n",
       " 'H3O+ 6',\n",
       " 'H3O+ 7',\n",
       " 'H3O+ 8',\n",
       " 'H3O+ 9',\n",
       " 'H3O+ 10',\n",
       " 'H3O+ 11',\n",
       " 'H3O+ 12',\n",
       " 'H3O+ 13',\n",
       " 'H3O+ 14',\n",
       " 'H3O+ 15',\n",
       " 'H3O+ 16',\n",
       " 'H3O+ 17']"
      ]
     },
     "execution_count": 63,
     "metadata": {},
     "output_type": "execute_result"
    }
   ],
   "source": [
    "transitions"
   ]
  },
  {
   "cell_type": "code",
   "execution_count": 136,
   "id": "30e37cc0",
   "metadata": {},
   "outputs": [],
   "source": [
    "nvox = 10\n",
    "ds = 0.1\n",
    "FUV = 10**6\n",
    "mass = 0.247\n",
    "density = 10**4\n",
    "\n",
    "parameters['voxel_size'] = ds\n",
    "parameters['clumpMassRange'] = [[np.log10(mass)]]\n",
    "parameters['ensembleMass'] = mass\n",
    "parameters['ensembleDensity'] = density\n",
    "vox = models.Voxel()\n",
    "vox.setProperties(**parameters)\n",
    "vox.calculateEmission()\n",
    "tau_fuv = vox.getFUVabsorption()[0]\n",
    "A_fuv = np.exp(-tau_fuv*np.arange(nvox))\n",
    "positions = ds*(np.arange(nvox) + 0.5)\n",
    "\n",
    "intensity = []\n",
    "\n",
    "for A in A_fuv:\n",
    "    vox = models.Voxel()\n",
    "    parameters['FUV'] = A*FUV\n",
    "    #print(A*FUV)\n",
    "    vox.setProperties(**parameters)\n",
    "    #print(vox.getFUVabsorption())\n",
    "    vox.calculateEmission()\n",
    "    intensity.append(vox.getSpeciesIntensity(integrated=True))\n",
    "\n",
    "intensity = np.asarray(intensity)"
   ]
  },
  {
   "cell_type": "code",
   "execution_count": 162,
   "id": "242bc0b9",
   "metadata": {},
   "outputs": [
    {
     "data": {
      "text/plain": [
       "array([1.00000000e+00, 2.87399790e-01, 8.25986392e-02, 2.37388316e-02,\n",
       "       6.82253520e-03, 1.96079518e-03, 5.63532124e-04, 1.61959014e-04,\n",
       "       4.65469866e-05, 1.33775942e-05])"
      ]
     },
     "execution_count": 162,
     "metadata": {},
     "output_type": "execute_result"
    }
   ],
   "source": [
    "A_fuv"
   ]
  },
  {
   "cell_type": "code",
   "execution_count": 160,
   "id": "d9b97ac1",
   "metadata": {},
   "outputs": [
    {
     "data": {
      "text/plain": [
       "array([1.00000000e+00, 2.87399790e-01, 8.25986392e-02, 2.37388316e-02,\n",
       "       6.82253520e-03, 1.96079518e-03, 5.63532124e-04, 1.61959014e-04,\n",
       "       4.65469866e-05, 1.33775942e-05])"
      ]
     },
     "execution_count": 160,
     "metadata": {},
     "output_type": "execute_result"
    }
   ],
   "source": [
    "x2.get_xticks()"
   ]
  },
  {
   "cell_type": "code",
   "execution_count": 166,
   "id": "51451d9b",
   "metadata": {},
   "outputs": [
    {
     "data": {
      "text/plain": [
       "0.9500000000000001"
      ]
     },
     "execution_count": 166,
     "metadata": {},
     "output_type": "execute_result"
    }
   ],
   "source": [
    "inverse(forward(0.2))"
   ]
  },
  {
   "cell_type": "code",
   "execution_count": 24,
   "id": "917bddf1",
   "metadata": {},
   "outputs": [
    {
     "data": {
      "text/plain": [
       "2.718281828459045"
      ]
     },
     "execution_count": 24,
     "metadata": {},
     "output_type": "execute_result"
    }
   ],
   "source": [
    "np.e"
   ]
  },
  {
   "cell_type": "code",
   "execution_count": 42,
   "id": "0b150fd9",
   "metadata": {},
   "outputs": [],
   "source": [
    "def pdr_structure(nvox=10, ds=1, FUV=10**6, mass=1, density=10**4, clumps=None, xlim=None, ylim=None):\n",
    "\n",
    "\n",
    "    parameters['voxel_size'] = ds\n",
    "    if clumps is None:\n",
    "        parameters['clumpMassRange'] = [[np.log10(mass)]]\n",
    "        parameters['clumpMassNumber'] = [1]\n",
    "    else:\n",
    "        parameters['clumpMassRange'] = clumps[0]\n",
    "        parameters['clumpMassNumber'] = clumps[1]\n",
    "    parameters['ensembleMass'] = mass\n",
    "    parameters['ensembleDensity'] = density\n",
    "    vox = models.Voxel()\n",
    "    vox.setProperties(**parameters)\n",
    "    vox.calculateEmission()\n",
    "    tau_fuv = vox.getFUVabsorption()[0]\n",
    "    A_fuv = 2.5 * np.log10(np.e) * tau_fuv*np.arange(nvox)\n",
    "    positions = ds*(np.arange(nvox) + 0.5)\n",
    "\n",
    "    intensity = []\n",
    "\n",
    "    for A in A_fuv:\n",
    "        vox = models.Voxel()\n",
    "        parameters['FUV'] = FUV*np.exp(-A)\n",
    "        #print(A*FUV)\n",
    "        vox.setProperties(**parameters)\n",
    "        #print(vox.getFUVabsorption())\n",
    "        vox.calculateEmission()\n",
    "        intensity.append(vox.getSpeciesIntensity(integrated=True))\n",
    "\n",
    "    intensity = np.asarray(intensity)\n",
    "\n",
    "    def forward(x):\n",
    "        return np.interp(x, positions, A_fuv)\n",
    "\n",
    "    def inverse(x):\n",
    "        return np.interp(x, np.sort(A_fuv), positions[np.argsort(A_fuv)])\n",
    "\n",
    "    included_transitions = ['C+ 1', 'C 1', 'CO 1', \n",
    "                            '13C+ 1', '13C 1', '13CO 1', \n",
    "                            'HCO+ 1', 'H13CO+ 1', 'H3O+ 1']\n",
    "    labels = [r'C$^+$ 1$\\to$0', r'C 1$\\to$0', r'CO 1$\\to$0', \n",
    "            r'$^{13}$C$^+$ 1$\\to$0', r'$^{13}$C 1$\\to$0', r'$^{13}$CO 1$\\to$0', \n",
    "            r'HCO$^+$ 1$\\to$0', r'H$^{13}$CO$^+$ 1$\\to$0', r'H$_3$O$^+$ 1$\\to$0']\n",
    "\n",
    "    fig, ax = plt.subplots(figsize=(10, 10))\n",
    "    #ax.plot(positions, np.log10(intensity[:, transitions.index('C+ 1')]), label=r'C$^+$ 1$\\to$0')\n",
    "    #ax.plot(positions, np.log10(intensity[:, transitions.index('C 1')]), label=r'C 1$\\to$0')\n",
    "    #ax.plot(positions, np.log10(intensity[:, transitions.index('CO 1')]), label=r'CO 1$\\to$0')\n",
    "    #ax.plot(positions, np.log10(intensity[:, transitions.index('13C+ 1')]), label=r'$^{13}$C$^+$ 1$\\to$0')\n",
    "    #ax.plot(positions, np.log10(intensity[:, transitions.index('13C 1')]), label=r'$^{13}$C 1$\\to$0')\n",
    "    #ax.plot(positions, np.log10(intensity[:, transitions.index('13CO 1')]), label=r'$^{13}$CO 1$\\to$0')\n",
    "    #ax.plot(positions, np.log10(intensity[:, transitions.index('HCO+ 1')]), label=r'HCO$^+$ 1$\\to$0')\n",
    "    #ax.plot(positions, np.log10(intensity[:, transitions.index('H13CO+ 1')]), label=r'H$^{13}$CO$^+$ 1$\\to$0')\n",
    "    #ax.plot(positions, np.log10(intensity[:, transitions.index('H3O+ 1')]), label=r'H$_3$O$^+$ 1$\\to$0')\n",
    "    x_new = np.linspace(0, ds*nvox, num=1000)\n",
    "    for i, trans in enumerate(included_transitions):\n",
    "        intensity_new = np.interp(x_new, positions, intensity[:, included_transitions.index(trans)])\n",
    "        ax.plot(x_new, np.log10(intensity_new), label=labels[i])\n",
    "    ax.legend()\n",
    "    if xlim:\n",
    "        ax.set_xlim(xlim)\n",
    "    else:\n",
    "        ax.set_xlim(0, ds*nvox)\n",
    "    if ylim:\n",
    "        ax.set_ylim(ylim)\n",
    "    else:\n",
    "        ax.set_ylim(-10, 10)\n",
    "    ax.set_xlabel('Depth (pc)', fontsize=16)\n",
    "    x2 = ax.secondary_xaxis('top', functions=(forward, inverse))\n",
    "    x2.set_xticks(np.arange(0, A_fuv.max(), A_fuv.max()/8))\n",
    "    x2.xaxis.set_minor_locator(AutoMinorLocator())\n",
    "    x2.set_xlabel(r'$A_\\mathrm{FUV}$', fontsize=16)\n",
    "    ax.set_ylabel(r'log$_{10}$(T$_\\mathrm{B}$) (K)', fontsize=16)\n",
    "\n",
    "    return fig, ax"
   ]
  },
  {
   "cell_type": "code",
   "execution_count": 49,
   "id": "7a7265fb",
   "metadata": {},
   "outputs": [
    {
     "data": {
      "image/png": "[encoded data removed]",
      "text/plain": [
       "<Figure size 720x720 with 1 Axes>"
      ]
     },
     "metadata": {
      "needs_background": "light"
     },
     "output_type": "display_data"
    }
   ],
   "source": [
    "fig, ax = pdr_structure(nvox=500, density=10**4, mass=1, clumps=([[0]], [1]), ylim=(-20, 10))\n",
    "plt.savefig('plots/pdr_structure_n_1e4_inhomogeneous_alt.png')"
   ]
  },
  {
   "cell_type": "code",
   "execution_count": 59,
   "id": "df860fb7",
   "metadata": {},
   "outputs": [
    {
     "data": {
      "text/plain": [
       "array([1.00000000e+00, 2.87399790e-01, 8.25986392e-02, 2.37388316e-02,\n",
       "       6.82253520e-03, 1.96079518e-03, 5.63532124e-04, 1.61959014e-04,\n",
       "       4.65469866e-05, 1.33775942e-05, 3.84471775e-06, 1.10497107e-06,\n",
       "       3.17568455e-07, 9.12691072e-08, 2.62307222e-08, 7.53870406e-09,\n",
       "       2.16662196e-09, 6.22686697e-10, 1.78960026e-10, 5.14330738e-11])"
      ]
     },
     "execution_count": 59,
     "metadata": {},
     "output_type": "execute_result"
    }
   ],
   "source": [
    "A_fuv"
   ]
  },
  {
   "cell_type": "code",
   "execution_count": 36,
   "id": "d28faa84",
   "metadata": {},
   "outputs": [
    {
     "data": {
      "text/plain": [
       "(10, 171)"
      ]
     },
     "execution_count": 36,
     "metadata": {},
     "output_type": "execute_result"
    }
   ],
   "source": [
    "intensity.shape"
   ]
  },
  {
   "cell_type": "markdown",
   "id": "60e3863b",
   "metadata": {},
   "source": [
    "As you can see, the ideal mass is 0.247 $M_\\odot$"
   ]
  },
  {
   "cell_type": "markdown",
   "id": "7846ff06",
   "metadata": {},
   "source": [
    "### using a clump distribution"
   ]
  },
  {
   "cell_type": "markdown",
   "id": "a7c134fa",
   "metadata": {},
   "source": [
    "Now we can use a proper distribution of clump masses in each voxel."
   ]
  },
  {
   "cell_type": "code",
   "execution_count": null,
   "id": "e73b5b52",
   "metadata": {},
   "outputs": [],
   "source": []
  },
  {
   "cell_type": "markdown",
   "id": "e6500683-e82b-4bea-b350-28edc8e74fba",
   "metadata": {},
   "source": [
    "## grid files"
   ]
  },
  {
   "cell_type": "markdown",
   "id": "e030636a-11cd-4a03-a6d2-4c88b7bee81b",
   "metadata": {},
   "source": [
    "Every model must be created from some datafiles, at least to obtain the necessary parameters (mass, density, and far-UV radiation). Our purpose does not require anything complex with varying mass or density, but rather we will assume some constant far-UV radiation from one direction and calculate how the absorption and radiative transfer affects the intensity in each voxel. For that reason we will first create mock grid files in a new directory, then `kosmatau3d` will read the model information from there."
   ]
  },
  {
   "cell_type": "markdown",
   "id": "dcfc5dfd-52b7-4387-aeca-c6d715a9d67f",
   "metadata": {},
   "source": [
    "In this example we will use voxels of size 1 pc containing mass $100$ $M_\\odot$ and density $10^4$ cm$^{-3}$. Each voxel will also need some velocity information, so we want $v_\\mathrm{vox}=0$ km s$^{-1}$ and $\\sigma_\\mathrm{ens}=1$ km s$^{-1}$. Finally the far-UV radiation (neglecting absorption) will be constant at $10^5$ $\\chi_D$. We will see later how accounting for absorption will affect the far-UV penetration."
   ]
  },
  {
   "cell_type": "code",
   "execution_count": 8,
   "id": "4a17b1ed-1476-47b8-a366-c83a6f8de12e",
   "metadata": {},
   "outputs": [
    {
     "data": {
      "text/plain": [
       "array(1.)"
      ]
     },
     "execution_count": 8,
     "metadata": {},
     "output_type": "execute_result"
    }
   ],
   "source": [
    "import numpy as np\n",
    "from scipy.interpolate import interp1d\n",
    "\n",
    "x = np.linspace(1, 10, num=10)\n",
    "y = np.ones_like(x)\n",
    "\n",
    "fx = interp1d(x, y, fill_value='extrapolate')\n",
    "fx(-5000)"
   ]
  },
  {
   "cell_type": "markdown",
   "id": "e5f8bbfe-b1f3-4d6f-ae50-a0aa96c564a1",
   "metadata": {},
   "source": [
    "## setting the model parameters"
   ]
  },
  {
   "cell_type": "markdown",
   "id": "e1071cb6-053d-4af9-a230-eef2a596ddc5",
   "metadata": {},
   "source": [
    "Now that we have grid files from which `kosmatau3d` will read the voxel properties, we simply need to pass the necessary parameters to the `Model` constructor."
   ]
  },
  {
   "cell_type": "code",
   "execution_count": null,
   "id": "04638766-96ea-498b-817d-3caced5015a8",
   "metadata": {},
   "outputs": [],
   "source": [
    "parameters = {\n",
    "              # Model information\n",
    "              'history_path': '',# r'/mnt/hpc_backup/yanitski/projects/pdr/KT3_history',\n",
    "              'directory': '',\n",
    "              'folder': 'HT99',\n",
    "              'x': 10,\n",
    "              'y': 5,\n",
    "              'z': 0,\n",
    "              'modelType': 'block',\n",
    "\n",
    "              # Model parameters\n",
    "              'resolution': 1,\n",
    "              'molecules': 'all',\n",
    "              # 'molecules': ['C+ 1', \n",
    "              #               'C 1', 'C 2', \n",
    "              #               'CO 1', 'CO 2', 'CO 3', 'CO 4', 'CO 5', \n",
    "              #               'CO 6', 'CO 7', 'CO 8', \n",
    "              #               '13C+ 1', \n",
    "              #               '13C 1', '13C 2', \n",
    "              #               '13CO 1', '13CO 2', '13CO 3', '13CO 4', '13CO 5', \n",
    "              #               '13CO 6', '13CO 7', '13CO 8', \n",
    "              #               'HCO+ 1', 'HCO+ 2', 'HCO+ 3', 'HCO+ 4', 'HCO+ 5'],\n",
    "              'dust': 'PAH',\n",
    "              # 'dust': ['240um', '550um'],\n",
    "              'clumpMassRange': [[-1, 2]],\n",
    "              'clumpMassNumber': [4],\n",
    "              'clumpNmax': [None],\n",
    "              'clumpLogFUV' : None,\n",
    "              'interclumpLogFUV' : None,\n",
    "              'velocityRange': [-10, 10],\n",
    "              'velocityNumber': 21,\n",
    "\n",
    "              # Flags\n",
    "              'suggested_calc': True,\n",
    "              'dilled': True,\n",
    "\n",
    "              # Property factors\n",
    "              'hi_mass_factor': 1,\n",
    "              'h2_mass_factor': 1,\n",
    "              'ensemble_mass_factor': [1, 1],\n",
    "              'fuv_factor': 1,\n",
    "              'density_factor': 1,\n",
    "              'interclump_hi_ratio': 1,\n",
    "              'r_cmz': 0,\n",
    "\n",
    "              # Logging\n",
    "              'timed': False,\n",
    "              'debug': False,\n",
    "              'verbose': False\n",
    "              }"
   ]
  }
 ],
 "metadata": {
  "kernelspec": {
   "display_name": "Python 3.9.12 ('base')",
   "language": "python",
   "name": "python3"
  },
  "language_info": {
   "codemirror_mode": {
    "name": "ipython",
    "version": 3
   },
   "file_extension": ".py",
   "mimetype": "text/x-python",
   "name": "python",
   "nbconvert_exporter": "python",
   "pygments_lexer": "ipython3",
   "version": "3.8.5"
  },
  "vscode": {
   "interpreter": {
    "hash": "11ea2fc92a27ee85f45b9f7d3d45f2d423788bccdc8b563d4bafb6ee2defe9bc"
   }
  }
 },
 "nbformat": 4,
 "nbformat_minor": 5
}
