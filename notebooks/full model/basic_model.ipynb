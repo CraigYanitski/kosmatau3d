{
 "cells": [
  {
   "cell_type": "markdown",
   "id": "30b841c6-f6c4-49e4-886a-de6d30561dec",
   "metadata": {},
   "source": [
    "# Basic `kosmatau3d` model"
   ]
  },
  {
   "cell_type": "markdown",
   "id": "fe70e787-d949-4cfb-a1ed-93f572c63ef4",
   "metadata": {},
   "source": [
    "Here we will examine what are the basic parameters to set in order to establish a simple three-dimensional model. Since we want this example to be easily-relatable, we will attempt to build the `kosmatau3d` version of the famous Hollenbach and Tielens (1999) PDR structure image."
   ]
  },
  {
   "cell_type": "code",
   "execution_count": 1,
   "id": "29dc215d",
   "metadata": {},
   "outputs": [
    {
     "ename": "ImportError",
     "evalue": "/home/yanitski/anaconda3/lib/python3.9/site-packages/cygrid/cygrid.cpython-39-x86_64-linux-gnu.so: undefined symbol: _ZSt28__throw_bad_array_new_lengthv",
     "output_type": "error",
     "traceback": [
      "\u001b[0;31m---------------------------------------------------------------------------\u001b[0m",
      "\u001b[0;31mImportError\u001b[0m                               Traceback (most recent call last)",
      "\u001b[1;32m/home/yanitski/kosmatau3d/notebooks/full model/basic_model.ipynb Cell 3'\u001b[0m in \u001b[0;36m<cell line: 4>\u001b[0;34m()\u001b[0m\n\u001b[1;32m      <a href='vscode-notebook-cell:/home/yanitski/kosmatau3d/notebooks/full%20model/basic_model.ipynb#ch0000020?line=0'>1</a>\u001b[0m \u001b[39mimport\u001b[39;00m \u001b[39mmatplotlib\u001b[39;00m\u001b[39m.\u001b[39;00m\u001b[39mpyplot\u001b[39;00m \u001b[39mas\u001b[39;00m \u001b[39mplt\u001b[39;00m\n\u001b[1;32m      <a href='vscode-notebook-cell:/home/yanitski/kosmatau3d/notebooks/full%20model/basic_model.ipynb#ch0000020?line=1'>2</a>\u001b[0m \u001b[39mimport\u001b[39;00m \u001b[39mnumpy\u001b[39;00m \u001b[39mas\u001b[39;00m \u001b[39mnp\u001b[39;00m\n\u001b[0;32m----> <a href='vscode-notebook-cell:/home/yanitski/kosmatau3d/notebooks/full%20model/basic_model.ipynb#ch0000020?line=3'>4</a>\u001b[0m \u001b[39mfrom\u001b[39;00m \u001b[39mkosmatau3d\u001b[39;00m \u001b[39mimport\u001b[39;00m models\n\u001b[1;32m      <a href='vscode-notebook-cell:/home/yanitski/kosmatau3d/notebooks/full%20model/basic_model.ipynb#ch0000020?line=4'>5</a>\u001b[0m \u001b[39mfrom\u001b[39;00m \u001b[39mpprint\u001b[39;00m \u001b[39mimport\u001b[39;00m pprint\n",
      "File \u001b[0;32m~/kosmatau3d/kosmatau3d/__init__.py:1\u001b[0m, in \u001b[0;36m<module>\u001b[0;34m\u001b[0m\n\u001b[0;32m----> 1\u001b[0m \u001b[39mfrom\u001b[39;00m \u001b[39m.\u001b[39;00m \u001b[39mimport\u001b[39;00m comparison\n\u001b[1;32m      2\u001b[0m \u001b[39mfrom\u001b[39;00m \u001b[39m.\u001b[39;00m \u001b[39mimport\u001b[39;00m models\n\u001b[1;32m      3\u001b[0m \u001b[39mfrom\u001b[39;00m \u001b[39m.\u001b[39;00m \u001b[39mimport\u001b[39;00m properties\n",
      "File \u001b[0;32m~/kosmatau3d/kosmatau3d/comparison/__init__.py:1\u001b[0m, in \u001b[0;36m<module>\u001b[0;34m\u001b[0m\n\u001b[0;32m----> 1\u001b[0m \u001b[39mfrom\u001b[39;00m \u001b[39m.\u001b[39;00m\u001b[39mmodel_selection\u001b[39;00m \u001b[39mimport\u001b[39;00m \u001b[39m*\u001b[39m\n\u001b[1;32m      2\u001b[0m \u001b[39mfrom\u001b[39;00m \u001b[39m.\u001b[39;00m\u001b[39mObservation\u001b[39;00m \u001b[39mimport\u001b[39;00m \u001b[39m*\u001b[39m\n\u001b[1;32m      5\u001b[0m \u001b[39mdef\u001b[39;00m \u001b[39mhelp\u001b[39m():\n",
      "File \u001b[0;32m~/kosmatau3d/kosmatau3d/comparison/model_selection.py:1\u001b[0m, in \u001b[0;36m<module>\u001b[0;34m\u001b[0m\n\u001b[0;32m----> 1\u001b[0m \u001b[39mimport\u001b[39;00m \u001b[39mcygrid\u001b[39;00m\n\u001b[1;32m      2\u001b[0m \u001b[39mimport\u001b[39;00m \u001b[39mnumpy\u001b[39;00m \u001b[39mas\u001b[39;00m \u001b[39mnp\u001b[39;00m\n\u001b[1;32m      3\u001b[0m \u001b[39mfrom\u001b[39;00m \u001b[39mastropy\u001b[39;00m\u001b[39m.\u001b[39;00m\u001b[39mio\u001b[39;00m \u001b[39mimport\u001b[39;00m fits\n",
      "File \u001b[0;32m~/anaconda3/lib/python3.9/site-packages/cygrid/__init__.py:23\u001b[0m, in \u001b[0;36m<module>\u001b[0;34m\u001b[0m\n\u001b[1;32m     19\u001b[0m     \u001b[39mraise\u001b[39;00m UnsupportedPythonError(\u001b[39m\"\u001b[39m\u001b[39mcygrid does not support Python < \u001b[39m\u001b[39m{}\u001b[39;00m\u001b[39m\"\u001b[39m\u001b[39m.\u001b[39mformat(__minimum_python_version__))\n\u001b[1;32m     21\u001b[0m \u001b[39mif\u001b[39;00m \u001b[39mnot\u001b[39;00m _ASTROPY_SETUP_:\n\u001b[1;32m     22\u001b[0m     \u001b[39m# For egg_info test builds to pass, put package imports here.\u001b[39;00m\n\u001b[0;32m---> 23\u001b[0m     \u001b[39mfrom\u001b[39;00m \u001b[39m.\u001b[39;00m\u001b[39mcygrid\u001b[39;00m \u001b[39mimport\u001b[39;00m \u001b[39m*\u001b[39m\n\u001b[1;32m     24\u001b[0m     \u001b[39mfrom\u001b[39;00m \u001b[39m.\u001b[39;00m\u001b[39mhealpix\u001b[39;00m \u001b[39mimport\u001b[39;00m \u001b[39m*\u001b[39m\n\u001b[1;32m     25\u001b[0m     \u001b[39mfrom\u001b[39;00m \u001b[39m.\u001b[39;00m\u001b[39mhphashtab\u001b[39;00m \u001b[39mimport\u001b[39;00m \u001b[39m*\u001b[39m\n",
      "\u001b[0;31mImportError\u001b[0m: /home/yanitski/anaconda3/lib/python3.9/site-packages/cygrid/cygrid.cpython-39-x86_64-linux-gnu.so: undefined symbol: _ZSt28__throw_bad_array_new_lengthv"
     ]
    }
   ],
   "source": [
    "import matplotlib.pyplot as plt\n",
    "import numpy as np\n",
    "\n",
    "from kosmatau3d import models\n",
    "from pprint import pprint"
   ]
  },
  {
   "cell_type": "markdown",
   "id": "64b950c5",
   "metadata": {},
   "source": [
    "## Simple constant-density example"
   ]
  },
  {
   "cell_type": "markdown",
   "id": "e1351d37",
   "metadata": {},
   "source": [
    "This example assumes each voxel in the seup has the same properties (mass, density, $\\tau_\\mathrm{FUV}$) and only differ in the amount of far-UV radiation. The attenuation of the radiation is then simple to calculate.\n",
    "\n",
    "For our fiducial case we will assume a voxel size of 0.1 pc, an ensemble density of $10^4$ $\\mathrm{cm}^{-3}$, and thus a mass of $\\sim$0.16 $M_\\odot$."
   ]
  },
  {
   "cell_type": "markdown",
   "id": "10002c55",
   "metadata": {},
   "source": [
    "### without clumpyness"
   ]
  },
  {
   "cell_type": "markdown",
   "id": "003b2a70",
   "metadata": {},
   "source": [
    "Here we want a voxel fully-filled with one clump. We can estimate this by specifying a clump mass equal to the ensemble mass."
   ]
  },
  {
   "cell_type": "code",
   "execution_count": 1,
   "id": "2238f709",
   "metadata": {
    "tags": []
   },
   "outputs": [
    {
     "ename": "NameError",
     "evalue": "name 'models' is not defined",
     "output_type": "error",
     "traceback": [
      "\u001b[0;31m---------------------------------------------------------------------------\u001b[0m",
      "\u001b[0;31mNameError\u001b[0m                                 Traceback (most recent call last)",
      "\u001b[1;32m/home/yanitski/kosmatau3d/notebooks/full model/basic_model.ipynb Cell 8'\u001b[0m in \u001b[0;36m<cell line: 5>\u001b[0;34m()\u001b[0m\n\u001b[1;32m      <a href='vscode-notebook-cell:/home/yanitski/kosmatau3d/notebooks/full%20model/basic_model.ipynb#ch0000021?line=0'>1</a>\u001b[0m get_ipython()\u001b[39m.\u001b[39mrun_line_magic(\u001b[39m'\u001b[39m\u001b[39mmatplotlib\u001b[39m\u001b[39m'\u001b[39m, \u001b[39m'\u001b[39m\u001b[39minline\u001b[39m\u001b[39m'\u001b[39m)\n\u001b[1;32m      <a href='vscode-notebook-cell:/home/yanitski/kosmatau3d/notebooks/full%20model/basic_model.ipynb#ch0000021?line=2'>3</a>\u001b[0m suggested_calc \u001b[39m=\u001b[39m \u001b[39mTrue\u001b[39;00m\n\u001b[0;32m----> <a href='vscode-notebook-cell:/home/yanitski/kosmatau3d/notebooks/full%20model/basic_model.ipynb#ch0000021?line=4'>5</a>\u001b[0m models\u001b[39m.\u001b[39mconstants\u001b[39m.\u001b[39mn_sigma \u001b[39m=\u001b[39m \u001b[39m3\u001b[39m\n\u001b[1;32m      <a href='vscode-notebook-cell:/home/yanitski/kosmatau3d/notebooks/full%20model/basic_model.ipynb#ch0000021?line=6'>7</a>\u001b[0m models\u001b[39m.\u001b[39mconstants\u001b[39m.\u001b[39mdtype \u001b[39m=\u001b[39m np\u001b[39m.\u001b[39mfloat32\n\u001b[1;32m      <a href='vscode-notebook-cell:/home/yanitski/kosmatau3d/notebooks/full%20model/basic_model.ipynb#ch0000021?line=8'>9</a>\u001b[0m \u001b[39m# Use these to change the voxel properties, which is necessary in the default mode.\u001b[39;00m\n",
      "\u001b[0;31mNameError\u001b[0m: name 'models' is not defined"
     ]
    }
   ],
   "source": [
    "%matplotlib inline\n",
    "\n",
    "suggested_calc = True\n",
    "\n",
    "models.constants.n_sigma = 3\n",
    "\n",
    "models.constants.dtype = np.float32\n",
    "\n",
    "# Use these to change the voxel properties, which is necessary in the default mode.\n",
    "parameters = {\n",
    "                # Model parameters\n",
    "                'voxel_size' : 0.1,\n",
    "                 'molecules' : 'all',\n",
    "                      'dust' : 'PAH',\n",
    "            'clumpMassRange' : [-0.8],\n",
    "           'clumpMassNumber' : [1],\n",
    "                 'clumpNmax' : [1],\n",
    "             'velocityRange' : [-5, 5],\n",
    "            'velocityNumber' : 201,\n",
    "\n",
    "                # Voxel properties\n",
    "                  'velocity' : 0,\n",
    "        'ensembleDispersion' : 1,#1,\n",
    "              'ensembleMass' : [10**2, 1, 1],#7.15, 5.22#10**1,#0.8,\n",
    "#               'volumeFactor' : [0.8, 0.2],\n",
    "           'ensembleDensity' : [10**4, 1191, 1191],#4.13, 4.17#10**5,#4.5,\n",
    "                       'FUV' : 10**6,#1.13, 1.07#1.7,\n",
    "                      # 'crir' : 2e-16,\n",
    "    \n",
    "                # initialisation\n",
    "                    'dilled' : True,\n",
    "\n",
    "                # calculation\n",
    "            'suggested_calc' : suggested_calc,\n",
    "       'velocity_resolution' : 3,\n",
    "    \n",
    "                # logging\n",
    "                   'verbose' : False,\n",
    "                     'timed' : False,\n",
    "                     'debug' : False\n",
    "          }\n",
    "\n",
    "t0 = time()\n",
    "    \n",
    "vox = models.Voxel()\n",
    "vox.setProperties(**parameters)\n",
    "print('initialised:', time()-t1)\n",
    "vox.calculateEmission(test_calc=test_calc, test_opacity=test_opacity, test_pexp=test_pexp, test_fv=test_fv, verbose=False, timed=False)\n",
    "print('calculated:', time()-t1)\n",
    "# vox.plot_clump_number(effective=True)\n",
    "# vox.plotMolecule(quantity='intensity', kind='slinear', molecule=['C+ 1', 'O 1', 'CO 4', 'CO 45'], moleculeName=[r'$\\mathrm{C}^+ 1 \\rightarrow 0$', r'$\\mathrm{O} 1 \\rightarrow 0$', r'$\\mathrm{CO} 4 \\rightarrow 3$', r'$\\mathrm{CO} 45 \\rightarrow 46$'])\n",
    "vox.plotMolecule(quantity='intensity', kind='slinear', molecule=['C+ 1', 'C 1', 'CO 1', 'CO 5'], moleculeName=[r'$\\mathrm{C}^+ 1 \\rightarrow 0$', r'$\\mathrm{C} 1 \\rightarrow 0$', r'$\\mathrm{CO} 1 \\rightarrow 0$', r'$\\mathrm{CO} 5 \\rightarrow 4$'])\n",
    "# vox.plotSpectrum(quantity='intensity', kind='slinear', integrated=True)\n",
    "\n",
    "print(time()-t0, '\\n')\n",
    "print('\\nVolume Filling Factor')\n",
    "print('---------------------')\n",
    "print('\\n'.join(['Clump {}: {:.3f}'.format(_+1, vox.getVolumeFillingFactor()[_]) for _ in range(models.constants.ensembles)]))\n",
    "print('\\nDensity')\n",
    "print('---------------------')\n",
    "print('\\n'.join(['Clump {}: {:.3e}'.format(_+1, vox.getDensity()[_]) for _ in range(models.constants.ensembles)]))\n",
    "print()"
   ]
  },
  {
   "cell_type": "code",
   "execution_count": null,
   "id": "d26ae5fe",
   "metadata": {},
   "outputs": [],
   "source": []
  },
  {
   "cell_type": "markdown",
   "id": "7846ff06",
   "metadata": {},
   "source": [
    "### using a clump distribution"
   ]
  },
  {
   "cell_type": "markdown",
   "id": "a7c134fa",
   "metadata": {},
   "source": [
    "Now we can use a proper distribution of clump masses in each voxel."
   ]
  },
  {
   "cell_type": "code",
   "execution_count": null,
   "id": "e73b5b52",
   "metadata": {},
   "outputs": [],
   "source": []
  },
  {
   "cell_type": "markdown",
   "id": "e6500683-e82b-4bea-b350-28edc8e74fba",
   "metadata": {},
   "source": [
    "## grid files"
   ]
  },
  {
   "cell_type": "markdown",
   "id": "e030636a-11cd-4a03-a6d2-4c88b7bee81b",
   "metadata": {},
   "source": [
    "Every model must be created from some datafiles, at least to obtain the necessary parameters (mass, density, and far-UV radiation). Our purpose does not require anything complex with varying mass or density, but rather we will assume some constant far-UV radiation from one direction and calculate how the absorption and radiative transfer affects the intensity in each voxel. For that reason we will first create mock grid files in a new directory, then `kosmatau3d` will read the model information from there."
   ]
  },
  {
   "cell_type": "markdown",
   "id": "dcfc5dfd-52b7-4387-aeca-c6d715a9d67f",
   "metadata": {},
   "source": [
    "In this example we will use voxels of size 1 pc containing mass $100$ $M_\\odot$ and density $10^4$ cm$^{-3}$. Each voxel will also need some velocity information, so we want $v_\\mathrm{vox}=0$ km s$^{-1}$ and $\\sigma_\\mathrm{ens}=1$ km s$^{-1}$. Finally the far-UV radiation (neglecting absorption) will be constant at $10^5$ $\\chi_D$. We will see later how accounting for absorption will affect the far-UV penetration."
   ]
  },
  {
   "cell_type": "code",
   "execution_count": 8,
   "id": "4a17b1ed-1476-47b8-a366-c83a6f8de12e",
   "metadata": {},
   "outputs": [
    {
     "data": {
      "text/plain": [
       "array(1.)"
      ]
     },
     "execution_count": 8,
     "metadata": {},
     "output_type": "execute_result"
    }
   ],
   "source": [
    "import numpy as np\n",
    "from scipy.interpolate import interp1d\n",
    "\n",
    "x = np.linspace(1, 10, num=10)\n",
    "y = np.ones_like(x)\n",
    "\n",
    "fx = interp1d(x, y, fill_value='extrapolate')\n",
    "fx(-5000)"
   ]
  },
  {
   "cell_type": "markdown",
   "id": "e5f8bbfe-b1f3-4d6f-ae50-a0aa96c564a1",
   "metadata": {},
   "source": [
    "## setting the model parameters"
   ]
  },
  {
   "cell_type": "markdown",
   "id": "e1071cb6-053d-4af9-a230-eef2a596ddc5",
   "metadata": {},
   "source": [
    "Now that we have grid files from which `kosmatau3d` will read the voxel properties, we simply need to pass the necessary parameters to the `Model` constructor."
   ]
  },
  {
   "cell_type": "code",
   "execution_count": null,
   "id": "04638766-96ea-498b-817d-3caced5015a8",
   "metadata": {},
   "outputs": [],
   "source": [
    "parameters = {\n",
    "              # Model information\n",
    "              'history_path': '',# r'/mnt/hpc_backup/yanitski/projects/pdr/KT3_history',\n",
    "              'directory': '',\n",
    "              'folder': 'HT99',\n",
    "              'x': 10,\n",
    "              'y': 5,\n",
    "              'z': 0,\n",
    "              'modelType': 'block',\n",
    "\n",
    "              # Model parameters\n",
    "              'resolution': 1,\n",
    "              'molecules': 'all',\n",
    "              # 'molecules': ['C+ 1', \n",
    "              #               'C 1', 'C 2', \n",
    "              #               'CO 1', 'CO 2', 'CO 3', 'CO 4', 'CO 5', \n",
    "              #               'CO 6', 'CO 7', 'CO 8', \n",
    "              #               '13C+ 1', \n",
    "              #               '13C 1', '13C 2', \n",
    "              #               '13CO 1', '13CO 2', '13CO 3', '13CO 4', '13CO 5', \n",
    "              #               '13CO 6', '13CO 7', '13CO 8', \n",
    "              #               'HCO+ 1', 'HCO+ 2', 'HCO+ 3', 'HCO+ 4', 'HCO+ 5'],\n",
    "              'dust': 'PAH',\n",
    "              # 'dust': ['240um', '550um'],\n",
    "              'clumpMassRange': [[-1, 2]],\n",
    "              'clumpMassNumber': [4],\n",
    "              'clumpNmax': [None],\n",
    "              'clumpLogFUV' : None,\n",
    "              'interclumpLogFUV' : None,\n",
    "              'velocityRange': [-10, 10],\n",
    "              'velocityNumber': 21,\n",
    "\n",
    "              # Flags\n",
    "              'suggested_calc': True,\n",
    "              'dilled': True,\n",
    "\n",
    "              # Property factors\n",
    "              'hi_mass_factor': 1,\n",
    "              'h2_mass_factor': 1,\n",
    "              'ensemble_mass_factor': [1, 1],\n",
    "              'fuv_factor': 1,\n",
    "              'density_factor': 1,\n",
    "              'interclump_hi_ratio': 1,\n",
    "              'r_cmz': 0,\n",
    "\n",
    "              # Logging\n",
    "              'timed': False,\n",
    "              'debug': False,\n",
    "              'verbose': False\n",
    "              }"
   ]
  }
 ],
 "metadata": {
  "kernelspec": {
   "display_name": "Python 3.9.12 ('base')",
   "language": "python",
   "name": "python3"
  },
  "language_info": {
   "codemirror_mode": {
    "name": "ipython",
    "version": 3
   },
   "file_extension": ".py",
   "mimetype": "text/x-python",
   "name": "python",
   "nbconvert_exporter": "python",
   "pygments_lexer": "ipython3",
   "version": "3.9.12"
  },
  "vscode": {
   "interpreter": {
    "hash": "11ea2fc92a27ee85f45b9f7d3d45f2d423788bccdc8b563d4bafb6ee2defe9bc"
   }
  }
 },
 "nbformat": 4,
 "nbformat_minor": 5
}
