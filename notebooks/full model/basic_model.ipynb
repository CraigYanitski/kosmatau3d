{
 "cells": [
  {
   "cell_type": "markdown",
   "id": "30b841c6-f6c4-49e4-886a-de6d30561dec",
   "metadata": {},
   "source": [
    "# Basic `kosmatau3d` model"
   ]
  },
  {
   "cell_type": "markdown",
   "id": "fe70e787-d949-4cfb-a1ed-93f572c63ef4",
   "metadata": {},
   "source": [
    "Here we will examine what are the basic parameters to set in order to establish a simple three-dimensional model. Since we want this example to be easily-relatable, we will attempt to build the `kosmatau3d` version of the famous Hollenbach and Tielens (1999) PDR structure image."
   ]
  },
  {
   "cell_type": "markdown",
   "id": "e6500683-e82b-4bea-b350-28edc8e74fba",
   "metadata": {},
   "source": [
    "## grid files"
   ]
  },
  {
   "cell_type": "markdown",
   "id": "e030636a-11cd-4a03-a6d2-4c88b7bee81b",
   "metadata": {},
   "source": [
    "Every model must be created from some datafiles, at least to obtain the necessary parameters (mass, density, and far-UV radiation). Our purpose does not require anything complex with varying mass or density, but rather we will assume some constant far-UV radiation from one direction and calculate how the absorption and radiative transfer affects the intensity in each voxel. For that reason we will first create mock grid files in a new directory, then `kosmatau3d` will read the model information from there."
   ]
  },
  {
   "cell_type": "markdown",
   "id": "dcfc5dfd-52b7-4387-aeca-c6d715a9d67f",
   "metadata": {},
   "source": [
    "In this example we will use voxels of size 1 pc containing mass $100$ $M_\\odot$ and density $10^4$ cm$^{-3}$. Each voxel will also need some velocity information, so we want $v_\\mathrm{vox}=0$ km s$^{-1}$ and $\\sigma_\\mathrm{ens}=1$ km s$^{-1}$. Finally the far-UV radiation (neglecting absorption) will be constant at $10^5$ $\\chi_D$. We will see later how accounting for absorption will affect the far-UV penetration."
   ]
  },
  {
   "cell_type": "code",
   "execution_count": 8,
   "id": "4a17b1ed-1476-47b8-a366-c83a6f8de12e",
   "metadata": {},
   "outputs": [
    {
     "data": {
      "text/plain": [
       "array(1.)"
      ]
     },
     "execution_count": 8,
     "metadata": {},
     "output_type": "execute_result"
    }
   ],
   "source": [
    "import numpy as np\n",
    "from scipy.interpolate import interp1d\n",
    "\n",
    "x = np.linspace(1, 10, num=10)\n",
    "y = np.ones_like(x)\n",
    "\n",
    "fx = interp1d(x, y, fill_value='extrapolate')\n",
    "fx(-5000)"
   ]
  },
  {
   "cell_type": "markdown",
   "id": "e5f8bbfe-b1f3-4d6f-ae50-a0aa96c564a1",
   "metadata": {},
   "source": [
    "## setting the model parameters"
   ]
  },
  {
   "cell_type": "markdown",
   "id": "e1071cb6-053d-4af9-a230-eef2a596ddc5",
   "metadata": {},
   "source": [
    "Now that we have grid files from which `kosmatau3d` will read the voxel properties, we simply need to pass the necessary parameters to the `Model` constructor."
   ]
  },
  {
   "cell_type": "code",
   "execution_count": null,
   "id": "04638766-96ea-498b-817d-3caced5015a8",
   "metadata": {},
   "outputs": [],
   "source": [
    "parameters = {\n",
    "              # Model information\n",
    "              'history_path': '',# r'/mnt/hpc_backup/yanitski/projects/pdr/KT3_history',\n",
    "              'directory': '',\n",
    "              'folder': 'HT99',\n",
    "              'x': 10,\n",
    "              'y': 5,\n",
    "              'z': 0,\n",
    "              'modelType': 'block',\n",
    "\n",
    "              # Model parameters\n",
    "              'resolution': 1,\n",
    "              'molecules': 'all',\n",
    "              # 'molecules': ['C+ 1', \n",
    "              #               'C 1', 'C 2', \n",
    "              #               'CO 1', 'CO 2', 'CO 3', 'CO 4', 'CO 5', \n",
    "              #               'CO 6', 'CO 7', 'CO 8', \n",
    "              #               '13C+ 1', \n",
    "              #               '13C 1', '13C 2', \n",
    "              #               '13CO 1', '13CO 2', '13CO 3', '13CO 4', '13CO 5', \n",
    "              #               '13CO 6', '13CO 7', '13CO 8', \n",
    "              #               'HCO+ 1', 'HCO+ 2', 'HCO+ 3', 'HCO+ 4', 'HCO+ 5'],\n",
    "              'dust': 'PAH',\n",
    "              # 'dust': ['240um', '550um'],\n",
    "              'clumpMassRange': [[-1, 2]],\n",
    "              'clumpMassNumber': [4],\n",
    "              'clumpNmax': [None],\n",
    "              'clumpLogFUV' : None,\n",
    "              'interclumpLogFUV' : None,\n",
    "              'velocityRange': [-10, 10],\n",
    "              'velocityNumber': 21,\n",
    "\n",
    "              # Flags\n",
    "              'suggested_calc': True,\n",
    "              'dilled': True,\n",
    "\n",
    "              # Property factors\n",
    "              'hi_mass_factor': 1,\n",
    "              'h2_mass_factor': 1,\n",
    "              'ensemble_mass_factor': [1, 1],\n",
    "              'fuv_factor': 1,\n",
    "              'density_factor': 1,\n",
    "              'interclump_hi_ratio': 1,\n",
    "              'r_cmz': 0,\n",
    "\n",
    "              # Logging\n",
    "              'timed': False,\n",
    "              'debug': False,\n",
    "              'verbose': False\n",
    "              }"
   ]
  }
 ],
 "metadata": {
  "kernelspec": {
   "display_name": "Python 3 (ipykernel)",
   "language": "python",
   "name": "python3"
  },
  "language_info": {
   "codemirror_mode": {
    "name": "ipython",
    "version": 3
   },
   "file_extension": ".py",
   "mimetype": "text/x-python",
   "name": "python",
   "nbconvert_exporter": "python",
   "pygments_lexer": "ipython3",
   "version": "3.8.5"
  }
 },
 "nbformat": 4,
 "nbformat_minor": 5
}
