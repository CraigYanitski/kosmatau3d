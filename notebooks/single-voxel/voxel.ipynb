{
 "cells": [
  {
   "cell_type": "markdown",
   "metadata": {
    "slideshow": {
     "slide_type": "slide"
    }
   },
   "source": [
    "# Single-voxel test"
   ]
  },
  {
   "cell_type": "markdown",
   "metadata": {
    "slideshow": {
     "slide_type": "slide"
    }
   },
   "source": [
    "This notebook will show some of the functionality of a single voxel instances.\n",
    "\n",
    " 1. The first example will examine a simple instance of a clump with only a few observed velocities. This example is fully worked-out with explanations for some of the steps hidden inside the voxel setup. It is compared to the analytical result to ensure accuracy, then repeated using more model velocities to show how the model becomes more accurate.\n",
    " 2. Next it will be shown how absorption within the voxel is handled. A couple of examples will be given highlighting different scenarios where there are different numbers of clumps in a line-of-sight. These begin by evaluating the model, then the result is analytically approximated to show the accuracy.\n",
    " 3. An example will be given to test the effect of the observed velocity dispersion on intensity.\n",
    " 4. An example showcasing the ability of the voxel to be resized in order to fit a given number of the largest clump. It still uses a simple model with just one clump mass, but will test the effect on intensity when the number of clumps is normalised to different amounts.\n",
    " 5. An example using multiple clump masses and showing how it affects the overall voxel emission. Here we repeat a previous example and just change which clump masses we use. Finally an example is given to show how a larger voxel with higher mass can produce the same intensity."
   ]
  },
  {
   "cell_type": "code",
   "execution_count": 1,
   "metadata": {},
   "outputs": [
    {
     "name": "stderr",
     "output_type": "stream",
     "text": [
      "qt.qpa.plugin: Could not find the Qt platform plugin \"wayland\" in \"\"\n"
     ]
    }
   ],
   "source": [
    "from kosmatau3d import models\n",
    "import numpy as np"
   ]
  },
  {
   "cell_type": "code",
   "execution_count": 2,
   "metadata": {},
   "outputs": [],
   "source": [
    "np.set_printoptions(precision=8)"
   ]
  },
  {
   "cell_type": "markdown",
   "metadata": {
    "slideshow": {
     "slide_type": "slide"
    }
   },
   "source": [
    "## Theoretical basis"
   ]
  },
  {
   "cell_type": "markdown",
   "metadata": {
    "slideshow": {
     "slide_type": "slide"
    }
   },
   "source": [
    "We need to ensure that we can replicate the intensity and optical depth that we would expect from a $10 \\ M_\\odot$ clump in the voxel. In order to do that, let us consider the $\\mathrm{C}^+ 1\\! \\rightarrow\\! 0$ and $^{13}\\mathrm{C}^+ 1\\! \\rightarrow\\! 0$ transitions and the first dust wavelength (3.1 mm). In the radiative transfer equation,\n",
    "\n",
    "\\begin{align}\n",
    "dI_\\nu =& - I_\\nu\\, \\kappa_\\nu\\, \\mathrm{d}s + \\epsilon_\\nu\\, \\mathrm{d}s, & \\\\\n",
    "I_\\nu =& S_\\nu\\, (1-\\mathrm{e}^{-\\tau_\\nu}) + I_\\mathrm{bg, \\nu}\\, \\mathrm{e}^{-\\tau_\\nu}, & (1) \\\\\n",
    "\\end{align}\n",
    "\n",
    "where $S_\\nu \\equiv \\frac{\\epsilon_\\nu}{\\kappa_\\nu}$, and we can assume $\\kappa$ and $\\epsilon$ (the absorption and emissivity coefficients, respectively) are constant in the voxel. These values are in principle a function of the observing velocity, $v_\\mathrm{obs}$. Therefore they are calculated using the voxel-averaged emmision:\n",
    "\n",
    "\\begin{align}\n",
    "\\kappa_\\nu (v_\\mathrm{obs}) =& \\frac{\\left<\\tau_\\nu\\right> (v_\\mathrm{obs})}{\\Delta s}, & (2) \\\\\n",
    "\\epsilon_\\nu (v_\\mathrm{obs}) =& \\frac{\\left<I_\\nu\\right> (v_\\mathrm{obs})}{\\Delta s}, & (3) \\\\\n",
    "\\end{align}\n",
    "\n",
    "In order to properly understand these voxel-averaged values, it is necessary to have some insight for what is happening inside the voxel. The clumpy PDR is approximated by an ensemble of spherically-symetric KOSMA-$\\tau$ 'clumps'. The ensemble of clumps has a Gaussian velocity distribution with dispersion $\\sigma_\\mathrm{ens}$, and each clump has an intrinsic velocity dispersion $\\sigma_\\mathrm{cl}$ (this value depends on which underlying KOSMA-$\\tau$ grid is used, but currently it is $\\sim0.71\\, \\frac{km}{s}$). The number of clumps with a particular mass ($N_j$) follows the mass spectrum:\n",
    "\n",
    "\\begin{align}\n",
    "\\frac{\\mathrm{d}N}{\\mathrm{d}M} =& A M^{-\\alpha}. & (4) \\\\\n",
    "\\end{align}\n",
    "\n",
    "Here we adopt $\\alpha\\! =\\! 1.84$ from Heithausen et al. (1998), and $A$ is a constant. Henceforth the subscript $j$ will refer to a property specific for clumps with mass $M_j$. Clumps can be observed with a particular radial velocity, so we also use the formalism of the subscript $i$ to refer to a property with radial velocity $v_i$. Note that this is a velocity within the voxel, not the observed velocity. The observed radial velocity is $v_\\mathrm{obs}$.\n",
    "\n",
    "Now the number of clumps with a particular radial velocity $v_i$ is determined by the number of clumps of a particular mass $N_j$ and velocity distribution of the ensemble $\\sigma_\\mathrm{ens}$.\n",
    "\n",
    "\\begin{align}\n",
    "\\Delta N_{j,i} (v_\\mathrm{obs}) =& \\frac{N_j}{\\sqrt{2 \\pi}\\, \\sigma_\\mathrm{ens}}\\, \\mathrm{exp} \\left( -\\frac{(v_\\mathrm{vox}-v_i)^2}{2 \\sigma_\\mathrm{ens}} \\right) \\Delta v, & (5) \\\\\n",
    "\\end{align}\n",
    "\n",
    "$p_{j,i}$ is the probability of having $k_{j,i}$ clumps in a line-of-sight observed at velocity $v_i$, determined by Binomial distribution of the number of clumps at that velocity:\n",
    "\n",
    "\\begin{align}\n",
    "p_{j,i} =& \\binom{N_{j,i}}{k_{j,i}} p_j^{k_{j,i}} (1-p_j)^{N_{j,i}-k_{j,i}}, & (6) \\\\\n",
    "\\end{align}\n",
    "\n",
    "Where $p_j$ is the area fraction of clump $j$. If $p_j N_{j,i}>5$, then a gaussian expression is used with $\\mu_{j,i} = p_j N_{j,i}$ and $\\sigma_{j,i} = \\sqrt{N_{j,i} p_j (1-p_j)}$.\n",
    "\n",
    "For having $k_{j,i}$ clumps in a line-of-sight, the intensity and optical depth ($I_{\\nu,j,i}$ \\& $\\tau_{\\nu,j,i}$) can be calculated. Here the subscript $\\nu$ means the properties refer to a particular transition (which is what we get from the KOSMA-$\\tau$ grid). \n",
    "\n",
    "\\begin{align}\n",
    "I_{\\nu,j,i} (v_{obs}) =& k_{j,i} I_{cl,j} \\mathrm{exp} \\left( \\frac{(v_i-v_\\mathrm{obs})^2}{2\\sigma_\\mathrm{cl}^2} \\right), & (7) \\\\\n",
    "\\tau_{\\nu,j,i} (v_{obs}) =& k_{j,i} \\tau_{cl,j} \\mathrm{exp} \\left( \\frac{(v_i-v_\\mathrm{obs})^2}{2\\sigma_\\mathrm{cl}^2} \\right). & (8) \\\\\n",
    "\\end{align}\n",
    "\n",
    "Finally the intensity and optical depth can be averaged over the voxel using all possible combinations and their corresponding probabilities to determine voxel properties we require.\n",
    "\n",
    "\\begin{align}\n",
    "\\left< I_\\nu \\right> (v_\\mathrm{obs}) =& \\sum_i \\left( \\prod_j p_{j,i}(k_{j,i}) \\right) \\left( \\sum_j k_{j,i} I_{\\nu,j,i} (v_\\mathrm{obs}) \\right), & (9)\\\\\n",
    "\\left< \\tau_\\nu \\right> (v_\\mathrm{obs}) =& -\\mathrm{ln} \\left[ \\sum_i \\left( \\prod_j p_{j,i}(k_{j,i}) \\right) \\ \\mathrm{exp} \\left( - \\sum_j k_{j,i} \\tau_{\\nu,j,i} (v_\\mathrm{obs}) \\right) \\right]. & (10) \\\\\n",
    "\\end{align}\n",
    "\n",
    "Here the sums and products ensure we consider contributions from all clump masses at all radial velocities, since there is a velocity dispersion to each clump's intensity and optical depth. Now we can finally substitute these into the radiative transfer equation to determine the intensity we expect to observe from this voxel.\n",
    "\n",
    "\\begin{align}\n",
    "I_{\\mathrm{vox},\\nu} (v_\\mathrm{obs}) =& \\frac{\\epsilon_\\nu (v_\\mathrm{obs})}{\\kappa_\\nu (v_\\mathrm{obs})} \\left( 1 - e^{-\\kappa_\\nu (v_{obs}) \\Delta s} \\right) + I_\\mathrm{bg} e^{-\\kappa_\\nu (v_\\mathrm{obs}) \\Delta s}. & (11) \\\\\n",
    "\\end{align}"
   ]
  },
  {
   "cell_type": "markdown",
   "metadata": {
    "slideshow": {
     "slide_type": "slide"
    }
   },
   "source": [
    "## 1. Simple voxel"
   ]
  },
  {
   "cell_type": "markdown",
   "metadata": {
    "slideshow": {
     "slide_type": "fragment"
    }
   },
   "source": [
    "### Model result"
   ]
  },
  {
   "cell_type": "markdown",
   "metadata": {
    "slideshow": {
     "slide_type": "fragment"
    }
   },
   "source": [
    "We want to consider a small mass of clumps in a reasonably-large voxel. The instance can be initialised easily, but the voxel properties will require kwargs. The full list of kwargs can be seen in `Voxel.py`. We will define the kwargs as `parameters` for convenience, since it contains all of the arguments needed for setting the model and thus how the intensity and optical depth are calculated. At the moment this is a very long dictionary, so please let me know if you have any suggestions to make this simpler. It currently shows which kwargs affect the model and which kwargs set the actual voxel properties."
   ]
  },
  {
   "cell_type": "markdown",
   "metadata": {},
   "source": [
    "#### Grid Parameters"
   ]
  },
  {
   "cell_type": "markdown",
   "metadata": {},
   "source": [
    "- *clump grids*\n",
    "  - `clump_tau_grid_file`: The grid file containing clump-averaged optical \n",
    "  depth. \n",
    "  The default file, `clump_tau_LineCenter.dat`, has the dust optical depth grid \n",
    "  appended to the transition line optical depth grid.\n",
    "  - `clump_tb_grid_file`: The grid file containing clump-averaged intensity. \n",
    "  The default file, `clump_Tmb_LineCenter.dat`, has the dust intensity grid \n",
    "  appended to the transition line intensity grid.\n",
    "  - `clump_taufuv_grid_file`: The far-UV extinction grid.\n",
    "  The default grid is `RhoMassAFUV.dat`.\n",
    "  - `clump_column_density_file`: The mean column density grid.\n",
    "  The default grid is `clumpMeanCols.dat`.\n",
    "  - `clump_temperature_file`: The clump-averaged temperature grid.\n",
    "  The default grid is `clumpTemperatures_filled.dat`\n",
    "- *interclump grids*\n",
    "  - `interclump_tau_grid_file`:  The grid file containing clump-averaged \n",
    "  transition line optical depth. \n",
    "  The default file is `interclumpTauLineCenter.dat`.\n",
    "  - `interclump_tb_grid_file`: The grid file containing clump-averaged \n",
    "  transition line intensity. \n",
    "  The default file is `interclumpTmbLineCenter.dat`.\n",
    "  - `interclump_dust_tau_grid_file`: The grid file containing clump-averaged \n",
    "  dust continuum optical depth. \n",
    "  The default file is `interclumpDustTau.dat`,\n",
    "  - `interclump_dust_tb_grid_file`:  The grid file containing clump-averaged \n",
    "  dust continuum intensity. \n",
    "  The default file is `interclumpDustSED.dat`,\n",
    "  - `interclump_taufuv_grid_file`: The far-UV extinction grid.\n",
    "  The default grid is `interclumpTauFUV.dat`,\n",
    "  - `interclump_column_density_file`: The mean column density grid.\n",
    "  The default grid is `interclumpMeanCols.dat`,\n",
    "  - `interclump_temperature_file`: The clump-averaged temperature grid.\n",
    "  The default grid is `interclumpTemperatures_filled.dat`,"
   ]
  },
  {
   "cell_type": "markdown",
   "metadata": {},
   "source": [
    "#### Model Parameters"
   ]
  },
  {
   "cell_type": "markdown",
   "metadata": {},
   "source": [
    "- `voxel_size`: The size in parsecs of the voxel. The default is $1 pc$.\n",
    "- `molecules`: This is a list of the species transitions included in the model. At the moment this is a string with '[molecule] [transition]'. The default is 'all' to include all species and transitions.\n",
    "- `dust`: This is a list of dust wavelengths to include in the model. This must be set to specific values in `constants.dustNames`, 'molecular' for $50 \\mu m < \\lambda < 3.1 mm$, 'PAH' for $5 \\mu m < \\lambda < 3.1 mm$, or 'all' for all available wavelengths ($1 nm < \\lambda < 3.1 mm$). Using more wavelengths increases computation time, and wavelengths less than $91 nm$ ($13.6 eV$) are not calculated.\n",
    "- `alpha`: The exponent used in the mass spectrum power law for the clumps. The default is 1.84 as in Heithausen (1995).\n",
    "- `gamma`: The exponent used in the mass-radius power law for the clumps. The default is 2.31 as in Heithausen (1995).\n",
    "- `clumpMassRange`: KOSMA-$\\tau^3$ accepts a list of clump types to be included in the model. The argument supplied here therefore is a list of clump mass ranges, specified in $dex(M_\\odot)$. The values are interpolated from the KOSMA-$\\tau$ grid included with this package, which covers the range $[-3, 3] \\ dex$. By default this is [[0, 2], [-2]] to model the clump and diffuse interclump regions.\n",
    "- `clumpMassNumber`: This specifies the number of different clump masses in the model. This should be a list with the length of the number of clump sets you want modelled. By default it is [3,1].\n",
    "- `clumpNmax`: This is used for normalising the number of clumps that are calculated. This should be a list with the length of the number of clump sets you want modelled. If a float or int is given, that is the value used for each clump set. By default it is set to [1,100]\n",
    "- `velocityRange`: The range of observing velocities in the model, in $\\frac{km}{s}$. By default it is set to $[-10, 10]$. This does not affect the internal system velocities.\n",
    "- `velocityNumber`: The number of observing velocities in `velocityRange`. By default it is set to $201$. This does not affect the internal system velocities."
   ]
  },
  {
   "cell_type": "markdown",
   "metadata": {},
   "source": [
    "#### Voxel Parameters"
   ]
  },
  {
   "cell_type": "markdown",
   "metadata": {},
   "source": [
    "- `velocity`: The mean radial velocity of the clumps in the voxel in $\\frac{km}{s}$. The default is $0 \\frac{km}{s}$.\n",
    "- `ensembleDispersion`: The velocity dispersion of the emissivity and absorption in the voxel. This should be a list with the length of the number of clump sets you want modelled. If a float or int is given, that is the value used for each clump set. The lower limit is the intrinsic velocity dispersion of each clump. The default is $[2, 5] \\ \\frac{km}{s}$.\n",
    "- `volumeFactor`: The fraction of the voxel filled with the model clumps. Setting this kwarg will calculate the mean ensemble density from the `ensembleMass` and `voxel_size`, overriding any value given to the `ensembleDensity` kwarg.\n",
    "- `ensembleMass`: The ensemble mass to be modeled in the voxel in $M_\\odot$. This should be a list with the length of the number of clump sets you want modelled. If a float or int is given, that is the value used for each clump set. The default is $100 \\ M_\\odot$.\n",
    "- `ensembleDensity`: The mean ensemble density in $cm^{-3}$ of the voxel, which is used to calculate the density of each clump. This should be a list with the length of the number of clump sets you want modelled. If a float or int is given, that is the value used for each clump set. These are interpolated from the KOSMA-$\\tau$ grid included with this package, which covers the range $[10^3, 10^7] \\ cm^{-3}$. The default is $[15000, 1911] \\ cm^{-3}$.\n",
    "- `FUV`: The FUV radiation in Draine units of the voxel. This should be a list with the length of the number of clump sets you want modelled. If a float or int is given, that is the value used for each clump set. These are interpolated from the KOSMA-$\\tau$ grid included with this package, which covers the range $[10^0, 10^6] \\ \\chi_0$. The default is $[20000, 1] \\ \\chi_0$.\n",
    "- `crir`: The cosmic ray ionisation rate per hydrogen atom, $\\zeta_H$, which covers the range $[2 \\times 10^{-16}, 10^{-13}] \\ s^{-1}$. The default is the local value, $2 \\times 10^{-16} s^{-1}$."
   ]
  },
  {
   "cell_type": "markdown",
   "metadata": {},
   "source": [
    "#### set properties"
   ]
  },
  {
   "cell_type": "markdown",
   "metadata": {
    "slideshow": {
     "slide_type": "subslide"
    }
   },
   "source": [
    "The voxel we want to make will only have one observing velocity and one clump mass so there is only one clump in the ensemble. For now we do not need more than one clump set, so the lists in model parameters for ensemble velocity dispersion, clump mass, ensemble density, and FUV radiation should all have length $1$. The ensemble density and FUV radiation of the voxel is $10^5 \\ cm^{-3}$ and $10^4 \\ \\chi_0$, respectively. We want to create just one $10 \\ M_\\odot$ clump, so we use an ensemble velocity dispersion of $0 \\ \\frac{km}{s}$. After these values are set accordingly, unpack and pass the `parameters` disctionary to the `Voxel.setProperties` method."
   ]
  },
  {
   "cell_type": "code",
   "execution_count": 324,
   "metadata": {
    "slideshow": {
     "slide_type": "slide"
    }
   },
   "outputs": [
    {
     "name": "stdout",
     "output_type": "stream",
     "text": [
      "CPU times: user 15.5 ms, sys: 0 ns, total: 15.5 ms\n",
      "Wall time: 14.1 ms\n"
     ]
    }
   ],
   "source": [
    "%%time\n",
    "\n",
    "# Use these to change the voxel properties, which is necessary in the default mode.\n",
    "parameters = {\n",
    "              # Grid parameters\n",
    "              'clump_tau_grid_file': 'clump_tau_LineCenter.dat',\n",
    "              'clump_tb_grid_file': 'clump_Tmb_LineCenter.dat',\n",
    "              'clump_taufuv_grid_file': 'RhoMassAFUV.dat',\n",
    "              'clump_column_density_file': 'clumpMeanCols.dat',\n",
    "              'clump_temperature_file': 'clumpTemperatures_filled.dat',\n",
    "              'interclump_tau_grid_file': 'interclumpTauLineCenter.dat',\n",
    "              'interclump_tb_grid_file': 'interclumpTmbLineCenter.dat',\n",
    "              'interclump_dust_tau_grid_file': 'interclumpDustTau.dat',\n",
    "              'interclump_dust_tb_grid_file': 'interclumpDustSED.dat',\n",
    "              'interclump_taufuv_grid_file': 'interclumpTauFUV.dat',\n",
    "              'interclump_column_density_file': 'interclumpMeanCols.dat',\n",
    "              'interclump_temperature_file': 'interclumpTemperatures_filled.dat',\n",
    "\n",
    "               # Model parameters\n",
    "               'voxel_size' : 0.2,\n",
    "               'transitions' : 'all',\n",
    "               'abundances': ['ELECTR', 'H', 'H2', 'H+'],\n",
    "               'dust' : 'PAH',\n",
    "               'clump_mass_range' : [[1]],\n",
    "               'clump_mass_number' : [1],\n",
    "               'clump_n_max' : [1],\n",
    "               'velocity_range' : [-10, 10],\n",
    "               'velocity_number' : 101,\n",
    "               'suggested_calc' : True,\n",
    "               'interclump_idx': [False,],\n",
    "\n",
    "               # Voxel properties\n",
    "               'velocity' : 0.,\n",
    "               'ensemble_dispersion' : 2,\n",
    "               'ensemble_mass' : 1e1,\n",
    "               'ensemble_density' : 1e5,\n",
    "               'fuv' : 1e5,\n",
    "               }\n",
    "\n",
    "vox = models.Voxel()\n",
    "vox.set_properties(**parameters)"
   ]
  },
  {
   "cell_type": "markdown",
   "metadata": {},
   "source": [
    "Here we can verify that we are modelling an appropriate clump mass. These should be exactly the same since there is no velocity dispersion.\n",
    "\n",
    "*Note:* This check is not functioning correctly with the new calculation."
   ]
  },
  {
   "cell_type": "code",
   "execution_count": 325,
   "metadata": {},
   "outputs": [
    {
     "data": {
      "text/plain": [
       "[10.0]"
      ]
     },
     "execution_count": 325,
     "metadata": {},
     "output_type": "execute_result"
    }
   ],
   "source": [
    "vox.get_ensemble_mass() #mass of the ensemble to be modelled in M_sol. This is merely the input given to vox.setProperties()."
   ]
  },
  {
   "cell_type": "code",
   "execution_count": 326,
   "metadata": {},
   "outputs": [
    {
     "data": {
      "text/plain": [
       "[53.35293401933454]"
      ]
     },
     "execution_count": 326,
     "metadata": {},
     "output_type": "execute_result"
    }
   ],
   "source": [
    "vox.get_model_mass() #mass of the clumps that have been modelled in M_sol. This is the mass of the voxel represented in clumps, which may differ from the input due to discretisation."
   ]
  },
  {
   "cell_type": "markdown",
   "metadata": {},
   "source": [
    "We can also verify the volume-filling factor to ensure it is less that $1$. (i.e. The ensemble volume is less than the voxel volume.) We only have one clump in this example, so this should be the case."
   ]
  },
  {
   "cell_type": "code",
   "execution_count": 327,
   "metadata": {},
   "outputs": [
    {
     "data": {
      "text/plain": [
       "[0.5058255625563578]"
      ]
     },
     "execution_count": 327,
     "metadata": {},
     "output_type": "execute_result"
    }
   ],
   "source": [
    "vox.get_volume_filling_factor()"
   ]
  },
  {
   "cell_type": "markdown",
   "metadata": {},
   "source": [
    "That works fine. It is important to note that there are numerous things going on in this method, such as\n",
    "\n",
    " - setting the voxel properties (mass, density, FUV field),\n",
    " - reading the molecules available on the grid,\n",
    " - determining the intensity (in K) and optical depth from each clump in the model,\n",
    " - calculating how many clumps are at each observed radial velocity,\n",
    " - and calculating the clump combinations\n",
    " \n",
    "We can check all of these directly from their corresponding sub-modules. To check the model parameters, examine the `constants` sub-module (so-called since it contains values constant in the model, not values that are always constant). We can verify our model clumps, observed velocities, and check which species transitions and dust wavelengths we can calculate. Note that the clump properties are lists since you can evaluate more than one set of clumps. We only evaluated one set, so we only need the first (only) element."
   ]
  },
  {
   "cell_type": "code",
   "execution_count": 328,
   "metadata": {},
   "outputs": [
    {
     "data": {
      "text/plain": [
       "array([[1.]])"
      ]
     },
     "execution_count": 328,
     "metadata": {},
     "output_type": "execute_result"
    }
   ],
   "source": [
    "models.constants.clump_log_mass[0] #in dex(M_sol)"
   ]
  },
  {
   "cell_type": "code",
   "execution_count": 329,
   "metadata": {},
   "outputs": [
    {
     "data": {
      "text/plain": [
       "array([-10. ,  -9.8,  -9.6,  -9.4,  -9.2,  -9. ,  -8.8,  -8.6,  -8.4,\n",
       "        -8.2,  -8. ,  -7.8,  -7.6,  -7.4,  -7.2,  -7. ,  -6.8,  -6.6,\n",
       "        -6.4,  -6.2,  -6. ,  -5.8,  -5.6,  -5.4,  -5.2,  -5. ,  -4.8,\n",
       "        -4.6,  -4.4,  -4.2,  -4. ,  -3.8,  -3.6,  -3.4,  -3.2,  -3. ,\n",
       "        -2.8,  -2.6,  -2.4,  -2.2,  -2. ,  -1.8,  -1.6,  -1.4,  -1.2,\n",
       "        -1. ,  -0.8,  -0.6,  -0.4,  -0.2,   0. ,   0.2,   0.4,   0.6,\n",
       "         0.8,   1. ,   1.2,   1.4,   1.6,   1.8,   2. ,   2.2,   2.4,\n",
       "         2.6,   2.8,   3. ,   3.2,   3.4,   3.6,   3.8,   4. ,   4.2,\n",
       "         4.4,   4.6,   4.8,   5. ,   5.2,   5.4,   5.6,   5.8,   6. ,\n",
       "         6.2,   6.4,   6.6,   6.8,   7. ,   7.2,   7.4,   7.6,   7.8,\n",
       "         8. ,   8.2,   8.4,   8.6,   8.8,   9. ,   9.2,   9.4,   9.6,\n",
       "         9.8,  10. ])"
      ]
     },
     "execution_count": 329,
     "metadata": {},
     "output_type": "execute_result"
    }
   ],
   "source": [
    "models.constants.velocity_range #in km/s"
   ]
  },
  {
   "cell_type": "code",
   "execution_count": 330,
   "metadata": {},
   "outputs": [
    {
     "data": {
      "text/plain": [
       "['C+ 1',\n",
       " 'C 1',\n",
       " 'C 2',\n",
       " 'C 3',\n",
       " 'O 1',\n",
       " 'O 2',\n",
       " 'O 3',\n",
       " 'CO 1',\n",
       " 'CO 2',\n",
       " 'CO 3',\n",
       " 'CO 4',\n",
       " 'CO 5',\n",
       " 'CO 6',\n",
       " 'CO 7',\n",
       " 'CO 8',\n",
       " 'CO 9',\n",
       " 'CO 10',\n",
       " 'CO 11',\n",
       " 'CO 12',\n",
       " 'CO 13',\n",
       " 'CO 14',\n",
       " 'CO 15',\n",
       " 'CO 16',\n",
       " 'CO 17',\n",
       " 'CO 18',\n",
       " 'CO 19',\n",
       " 'CO 20',\n",
       " 'CO 21',\n",
       " 'CO 22',\n",
       " 'CO 23',\n",
       " 'CO 24',\n",
       " 'CO 25',\n",
       " 'CO 26',\n",
       " 'CO 27',\n",
       " 'CO 28',\n",
       " 'CO 29',\n",
       " 'CO 30',\n",
       " 'CO 31',\n",
       " 'CO 32',\n",
       " 'CO 33',\n",
       " 'CO 34',\n",
       " 'CO 35',\n",
       " 'CO 36',\n",
       " 'CO 37',\n",
       " 'CO 38',\n",
       " 'CO 39',\n",
       " 'CO 40',\n",
       " 'CO 41',\n",
       " 'CO 42',\n",
       " 'CO 43',\n",
       " 'CO 44',\n",
       " 'CO 45',\n",
       " 'CO 46',\n",
       " 'CO 47',\n",
       " 'CO 48',\n",
       " 'CO 49',\n",
       " '13CO 1',\n",
       " '13CO 2',\n",
       " '13CO 3',\n",
       " '13CO 4',\n",
       " '13CO 5',\n",
       " '13CO 6',\n",
       " '13CO 7',\n",
       " '13CO 8',\n",
       " '13CO 9',\n",
       " '13CO 10',\n",
       " '13CO 11',\n",
       " '13CO 12',\n",
       " '13CO 13',\n",
       " '13CO 14',\n",
       " '13CO 15',\n",
       " '13CO 16',\n",
       " '13CO 17',\n",
       " '13CO 18',\n",
       " '13CO 19',\n",
       " '13CO 20',\n",
       " '13CO 21',\n",
       " '13CO 22',\n",
       " '13CO 23',\n",
       " '13CO 24',\n",
       " '13CO 25',\n",
       " '13CO 26',\n",
       " '13CO 27',\n",
       " '13CO 28',\n",
       " '13CO 29',\n",
       " '13CO 30',\n",
       " '13CO 31',\n",
       " '13CO 32',\n",
       " '13CO 33',\n",
       " '13CO 34',\n",
       " '13CO 35',\n",
       " '13CO 36',\n",
       " '13CO 37',\n",
       " '13CO 38',\n",
       " '13CO 39',\n",
       " '13CO 40',\n",
       " '13CO 41',\n",
       " '13CO 42',\n",
       " '13CO 43',\n",
       " '13CO 44',\n",
       " '13CO 45',\n",
       " '13CO 46',\n",
       " '13CO 47',\n",
       " '13CO 48',\n",
       " '13CO 49',\n",
       " '13C+ 1',\n",
       " '13C 1',\n",
       " '13C 2',\n",
       " '13C 3',\n",
       " 'HCO+ 1',\n",
       " 'HCO+ 2',\n",
       " 'HCO+ 3',\n",
       " 'HCO+ 4',\n",
       " 'HCO+ 5',\n",
       " 'HCO+ 6',\n",
       " 'HCO+ 7',\n",
       " 'HCO+ 8',\n",
       " 'HCO+ 9',\n",
       " 'HCO+ 10',\n",
       " 'HCO+ 11',\n",
       " 'HCO+ 12',\n",
       " 'HCO+ 13',\n",
       " 'HCO+ 14',\n",
       " 'HCO+ 15',\n",
       " 'H13CO+ 1',\n",
       " 'H13CO+ 2',\n",
       " 'H13CO+ 3',\n",
       " 'H13CO+ 4',\n",
       " 'H13CO+ 5',\n",
       " 'H13CO+ 6',\n",
       " 'H13CO+ 7',\n",
       " 'H13CO+ 8',\n",
       " 'H13CO+ 9',\n",
       " 'H13CO+ 10',\n",
       " 'H13CO+ 11',\n",
       " 'H13CO+ 12',\n",
       " 'H13CO+ 13',\n",
       " 'H13CO+ 14',\n",
       " 'H13CO+ 15',\n",
       " 'H13CO+ 16',\n",
       " 'H13CO+ 17',\n",
       " 'H13CO+ 18',\n",
       " 'H13CO+ 19',\n",
       " 'H13CO+ 20',\n",
       " 'H13CO+ 21',\n",
       " 'H13CO+ 22',\n",
       " 'H13CO+ 23',\n",
       " 'H13CO+ 24',\n",
       " 'H13CO+ 25',\n",
       " 'H13CO+ 26',\n",
       " 'H13CO+ 27',\n",
       " 'H13CO+ 28',\n",
       " 'H13CO+ 29',\n",
       " 'H13CO+ 30',\n",
       " 'H3O+ 1',\n",
       " 'H3O+ 2',\n",
       " 'H3O+ 3',\n",
       " 'H3O+ 4',\n",
       " 'H3O+ 5',\n",
       " 'H3O+ 6',\n",
       " 'H3O+ 7',\n",
       " 'H3O+ 8',\n",
       " 'H3O+ 9',\n",
       " 'H3O+ 10',\n",
       " 'H3O+ 11',\n",
       " 'H3O+ 12',\n",
       " 'H3O+ 13',\n",
       " 'H3O+ 14',\n",
       " 'H3O+ 15',\n",
       " 'H3O+ 16',\n",
       " 'H3O+ 17']"
      ]
     },
     "execution_count": 330,
     "metadata": {},
     "output_type": "execute_result"
    }
   ],
   "source": [
    "models.species.clump_transitions#.reshape(-1,1)"
   ]
  },
  {
   "cell_type": "code",
   "execution_count": 331,
   "metadata": {},
   "outputs": [
    {
     "data": {
      "text/plain": [
       "array(['3.1mm', '2.4mm', '1.8mm', '1.3mm', '1.0mm', '850um', '700um',\n",
       "       '550um', '420um', '300um', '240um', '188.4um', '177.8um',\n",
       "       '167.9um', '158.5um', '149.6um', '141.3um', '133.4um', '125.9um',\n",
       "       '118.9um', '112.2um', '105.9um', '100.0um', '94.41um', '89.13um',\n",
       "       '84.14um', '79.43um', '74.99um', '70.79um', '66.83um', '63.1um',\n",
       "       '59.57um', '56.23um', '53.09um', '50.12um', '47.32um', '44.67um',\n",
       "       '44.28um', '42.75um', '41.33um', '39.99um', '38.74um', '37.57um',\n",
       "       '36.47um', '35.42um', '34.44um', '33.51um', '32.63um', '31.79um',\n",
       "       '31.um', '30.24um', '29.52um', '28.83um', '28.18um', '27.55um',\n",
       "       '26.95um', '26.38um', '25.83um', '25.3um', '24.8um', '24.31um',\n",
       "       '23.84um', '23.39um', '22.96um', '22.54um', '22.14um', '21.75um',\n",
       "       '21.38um', '21.01um', '20.66um', '20.32um', '20.um', '19.68um',\n",
       "       '19.37um', '19.07um', '18.79um', '18.5um', '18.23um', '17.97um',\n",
       "       '17.71um', '17.46um', '17.22um', '16.98um', '16.75um', '16.53um',\n",
       "       '16.31um', '16.1um', '15.89um', '15.69um', '15.5um', '15.31um',\n",
       "       '15.12um', '14.94um', '14.42um', '13.93um', '13.78um', '13.62um',\n",
       "       '13.48um', '13.33um', '13.19um', '13.05um', '12.91um', '12.78um',\n",
       "       '12.65um', '12.52um', '12.4um', '12.28um', '12.15um', '12.04um',\n",
       "       '11.92um', '11.81um', '11.7um', '11.59um', '11.48um', '11.37um',\n",
       "       '11.27um', '11.17um', '11.07um', '10.97um', '10.88um', '10.78um',\n",
       "       '10.69um', '10.6um', '10.51um', '10.42um', '10.33um', '10.16um',\n",
       "       '10.08um', '9.998um', '9.918um', '9.84um', '9.762um', '9.686um',\n",
       "       '9.611um', '9.537um', '9.464um', '9.392um', '9.322um', '9.252um',\n",
       "       '9.184um', '9.116um', '9.05um', '8.984um', '8.919um', '8.856um',\n",
       "       '8.793um', '8.731um', '8.67um', '8.61um', '8.55um', '8.492um',\n",
       "       '8.434um', '8.377um', '8.321um', '8.265um', '8.211um', '8.157um',\n",
       "       '8.103um', '8.051um', '7.999um', '7.947um', '7.897um', '7.847um',\n",
       "       '7.797um', '7.749um', '7.701um', '7.653um', '7.606um', '7.56um',\n",
       "       '7.514um', '7.424um', '7.38um', '7.336um', '7.293um', '7.25um',\n",
       "       '7.208um', '7.166um', '7.125um', '7.085um', '7.044um', '7.005um',\n",
       "       '6.965um', '6.926um', '6.888um', '6.85um', '6.812um', '6.775um',\n",
       "       '6.738um', '6.702um', '6.595um', '6.491um', '6.391um', '6.293um',\n",
       "       '6.199um', '6.107um', '5.989um', '5.904um', '5.793um', '5.61um',\n",
       "       '5.39um', '5.209um', '4.999um', '4.805um', '4.592um', '4.396um',\n",
       "       '4.203um', '3.999um', '3.936um', '3.874um', '3.815um', '3.757um',\n",
       "       '3.701um', '3.647um', '3.594um', '3.542um', '3.492um', '3.444um',\n",
       "       '3.397um', '3.342um', '3.324um', '3.306um', '3.297um', '3.29um',\n",
       "       '3.28um', '3.246um', '3.204um', '3.099um', '3.002um', '2.8um',\n",
       "       '2.661um', '2.512um', '2.371um', '2.239um', '2.113um', '1.995um',\n",
       "       '1.884um', '1.778um', '1.679um', '1.585um', '1.496um', '1.413um',\n",
       "       '1.334um', '1.259um', '1.189um', '1.122um', '1.059um', '1.um',\n",
       "       '944.1nm', '891.3nm', '841.4nm', '794.3nm', '749.9nm', '707.9nm',\n",
       "       '668.3nm', '631nm', '595.7nm', '562.3nm', '530.9nm', '501.2nm',\n",
       "       '473.2nm', '446.7nm', '421.7nm', '398.1nm', '375.8nm', '354.8nm',\n",
       "       '335nm', '316.2nm', '298.5nm', '281.8nm', '266.1nm', '251.2nm',\n",
       "       '237.1nm', '223.9nm', '211.3nm', '199.5nm', '188.4nm', '177.8nm',\n",
       "       '167.9nm', '158.5nm', '149.6nm', '141.3nm', '133.4nm', '125.9nm',\n",
       "       '121.6nm', '118.9nm', '112.2nm', '105.9nm', '100nm', '94.41nm',\n",
       "       '89.13nm', '84.14nm', '79.43nm', '74.99nm', '70.79nm', '66.83nm',\n",
       "       '63.1nm', '59.57nm', '58.4nm', '56.23nm', '53.09nm', '50.12nm',\n",
       "       '47.32nm', '44.67nm', '42.17nm', '39.81nm', '37.58nm', '35.48nm',\n",
       "       '33.5nm', '31.62nm', '30.4nm', '29.85nm', '28.18nm', '26.61nm',\n",
       "       '25.12nm', '23.71nm', '22.39nm', '19.95nm', '17.78nm', '15.85nm',\n",
       "       '14.13nm', '12.59nm', '11.22nm', '10.6nm', '10nm', '9nm', '8nm',\n",
       "       '7nm', '6nm', '5nm', '4nm', '3nm', '2nm', '1nm'], dtype='<U7')"
      ]
     },
     "execution_count": 331,
     "metadata": {},
     "output_type": "execute_result"
    }
   ],
   "source": [
    "models.constants.dust_names"
   ]
  },
  {
   "cell_type": "markdown",
   "metadata": {},
   "source": [
    "The `ensemble` sub-module takes the voxel properties and combines it with the model velocities to calculate the ensemble distribution, ie. how many clumps are observed at each velocity. This *binning* is described in Silke's thesis. If you have $N_j$ clumps of mass $j$, the number of clumps with velocity $i$ is,\n",
    "\n",
    "$$\n",
    "\\Delta N_{j,i} = \\frac{N_j}{\\sqrt{2 \\pi} \\sigma_\\mathrm{ens}} exp \\left(-\\frac{(v_\\mathrm{vox}-v_i)^2}{2(\\sigma_\\mathrm{ens})^2}\\right) \\Delta v\n",
    "$$\n",
    "\n",
    "Here $\\sigma_\\mathrm{ens}$ is the velocity dispersion of the ensemble, $v_\\mathrm{vox}$ is the radial velocity of the voxel (which is 0 for our test case), and $\\Delta v$ is the velocity bin size. We can check the value of this quantity using one of the methods in `ensemble`."
   ]
  },
  {
   "cell_type": "code",
   "execution_count": 332,
   "metadata": {},
   "outputs": [
    {
     "name": "stdout",
     "output_type": "stream",
     "text": [
      "\n",
      "C L U M P   S E T   1\n",
      "\n",
      "Nj:\n",
      "[[1.]]\n",
      "delta Nji:\n",
      "[[0.0039]\n",
      " [0.0053]\n",
      " [0.007 ]\n",
      " [0.0093]\n",
      " [0.0121]\n",
      " [0.0156]\n",
      " [0.0199]\n",
      " [0.0252]\n",
      " [0.0315]\n",
      " [0.0391]\n",
      " [0.048 ]\n",
      " [0.0583]\n",
      " [0.0702]\n",
      " [0.0836]\n",
      " [0.0986]\n",
      " [0.1151]\n",
      " [0.1331]\n",
      " [0.1523]\n",
      " [0.1726]\n",
      " [0.1936]\n",
      " [0.2151]\n",
      " [0.2365]\n",
      " [0.2575]\n",
      " [0.2775]\n",
      " [0.2962]\n",
      " [0.3129]\n",
      " [0.3273]\n",
      " [0.339 ]\n",
      " [0.3476]\n",
      " [0.3528]\n",
      " [0.3546]\n",
      " [0.3528]\n",
      " [0.3476]\n",
      " [0.339 ]\n",
      " [0.3273]\n",
      " [0.3129]\n",
      " [0.2962]\n",
      " [0.2775]\n",
      " [0.2575]\n",
      " [0.2365]\n",
      " [0.2151]\n",
      " [0.1936]\n",
      " [0.1726]\n",
      " [0.1523]\n",
      " [0.1331]\n",
      " [0.1151]\n",
      " [0.0986]\n",
      " [0.0836]\n",
      " [0.0702]\n",
      " [0.0583]\n",
      " [0.048 ]\n",
      " [0.0391]\n",
      " [0.0315]\n",
      " [0.0252]\n",
      " [0.0199]\n",
      " [0.0156]\n",
      " [0.0121]\n",
      " [0.0093]\n",
      " [0.007 ]\n",
      " [0.0053]\n",
      " [0.0039]]\n",
      "\n",
      "Normalised Nj:\n",
      "[[1.]]\n",
      "Normalised delta Nj:\n",
      "[[1.]\n",
      " [1.]\n",
      " [1.]\n",
      " [1.]\n",
      " [1.]\n",
      " [1.]\n",
      " [1.]\n",
      " [1.]\n",
      " [1.]\n",
      " [1.]\n",
      " [1.]\n",
      " [1.]\n",
      " [1.]\n",
      " [1.]\n",
      " [1.]\n",
      " [1.]\n",
      " [1.]\n",
      " [1.]\n",
      " [1.]\n",
      " [1.]\n",
      " [1.]\n",
      " [1.]\n",
      " [1.]\n",
      " [1.]\n",
      " [1.]\n",
      " [1.]\n",
      " [1.]\n",
      " [1.]\n",
      " [1.]\n",
      " [1.]\n",
      " [1.]\n",
      " [1.]\n",
      " [1.]\n",
      " [1.]\n",
      " [1.]\n",
      " [1.]\n",
      " [1.]\n",
      " [1.]\n",
      " [1.]\n",
      " [1.]\n",
      " [1.]\n",
      " [1.]\n",
      " [1.]\n",
      " [1.]\n",
      " [1.]\n",
      " [1.]\n",
      " [1.]\n",
      " [1.]\n",
      " [1.]\n",
      " [1.]\n",
      " [1.]\n",
      " [1.]\n",
      " [1.]\n",
      " [1.]\n",
      " [1.]\n",
      " [1.]\n",
      " [1.]\n",
      " [1.]\n",
      " [1.]\n",
      " [1.]\n",
      " [1.]]\n",
      "\n"
     ]
    }
   ],
   "source": [
    "models.ensemble.print_ensembleparameters()"
   ]
  },
  {
   "cell_type": "code",
   "execution_count": 333,
   "metadata": {},
   "outputs": [
    {
     "data": {
      "text/plain": [
       "[array([[1.]])]"
      ]
     },
     "execution_count": 333,
     "metadata": {},
     "output_type": "execute_result"
    }
   ],
   "source": [
    "models.ensemble.clumpNj"
   ]
  },
  {
   "cell_type": "code",
   "execution_count": 334,
   "metadata": {},
   "outputs": [
    {
     "data": {
      "text/plain": [
       "[array([[0.0039, 0.0053, 0.007 , 0.0093, 0.0121, 0.0156, 0.0199, 0.0252,\n",
       "         0.0315, 0.0391, 0.048 , 0.0583, 0.0702, 0.0836, 0.0986, 0.1151,\n",
       "         0.1331, 0.1523, 0.1726, 0.1936, 0.2151, 0.2365, 0.2575, 0.2775,\n",
       "         0.2962, 0.3129, 0.3273, 0.339 , 0.3476, 0.3528, 0.3546, 0.3528,\n",
       "         0.3476, 0.339 , 0.3273, 0.3129, 0.2962, 0.2775, 0.2575, 0.2365,\n",
       "         0.2151, 0.1936, 0.1726, 0.1523, 0.1331, 0.1151, 0.0986, 0.0836,\n",
       "         0.0702, 0.0583, 0.048 , 0.0391, 0.0315, 0.0252, 0.0199, 0.0156,\n",
       "         0.0121, 0.0093, 0.007 , 0.0053, 0.0039]])]"
      ]
     },
     "execution_count": 334,
     "metadata": {},
     "output_type": "execute_result"
    }
   ],
   "source": [
    "models.ensemble.clumpDeltaNji"
   ]
  },
  {
   "cell_type": "markdown",
   "metadata": {},
   "source": [
    "This method is already setup to display this information for each clump set (of which we have just one). Here you see why we chose a strange value for $\\sigma_\\mathrm{ens}$: at an observing velocity of $0 \\frac{km}{s}$ this equation essentially becomes $\\Delta N_{j} = N_j \\Delta v$. We could have chosen $\\sigma_\\mathrm{ens}$ to be such that we only observe $1$ clump in the center velocity, but then we would have clumps at more than one observing velocity. That is fine, since we can clearly see one of the features of KOSMA-$\\tau^3$: the normalisation of the ensemble. One of the kwargs we used in setting up the voxel was `clumpNmax`, which is used to scale the voxel to number of the largest clump. This is possible due to the relation between the voxel size and the number of clumps in the voxel. For $N_j$ clumps in a voxel of size $s$, we maintain that $N_j \\propto s^2$. When the $\\Delta N_{j,i}$ is normalised to $\\Delta N_{\\mathrm{norm}; \\ j,i}$, this also affects the effective voxel size $s_\\mathrm{eff}$, which in turn affects the probability of seeing a clump in the voxel. These effects combine to ensure the observed intensity is the same.\n",
    "\n",
    "So in our example of $2$ clumps in a $1$ pc voxel are normalised to $1$ clump in a voxel with size $\\frac{1}{\\sqrt{2}}$ pc. When viewing the voxel face-on, the probability of seeing a clump along our line-of-sight is $\\mathcal{P_j} = \\frac{\\pi R_j^2}{\\Delta s^2}$, where $R_j$ is the clump radius assuming uniform density. This value can be obtained from the `masspoints` sub-module. It must always be smaller than the effective voxel size. We will see an example later on where the voxel has to be rescaled to fit the largest clump. What is most important to take away from this probability is the $\\Delta s^{-1}$ dependance, so the intensity is kept constant since,\n",
    "\n",
    "$$\n",
    "\\Delta N_{j,i} \\mathcal{P_j} = \\Delta N_{\\mathrm{norm}; \\ j,i} \\mathcal{P_{\\mathrm{eff}; \\ j}}\n",
    "$$"
   ]
  },
  {
   "cell_type": "code",
   "execution_count": 335,
   "metadata": {},
   "outputs": [
    {
     "data": {
      "text/plain": [
       "array([[0.0989]])"
      ]
     },
     "execution_count": 335,
     "metadata": {},
     "output_type": "execute_result"
    }
   ],
   "source": [
    "models.masspoints.clump_radius[0] #in parsecs"
   ]
  },
  {
   "cell_type": "code",
   "execution_count": 336,
   "metadata": {},
   "outputs": [
    {
     "data": {
      "text/plain": [
       "array([[[0.997 ],\n",
       "        [0.003 ]],\n",
       "\n",
       "       [[0.9959],\n",
       "        [0.0041]],\n",
       "\n",
       "       [[0.9946],\n",
       "        [0.0054]],\n",
       "\n",
       "       [[0.9929],\n",
       "        [0.0071]],\n",
       "\n",
       "       [[0.9907],\n",
       "        [0.0093]],\n",
       "\n",
       "       [[0.988 ],\n",
       "        [0.012 ]],\n",
       "\n",
       "       [[0.9847],\n",
       "        [0.0153]],\n",
       "\n",
       "       [[0.9807],\n",
       "        [0.0193]],\n",
       "\n",
       "       [[0.9758],\n",
       "        [0.0242]],\n",
       "\n",
       "       [[0.97  ],\n",
       "        [0.03  ]],\n",
       "\n",
       "       [[0.9632],\n",
       "        [0.0368]],\n",
       "\n",
       "       [[0.9552],\n",
       "        [0.0448]],\n",
       "\n",
       "       [[0.9461],\n",
       "        [0.0539]],\n",
       "\n",
       "       [[0.9358],\n",
       "        [0.0642]],\n",
       "\n",
       "       [[0.9243],\n",
       "        [0.0757]],\n",
       "\n",
       "       [[0.9116],\n",
       "        [0.0884]],\n",
       "\n",
       "       [[0.8979],\n",
       "        [0.1021]],\n",
       "\n",
       "       [[0.8831],\n",
       "        [0.1169]],\n",
       "\n",
       "       [[0.8675],\n",
       "        [0.1325]],\n",
       "\n",
       "       [[0.8514],\n",
       "        [0.1486]],\n",
       "\n",
       "       [[0.8349],\n",
       "        [0.1651]],\n",
       "\n",
       "       [[0.8185],\n",
       "        [0.1815]],\n",
       "\n",
       "       [[0.8024],\n",
       "        [0.1976]],\n",
       "\n",
       "       [[0.787 ],\n",
       "        [0.213 ]],\n",
       "\n",
       "       [[0.7727],\n",
       "        [0.2273]],\n",
       "\n",
       "       [[0.7598],\n",
       "        [0.2402]],\n",
       "\n",
       "       [[0.7488],\n",
       "        [0.2512]],\n",
       "\n",
       "       [[0.7398],\n",
       "        [0.2602]],\n",
       "\n",
       "       [[0.7332],\n",
       "        [0.2668]],\n",
       "\n",
       "       [[0.7292],\n",
       "        [0.2708]],\n",
       "\n",
       "       [[0.7278],\n",
       "        [0.2722]],\n",
       "\n",
       "       [[0.7292],\n",
       "        [0.2708]],\n",
       "\n",
       "       [[0.7332],\n",
       "        [0.2668]],\n",
       "\n",
       "       [[0.7398],\n",
       "        [0.2602]],\n",
       "\n",
       "       [[0.7488],\n",
       "        [0.2512]],\n",
       "\n",
       "       [[0.7598],\n",
       "        [0.2402]],\n",
       "\n",
       "       [[0.7727],\n",
       "        [0.2273]],\n",
       "\n",
       "       [[0.787 ],\n",
       "        [0.213 ]],\n",
       "\n",
       "       [[0.8024],\n",
       "        [0.1976]],\n",
       "\n",
       "       [[0.8185],\n",
       "        [0.1815]],\n",
       "\n",
       "       [[0.8349],\n",
       "        [0.1651]],\n",
       "\n",
       "       [[0.8514],\n",
       "        [0.1486]],\n",
       "\n",
       "       [[0.8675],\n",
       "        [0.1325]],\n",
       "\n",
       "       [[0.8831],\n",
       "        [0.1169]],\n",
       "\n",
       "       [[0.8979],\n",
       "        [0.1021]],\n",
       "\n",
       "       [[0.9116],\n",
       "        [0.0884]],\n",
       "\n",
       "       [[0.9243],\n",
       "        [0.0757]],\n",
       "\n",
       "       [[0.9358],\n",
       "        [0.0642]],\n",
       "\n",
       "       [[0.9461],\n",
       "        [0.0539]],\n",
       "\n",
       "       [[0.9552],\n",
       "        [0.0448]],\n",
       "\n",
       "       [[0.9632],\n",
       "        [0.0368]],\n",
       "\n",
       "       [[0.97  ],\n",
       "        [0.03  ]],\n",
       "\n",
       "       [[0.9758],\n",
       "        [0.0242]],\n",
       "\n",
       "       [[0.9807],\n",
       "        [0.0193]],\n",
       "\n",
       "       [[0.9847],\n",
       "        [0.0153]],\n",
       "\n",
       "       [[0.988 ],\n",
       "        [0.012 ]],\n",
       "\n",
       "       [[0.9907],\n",
       "        [0.0093]],\n",
       "\n",
       "       [[0.9929],\n",
       "        [0.0071]],\n",
       "\n",
       "       [[0.9946],\n",
       "        [0.0054]],\n",
       "\n",
       "       [[0.9959],\n",
       "        [0.0041]],\n",
       "\n",
       "       [[0.997 ],\n",
       "        [0.003 ]]])"
      ]
     },
     "execution_count": 336,
     "metadata": {},
     "output_type": "execute_result"
    }
   ],
   "source": [
    "models.ensemble.clumpProbability[0]"
   ]
  },
  {
   "cell_type": "markdown",
   "metadata": {},
   "source": [
    "The probabilities are used when calculating the FUV absorption, intensity, and optical depth for the different combinations of clumps that are visible in a line of sight. These actual combinations are defined in `ensemble` and used to setup the `combinations` sub-module. The latter sub-module is used to combine the combinations with the values determined in `masspoints`. In the setup of the voxel, this is used to determine the FUV absorption."
   ]
  },
  {
   "cell_type": "markdown",
   "metadata": {},
   "source": [
    "#### calculate emission"
   ]
  },
  {
   "cell_type": "markdown",
   "metadata": {},
   "source": [
    "After you set the voxel properties, you can call the `Voxel.calculateEmission` method to finally calculate the voxel intensity and optical depth. The `verbose` kwarg is just to notify you when the emission has finished calculating."
   ]
  },
  {
   "cell_type": "code",
   "execution_count": 337,
   "metadata": {},
   "outputs": [],
   "source": [
    "vox.calculate_emission(verbose=True)"
   ]
  },
  {
   "cell_type": "markdown",
   "metadata": {},
   "source": [
    "The `masspoints` sub-module can be used to check the intensity and optical depth of each clump in the model. You can verify these values of each clump this way, as well as check the density and FUV field used to interpolate the KOSMA-$\\tau$ grid."
   ]
  },
  {
   "cell_type": "code",
   "execution_count": 338,
   "metadata": {},
   "outputs": [
    {
     "data": {
      "text/plain": [
       "[0, 1, 7]"
      ]
     },
     "execution_count": 338,
     "metadata": {},
     "output_type": "execute_result"
    }
   ],
   "source": [
    "i_trans"
   ]
  },
  {
   "cell_type": "code",
   "execution_count": 339,
   "metadata": {},
   "outputs": [
    {
     "data": {
      "text/plain": [
       "array([223.8153,   4.4991,  19.7681])"
      ]
     },
     "execution_count": 339,
     "metadata": {},
     "output_type": "execute_result"
    }
   ],
   "source": [
    "transitions = ['C+ 1', 'C 1', 'CO 1']\n",
    "i_trans = [np.where(np.asarray(models.species.clump_transitions)==trans)[0][0] for trans in transitions]\n",
    "models.masspoints.clump_species_intensity[0][0, i_trans] #kn K; for the first dust line and the first transition of C+, C, and CO"
   ]
  },
  {
   "cell_type": "code",
   "execution_count": 340,
   "metadata": {},
   "outputs": [
    {
     "data": {
      "text/plain": [
       "array([0.0146])"
      ]
     },
     "execution_count": 340,
     "metadata": {},
     "output_type": "execute_result"
    }
   ],
   "source": [
    "i_dust = models.constants.dust_names[models.constants.n_dust]=='3.1mm'\n",
    "models.masspoints.clump_dust_intensity[0][0, i_dust]"
   ]
  },
  {
   "cell_type": "code",
   "execution_count": 341,
   "metadata": {},
   "outputs": [
    {
     "data": {
      "text/plain": [
       "array([1.3111, 0.0517, 0.4913])"
      ]
     },
     "execution_count": 341,
     "metadata": {},
     "output_type": "execute_result"
    }
   ],
   "source": [
    "models.masspoints.clump_species_optical_depth[0][0, i_trans]"
   ]
  },
  {
   "cell_type": "code",
   "execution_count": 342,
   "metadata": {},
   "outputs": [
    {
     "data": {
      "text/plain": [
       "array([0.0003])"
      ]
     },
     "execution_count": 342,
     "metadata": {},
     "output_type": "execute_result"
    }
   ],
   "source": [
    "models.masspoints.clump_dust_optical_depth[0][0, i_dust]"
   ]
  },
  {
   "cell_type": "markdown",
   "metadata": {},
   "source": [
    "The intensity and optical depth of different clump combinations are attributes of `combinations`. These are lists with an array for each clump set. Each array has shape (len(combinations), len(clumps)). Our example has just one clump in the voxel, so the combination is [0, 1]. The lists of intensities and optical depths of each combination are accessed as follows,"
   ]
  },
  {
   "cell_type": "code",
   "execution_count": 343,
   "metadata": {},
   "outputs": [
    {
     "data": {
      "text/plain": [
       "array([[  0.    ,   0.    ,   0.    ],\n",
       "       [401.7097,   4.6164,  25.0203]])"
      ]
     },
     "execution_count": 343,
     "metadata": {},
     "output_type": "execute_result"
    }
   ],
   "source": [
    "models.combinations.clump_species_intensity[0][:, i_trans]"
   ]
  },
  {
   "cell_type": "code",
   "execution_count": 344,
   "metadata": {},
   "outputs": [
    {
     "data": {
      "text/plain": [
       "array([[0.    ],\n",
       "       [0.0146]])"
      ]
     },
     "execution_count": 344,
     "metadata": {},
     "output_type": "execute_result"
    }
   ],
   "source": [
    "models.combinations.clump_dust_intensity[0][:, i_dust]"
   ]
  },
  {
   "cell_type": "code",
   "execution_count": 345,
   "metadata": {},
   "outputs": [
    {
     "data": {
      "text/plain": [
       "array([[0.    , 0.    , 0.    ],\n",
       "       [1.3111, 0.0517, 0.4913]])"
      ]
     },
     "execution_count": 345,
     "metadata": {},
     "output_type": "execute_result"
    }
   ],
   "source": [
    "models.combinations.clump_species_optical_depth[0][:, i_trans]"
   ]
  },
  {
   "cell_type": "code",
   "execution_count": 346,
   "metadata": {},
   "outputs": [
    {
     "data": {
      "text/plain": [
       "array([[0.    ],\n",
       "       [0.0003]])"
      ]
     },
     "execution_count": 346,
     "metadata": {},
     "output_type": "execute_result"
    }
   ],
   "source": [
    "models.combinations.clump_dust_optical_depth[0][:, i_dust]"
   ]
  },
  {
   "cell_type": "markdown",
   "metadata": {},
   "source": [
    "Note how the first dimension of the matrices for line transmission are different\n",
    "than that of the dust continuum.\n",
    "This is due to how the probability is calculated: the line transition depends on\n",
    "the maximum number of clumps in a velocity bin ($\\mathrm{max}(\\Delta N_{ji})$), \n",
    "whereas the dust continuum uses the total number of clumps ($\\mathrm{max}(N_j)$)."
   ]
  },
  {
   "cell_type": "markdown",
   "metadata": {},
   "source": [
    "#### plot results"
   ]
  },
  {
   "cell_type": "markdown",
   "metadata": {},
   "source": [
    "Finally we can access the intensity and optical depth in the voxel using two methods: `getIntensity()` and `getOpticalDepth()`. There are also two methods to plot these properties in defferent ways. First there is `plotMolecule()`, which can be used to plot the intensity or optical depth of one or more molecules with respect to the radial velocity. The other is `plotSpectrum()`, which plots the intensity or optical depth of the dust continuum and identifies molecules by vertical lines, separating different molecules by colour.\n",
    "\n",
    "For this example, we will first look at the spectrum at the central velocity. The properties we can view as a spectrum are the emissivity, absorption, and intensity after computing the radiative transfer equation. For this example, note that there is very little absorption and the emissivity and absorption are very similar."
   ]
  },
  {
   "cell_type": "code",
   "execution_count": 347,
   "metadata": {},
   "outputs": [
    {
     "data": {
      "text/plain": [
       "<Axes: title={'center': 'Clump Set 1 emissivity spectrum'}, xlabel='$\\\\lambda \\\\ (\\\\mu \\\\mathrm{m})$', ylabel='$\\\\epsilon_{\\\\lambda} \\\\ \\\\left( \\\\mathrm{\\\\frac{K}{pc}} \\\\right)$'>"
      ]
     },
     "execution_count": 347,
     "metadata": {},
     "output_type": "execute_result"
    },
    {
     "data": {
      "image/png": "[encoded data removed]",
      "text/plain": [
       "<Figure size 1000x500 with 1 Axes>"
      ]
     },
     "metadata": {},
     "output_type": "display_data"
    }
   ],
   "source": [
    "%matplotlib inline\n",
    "\n",
    "vox.plot_spectrum(quantity='emissivity')"
   ]
  },
  {
   "cell_type": "code",
   "execution_count": 348,
   "metadata": {},
   "outputs": [
    {
     "data": {
      "text/plain": [
       "<Axes: title={'center': 'Clump Set 1 absorption spectrum'}, xlabel='$\\\\lambda \\\\ (\\\\mu \\\\mathrm{m})$', ylabel='$\\\\kappa_{\\\\lambda} \\\\ \\\\left( \\\\mathrm{\\\\frac{1}{pc}} \\\\right)$'>"
      ]
     },
     "execution_count": 348,
     "metadata": {},
     "output_type": "execute_result"
    },
    {
     "data": {
      "image/png": "[encoded data removed]",
      "text/plain": [
       "<Figure size 1000x500 with 1 Axes>"
      ]
     },
     "metadata": {},
     "output_type": "display_data"
    }
   ],
   "source": [
    "vox.plot_spectrum(quantity='absorption')"
   ]
  },
  {
   "cell_type": "code",
   "execution_count": 349,
   "metadata": {},
   "outputs": [
    {
     "data": {
      "text/plain": [
       "<Axes: title={'center': 'Clump Set 1 intensity spectrum'}, xlabel='$\\\\lambda \\\\ (\\\\mu \\\\mathrm{m})$', ylabel='$I_{\\\\lambda} \\\\ \\\\left( \\\\mathrm{K} \\\\right)$'>"
      ]
     },
     "execution_count": 349,
     "metadata": {},
     "output_type": "execute_result"
    },
    {
     "data": {
      "image/png": "[encoded data removed]",
      "text/plain": [
       "<Figure size 1000x500 with 1 Axes>"
      ]
     },
     "metadata": {},
     "output_type": "display_data"
    }
   ],
   "source": [
    "vox.plot_spectrum(quantity='intensity')"
   ]
  },
  {
   "cell_type": "markdown",
   "metadata": {},
   "source": [
    "The molecular intensity and optical depth can be plotted against velocity, and this can be used to compare to the analytic result."
   ]
  },
  {
   "cell_type": "code",
   "execution_count": 350,
   "metadata": {},
   "outputs": [
    {
     "data": {
      "text/plain": [
       "<Axes: title={'center': 'Clump set 1 emissivity'}, xlabel='$V_r \\\\ ( \\\\mathrm{\\\\frac{km}{s}} )$', ylabel='$\\\\epsilon_{\\\\lambda} \\\\ \\\\left( \\\\mathrm{\\\\frac{K}{pc}} \\\\right)$'>"
      ]
     },
     "execution_count": 350,
     "metadata": {},
     "output_type": "execute_result"
    },
    {
     "data": {
      "image/png": "[encoded data removed]",
      "text/plain": [
       "<Figure size 1000x500 with 1 Axes>"
      ]
     },
     "metadata": {},
     "output_type": "display_data"
    }
   ],
   "source": [
    "vox.plot_transition(transition=['C+ 1', 'C 1', 'CO 1'], quantity='emissivity', logscale=False)"
   ]
  },
  {
   "cell_type": "code",
   "execution_count": 351,
   "metadata": {},
   "outputs": [
    {
     "data": {
      "text/plain": [
       "<Axes: title={'center': 'Clump set 1 absorption'}, xlabel='$V_r \\\\ ( \\\\mathrm{\\\\frac{km}{s}} )$', ylabel='$\\\\kappa_{\\\\lambda} \\\\ \\\\left( \\\\mathrm{\\\\frac{1}{pc}} \\\\right)$'>"
      ]
     },
     "execution_count": 351,
     "metadata": {},
     "output_type": "execute_result"
    },
    {
     "data": {
      "image/png": "[encoded data removed]",
      "text/plain": [
       "<Figure size 1000x500 with 1 Axes>"
      ]
     },
     "metadata": {},
     "output_type": "display_data"
    }
   ],
   "source": [
    "vox.plot_transition(transition=['C+ 1', 'C 1', 'CO 1'], quantity='absorption', logscale=False)"
   ]
  },
  {
   "cell_type": "code",
   "execution_count": 352,
   "metadata": {},
   "outputs": [
    {
     "data": {
      "text/plain": [
       "<Axes: title={'center': 'Clump set 1 intensity'}, xlabel='$V_r \\\\ ( \\\\mathrm{\\\\frac{km}{s}} )$', ylabel='$I_{\\\\lambda} \\\\ \\\\left( \\\\mathrm{K} \\\\right)$'>"
      ]
     },
     "execution_count": 352,
     "metadata": {},
     "output_type": "execute_result"
    },
    {
     "data": {
      "image/png": "[encoded data removed]",
      "text/plain": [
       "<Figure size 1000x500 with 1 Axes>"
      ]
     },
     "metadata": {},
     "output_type": "display_data"
    }
   ],
   "source": [
    "vox.plot_transition(transition=['C+ 1', 'C 1', 'CO 1'], quantity='intensity', logscale=False)"
   ]
  },
  {
   "cell_type": "markdown",
   "metadata": {},
   "source": [
    "We can directly obtain the emission properties from the `Voxel` instance."
   ]
  },
  {
   "cell_type": "code",
   "execution_count": 360,
   "metadata": {},
   "outputs": [
    {
     "data": {
      "text/plain": [
       "array([339.5669,   6.1648,  28.4301])"
      ]
     },
     "execution_count": 360,
     "metadata": {},
     "output_type": "execute_result"
    }
   ],
   "source": [
    "transitions = ['C+ 1', 'C 1', 'CO 1']\n",
    "i_trans = [np.where(np.asarray(models.species.clump_transitions)==trans)[0][0] for trans in transitions]\n",
    "\n",
    "vox.get_species_emissivity(include_dust=False, total=True)[50, i_trans]"
   ]
  },
  {
   "cell_type": "code",
   "execution_count": 361,
   "metadata": {},
   "outputs": [
    {
     "data": {
      "text/plain": [
       "array([0.0559])"
      ]
     },
     "execution_count": 361,
     "metadata": {},
     "output_type": "execute_result"
    }
   ],
   "source": [
    "i_dust = models.constants.dust_names[models.constants.n_dust]=='3.1mm'\n",
    "\n",
    "vox.get_dust_emissivity(total=True)[50, i_dust]"
   ]
  },
  {
   "cell_type": "code",
   "execution_count": 362,
   "metadata": {},
   "outputs": [
    {
     "data": {
      "text/plain": [
       "array([1.1082, 0.069 , 0.5583])"
      ]
     },
     "execution_count": 362,
     "metadata": {},
     "output_type": "execute_result"
    }
   ],
   "source": [
    "vox.get_species_absorption(include_dust=False, total=True)[50, i_trans]"
   ]
  },
  {
   "cell_type": "code",
   "execution_count": 363,
   "metadata": {},
   "outputs": [
    {
     "data": {
      "text/plain": [
       "array([0.0013])"
      ]
     },
     "execution_count": 363,
     "metadata": {},
     "output_type": "execute_result"
    }
   ],
   "source": [
    "vox.get_dust_absorption(total=True)[50, i_dust]"
   ]
  },
  {
   "cell_type": "code",
   "execution_count": 364,
   "metadata": {},
   "outputs": [
    {
     "data": {
      "text/plain": [
       "array([60.2252,  1.2219,  5.3784])"
      ]
     },
     "execution_count": 364,
     "metadata": {},
     "output_type": "execute_result"
    }
   ],
   "source": [
    "vox.get_species_intensity(include_dust=False, total=True)[50, i_trans]"
   ]
  },
  {
   "cell_type": "code",
   "execution_count": 365,
   "metadata": {},
   "outputs": [
    {
     "data": {
      "text/plain": [
       "array([0.0112])"
      ]
     },
     "execution_count": 365,
     "metadata": {},
     "output_type": "execute_result"
    }
   ],
   "source": [
    "vox.get_dust_intensity(total=True)[50, i_dust]"
   ]
  },
  {
   "cell_type": "code",
   "execution_count": 366,
   "metadata": {},
   "outputs": [
    {
     "data": {
      "text/plain": [
       "[1.431395642310457]"
      ]
     },
     "execution_count": 366,
     "metadata": {},
     "output_type": "execute_result"
    }
   ],
   "source": [
    "vox.get_taufuv()"
   ]
  },
  {
   "cell_type": "markdown",
   "metadata": {
    "tags": []
   },
   "source": [
    "### Analytic result"
   ]
  },
  {
   "cell_type": "markdown",
   "metadata": {},
   "source": [
    "So if we have one $10 M_\\odot$ clump in the voxel, we can calculate the voxel-averaged intensity and optical depth for the 3.1 mm dust continuum wavelength and the first transition of C+, C, and CO.\n",
    "We should note that the clump radius is $0.0989\\, \\mathrm{pc}$, and the intensities and optical depths we consider are given in the following table.\n",
    "\n",
    "|               | 3.1mm dust line | C+ 1         | C 1        | CO 1        |\n",
    "| ------------- | --------------- | ------------ | ---------- | ----------- |\n",
    "| intensity     | 0.0146 K        | 224 K        | 4.50 K     | 19.7 K      |\n",
    "| optical depth | 0.0003          | 1.31         | 0.0517     | 0.491       |\n",
    "\n",
    "We now use this in to calculate the radiative transfer equation:\n",
    "\n",
    "\\begin{align}\n",
    "\\epsilon_\\mathrm{cl} =& T_\\mathrm{B, cl}\\, \\frac{\\tau_\\mathrm{cl}}{\\ell^\\prime_\\mathrm{cl}}\\, (1 - \\mathrm{e}^{-\\tau_\\mathrm{cl}}), \\\\\n",
    "T_\\mathrm{B, vox} =& \\frac{\\epsilon_\\mathrm{cl}}{\\kappa_\\mathrm{cl}}\\, \n",
    "\\end{align}\n",
    "\n",
    "where we use the effective length of each clump $\\ell^\\prime_\\mathrm{cl} \\equiv \\frac{4}{3}\\, r_\\mathrm{cl}$.\n",
    "\n",
    "|           | 3.1mm dust line | C+ 1   | C 1    | CO 1   |\n",
    "| --------- | --------------- | ------ | ------ | ------ |\n",
    "| intensity | 0.000398 K      | 61.1 K | 1.23 K | 5.35 K |"
   ]
  },
  {
   "cell_type": "markdown",
   "metadata": {},
   "source": [
    "## 2. Accounting for absorption"
   ]
  },
  {
   "cell_type": "markdown",
   "metadata": {},
   "source": [
    "The object here is to show the effect of absorption when there are overlapping clumps in a line-of-sight."
   ]
  },
  {
   "cell_type": "markdown",
   "metadata": {},
   "source": [
    "### Model solution"
   ]
  },
  {
   "cell_type": "markdown",
   "metadata": {},
   "source": [
    "Here we consider a larger voxel with larger mass, but we still consider a simple model with one clump mass. What we can show, for example, is how different clump sets can be created for the same voxel. The mass of dense clump component in the model is the same ($10 \\ M_\\odot$), but we are now modelling a larger ensemble mass of $10^4 M_\\odot$, a high density of $10^6 cm^{-3}$, and FUV radiation $10^4 \\chi_0$. The additional clump set we wish to include is the diffuse interclump component. We model this with $10^{-2} M_\\odot$ clumps, ensemble mass $10^2 M_\\odot$, density $1911 cm^{-3}$, and FUV radiation $1 \\chi_0$."
   ]
  },
  {
   "cell_type": "code",
   "execution_count": 28,
   "metadata": {},
   "outputs": [
    {
     "name": "stdout",
     "output_type": "stream",
     "text": [
      "resize\n",
      "Voxel emission calculated.\n"
     ]
    }
   ],
   "source": [
    "from kosmatau3d import models\n",
    "import numpy as np\n",
    "\n",
    "np.set_printoptions(precision=8)\n",
    "\n",
    "# Use these to change the voxel properties, which is necessary in the default mode.\n",
    "parameters = {\n",
    "              # Grid parameters\n",
    "              'clump_tau_grid_file': 'clump_tau_LineCenter.dat',\n",
    "              'clump_tb_grid_file': 'clump_Tmb_LineCenter.dat',\n",
    "              'clump_taufuv_grid_file': 'RhoMassAFUV.dat',\n",
    "              'clump_column_density_file': 'clumpMeanCols.dat',\n",
    "              'clump_temperature_file': 'clumpTemperatures_filled.dat',\n",
    "              'interclump_tau_grid_file': 'interclumpTauLineCenter.dat',\n",
    "              'interclump_tb_grid_file': 'interclumpTmbLineCenter.dat',\n",
    "              'interclump_dust_tau_grid_file': 'interclumpDustTau.dat',\n",
    "              'interclump_dust_tb_grid_file': 'interclumpDustSED.dat',\n",
    "              'interclump_taufuv_grid_file': 'interclumpTauFUV.dat',\n",
    "              'interclump_column_density_file': 'interclumpMeanCols.dat',\n",
    "              'interclump_temperature_file': 'interclumpTemperatures_filled.dat',\n",
    "\n",
    "              # Model parameters\n",
    "              'voxel_size' : 1,\n",
    "              'molecules' : ['all'],\n",
    "              'dust' : 'PAH',\n",
    "              'clump_mass_range' : [[1],[-2]],\n",
    "              'clump_mass_number' : [1,1],\n",
    "              'clump_n_max' : [1,100],\n",
    "              'velocity_range' : [-10, 10],\n",
    "              'velocity_number' : 201,\n",
    "\n",
    "              # Voxel properties\n",
    "              'velocity' : 0.,\n",
    "              'ensemble_dispersion' : [1,1],\n",
    "              'ensemble_mass' : [1e5,1e2],\n",
    "              'ensemble_density' : [1e6,1911],\n",
    "              'fuv' : [1e4,1]\n",
    "              }\n",
    "\n",
    "vox = models.Voxel()\n",
    "vox.setProperties(**parameters)\n",
    "vox.calculateEmission(verbose=True)"
   ]
  },
  {
   "cell_type": "markdown",
   "metadata": {},
   "source": [
    "We must first ensure the voxel properties are correctly modelled."
   ]
  },
  {
   "cell_type": "code",
   "execution_count": 29,
   "metadata": {},
   "outputs": [
    {
     "data": {
      "text/plain": [
       "[100000.0, 100.0]"
      ]
     },
     "execution_count": 29,
     "metadata": {},
     "output_type": "execute_result"
    }
   ],
   "source": [
    "vox.get_ensemble_mass()"
   ]
  },
  {
   "cell_type": "code",
   "execution_count": 30,
   "metadata": {},
   "outputs": [
    {
     "data": {
      "text/plain": [
       "[99823.69444714207, 99.82369444714206]"
      ]
     },
     "execution_count": 30,
     "metadata": {},
     "output_type": "execute_result"
    }
   ],
   "source": [
    "vox.get_model_mass()"
   ]
  },
  {
   "cell_type": "code",
   "execution_count": 31,
   "metadata": {},
   "outputs": [
    {
     "data": {
      "text/plain": [
       "[4.046604500450865, 2.117532443982663]"
      ]
     },
     "execution_count": 31,
     "metadata": {},
     "output_type": "execute_result"
    }
   ],
   "source": [
    "vox.get_volume_filling_factor()"
   ]
  },
  {
   "cell_type": "markdown",
   "metadata": {},
   "source": [
    "Here our model is filling too much of the voxel. We can keep approximately the same proportions of the two clumps sets by setting `volumeFactor`$=[0.66, 0.34]$."
   ]
  },
  {
   "cell_type": "code",
   "execution_count": 32,
   "metadata": {},
   "outputs": [
    {
     "name": "stdout",
     "output_type": "stream",
     "text": [
      "resize\n",
      "Voxel emission calculated.\n"
     ]
    }
   ],
   "source": [
    "from kosmatau3d import models\n",
    "import numpy as np\n",
    "\n",
    "np.set_printoptions(precision=8)\n",
    "\n",
    "# Use these to change the voxel properties, which is necessary in the default mode.\n",
    "parameters = {\n",
    "              # Grid parameters\n",
    "              'clump_tau_grid_file': 'clump_tau_LineCenter.dat',\n",
    "              'clump_tb_grid_file': 'clump_Tmb_LineCenter.dat',\n",
    "              'clump_taufuv_grid_file': 'RhoMassAFUV.dat',\n",
    "              'clump_column_density_file': 'clumpMeanCols.dat',\n",
    "              'clump_temperature_file': 'clumpTemperatures_filled.dat',\n",
    "              'interclump_tau_grid_file': 'interclumpTauLineCenter.dat',\n",
    "              'interclump_tb_grid_file': 'interclumpTmbLineCenter.dat',\n",
    "              'interclump_dust_tau_grid_file': 'interclumpDustTau.dat',\n",
    "              'interclump_dust_tb_grid_file': 'interclumpDustSED.dat',\n",
    "              'interclump_taufuv_grid_file': 'interclumpTauFUV.dat',\n",
    "              'interclump_column_density_file': 'interclumpMeanCols.dat',\n",
    "              'interclump_temperature_file': 'interclumpTemperatures_filled.dat',\n",
    "\n",
    "              # Model parameters\n",
    "              'voxel_size' : 1,\n",
    "              'molecules' : ['all'],\n",
    "              'dust' : 'PAH',\n",
    "              'clump_mass_range' : [[1],[-2]],\n",
    "              'clump_mass_number' : [1,1],\n",
    "              'clump_n_max' : [1,100],\n",
    "              'velocity_range' : [-10, 10],\n",
    "              'velocity_number' : 201,\n",
    "\n",
    "              # Voxel properties\n",
    "              'velocity' : 0.,\n",
    "              'ensemble_dispersion' : [1,1],\n",
    "              'volume_factor' : [0.66, 0.34],\n",
    "              'ensemble_mass' : [1e5,1e2],\n",
    "              'ensemble_density' : [1e6,1911],\n",
    "              'fuv' : [1e4,1],\n",
    "              }\n",
    "\n",
    "vox = models.Voxel()\n",
    "vox.set_properties(**parameters)\n",
    "vox.calculate_emission(verbose=True)"
   ]
  },
  {
   "cell_type": "markdown",
   "metadata": {},
   "source": [
    "Again we will ensure the voxel properties are correctly modelled. We can also verify that the voxel mean ensemble density has been adjusted."
   ]
  },
  {
   "cell_type": "code",
   "execution_count": 33,
   "metadata": {},
   "outputs": [
    {
     "data": {
      "text/plain": [
       "[100000.0, 100.0]"
      ]
     },
     "execution_count": 33,
     "metadata": {},
     "output_type": "execute_result"
    }
   ],
   "source": [
    "vox.get_ensemble_mass()"
   ]
  },
  {
   "cell_type": "code",
   "execution_count": 34,
   "metadata": {},
   "outputs": [
    {
     "data": {
      "text/plain": [
       "[99823.69444714207, 99.82369444714206]"
      ]
     },
     "execution_count": 34,
     "metadata": {},
     "output_type": "execute_result"
    }
   ],
   "source": [
    "vox.get_model_mass()"
   ]
  },
  {
   "cell_type": "code",
   "execution_count": 35,
   "metadata": {},
   "outputs": [
    {
     "data": {
      "text/plain": [
       "[0.6599999999999967, 0.3399999999999977]"
      ]
     },
     "execution_count": 35,
     "metadata": {},
     "output_type": "execute_result"
    }
   ],
   "source": [
    "vox.get_volume_filling_factor()"
   ]
  },
  {
   "cell_type": "code",
   "execution_count": 36,
   "metadata": {},
   "outputs": [
    {
     "data": {
      "text/plain": [
       "[6131218.940077114, 11901.777942502635]"
      ]
     },
     "execution_count": 36,
     "metadata": {},
     "output_type": "execute_result"
    }
   ],
   "source": [
    "vox.get_density()"
   ]
  },
  {
   "cell_type": "markdown",
   "metadata": {},
   "source": [
    "Thes now verifies that the code alters the density rather than the mass when using the `volumeFactor` kwarg. Now we can get some information needed for the theoretical solution, which will be calculated in the next subsection."
   ]
  },
  {
   "cell_type": "code",
   "execution_count": 37,
   "metadata": {},
   "outputs": [
    {
     "data": {
      "text/plain": [
       "[array([[0.02506985]]), array([[0.02009695]])]"
      ]
     },
     "execution_count": 37,
     "metadata": {},
     "output_type": "execute_result"
    }
   ],
   "source": [
    "models.masspoints.clump_radius #in pc"
   ]
  },
  {
   "cell_type": "code",
   "execution_count": 38,
   "metadata": {},
   "outputs": [
    {
     "data": {
      "text/plain": [
       "array([[  0.10076393, 101.97051786,   4.35615089, 109.41504962]])"
      ]
     },
     "execution_count": 38,
     "metadata": {},
     "output_type": "execute_result"
    }
   ],
   "source": [
    "molecules = ['dust 3.1mm', 'C+ 1', 'C 1', 'CO 1']\n",
    "models.masspoints.clump_intensity[0][:,models.species.speciesIndeces(molecules)] #for the 3.1mm dust line, C+, C, and CO; in K"
   ]
  },
  {
   "cell_type": "code",
   "execution_count": 39,
   "metadata": {},
   "outputs": [
    {
     "data": {
      "text/plain": [
       "array([[0.00516914, 0.66385552, 0.01803025, 4.53306024]])"
      ]
     },
     "execution_count": 39,
     "metadata": {},
     "output_type": "execute_result"
    }
   ],
   "source": [
    "models.masspoints.clump_optical_depth[0][:,models.species.speciesIndeces(molecules)] #for the 3.1mm dust line, C+, C, and CO"
   ]
  },
  {
   "cell_type": "markdown",
   "metadata": {},
   "source": [
    "Finally, the intensity and optical depth of the single-voxel model is shown."
   ]
  },
  {
   "cell_type": "code",
   "execution_count": 40,
   "metadata": {},
   "outputs": [
    {
     "data": {
      "image/png": "[encoded data removed]",
      "text/plain": [
       "<Figure size 720x720 with 2 Axes>"
      ]
     },
     "metadata": {
      "needs_background": "light"
     },
     "output_type": "display_data"
    }
   ],
   "source": [
    "vox.plot_transition(transition=['C+ 1', 'C 1', 'CO 1'], quantity='intensity', title='', logscale=False)"
   ]
  },
  {
   "cell_type": "code",
   "execution_count": 41,
   "metadata": {},
   "outputs": [
    {
     "data": {
      "text/plain": [
       "[inf, 7.725964316380701]"
      ]
     },
     "execution_count": 41,
     "metadata": {},
     "output_type": "execute_result"
    }
   ],
   "source": [
    "vox.get_taufuv()"
   ]
  },
  {
   "cell_type": "code",
   "execution_count": 42,
   "metadata": {},
   "outputs": [
    {
     "data": {
      "text/plain": [
       "array([  1.91460503, 153.56280056,  48.42803253,  24.13712674])"
      ]
     },
     "execution_count": 42,
     "metadata": {},
     "output_type": "execute_result"
    }
   ],
   "source": [
    "molecules = ['dust 3.1mm', 'C+ 1', 'C 1', 'CO 1']\n",
    "vox.get_intensity()[0][100,models.species.speciesIndeces(molecules)] #for the 3.1mm dust line, C+, C, and CO; in K"
   ]
  },
  {
   "cell_type": "code",
   "execution_count": 43,
   "metadata": {},
   "outputs": [
    {
     "data": {
      "text/plain": [
       "array([   2.01527865, 1265.1419858 ,   54.04649794, 1357.5058366 ])"
      ]
     },
     "execution_count": 43,
     "metadata": {},
     "output_type": "execute_result"
    }
   ],
   "source": [
    "vox.get_emissivity()[0][100,models.species.speciesIndeces(molecules)] #for the 3.1mm dust line, C+, C, and CO; in K/pc"
   ]
  },
  {
   "cell_type": "code",
   "execution_count": 44,
   "metadata": {},
   "outputs": [
    {
     "data": {
      "text/plain": [
       "(201, 372)"
      ]
     },
     "execution_count": 44,
     "metadata": {},
     "output_type": "execute_result"
    }
   ],
   "source": [
    "vox.get_emissivity()[0].shape"
   ]
  },
  {
   "cell_type": "code",
   "execution_count": 45,
   "metadata": {},
   "outputs": [
    {
     "data": {
      "text/plain": [
       "array([ 0.10338284,  8.23641488,  0.22370025, 56.24140152])"
      ]
     },
     "execution_count": 45,
     "metadata": {},
     "output_type": "execute_result"
    }
   ],
   "source": [
    "vox.get_absorption()[0][100,models.species.speciesIndeces(molecules)] #for the 3.1mm dust line, C+, C, and CO; in 1/pc"
   ]
  },
  {
   "cell_type": "code",
   "execution_count": 46,
   "metadata": {},
   "outputs": [
    {
     "name": "stdout",
     "output_type": "stream",
     "text": [
      "\n",
      "\n",
      "C L U M P   S E T   0\n",
      "\n",
      "The peak brightness temperature of dust at 3.1mm is 1.914605\n",
      "The peak brightness temperature of the first transition of C+ is 153.562801\n",
      "The peak brightness temperature of the first transition of C is 48.428033\n",
      "The peak brightness temperature of the first transition of CO is 24.137127\n",
      "\n",
      "\n",
      "C L U M P   S E T   1\n",
      "\n",
      "The peak brightness temperature of dust at 3.1mm is 0.000750\n",
      "The peak brightness temperature of the first transition of C+ is 0.485965\n",
      "The peak brightness temperature of the first transition of C is 3.900765\n",
      "The peak brightness temperature of the first transition of CO is 10.704817\n"
     ]
    }
   ],
   "source": [
    "molecules = ['dust 3.1mm', 'C+ 1', 'C 1', 'CO 1']\n",
    "for i in range(2):\n",
    "  \n",
    "    print('\\n\\nC L U M P   S E T   {}\\n'.format(i))\n",
    "    \n",
    "    eps_dust,eps_CII,eps_C,eps_CO = vox.getEmissivity()[i][:,models.species.speciesIndeces(molecules)].max(0)\n",
    "    kap_dust,kap_CII,kap_C,kap_CO = vox.getAbsorption()[i][:,models.species.speciesIndeces(molecules)].max(0)\n",
    "\n",
    "    #compute I via radiative transfer; in K\n",
    "    I_dust = eps_dust/kap_dust * (1-np.exp(-kap_dust*models.constants.voxel_size))\n",
    "    I_CII = eps_CII/kap_CII * (1-np.exp(-kap_CII*models.constants.voxel_size))\n",
    "    I_C = eps_C/kap_C * (1-np.exp(-kap_C*models.constants.voxel_size))\n",
    "    I_CO = eps_CO/kap_CO * (1-np.exp(-kap_CO*models.constants.voxel_size))\n",
    "\n",
    "    print('The peak brightness temperature of dust at 3.1mm is {:.6f}'.format(I_dust))\n",
    "    print('The peak brightness temperature of the first transition of C+ is {:.6f}'.format(I_CII))\n",
    "    print('The peak brightness temperature of the first transition of C is {:.6f}'.format(I_C))\n",
    "    print('The peak brightness temperature of the first transition of CO is {:.6f}'.format(I_CO))"
   ]
  },
  {
   "cell_type": "markdown",
   "metadata": {},
   "source": [
    "### Analytic solution"
   ]
  },
  {
   "cell_type": "markdown",
   "metadata": {},
   "source": [
    "#### clump set 1"
   ]
  },
  {
   "cell_type": "markdown",
   "metadata": {},
   "source": [
    "We now need to compare this result to the expected analytical intensity. Having a large number of clumps in the model means the probability of seeing a certain number of clumps is peaked in a narrow range. (ie. We can use this value to approximate the optical depth.) The probability mass distribution peaks at ~19, as seen below."
   ]
  },
  {
   "cell_type": "code",
   "execution_count": 47,
   "metadata": {},
   "outputs": [
    {
     "data": {
      "image/png": "[encoded data removed]",
      "text/plain": [
       "<Figure size 432x288 with 1 Axes>"
      ]
     },
     "metadata": {
      "needs_background": "light"
     },
     "output_type": "display_data"
    }
   ],
   "source": [
    "import numpy as np\n",
    "from scipy.stats import binom\n",
    "import matplotlib.pyplot as plt\n",
    "\n",
    "rcl = models.masspoints.clumpRadius[0][0,0]\n",
    "p = np.pi*rcl**2\n",
    "\n",
    "k = np.arange(0,50)\n",
    "prob = binom.pmf(k,1e4, p)\n",
    "plt.plot(k, prob)\n",
    "plt.plot([19,19], [0,0.09], ls='--', c='xkcd:bright red')\n",
    "plt.text(21,0,'19',color='xkcd:bright red', fontsize=16)\n",
    "plt.xlabel('k', fontsize=20)\n",
    "plt.ylabel(r'$\\mathcal{P}$', fontsize=20) ;"
   ]
  },
  {
   "cell_type": "markdown",
   "metadata": {},
   "source": [
    "We can directly calculate the intensity that we would expect in such a voxel. With more than one clump in our line-of-sight, we will also need to account for the total amount of absorption in the voxel. We will need to calculate $\\epsilon_{\\nu,cl}$ and $\\kappa_{\\nu,cl}$ for the clump, which is constant.\n",
    "\n",
    "(8)\n",
    "$$\n",
    "\\epsilon_{\\nu, cl} = \\frac{I_{\\nu,cl}}{2R_{cl}}\n",
    "$$\n",
    "\n",
    "(9)\n",
    "$$\n",
    "\\kappa_{\\nu, cl} = \\frac{\\tau_{\\nu,cl}}{2R_{cl}}\n",
    "$$"
   ]
  },
  {
   "cell_type": "markdown",
   "metadata": {},
   "source": [
    "Now we can use these values to integrate the radiative equation:\n",
    "\n",
    "(10)\n",
    "$$\n",
    "I_\\nu = e^{-\\int_0^{\\Delta s} \\kappa_{\\nu,cl} ds} \\left( \\int_0^{\\Delta s} \\epsilon_{\\nu,cl} e^{\\int_0^{\\Delta s} \\kappa_{\\nu,cl} s'} ds' + I_{bg} \\right)\n",
    "$$\n",
    "\n",
    "Since the emission and absorption coefficients $\\left( \\epsilon_{\\nu,cl}, \\kappa_{\\nu,cl} \\right)$ are valid just in each clump, integration over $\\mathcal{N}$ clumps with $I_{bg}=0$ gives,\n",
    "\n",
    "\n",
    "(11)\n",
    "$$\n",
    "I_\\nu = \\frac{\\epsilon_{\\nu,cl}}{\\kappa_{\\nu,cl}} \\left( 1 - e^{-\\kappa_{\\nu,cl} (2\\mathcal{N}R_{cl})} \\right)\n",
    "$$"
   ]
  },
  {
   "cell_type": "markdown",
   "metadata": {},
   "source": [
    "We can now analytically calculate what is the intensity of a given transition if we have 66 clumps in our line-of-sight."
   ]
  },
  {
   "cell_type": "code",
   "execution_count": 48,
   "metadata": {},
   "outputs": [
    {
     "name": "stdout",
     "output_type": "stream",
     "text": [
      "Clump absorption coefficient:\n",
      "dust 3.1mm: 0.103095\n",
      "      C+ 1: 13.2401\n",
      "       C 1: 0.3596\n",
      "      CO 1: 90.4086\n",
      "\n",
      "\n",
      "Clump intensity:\n",
      "dust 3.1mm: 0.100504 K\n",
      "      C+ 1: 74.5188 K\n",
      "       C 1: 4.31711 K\n",
      "      CO 1: 23.8777 K\n",
      "\n",
      "\n",
      "The brightness temperature of the dust 3.1mm transition is 1.8235 K\n",
      "The brightness temperature of the    C+ 1    transition is 153.603 K\n",
      "The brightness temperature of the    C 1     transition is 70.0792 K\n",
      "The brightness temperature of the    CO 1    transition is 24.1371 K\n"
     ]
    }
   ],
   "source": [
    "# Define how many clumps are in a line-of-sight\n",
    "nClumps = 19\n",
    "# Get the clump radius\n",
    "rcl = models.masspoints.clumpRadius[0][0,0]\n",
    "# Specify transitions\n",
    "molecules = ['dust 3.1mm', 'C+ 1', 'C 1', 'CO 1']\n",
    "# get the clump intensity and optical depth for the required transitions\n",
    "icl = models.masspoints.clumpIntensity[0][0,models.species.speciesIndeces(molecules)]\n",
    "tcl = models.masspoints.clumpOpticalDepth[0][0,models.species.speciesIndeces(molecules)]\n",
    "\n",
    "# Uncomment these if you would like to compare to the individual clump intensities\n",
    "print('Clump absorption coefficient:')\n",
    "for i,I in enumerate(tcl/2/rcl):\n",
    "    print('{:>10}: {:.6}'.format(molecules[i], I))\n",
    "print('\\n')\n",
    "print('Clump intensity:')\n",
    "for i,I in enumerate(icl/tcl*(1-np.exp(-tcl))):\n",
    "    print('{:>10}: {:.6} K'.format(molecules[i], I))\n",
    "print('\\n')\n",
    "\n",
    "# Initialise the line intensities\n",
    "I = np.zeros(icl.size)\n",
    "\n",
    "# Integrate over the number of clumps along a line-of-sight\n",
    "# for i in range(nClumps):\n",
    "#   I = np.exp(-tcl) * ( icl/tcl*(np.exp(tcl)-1) + I )\n",
    "  \n",
    "# Integrate in an alternate simplified equation\n",
    "I = icl/tcl * (1-np.exp(-nClumps*tcl))\n",
    "\n",
    "for i,transition in enumerate(molecules):\n",
    "    print('The brightness temperature of the {:^10} transition is {:.6} K'.format(transition, I[i]))"
   ]
  },
  {
   "cell_type": "markdown",
   "metadata": {},
   "source": [
    "These values are very similar to the results of the single-voxel model. The accurracy of this result is due to the large number of clumps in the voxel, giving a very specific number of clump in a line-of-sight. The difference between this result and the intensity of a single clump is larger for transitions with lower optical depth. That is how the $\\mathrm{CO} \\ 1 \\rightarrow 0$ and $\\mathrm{CII} \\ 1 \\rightarrow 0$ transitions get larger than that of a single clump even though they are saturated; the background intensity has a larger effect.\n",
    "\n",
    "There is also a difference between this analytic result and the one obtained with the single-voxel model in the $\\mathrm{CI} \\ 1 \\rightarrow 0$ transition. The issue here is the ensemble velocity dispersion in the single-voxel model. We gave it a velocity dispersion of $1 \\frac{km}{s}$—very close to the intrinsic clump velocity dispersion of $0.71 \\frac{km}{s}$—but even this is enough to ensure the $10^4$ clumps are actually spread over the ensemble velocities. In this way, it reduces the peak intensity of the voxel. The reason it only is seen in the $\\mathrm{CI} \\ 1 \\rightarrow 0$ transition is that it is not suffering from any saturation effect (you can see this by the lack of a plateau feature in the velocity-intensity plot seen earlier)."
   ]
  },
  {
   "cell_type": "markdown",
   "metadata": {},
   "source": [
    "#### clump set 2"
   ]
  },
  {
   "cell_type": "code",
   "execution_count": 49,
   "metadata": {},
   "outputs": [
    {
     "data": {
      "image/png": "[encoded data removed]",
      "text/plain": [
       "<Figure size 432x288 with 1 Axes>"
      ]
     },
     "metadata": {
      "needs_background": "light"
     },
     "output_type": "display_data"
    }
   ],
   "source": [
    "import numpy as np\n",
    "from scipy.stats import binom\n",
    "import matplotlib.pyplot as plt\n",
    "\n",
    "rcl = models.masspoints.clumpRadius[1][0,0]\n",
    "p = np.pi*rcl**2\n",
    "\n",
    "k = np.arange(0,50)\n",
    "prob = binom.pmf(k,1e4, p)\n",
    "plt.plot(k, prob)\n",
    "plt.plot([12,12], [0,0.11], ls='--', c='xkcd:bright red')\n",
    "plt.text(14,0,'12',color='xkcd:bright red', fontsize=16)\n",
    "plt.xlabel('k', fontsize=20)\n",
    "plt.ylabel(r'$\\mathcal{P}$', fontsize=20) ;"
   ]
  },
  {
   "cell_type": "markdown",
   "metadata": {},
   "source": [
    "We can directly calculate the intensity that we would expect in such a voxel. With more than one clump in our line-of-sight, we will also need to account for the total amount of absorption in the voxel. We will need to calculate $\\epsilon_{\\nu,cl}$ and $\\kappa_{\\nu,cl}$ for the clump, which is constant.\n",
    "\n",
    "(8)\n",
    "$$\n",
    "\\epsilon_{\\nu, cl} = \\frac{I_{\\nu,cl}}{2R_{cl}}\n",
    "$$\n",
    "\n",
    "(9)\n",
    "$$\n",
    "\\kappa_{\\nu, cl} = \\frac{\\tau_{\\nu,cl}}{2R_{cl}}\n",
    "$$"
   ]
  },
  {
   "cell_type": "markdown",
   "metadata": {},
   "source": [
    "Now we can use these values to integrate the radiative equation:\n",
    "\n",
    "(10)\n",
    "$$\n",
    "I_\\nu = e^{-\\int_0^{\\Delta s} \\kappa_{\\nu,cl} ds} \\left( \\int_0^{\\Delta s} \\epsilon_{\\nu,cl} e^{\\int_0^{\\Delta s} \\kappa_{\\nu,cl} s'} ds' + I_{bg} \\right)\n",
    "$$\n",
    "\n",
    "Since the emission and absorption coefficients $\\left( \\epsilon_{\\nu,cl}, \\kappa_{\\nu,cl} \\right)$ are valid just in each clump, integration over $\\mathcal{N}$ clumps with $I_{bg}=0$ gives,\n",
    "\n",
    "\n",
    "(11)\n",
    "$$\n",
    "I_\\nu = \\frac{\\epsilon_{\\nu,cl}}{\\kappa_{\\nu,cl}} \\left( 1 - e^{-\\kappa_{\\nu,cl} (2\\mathcal{N}R_{cl})} \\right)\n",
    "$$"
   ]
  },
  {
   "cell_type": "markdown",
   "metadata": {},
   "source": [
    "We can now analytically calculate what is the intensity of a given transition if we have 12 clumps in our line-of-sight."
   ]
  },
  {
   "cell_type": "code",
   "execution_count": 50,
   "metadata": {},
   "outputs": [
    {
     "name": "stdout",
     "output_type": "stream",
     "text": [
      "Clump absorption coefficient:\n",
      "dust 3.1mm: 0.000166927\n",
      "      C+ 1: 7.47766\n",
      "       C 1: 1.81529\n",
      "      CO 1: 6.61379\n",
      "\n",
      "\n",
      "Clump intensity:\n",
      "dust 3.1mm: 5.97295e-05 K\n",
      "      C+ 1: 0.145864 K\n",
      "       C 1: 0.692159 K\n",
      "      CO 1: 3.03002 K\n",
      "\n",
      "\n",
      "The brightness temperature of the dust 3.1mm transition is 0.000716721 K\n",
      "The brightness temperature of the    C+ 1    transition is 0.461338 K\n",
      "The brightness temperature of the    C 1     transition is 5.28696 K\n",
      "The brightness temperature of the    CO 1    transition is 10.535 K\n"
     ]
    }
   ],
   "source": [
    "# Define how many clumps are in a line-of-sight\n",
    "nClumps = 12\n",
    "# Get the clump radius\n",
    "rcl = models.masspoints.clumpRadius[0][0,0]\n",
    "# Specify transitions\n",
    "molecules = ['dust 3.1mm', 'C+ 1', 'C 1', 'CO 1']\n",
    "# get the clump intensity and optical depth for the required transitions\n",
    "icl = models.masspoints.clumpIntensity[1][0,models.species.speciesIndeces(molecules)]\n",
    "tcl = models.masspoints.clumpOpticalDepth[1][0,models.species.speciesIndeces(molecules)]\n",
    "\n",
    "# Uncomment these to view the clump intensities\n",
    "print('Clump absorption coefficient:')\n",
    "for i,I in enumerate(tcl/2/rcl):\n",
    "    print('{:>10}: {:.6}'.format(molecules[i], I))\n",
    "print('\\n')\n",
    "print('Clump intensity:')\n",
    "for i,I in enumerate(icl/tcl*(1-np.exp(-tcl))):\n",
    "    print('{:>10}: {:.6} K'.format(molecules[i], I))\n",
    "print('\\n')\n",
    "\n",
    "# Initialise the line intensities\n",
    "I = np.zeros(icl.size)\n",
    "\n",
    "# Integrate over the number of clumps along a line-of-sight\n",
    "# for i in range(nClumps):\n",
    "#   I = np.exp(-tcl) * ( icl/tcl*(np.exp(tcl)-1) + I )\n",
    "  \n",
    "# Integrate in an alternate simplified equation\n",
    "I = icl/tcl * (1-np.exp(-nClumps*tcl))\n",
    "\n",
    "for i,transition in enumerate(molecules):\n",
    "    print('The brightness temperature of the {:^10} transition is {:.6} K'.format(transition, I[i]))"
   ]
  },
  {
   "cell_type": "markdown",
   "metadata": {},
   "source": [
    "Like in the previous clump set, these values are very similar to the results of the single-voxel model. The accurracy of this result is due to the large number of clumps in the voxel, giving a very specific number of clumps in a line-of-sight.\n",
    "\n",
    "This time the difference between the analytic result and the one obtained with the single-voxel model is due primarily to the ensemble velocity dispersion. We gave it a velocity dispersion of $1 \\frac{km}{s}$—very close to the intrinsic clump velocity dispersion of $0.71 \\frac{km}{s}$—but even this is enough to ensure the $10^4$ clumps are actually spread over the ensemble velocities. In this way, it reduces the peak intensity of the voxel. It is evident in the $\\mathrm{CI} \\ 1 \\rightarrow 0$ transition since it is not suffering from a saturation effect (you can see this by the lack of a plateau feature in the velocity-intensity plot above earlier)."
   ]
  },
  {
   "cell_type": "markdown",
   "metadata": {},
   "source": [
    "## 3. Changing the velocity dispersion in the voxel"
   ]
  },
  {
   "cell_type": "markdown",
   "metadata": {},
   "source": [
    "Here we will consider two voxel with similar properties except for the ensemble dispersion. Thus we will examine the how the velocity dispersion affects the resulting intensity."
   ]
  },
  {
   "cell_type": "code",
   "execution_count": 51,
   "metadata": {},
   "outputs": [
    {
     "name": "stdout",
     "output_type": "stream",
     "text": [
      "Voxel emission calculated.\n"
     ]
    },
    {
     "data": {
      "image/png": "[encoded data removed]",
      "text/plain": [
       "<Figure size 720x360 with 1 Axes>"
      ]
     },
     "metadata": {
      "needs_background": "light"
     },
     "output_type": "display_data"
    }
   ],
   "source": [
    "from kosmatau3d import models\n",
    "import numpy as np\n",
    "\n",
    "np.set_printoptions(precision=8)\n",
    "\n",
    "# Use these to change the voxel properties, which is necessary in the default mode.\n",
    "parameters = {\n",
    "              # Grid parameters\n",
    "              'clump_tau_grid_file': 'clump_tau_LineCenter.dat',\n",
    "              'clump_tb_grid_file': 'clump_Tmb_LineCenter.dat',\n",
    "              'clump_taufuv_grid_file': 'RhoMassAFUV.dat',\n",
    "              'clump_column_density_file': 'clumpMeanCols.dat',\n",
    "              'clump_temperature_file': 'clumpTemperatures_filled.dat',\n",
    "              'interclump_tau_grid_file': 'interclumpTauLineCenter.dat',\n",
    "              'interclump_tb_grid_file': 'interclumpTmbLineCenter.dat',\n",
    "              'interclump_dust_tau_grid_file': 'interclumpDustTau.dat',\n",
    "              'interclump_dust_tb_grid_file': 'interclumpDustSED.dat',\n",
    "              'interclump_taufuv_grid_file': 'interclumpTauFUV.dat',\n",
    "              'interclump_column_density_file': 'interclumpMeanCols.dat',\n",
    "              'interclump_temperature_file': 'interclumpTemperatures_filled.dat',\n",
    "\n",
    "              # Model parameters\n",
    "              'voxel_size' : 1,\n",
    "              'molecules' : 'all',\n",
    "              'dust' : 'PAH',\n",
    "              'clump_mass_range' : [[1]],\n",
    "              'clump_mass_number' : [1],\n",
    "              'clump_n_max' : [1],\n",
    "              'velocity_range' : [-10, 10],\n",
    "              'velocity_number' : 201,\n",
    "\n",
    "              # Voxel properties\n",
    "              'velocity' : 0.,\n",
    "              'ensemble_dispersion' : 1.5,\n",
    "              'ensemble_mass' : 1e4,\n",
    "              'ensemble_density' : 1e6,\n",
    "              'fuv' : 1e4\n",
    "              }\n",
    "\n",
    "vox = models.Voxel()\n",
    "vox.set_properties(**parameters)\n",
    "vox.calculate_emission(verbose=True)\n",
    "vox.plot_transition(transition=['C+ 1', 'C 1', 'CO 1'])"
   ]
  },
  {
   "cell_type": "code",
   "execution_count": 52,
   "metadata": {},
   "outputs": [
    {
     "data": {
      "text/plain": [
       "[0.4046604500450865]"
      ]
     },
     "execution_count": 52,
     "metadata": {},
     "output_type": "execute_result"
    }
   ],
   "source": [
    "vox.get_volume_filling_factor()"
   ]
  },
  {
   "cell_type": "code",
   "execution_count": 53,
   "metadata": {},
   "outputs": [
    {
     "name": "stdout",
     "output_type": "stream",
     "text": [
      "Voxel emission calculated.\n"
     ]
    },
    {
     "data": {
      "image/png": "[encoded data removed]",
      "text/plain": [
       "<Figure size 720x360 with 1 Axes>"
      ]
     },
     "metadata": {
      "needs_background": "light"
     },
     "output_type": "display_data"
    }
   ],
   "source": [
    "from kosmatau3d import models\n",
    "import numpy as np\n",
    "\n",
    "np.set_printoptions(precision=8)\n",
    "\n",
    "# Use these to change the voxel properties, which is necessary in the default mode.\n",
    "parameters = {\n",
    "              # Grid parameters\n",
    "              'clump_tau_grid_file': 'clump_tau_LineCenter.dat',\n",
    "              'clump_tb_grid_file': 'clump_Tmb_LineCenter.dat',\n",
    "              'clump_taufuv_grid_file': 'RhoMassAFUV.dat',\n",
    "              'clump_column_density_file': 'clumpMeanCols.dat',\n",
    "              'clump_temperature_file': 'clumpTemperatures_filled.dat',\n",
    "              'interclump_tau_grid_file': 'interclumpTauLineCenter.dat',\n",
    "              'interclump_tb_grid_file': 'interclumpTmbLineCenter.dat',\n",
    "              'interclump_dust_tau_grid_file': 'interclumpDustTau.dat',\n",
    "              'interclump_dust_tb_grid_file': 'interclumpDustSED.dat',\n",
    "              'interclump_taufuv_grid_file': 'interclumpTauFUV.dat',\n",
    "              'interclump_column_density_file': 'interclumpMeanCols.dat',\n",
    "              'interclump_temperature_file': 'interclumpTemperatures_filled.dat',\n",
    "\n",
    "              # Model parameters\n",
    "              'voxel_size' : 1,\n",
    "              'molecules' : 'all',\n",
    "              'dust' : 'PAH',\n",
    "              'clump_mass_range' : [[1]],\n",
    "              'clump_mass_number' : [1],\n",
    "              'clump_n_max' : [1],\n",
    "              'velocity_range' : [-10, 10],\n",
    "              'velocity_number' : 201,\n",
    "\n",
    "              # Voxel properties\n",
    "              'velocity' : 0.,\n",
    "              'ensemble_dispersion' : 3,\n",
    "              'ensemble_mass' : 1e4,\n",
    "              'ensemble_density' : 1e6,\n",
    "              'fuv' : 1e4\n",
    "              }\n",
    "\n",
    "vox = models.Voxel()\n",
    "vox.set_properties(**parameters)\n",
    "vox.calculate_emission(verbose=True)\n",
    "vox.plot_transition(transition=['C+ 1', 'C 1', 'CO 1'])"
   ]
  },
  {
   "cell_type": "code",
   "execution_count": 54,
   "metadata": {},
   "outputs": [
    {
     "data": {
      "text/plain": [
       "[0.4046604500450865]"
      ]
     },
     "execution_count": 54,
     "metadata": {},
     "output_type": "execute_result"
    }
   ],
   "source": [
    "vox.get_volume_filling_factor()"
   ]
  },
  {
   "cell_type": "markdown",
   "metadata": {},
   "source": [
    "This clearly shows the effect of increasing the ensemble velocity dispersion. While the first model was starting to show saturation effects in $\\mathrm{CII}$ and $\\mathrm{CO}$, these are not present in the second model with a higher ensemble velocity dispersion."
   ]
  },
  {
   "cell_type": "markdown",
   "metadata": {},
   "source": [
    "## 4. Resizing the voxel"
   ]
  },
  {
   "cell_type": "markdown",
   "metadata": {},
   "source": [
    "### Small clumps\n",
    "\n",
    "Here we consider a voxel with larger mass and more observed velocities, but we still consider a simple model with one clump mass. The mass clump this time is much smaller ($10^{-2} \\ M_\\odot$). This is the typical clump size used to model the interclump medium. Andree-Labsch (2017) models the interclump medium by forcing $n_\\mathrm{max}=100$ (this is called `clumpNmax` in the single-voxel model). As you might have seen, specifying `clumpNmax` will normalise the number of clumps in the model to that value by scaling the voxel size. Using a value of None will not use this feature. We can model $10^2 M_\\odot$ in the voxel, but vary $n_\\mathrm{max} \\in (100, 1, \\mathrm{None})$. This example will be used to examine the validity of this normalisation and rescaling of the voxel."
   ]
  },
  {
   "cell_type": "code",
   "execution_count": 55,
   "metadata": {},
   "outputs": [
    {
     "name": "stdout",
     "output_type": "stream",
     "text": [
      "Voxel emission calculated.\n",
      "Peak intensities for  ['C+ 1', 'C 1', 'CO 1']\n",
      "[16.50338295  0.43878979  4.16479932]\n"
     ]
    }
   ],
   "source": [
    "from kosmatau3d import models\n",
    "import numpy as np\n",
    "\n",
    "# Use these to change the voxel properties, which is necessary in the default mode.\n",
    "parameters = {\n",
    "              # Grid parameters\n",
    "              'clump_tau_grid_file': 'clump_tau_LineCenter.dat',\n",
    "              'clump_tb_grid_file': 'clump_Tmb_LineCenter.dat',\n",
    "              'clump_taufuv_grid_file': 'RhoMassAFUV.dat',\n",
    "              'clump_column_density_file': 'clumpMeanCols.dat',\n",
    "              'clump_temperature_file': 'clumpTemperatures_filled.dat',\n",
    "              'interclump_tau_grid_file': 'interclumpTauLineCenter.dat',\n",
    "              'interclump_tb_grid_file': 'interclumpTmbLineCenter.dat',\n",
    "              'interclump_dust_tau_grid_file': 'interclumpDustTau.dat',\n",
    "              'interclump_dust_tb_grid_file': 'interclumpDustSED.dat',\n",
    "              'interclump_taufuv_grid_file': 'interclumpTauFUV.dat',\n",
    "              'interclump_column_density_file': 'interclumpMeanCols.dat',\n",
    "              'interclump_temperature_file': 'interclumpTemperatures_filled.dat',\n",
    "\n",
    "              # Model parameters\n",
    "              'voxel_size' : 1,\n",
    "              'molecules' : 'all',\n",
    "              'dust' : 'PAH',\n",
    "              'clump_mass_range' : [[-2]],\n",
    "              'clump_mass_number' : [1],\n",
    "              'clump_n_max' : [100],\n",
    "              'velocity_range' : [-10, 10],\n",
    "              'velocity_number' : 201,\n",
    "\n",
    "              # Voxel properties\n",
    "              'velocity' : 0.,\n",
    "              'ensemble_dispersion' : 3,\n",
    "              'ensemble_mass' : 1e2,\n",
    "              'ensemble_density' : 1e6,\n",
    "              'fuv' : 1e4\n",
    "              }\n",
    "\n",
    "vox = models.Voxel()\n",
    "vox.set_properties(**parameters)\n",
    "vox.calculate_emission(verbose=True)\n",
    "\n",
    "molecules = ['C+ 1', 'C 1', 'CO 1']\n",
    "print('Peak intensities for ', molecules)\n",
    "print(vox.get_species_intensity()[0][:,models.species.speciesIndeces(molecules)].max(0))\n",
    "# vox.plotMolecule(molecule=molecules)"
   ]
  },
  {
   "cell_type": "code",
   "execution_count": 56,
   "metadata": {},
   "outputs": [
    {
     "data": {
      "text/plain": [
       "[0.004046604500450866]"
      ]
     },
     "execution_count": 56,
     "metadata": {},
     "output_type": "execute_result"
    }
   ],
   "source": [
    "vox.get_volume_filling_factor()"
   ]
  },
  {
   "cell_type": "code",
   "execution_count": 57,
   "metadata": {},
   "outputs": [
    {
     "data": {
      "text/plain": [
       "[0.004046604500450866]"
      ]
     },
     "execution_count": 57,
     "metadata": {},
     "output_type": "execute_result"
    }
   ],
   "source": [
    "vox.get_volume_filling_factor()"
   ]
  },
  {
   "cell_type": "code",
   "execution_count": 58,
   "metadata": {},
   "outputs": [
    {
     "name": "stdout",
     "output_type": "stream",
     "text": [
      "\n",
      "C L U M P   S E T   1\n",
      "\n",
      "Nj:\n",
      "[[10000.]]\n",
      "delta Nji:\n",
      "[[  3.4988]\n",
      " [  4.4201]\n",
      " [  5.5492]\n",
      " [  6.9234]\n",
      " [  8.5843]\n",
      " [ 10.5775]\n",
      " [ 12.9525]\n",
      " [ 15.7623]\n",
      " [ 19.0624]\n",
      " [ 22.9102]\n",
      " [ 27.3636]\n",
      " [ 32.4796]\n",
      " [ 38.3126]\n",
      " [ 44.9124]\n",
      " [ 52.3219]\n",
      " [ 60.575 ]\n",
      " [ 69.6942]\n",
      " [ 79.6881]\n",
      " [ 90.5489]\n",
      " [102.2507]\n",
      " [114.7473]\n",
      " [127.9711]\n",
      " [141.8321]\n",
      " [156.2177]\n",
      " [170.9933]\n",
      " [186.0036]\n",
      " [201.0743]\n",
      " [216.0156]\n",
      " [230.6251]\n",
      " [244.6929]\n",
      " [258.0058]\n",
      " [270.3526]\n",
      " [281.5302]\n",
      " [291.3483]\n",
      " [299.6354]\n",
      " [306.2436]\n",
      " [311.0528]\n",
      " [313.9745]\n",
      " [314.9544]\n",
      " [313.9745]\n",
      " [311.0528]\n",
      " [306.2436]\n",
      " [299.6354]\n",
      " [291.3483]\n",
      " [281.5302]\n",
      " [270.3526]\n",
      " [258.0058]\n",
      " [244.6929]\n",
      " [230.6251]\n",
      " [216.0156]\n",
      " [201.0743]\n",
      " [186.0036]\n",
      " [170.9933]\n",
      " [156.2177]\n",
      " [141.8321]\n",
      " [127.9711]\n",
      " [114.7473]\n",
      " [102.2507]\n",
      " [ 90.5489]\n",
      " [ 79.6881]\n",
      " [ 69.6942]\n",
      " [ 60.575 ]\n",
      " [ 52.3219]\n",
      " [ 44.9124]\n",
      " [ 38.3126]\n",
      " [ 32.4796]\n",
      " [ 27.3636]\n",
      " [ 22.9102]\n",
      " [ 19.0624]\n",
      " [ 15.7623]\n",
      " [ 12.9525]\n",
      " [ 10.5775]\n",
      " [  8.5843]\n",
      " [  6.9234]\n",
      " [  5.5492]\n",
      " [  4.4201]\n",
      " [  3.4988]]\n",
      "\n",
      "Normalised Nj:\n",
      "[[100.]]\n",
      "Normalised delta Nj:\n",
      "[[100.]\n",
      " [100.]\n",
      " [100.]\n",
      " [100.]\n",
      " [100.]\n",
      " [100.]\n",
      " [100.]\n",
      " [100.]\n",
      " [100.]\n",
      " [100.]\n",
      " [100.]\n",
      " [100.]\n",
      " [100.]\n",
      " [100.]\n",
      " [100.]\n",
      " [100.]\n",
      " [100.]\n",
      " [100.]\n",
      " [100.]\n",
      " [100.]\n",
      " [100.]\n",
      " [100.]\n",
      " [100.]\n",
      " [100.]\n",
      " [100.]\n",
      " [100.]\n",
      " [100.]\n",
      " [100.]\n",
      " [100.]\n",
      " [100.]\n",
      " [100.]\n",
      " [100.]\n",
      " [100.]\n",
      " [100.]\n",
      " [100.]\n",
      " [100.]\n",
      " [100.]\n",
      " [100.]\n",
      " [100.]\n",
      " [100.]\n",
      " [100.]\n",
      " [100.]\n",
      " [100.]\n",
      " [100.]\n",
      " [100.]\n",
      " [100.]\n",
      " [100.]\n",
      " [100.]\n",
      " [100.]\n",
      " [100.]\n",
      " [100.]\n",
      " [100.]\n",
      " [100.]\n",
      " [100.]\n",
      " [100.]\n",
      " [100.]\n",
      " [100.]\n",
      " [100.]\n",
      " [100.]\n",
      " [100.]\n",
      " [100.]\n",
      " [100.]\n",
      " [100.]\n",
      " [100.]\n",
      " [100.]\n",
      " [100.]\n",
      " [100.]\n",
      " [100.]\n",
      " [100.]\n",
      " [100.]\n",
      " [100.]\n",
      " [100.]\n",
      " [100.]\n",
      " [100.]\n",
      " [100.]\n",
      " [100.]\n",
      " [100.]]\n",
      "\n"
     ]
    }
   ],
   "source": [
    "models.ensemble.print_ensembleparameters()"
   ]
  },
  {
   "cell_type": "code",
   "execution_count": 59,
   "metadata": {},
   "outputs": [
    {
     "name": "stdout",
     "output_type": "stream",
     "text": [
      "Voxel emission calculated.\n",
      "Peak intensities for  ['C+ 1', 'C 1', 'CO 1']\n",
      "[16.8225  0.4476  4.2457]\n"
     ]
    }
   ],
   "source": [
    "from kosmatau3d import models\n",
    "import numpy as np\n",
    "\n",
    "# Use these to change the voxel properties, which is necessary in the default mode.\n",
    "parameters = {\n",
    "              # Grid parameters\n",
    "              'clump_tau_grid_file': 'clump_tau_LineCenter.dat',\n",
    "              'clump_tb_grid_file': 'clump_Tmb_LineCenter.dat',\n",
    "              'clump_taufuv_grid_file': 'RhoMassAFUV.dat',\n",
    "              'clump_column_density_file': 'clumpMeanCols.dat',\n",
    "              'clump_temperature_file': 'clumpTemperatures_filled.dat',\n",
    "              'interclump_tau_grid_file': 'interclumpTauLineCenter.dat',\n",
    "              'interclump_tb_grid_file': 'interclumpTmbLineCenter.dat',\n",
    "              'interclump_dust_tau_grid_file': 'interclumpDustTau.dat',\n",
    "              'interclump_dust_tb_grid_file': 'interclumpDustSED.dat',\n",
    "              'interclump_taufuv_grid_file': 'interclumpTauFUV.dat',\n",
    "              'interclump_column_density_file': 'interclumpMeanCols.dat',\n",
    "              'interclump_temperature_file': 'interclumpTemperatures_filled.dat',\n",
    "\n",
    "              # Model parameters\n",
    "              'voxel_size' : 1,\n",
    "              'molecules' : 'all',\n",
    "              'dust' : 'PAH',\n",
    "              'clump_mass_range' : [[-2]],\n",
    "              'clump_mass_number' : [1],\n",
    "              'clump_n_max' : [1],\n",
    "              'velocity_range' : [-10, 10],\n",
    "              'velocity_number' : 201,\n",
    "\n",
    "              # Voxel properties\n",
    "              'velocity' : 0.,\n",
    "              'ensemble_dispersion' : 3,\n",
    "              'ensemble_mass' : 1e2,\n",
    "              'ensemble_density' : 1e6,\n",
    "              'fuv' : 1e4,\n",
    "              }\n",
    "\n",
    "vox = models.Voxel()\n",
    "vox.set_properties(**parameters)\n",
    "vox.calculate_emission(verbose=True)\n",
    "\n",
    "molecules = ['C+ 1', 'C 1', 'CO 1']\n",
    "print('Peak intensities for ', molecules)\n",
    "print(vox.get_species_intensity()[0][:,models.species.speciesIndeces(molecules)].max(0))\n",
    "# vox.plotMolecule(molecule=molecules)"
   ]
  },
  {
   "cell_type": "code",
   "execution_count": 60,
   "metadata": {},
   "outputs": [
    {
     "data": {
      "text/plain": [
       "[0.004046604500450866]"
      ]
     },
     "execution_count": 60,
     "metadata": {},
     "output_type": "execute_result"
    }
   ],
   "source": [
    "vox.get_volume_filling_factor()"
   ]
  },
  {
   "cell_type": "code",
   "execution_count": 61,
   "metadata": {},
   "outputs": [
    {
     "name": "stdout",
     "output_type": "stream",
     "text": [
      "\n",
      "C L U M P   S E T   1\n",
      "\n",
      "Nj:\n",
      "[[10000.]]\n",
      "delta Nji:\n",
      "[[  3.4988]\n",
      " [  4.4201]\n",
      " [  5.5492]\n",
      " [  6.9234]\n",
      " [  8.5843]\n",
      " [ 10.5775]\n",
      " [ 12.9525]\n",
      " [ 15.7623]\n",
      " [ 19.0624]\n",
      " [ 22.9102]\n",
      " [ 27.3636]\n",
      " [ 32.4796]\n",
      " [ 38.3126]\n",
      " [ 44.9124]\n",
      " [ 52.3219]\n",
      " [ 60.575 ]\n",
      " [ 69.6942]\n",
      " [ 79.6881]\n",
      " [ 90.5489]\n",
      " [102.2507]\n",
      " [114.7473]\n",
      " [127.9711]\n",
      " [141.8321]\n",
      " [156.2177]\n",
      " [170.9933]\n",
      " [186.0036]\n",
      " [201.0743]\n",
      " [216.0156]\n",
      " [230.6251]\n",
      " [244.6929]\n",
      " [258.0058]\n",
      " [270.3526]\n",
      " [281.5302]\n",
      " [291.3483]\n",
      " [299.6354]\n",
      " [306.2436]\n",
      " [311.0528]\n",
      " [313.9745]\n",
      " [314.9544]\n",
      " [313.9745]\n",
      " [311.0528]\n",
      " [306.2436]\n",
      " [299.6354]\n",
      " [291.3483]\n",
      " [281.5302]\n",
      " [270.3526]\n",
      " [258.0058]\n",
      " [244.6929]\n",
      " [230.6251]\n",
      " [216.0156]\n",
      " [201.0743]\n",
      " [186.0036]\n",
      " [170.9933]\n",
      " [156.2177]\n",
      " [141.8321]\n",
      " [127.9711]\n",
      " [114.7473]\n",
      " [102.2507]\n",
      " [ 90.5489]\n",
      " [ 79.6881]\n",
      " [ 69.6942]\n",
      " [ 60.575 ]\n",
      " [ 52.3219]\n",
      " [ 44.9124]\n",
      " [ 38.3126]\n",
      " [ 32.4796]\n",
      " [ 27.3636]\n",
      " [ 22.9102]\n",
      " [ 19.0624]\n",
      " [ 15.7623]\n",
      " [ 12.9525]\n",
      " [ 10.5775]\n",
      " [  8.5843]\n",
      " [  6.9234]\n",
      " [  5.5492]\n",
      " [  4.4201]\n",
      " [  3.4988]]\n",
      "\n",
      "Normalised Nj:\n",
      "[[1.]]\n",
      "Normalised delta Nj:\n",
      "[[1.]\n",
      " [1.]\n",
      " [1.]\n",
      " [1.]\n",
      " [1.]\n",
      " [1.]\n",
      " [1.]\n",
      " [1.]\n",
      " [1.]\n",
      " [1.]\n",
      " [1.]\n",
      " [1.]\n",
      " [1.]\n",
      " [1.]\n",
      " [1.]\n",
      " [1.]\n",
      " [1.]\n",
      " [1.]\n",
      " [1.]\n",
      " [1.]\n",
      " [1.]\n",
      " [1.]\n",
      " [1.]\n",
      " [1.]\n",
      " [1.]\n",
      " [1.]\n",
      " [1.]\n",
      " [1.]\n",
      " [1.]\n",
      " [1.]\n",
      " [1.]\n",
      " [1.]\n",
      " [1.]\n",
      " [1.]\n",
      " [1.]\n",
      " [1.]\n",
      " [1.]\n",
      " [1.]\n",
      " [1.]\n",
      " [1.]\n",
      " [1.]\n",
      " [1.]\n",
      " [1.]\n",
      " [1.]\n",
      " [1.]\n",
      " [1.]\n",
      " [1.]\n",
      " [1.]\n",
      " [1.]\n",
      " [1.]\n",
      " [1.]\n",
      " [1.]\n",
      " [1.]\n",
      " [1.]\n",
      " [1.]\n",
      " [1.]\n",
      " [1.]\n",
      " [1.]\n",
      " [1.]\n",
      " [1.]\n",
      " [1.]\n",
      " [1.]\n",
      " [1.]\n",
      " [1.]\n",
      " [1.]\n",
      " [1.]\n",
      " [1.]\n",
      " [1.]\n",
      " [1.]\n",
      " [1.]\n",
      " [1.]\n",
      " [1.]\n",
      " [1.]\n",
      " [1.]\n",
      " [1.]\n",
      " [1.]\n",
      " [1.]]\n",
      "\n"
     ]
    }
   ],
   "source": [
    "models.ensemble.print_ensembleparameters()"
   ]
  },
  {
   "cell_type": "code",
   "execution_count": 62,
   "metadata": {},
   "outputs": [
    {
     "name": "stdout",
     "output_type": "stream",
     "text": [
      "Voxel emission calculated.\n",
      "Peak intensities for  ['C+ 1', 'C 1', 'CO 1']\n",
      "[16.5008  0.4387  4.1641]\n"
     ]
    }
   ],
   "source": [
    "from kosmatau3d import models\n",
    "import numpy as np\n",
    "\n",
    "# Use these to change the voxel properties, which is necessary in the default mode.\n",
    "parameters = {\n",
    "              # Grid parameters\n",
    "              'clump_tau_grid_file': 'clump_tau_LineCenter.dat',\n",
    "              'clump_tb_grid_file': 'clump_Tmb_LineCenter.dat',\n",
    "              'clump_taufuv_grid_file': 'RhoMassAFUV.dat',\n",
    "              'clump_column_density_file': 'clumpMeanCols.dat',\n",
    "              'clump_temperature_file': 'clumpTemperatures_filled.dat',\n",
    "              'interclump_tau_grid_file': 'interclumpTauLineCenter.dat',\n",
    "              'interclump_tb_grid_file': 'interclumpTmbLineCenter.dat',\n",
    "              'interclump_dust_tau_grid_file': 'interclumpDustTau.dat',\n",
    "              'interclump_dust_tb_grid_file': 'interclumpDustSED.dat',\n",
    "              'interclump_taufuv_grid_file': 'interclumpTauFUV.dat',\n",
    "              'interclump_column_density_file': 'interclumpMeanCols.dat',\n",
    "              'interclump_temperature_file': 'interclumpTemperatures_filled.dat',\n",
    "\n",
    "              # Model parameters\n",
    "              'voxel_size' : 1,\n",
    "              'molecules' : 'all',\n",
    "              'dust' : 'PAH',\n",
    "              'clump_mass_range' : [[-2]],\n",
    "              'clump_mass_number' : [1],\n",
    "              'clump_n_max' : [None],\n",
    "              'velocity_range' : [-10, 10],\n",
    "              'velocity_number' : 201,\n",
    "\n",
    "              # Voxel properties\n",
    "              'velocity' : 0.,\n",
    "              'ensemble_dispersion' : 3,\n",
    "              'ensemble_mass' : 1e2,\n",
    "              'ensemble_density' : 1e6,\n",
    "              'fuv' : 1e4\n",
    "              }\n",
    "\n",
    "vox = models.Voxel()\n",
    "vox.set_properties(**parameters)\n",
    "vox.calculate_emission(verbose=True)\n",
    "\n",
    "molecules = ['C+ 1', 'C 1', 'CO 1']\n",
    "print('Peak intensities for ', molecules)\n",
    "print(vox.get_species_intensity()[0][:,models.species.speciesIndeces(molecules)].max(0))\n",
    "# vox.plotMolecule(molecule=molecules)"
   ]
  },
  {
   "cell_type": "code",
   "execution_count": 63,
   "metadata": {},
   "outputs": [
    {
     "data": {
      "text/plain": [
       "[0.004046604500450866]"
      ]
     },
     "execution_count": 63,
     "metadata": {},
     "output_type": "execute_result"
    }
   ],
   "source": [
    "vox.get_volume_filling_factor()"
   ]
  },
  {
   "cell_type": "code",
   "execution_count": 64,
   "metadata": {},
   "outputs": [
    {
     "name": "stdout",
     "output_type": "stream",
     "text": [
      "\n",
      "C L U M P   S E T   1\n",
      "\n",
      "Nj:\n",
      "[[10000.]]\n",
      "delta Nji:\n",
      "[[  3.4988]\n",
      " [  4.4201]\n",
      " [  5.5492]\n",
      " [  6.9234]\n",
      " [  8.5843]\n",
      " [ 10.5775]\n",
      " [ 12.9525]\n",
      " [ 15.7623]\n",
      " [ 19.0624]\n",
      " [ 22.9102]\n",
      " [ 27.3636]\n",
      " [ 32.4796]\n",
      " [ 38.3126]\n",
      " [ 44.9124]\n",
      " [ 52.3219]\n",
      " [ 60.575 ]\n",
      " [ 69.6942]\n",
      " [ 79.6881]\n",
      " [ 90.5489]\n",
      " [102.2507]\n",
      " [114.7473]\n",
      " [127.9711]\n",
      " [141.8321]\n",
      " [156.2177]\n",
      " [170.9933]\n",
      " [186.0036]\n",
      " [201.0743]\n",
      " [216.0156]\n",
      " [230.6251]\n",
      " [244.6929]\n",
      " [258.0058]\n",
      " [270.3526]\n",
      " [281.5302]\n",
      " [291.3483]\n",
      " [299.6354]\n",
      " [306.2436]\n",
      " [311.0528]\n",
      " [313.9745]\n",
      " [314.9544]\n",
      " [313.9745]\n",
      " [311.0528]\n",
      " [306.2436]\n",
      " [299.6354]\n",
      " [291.3483]\n",
      " [281.5302]\n",
      " [270.3526]\n",
      " [258.0058]\n",
      " [244.6929]\n",
      " [230.6251]\n",
      " [216.0156]\n",
      " [201.0743]\n",
      " [186.0036]\n",
      " [170.9933]\n",
      " [156.2177]\n",
      " [141.8321]\n",
      " [127.9711]\n",
      " [114.7473]\n",
      " [102.2507]\n",
      " [ 90.5489]\n",
      " [ 79.6881]\n",
      " [ 69.6942]\n",
      " [ 60.575 ]\n",
      " [ 52.3219]\n",
      " [ 44.9124]\n",
      " [ 38.3126]\n",
      " [ 32.4796]\n",
      " [ 27.3636]\n",
      " [ 22.9102]\n",
      " [ 19.0624]\n",
      " [ 15.7623]\n",
      " [ 12.9525]\n",
      " [ 10.5775]\n",
      " [  8.5843]\n",
      " [  6.9234]\n",
      " [  5.5492]\n",
      " [  4.4201]\n",
      " [  3.4988]]\n",
      "\n",
      "Normalised Nj:\n",
      "[[10000.]]\n",
      "Normalised delta Nj:\n",
      "[[  3.]\n",
      " [  4.]\n",
      " [  6.]\n",
      " [  7.]\n",
      " [  9.]\n",
      " [ 11.]\n",
      " [ 13.]\n",
      " [ 16.]\n",
      " [ 19.]\n",
      " [ 23.]\n",
      " [ 27.]\n",
      " [ 32.]\n",
      " [ 38.]\n",
      " [ 45.]\n",
      " [ 52.]\n",
      " [ 61.]\n",
      " [ 70.]\n",
      " [ 80.]\n",
      " [ 91.]\n",
      " [102.]\n",
      " [115.]\n",
      " [128.]\n",
      " [142.]\n",
      " [156.]\n",
      " [171.]\n",
      " [186.]\n",
      " [201.]\n",
      " [216.]\n",
      " [231.]\n",
      " [245.]\n",
      " [258.]\n",
      " [270.]\n",
      " [282.]\n",
      " [291.]\n",
      " [300.]\n",
      " [306.]\n",
      " [311.]\n",
      " [314.]\n",
      " [315.]\n",
      " [314.]\n",
      " [311.]\n",
      " [306.]\n",
      " [300.]\n",
      " [291.]\n",
      " [282.]\n",
      " [270.]\n",
      " [258.]\n",
      " [245.]\n",
      " [231.]\n",
      " [216.]\n",
      " [201.]\n",
      " [186.]\n",
      " [171.]\n",
      " [156.]\n",
      " [142.]\n",
      " [128.]\n",
      " [115.]\n",
      " [102.]\n",
      " [ 91.]\n",
      " [ 80.]\n",
      " [ 70.]\n",
      " [ 61.]\n",
      " [ 52.]\n",
      " [ 45.]\n",
      " [ 38.]\n",
      " [ 32.]\n",
      " [ 27.]\n",
      " [ 23.]\n",
      " [ 19.]\n",
      " [ 16.]\n",
      " [ 13.]\n",
      " [ 11.]\n",
      " [  9.]\n",
      " [  7.]\n",
      " [  6.]\n",
      " [  4.]\n",
      " [  3.]]\n",
      "\n"
     ]
    }
   ],
   "source": [
    "models.ensemble.print_ensembleparameters()"
   ]
  },
  {
   "cell_type": "markdown",
   "metadata": {},
   "source": [
    "As we can see here, changing $\\mathrm{n}_{max}$ has little effect on the resulting intensity of the voxel $(< 5 \\%)$. The main motivation for specifying $\\mathrm{n}_{max}$ is a computational one: it limits the number of clump combinations calculated and thus the computational footprint of the model. Approximating the voxel with $\\mathrm{n}_{max}=100$ is not useful in this case, since the resulting intensities are higher than the un-normalised calculations."
   ]
  },
  {
   "cell_type": "markdown",
   "metadata": {},
   "source": [
    "### Large clumps\n",
    "\n",
    "One reason the test using $10^{-2} M_\\odot$ did not show much of a difference using different $\\mathrm{n}_{max}$ is that there is not much absorption in such a small clump mass. We can thus repeat this experiment for a more massive clump of $10 M_\\odot$. In this case we use an ensemble mass of $10^3 M_\\odot$ to ensure the voxel still has enough clumps to suffer from self-absorption but not so many to be completely self-absorbed (seen by a plateau in the velocity-intensity plot)."
   ]
  },
  {
   "cell_type": "code",
   "execution_count": 65,
   "metadata": {},
   "outputs": [
    {
     "name": "stdout",
     "output_type": "stream",
     "text": [
      "Voxel emission calculated.\n",
      "Peak intensities for  ['C+ 1', 'C 1', 'CO 1']\n",
      "[48.7023  2.0566 20.1114]\n"
     ]
    }
   ],
   "source": [
    "from kosmatau3d import models\n",
    "import numpy as np\n",
    "\n",
    "# Use these to change the voxel properties, which is necessary in the default mode.\n",
    "parameters = {\n",
    "              # Grid parameters\n",
    "              'clump_tau_grid_file': 'clump_tau_LineCenter.dat',\n",
    "              'clump_tb_grid_file': 'clump_Tmb_LineCenter.dat',\n",
    "              'clump_taufuv_grid_file': 'RhoMassAFUV.dat',\n",
    "              'clump_column_density_file': 'clumpMeanCols.dat',\n",
    "              'clump_temperature_file': 'clumpTemperatures_filled.dat',\n",
    "              'interclump_tau_grid_file': 'interclumpTauLineCenter.dat',\n",
    "              'interclump_tb_grid_file': 'interclumpTmbLineCenter.dat',\n",
    "              'interclump_dust_tau_grid_file': 'interclumpDustTau.dat',\n",
    "              'interclump_dust_tb_grid_file': 'interclumpDustSED.dat',\n",
    "              'interclump_taufuv_grid_file': 'interclumpTauFUV.dat',\n",
    "              'interclump_column_density_file': 'interclumpMeanCols.dat',\n",
    "              'interclump_temperature_file': 'interclumpTemperatures_filled.dat',\n",
    "\n",
    "              # Model parameters\n",
    "              'voxel_size' : 1,\n",
    "              'molecules' : 'all',\n",
    "              'dust' : 'PAH',\n",
    "              'clump_mass_range' : [[1]],\n",
    "              'clump_mass_number' : [1],\n",
    "              'clump_n_max' : [1],\n",
    "              'velocity_range' : [-10, 10],\n",
    "              'velocity_number' : 201,\n",
    "\n",
    "              # Voxel properties\n",
    "              'velocity' : 0.,\n",
    "              'ensemble_dispersion' : 1,\n",
    "              'ensemble_mass' : 1e3,\n",
    "              'ensemble_density' : 1e6,\n",
    "              'fuv' : 1e4\n",
    "              }\n",
    "\n",
    "vox = models.Voxel()\n",
    "vox.set_properties(**parameters)\n",
    "vox.calculate_emission(verbose=True)\n",
    "\n",
    "molecules = ['C+ 1', 'C 1', 'CO 1']\n",
    "print('Peak intensities for ', molecules)\n",
    "print(vox.get_species_intensity()[0][:,models.species.speciesIndeces(molecules)].max(0))\n",
    "# vox.plotMolecule(molecule=molecules)"
   ]
  },
  {
   "cell_type": "code",
   "execution_count": 66,
   "metadata": {},
   "outputs": [
    {
     "data": {
      "text/plain": [
       "[0.04046604500450865]"
      ]
     },
     "execution_count": 66,
     "metadata": {},
     "output_type": "execute_result"
    }
   ],
   "source": [
    "vox.get_volume_filling_factor()"
   ]
  },
  {
   "cell_type": "code",
   "execution_count": 67,
   "metadata": {},
   "outputs": [
    {
     "name": "stdout",
     "output_type": "stream",
     "text": [
      "\n",
      "C L U M P   S E T   1\n",
      "\n",
      "Nj:\n",
      "[[100.]]\n",
      "delta Nji:\n",
      "[[0.1064]\n",
      " [0.2123]\n",
      " [0.4001]\n",
      " [0.7117]\n",
      " [1.1952]\n",
      " [1.8948]\n",
      " [2.8358]\n",
      " [4.0065]\n",
      " [5.3437]\n",
      " [6.7283]\n",
      " [7.9974]\n",
      " [8.9739]\n",
      " [9.5059]\n",
      " [9.5059]\n",
      " [8.9739]\n",
      " [7.9974]\n",
      " [6.7283]\n",
      " [5.3437]\n",
      " [4.0065]\n",
      " [2.8358]\n",
      " [1.8948]\n",
      " [1.1952]\n",
      " [0.7117]\n",
      " [0.4001]\n",
      " [0.2123]\n",
      " [0.1064]]\n",
      "\n",
      "Normalised Nj:\n",
      "[[1.]]\n",
      "Normalised delta Nj:\n",
      "[[1.]\n",
      " [1.]\n",
      " [1.]\n",
      " [1.]\n",
      " [1.]\n",
      " [1.]\n",
      " [1.]\n",
      " [1.]\n",
      " [1.]\n",
      " [1.]\n",
      " [1.]\n",
      " [1.]\n",
      " [1.]\n",
      " [1.]\n",
      " [1.]\n",
      " [1.]\n",
      " [1.]\n",
      " [1.]\n",
      " [1.]\n",
      " [1.]\n",
      " [1.]\n",
      " [1.]\n",
      " [1.]\n",
      " [1.]\n",
      " [1.]\n",
      " [1.]]\n",
      "\n"
     ]
    }
   ],
   "source": [
    "models.ensemble.print_ensembleparameters()"
   ]
  },
  {
   "cell_type": "code",
   "execution_count": 68,
   "metadata": {},
   "outputs": [
    {
     "name": "stdout",
     "output_type": "stream",
     "text": [
      "Voxel emission calculated.\n",
      "Peak intensities for  ['C+ 1', 'C 1', 'CO 1']\n",
      "[47.229   1.9847 19.5436]\n"
     ]
    }
   ],
   "source": [
    "from kosmatau3d import models\n",
    "import numpy as np\n",
    "\n",
    "# Use these to change the voxel properties, which is necessary in the default mode.\n",
    "parameters = {\n",
    "              # Grid parameters\n",
    "              'clump_tau_grid_file': 'clump_tau_LineCenter.dat',\n",
    "              'clump_tb_grid_file': 'clump_Tmb_LineCenter.dat',\n",
    "              'clump_taufuv_grid_file': 'RhoMassAFUV.dat',\n",
    "              'clump_column_density_file': 'clumpMeanCols.dat',\n",
    "              'clump_temperature_file': 'clumpTemperatures_filled.dat',\n",
    "              'interclump_tau_grid_file': 'interclumpTauLineCenter.dat',\n",
    "              'interclump_tb_grid_file': 'interclumpTmbLineCenter.dat',\n",
    "              'interclump_dust_tau_grid_file': 'interclumpDustTau.dat',\n",
    "              'interclump_dust_tb_grid_file': 'interclumpDustSED.dat',\n",
    "              'interclump_taufuv_grid_file': 'interclumpTauFUV.dat',\n",
    "              'interclump_column_density_file': 'interclumpMeanCols.dat',\n",
    "              'interclump_temperature_file': 'interclumpTemperatures_filled.dat',\n",
    "\n",
    "              # Model parameters\n",
    "              'voxel_size' : 1,\n",
    "              'molecules' : 'all',\n",
    "              'dust' : 'PAH',\n",
    "              'clump_mass_range' : [[1]],\n",
    "              'clump_mass_number' : [1],\n",
    "              'clump_n_max' : [3],\n",
    "              'velocity_range' : [-10, 10],\n",
    "              'velocity_number' : 201,\n",
    "\n",
    "              # Voxel properties\n",
    "              'velocity' : 0.,\n",
    "              'ensemble_dispersion' : 1,\n",
    "              'ensemble_mass' : 1e3,\n",
    "              'ensemble_density' : 1e6,\n",
    "              'fuv' : 1e4\n",
    "              }\n",
    "\n",
    "vox = models.Voxel()\n",
    "vox.set_properties(**parameters)\n",
    "vox.calculate_emission(verbose=True)\n",
    "\n",
    "molecules = ['C+ 1', 'C 1', 'CO 1']\n",
    "print('Peak intensities for ', molecules)\n",
    "print(vox.get_species_intensity()[0][:,models.species.speciesIndeces(molecules)].max(0))\n",
    "# vox.plotMolecule(molecule=molecules)"
   ]
  },
  {
   "cell_type": "code",
   "execution_count": 69,
   "metadata": {},
   "outputs": [
    {
     "data": {
      "text/plain": [
       "[0.04046604500450865]"
      ]
     },
     "execution_count": 69,
     "metadata": {},
     "output_type": "execute_result"
    }
   ],
   "source": [
    "vox.get_volume_filling_factor()"
   ]
  },
  {
   "cell_type": "code",
   "execution_count": 70,
   "metadata": {},
   "outputs": [
    {
     "name": "stdout",
     "output_type": "stream",
     "text": [
      "\n",
      "C L U M P   S E T   1\n",
      "\n",
      "Nj:\n",
      "[[100.]]\n",
      "delta Nji:\n",
      "[[0.1064]\n",
      " [0.2123]\n",
      " [0.4001]\n",
      " [0.7117]\n",
      " [1.1952]\n",
      " [1.8948]\n",
      " [2.8358]\n",
      " [4.0065]\n",
      " [5.3437]\n",
      " [6.7283]\n",
      " [7.9974]\n",
      " [8.9739]\n",
      " [9.5059]\n",
      " [9.5059]\n",
      " [8.9739]\n",
      " [7.9974]\n",
      " [6.7283]\n",
      " [5.3437]\n",
      " [4.0065]\n",
      " [2.8358]\n",
      " [1.8948]\n",
      " [1.1952]\n",
      " [0.7117]\n",
      " [0.4001]\n",
      " [0.2123]\n",
      " [0.1064]]\n",
      "\n",
      "Normalised Nj:\n",
      "[[3.]]\n",
      "Normalised delta Nj:\n",
      "[[3.]\n",
      " [3.]\n",
      " [3.]\n",
      " [3.]\n",
      " [3.]\n",
      " [3.]\n",
      " [3.]\n",
      " [3.]\n",
      " [3.]\n",
      " [3.]\n",
      " [3.]\n",
      " [3.]\n",
      " [3.]\n",
      " [3.]\n",
      " [3.]\n",
      " [3.]\n",
      " [3.]\n",
      " [3.]\n",
      " [3.]\n",
      " [3.]\n",
      " [3.]\n",
      " [3.]\n",
      " [3.]\n",
      " [3.]\n",
      " [3.]\n",
      " [3.]]\n",
      "\n"
     ]
    }
   ],
   "source": [
    "models.ensemble.print_ensembleparameters()"
   ]
  },
  {
   "cell_type": "code",
   "execution_count": 71,
   "metadata": {},
   "outputs": [
    {
     "name": "stdout",
     "output_type": "stream",
     "text": [
      "Voxel emission calculated.\n",
      "Peak intensities for  ['C+ 1', 'C 1', 'CO 1']\n",
      "[47.5028  1.9976 19.6548]\n"
     ]
    }
   ],
   "source": [
    "from kosmatau3d import models\n",
    "import numpy as np\n",
    "\n",
    "# Use these to change the voxel properties, which is necessary in the default mode.\n",
    "parameters = {\n",
    "              # Grid parameters\n",
    "              'clump_tau_grid_file': 'clump_tau_LineCenter.dat',\n",
    "              'clump_tb_grid_file': 'clump_Tmb_LineCenter.dat',\n",
    "              'clump_taufuv_grid_file': 'RhoMassAFUV.dat',\n",
    "              'clump_column_density_file': 'clumpMeanCols.dat',\n",
    "              'clump_temperature_file': 'clumpTemperatures_filled.dat',\n",
    "              'interclump_tau_grid_file': 'interclumpTauLineCenter.dat',\n",
    "              'interclump_tb_grid_file': 'interclumpTmbLineCenter.dat',\n",
    "              'interclump_dust_tau_grid_file': 'interclumpDustTau.dat',\n",
    "              'interclump_dust_tb_grid_file': 'interclumpDustSED.dat',\n",
    "              'interclump_taufuv_grid_file': 'interclumpTauFUV.dat',\n",
    "              'interclump_column_density_file': 'interclumpMeanCols.dat',\n",
    "              'interclump_temperature_file': 'interclumpTemperatures_filled.dat',\n",
    "\n",
    "              # Model parameters\n",
    "              'voxel_size' : 1,\n",
    "              'molecules' : 'all',\n",
    "              'dust' : 'PAH',\n",
    "              'clump_mass_range' : [[1]],\n",
    "              'clump_mass_number' : [1],\n",
    "              'clump_n_max' : [None],\n",
    "              'velocity_range' : [-10, 10],\n",
    "              'velocity_number' : 201,\n",
    "\n",
    "              # Voxel properties\n",
    "              'velocity' : 0.,\n",
    "              'ensemble_dispersion' : 1,\n",
    "              'ensemble_mass' : 1e3,\n",
    "              'ensemble_density' : 1e6,\n",
    "              'fuv' : 1e4\n",
    "              }\n",
    "\n",
    "vox = models.Voxel()\n",
    "vox.set_properties(**parameters)\n",
    "vox.calculate_emission(verbose=True)\n",
    "\n",
    "molecules = ['C+ 1', 'C 1', 'CO 1']\n",
    "print('Peak intensities for ', molecules)\n",
    "print(vox.get_species_intensity()[0][:,models.species.speciesIndeces(molecules)].max(0))\n",
    "# vox.plotMolecule(molecule=molecules)"
   ]
  },
  {
   "cell_type": "code",
   "execution_count": 72,
   "metadata": {},
   "outputs": [
    {
     "data": {
      "text/plain": [
       "[0.04046604500450865]"
      ]
     },
     "execution_count": 72,
     "metadata": {},
     "output_type": "execute_result"
    }
   ],
   "source": [
    "vox.get_volume_filling_factor()"
   ]
  },
  {
   "cell_type": "code",
   "execution_count": 73,
   "metadata": {},
   "outputs": [
    {
     "name": "stdout",
     "output_type": "stream",
     "text": [
      "\n",
      "C L U M P   S E T   1\n",
      "\n",
      "Nj:\n",
      "[[100.]]\n",
      "delta Nji:\n",
      "[[0.1064]\n",
      " [0.2123]\n",
      " [0.4001]\n",
      " [0.7117]\n",
      " [1.1952]\n",
      " [1.8948]\n",
      " [2.8358]\n",
      " [4.0065]\n",
      " [5.3437]\n",
      " [6.7283]\n",
      " [7.9974]\n",
      " [8.9739]\n",
      " [9.5059]\n",
      " [9.5059]\n",
      " [8.9739]\n",
      " [7.9974]\n",
      " [6.7283]\n",
      " [5.3437]\n",
      " [4.0065]\n",
      " [2.8358]\n",
      " [1.8948]\n",
      " [1.1952]\n",
      " [0.7117]\n",
      " [0.4001]\n",
      " [0.2123]\n",
      " [0.1064]]\n",
      "\n",
      "Normalised Nj:\n",
      "[[100.]]\n",
      "Normalised delta Nj:\n",
      "[[ 0.]\n",
      " [ 0.]\n",
      " [ 0.]\n",
      " [ 1.]\n",
      " [ 1.]\n",
      " [ 2.]\n",
      " [ 3.]\n",
      " [ 4.]\n",
      " [ 5.]\n",
      " [ 7.]\n",
      " [ 8.]\n",
      " [ 9.]\n",
      " [10.]\n",
      " [10.]\n",
      " [ 9.]\n",
      " [ 8.]\n",
      " [ 7.]\n",
      " [ 5.]\n",
      " [ 4.]\n",
      " [ 3.]\n",
      " [ 2.]\n",
      " [ 1.]\n",
      " [ 1.]\n",
      " [ 0.]\n",
      " [ 0.]\n",
      " [ 0.]]\n",
      "\n"
     ]
    }
   ],
   "source": [
    "models.ensemble.print_ensembleparameters()"
   ]
  },
  {
   "cell_type": "markdown",
   "metadata": {},
   "source": [
    "The difference here can approach $5 \\%$. This difference, while not much, should be kept in mind when using the single-voxel model. This error is also most evident in models with enough clumps for self-absorption, but not so many that a saturation plateau appears in the velocity-intensity plot. In cases that feature a plateau, this error is mitigated."
   ]
  },
  {
   "cell_type": "markdown",
   "metadata": {},
   "source": [
    "## 5. Dense voxel with multiple clump masses"
   ]
  },
  {
   "cell_type": "markdown",
   "metadata": {},
   "source": [
    "Having shown the functionality of using one clump in the model, we now repeat the previous example using clump masses $0.1$, $1$, and $10 \\ M_\\odot$ in the model. What we will see is that there is a similar intensity and optical depth for clump of different sizes if one changes the mass accordingly. The probability of having a clump in a line-of-sight depends on the voxel surface area, which depends on $\\Delta s^2$. The mass density, however, is proportional to $\\Delta s^{-3}$. We will now examine the effect of changing the voxel size by a factor of $10$ and the ensemble mass by a factor of $100$."
   ]
  },
  {
   "cell_type": "code",
   "execution_count": 74,
   "metadata": {},
   "outputs": [
    {
     "name": "stdout",
     "output_type": "stream",
     "text": [
      "Voxel emission calculated.\n",
      "\n",
      "Volume-filling factor:\n",
      "[0.4046604500450866]\n",
      "\n"
     ]
    },
    {
     "data": {
      "image/png": "[encoded data removed]",
      "text/plain": [
       "<Figure size 720x360 with 1 Axes>"
      ]
     },
     "metadata": {
      "needs_background": "light"
     },
     "output_type": "display_data"
    }
   ],
   "source": [
    "from kosmatau3d import models\n",
    "import numpy as np\n",
    "\n",
    "# Use these to change the voxel properties, which is necessary in the default mode.\n",
    "parameters = {\n",
    "              # Grid parameters\n",
    "              'clump_tau_grid_file': 'clump_tau_LineCenter.dat',\n",
    "              'clump_tb_grid_file': 'clump_Tmb_LineCenter.dat',\n",
    "              'clump_taufuv_grid_file': 'RhoMassAFUV.dat',\n",
    "              'clump_column_density_file': 'clumpMeanCols.dat',\n",
    "              'clump_temperature_file': 'clumpTemperatures_filled.dat',\n",
    "              'interclump_tau_grid_file': 'interclumpTauLineCenter.dat',\n",
    "              'interclump_tb_grid_file': 'interclumpTmbLineCenter.dat',\n",
    "              'interclump_dust_tau_grid_file': 'interclumpDustTau.dat',\n",
    "              'interclump_dust_tb_grid_file': 'interclumpDustSED.dat',\n",
    "              'interclump_taufuv_grid_file': 'interclumpTauFUV.dat',\n",
    "              'interclump_column_density_file': 'interclumpMeanCols.dat',\n",
    "              'interclump_temperature_file': 'interclumpTemperatures_filled.dat',\n",
    "\n",
    "              # Model parameters\n",
    "              'voxel_size' : 0.1,\n",
    "              'molecules' : 'all',\n",
    "              'dust' : 'PAH',\n",
    "              'clump_mass_range' : [[0, 2]],\n",
    "              'clump_mass_number' : [3],\n",
    "              'clump_n_max' : [1],\n",
    "              'velocity_range' : [-10, 10],\n",
    "              'velocity_number' : 201,\n",
    "\n",
    "              # Voxel properties\n",
    "              'velocity' : 0.,\n",
    "              'ensemble_dispersion' : [2],\n",
    "              'ensemble_mass' : [1e1],\n",
    "              'ensemble_density' : [1e6],\n",
    "              'fuv' : 1e4\n",
    "              }\n",
    "\n",
    "vox = models.Voxel()\n",
    "vox.set_properties(**parameters)\n",
    "vox.calculate_emission(verbose=True)\n",
    "print('\\nVolume-filling factor:')\n",
    "print(vox.get_volume_filling_factor())\n",
    "print()\n",
    "vox.plot_transition(transition=['C+ 1', 'C 1', 'CO 1', '13C+ 1', '13C 1', '13CO 1'], quantity='intensity', logscale=False)"
   ]
  },
  {
   "cell_type": "code",
   "execution_count": 75,
   "metadata": {},
   "outputs": [
    {
     "name": "stdout",
     "output_type": "stream",
     "text": [
      "\n",
      "Volume-filling factor:\n",
      "[0.04046604500450867]\n",
      "\n"
     ]
    },
    {
     "data": {
      "image/png": "[encoded data removed]",
      "text/plain": [
       "<Figure size 720x360 with 1 Axes>"
      ]
     },
     "metadata": {
      "needs_background": "light"
     },
     "output_type": "display_data"
    }
   ],
   "source": [
    "from kosmatau3d import models\n",
    "import numpy as np\n",
    "\n",
    "# Use these to change the voxel properties, which is necessary in the default mode.\n",
    "parameters = {\n",
    "              # Grid parameters\n",
    "              'clump_tau_grid_file': 'clump_tau_LineCenter.dat',\n",
    "              'clump_tb_grid_file': 'clump_Tmb_LineCenter.dat',\n",
    "              'clump_taufuv_grid_file': 'RhoMassAFUV.dat',\n",
    "              'clump_column_density_file': 'clumpMeanCols.dat',\n",
    "              'clump_temperature_file': 'clumpTemperatures_filled.dat',\n",
    "              'interclump_tau_grid_file': 'interclumpTauLineCenter.dat',\n",
    "              'interclump_tb_grid_file': 'interclumpTmbLineCenter.dat',\n",
    "              'interclump_dust_tau_grid_file': 'interclumpDustTau.dat',\n",
    "              'interclump_dust_tb_grid_file': 'interclumpDustSED.dat',\n",
    "              'interclump_taufuv_grid_file': 'interclumpTauFUV.dat',\n",
    "              'interclump_column_density_file': 'interclumpMeanCols.dat',\n",
    "              'interclump_temperature_file': 'interclumpTemperatures_filled.dat',\n",
    "\n",
    "              # Model parameters\n",
    "              'voxel_size' : 1,\n",
    "              'molecules' : 'all',\n",
    "              'dust' : 'PAH',\n",
    "              'clump_mass_range' : [[0, 2]],\n",
    "              'clump_mass_number' : [3],\n",
    "              'clump_n_max' : [1],\n",
    "              'velocity_range' : [-10, 10],\n",
    "              'velocity_number' : 201,\n",
    "\n",
    "              # Voxel properties\n",
    "              'velocity' : 0.,\n",
    "              'ensemble_dispersion' : [2],\n",
    "              # 'volumeFactor' : [1.],\n",
    "              'ensemble_mass' : [1e3],\n",
    "              'ensemble_density' : [1e6],\n",
    "              'fuv' : 1e4,\n",
    "              }\n",
    "\n",
    "vox = models.Voxel()\n",
    "vox.set_properties(**parameters)\n",
    "vox.calculate_emission()\n",
    "print('\\nVolume-filling factor:')\n",
    "print(vox.get_volume_filling_factor())\n",
    "print()\n",
    "vox.plot_transition(transition=['C+ 1', 'C 1', 'CO 1', '13C+ 1', '13C 1', '13CO 1'], quantity='intensity', logscale=False)"
   ]
  },
  {
   "cell_type": "markdown",
   "metadata": {},
   "source": [
    "Indeed the same intensity results are present in these two models. Since we do not change the model clumps, the voxel density, or FUV field, this should be expected by comparing the results of `ensemble.printEnsembleParameters()`. The volume-filling factor, however, changes by a factor of $10$, since we did not scale the mass with $\\Delta s^3$."
   ]
  }
 ],
 "metadata": {
  "celltoolbar": "Slideshow",
  "kernelspec": {
   "display_name": "Python 3 (ipykernel)",
   "language": "python",
   "name": "python3"
  },
  "language_info": {
   "codemirror_mode": {
    "name": "ipython",
    "version": 3
   },
   "file_extension": ".py",
   "mimetype": "text/x-python",
   "name": "python",
   "nbconvert_exporter": "python",
   "pygments_lexer": "ipython3",
   "version": "3.9.16"
  }
 },
 "nbformat": 4,
 "nbformat_minor": 4
}
