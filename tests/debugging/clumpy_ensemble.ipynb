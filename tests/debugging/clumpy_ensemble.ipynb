{
 "cells": [
  {
   "cell_type": "markdown",
   "id": "441574bc-15ac-4e31-8b51-70939daa153d",
   "metadata": {},
   "source": [
    "# Clumpy ensemble"
   ]
  },
  {
   "cell_type": "markdown",
   "id": "f4aa2c33-d507-4f34-84bf-87739b8c8a22",
   "metadata": {
    "tags": []
   },
   "source": [
    "The method utilised in `kosmatau3d` to simulate a clumpy ISM with velocity dispersion $\\sigma_{ens}$ in a voxel is to use a fractal ensemble, that is, to use many smaller self-similar clumps with intrinsic velocity dispersion $\\sigma_{cl}$. Each clump thus also contributes to the emissivity and opacity at each observing velocity. The discretisation is shown below.\n",
    "\n",
    "$$\n",
    "\\Delta N_{j,i} \\equiv \\frac{N_j}{\\sqrt{2 \\pi \\sigma_{ens}^2}} \\mathrm{exp} \\left( -\\frac{(v_{vox} - v_i)^2}{2\\sigma_{ens}^2} \\right) \\delta v_j,\n",
    "$$\n",
    "\n",
    "where $j$ refers to a particular clump mass, $i$ refers to the velocity of the clump, and $vox$ refers to the average value for the voxel (so a voxel with $v_{vox} = 0$ would have a Gaussian velocity distribution centered at 0)."
   ]
  },
  {
   "cell_type": "markdown",
   "id": "a7e3dd0d-5033-477d-89f8-7c566e6bbd47",
   "metadata": {},
   "source": [
    "Each clump has an emissivity and opacity that follow Gaussian distributions with velocity dispersion $\\sigma_{cl}$. Thus the clumps at one systematic velocity will contribute distributions to the emissivity and opacity depending on the observing velocity:\n",
    "\n",
    "$$\n",
    "\\epsilon_{ens}, \\kappa_{ens} \\propto \\mathrm{exp} \\left( - \\frac{(v_{i} - v_{obs})^2}{2 \\sigma_{cl}^2} \\right).\n",
    "$$\n",
    "\n",
    "Due to the two distributions that contribute to the ensemble emissivity and opacity, the final distributions will have a larger effective velocity dispersion:\n",
    "\n",
    "$$\n",
    "\\sigma_{ens, eff} \\equiv \\sqrt{\\sigma_{ens}^2 + \\sigma_{cl}^2}.\n",
    "$$"
   ]
  },
  {
   "cell_type": "markdown",
   "id": "79c0b544-30c1-4c96-995c-767c2df025ed",
   "metadata": {
    "tags": []
   },
   "source": [
    "## "
   ]
  },
  {
   "cell_type": "code",
   "execution_count": 1,
   "id": "193fee21-fb38-4daf-b7e8-7bc3368c7e34",
   "metadata": {},
   "outputs": [],
   "source": [
    "import numpy as np\n",
    "import matplotlib as mpl\n",
    "import matplotlib.pyplot as plt\n",
    "\n",
    "from IPython.display import Markdown as md"
   ]
  },
  {
   "cell_type": "code",
   "execution_count": 2,
   "id": "ba46d057-0a1a-4807-882e-269bb0110325",
   "metadata": {
    "tags": []
   },
   "outputs": [],
   "source": [
    "# Ensemble properties\n",
    "n_j = 100\n",
    "eps_j = 10\n",
    "kap_j = 1.5\n",
    "r_j = 0.5\n",
    "sigma_cl = 0.71\n",
    "sigma_ens = 3\n",
    "sigma_ens_tot = np.linalg.norm((sigma_cl, sigma_ens))\n",
    "n_gauss = 4\n",
    "n_v = 10\n",
    "v_vox = 0\n",
    "ds = 1\n",
    "\n",
    "# Flags & plotting\n",
    "mpl.rcParams['text.usetex'] = True\n",
    "figsize = (10, 10)\n",
    "fontsize = 20\n",
    "legend_factor = 4/5\n",
    "old_computation = False\n",
    "incorrect_computation = False\n",
    "test_opacity = False\n",
    "plot_all = True"
   ]
  },
  {
   "cell_type": "code",
   "execution_count": 3,
   "id": "a3689940-7fda-4cd3-a4df-7cabb07c5eb7",
   "metadata": {
    "jupyter": {
     "source_hidden": true
    },
    "tags": [
     "hide"
    ]
   },
   "outputs": [
    {
     "data": {
      "text/markdown": [
       "Below we will examine how this discretisation functions for and ensemble with $\\sigma_{ens} =$3$\\frac{km}{s}$ and 100 clumps, each with $\\sigma_{cl} =$0.71$\\frac{km}{s}$, $\\epsilon_\\nu =$10$\\frac{K}{pc}$, $\\kappa_\\nu =$1.5$\\frac{1}{pc}$, and a line-of-sight depth of $\\Delta s =$1$pc$. This is enough to cause absorption features."
      ],
      "text/plain": [
       "<IPython.core.display.Markdown object>"
      ]
     },
     "execution_count": 3,
     "metadata": {},
     "output_type": "execute_result"
    }
   ],
   "source": [
    "md(r'Below we will examine how this discretisation functions for and ensemble with $\\sigma_{ens} =$'\n",
    "   + '{}'.format(sigma_ens) + r'$\\frac{km}{s}$ and ' + '{}'.format(n_j) + r' clumps, each with $\\sigma_{cl} =$'\n",
    "   + '{}'.format(sigma_cl) + r'$\\frac{km}{s}$, $\\epsilon_\\nu =$'\n",
    "   + '{}'.format(eps_j) + r'$\\frac{K}{pc}$, $\\kappa_\\nu =$'\n",
    "   + '{}'.format(kap_j) + r'$\\frac{1}{pc}$, and a line-of-sight depth of $\\Delta s =$'\n",
    "   + '{}'.format(ds) + r'$pc$. This is enough to cause absorption features.')"
   ]
  },
  {
   "cell_type": "code",
   "execution_count": 37,
   "id": "47f9c65b-7868-4419-bb63-0a1b20ccaa43",
   "metadata": {},
   "outputs": [],
   "source": [
    "def delta_n_ji(n_j, sigma_ens, sigma_cl=0.71, v_i=None, n_v=None, v_vox=0, n_gauss=4):\n",
    "    \n",
    "    if not n_v:\n",
    "        n_v = 1\n",
    "    if not isinstance(v_i, np.ndarray):\n",
    "        dv = np.minimum(sigma_ens/n_v, sigma_cl/n_v)\n",
    "        v_i = np.linspace(np.floor(-n_gauss*sigma_ens), np.ceil(n_gauss*sigma_ens), num=int(np.round(2*n_gauss*sigma_ens/dv))+1)\n",
    "    \n",
    "    if isinstance(n_j, int) or isinstance(n_j, float):\n",
    "        n_j = np.asarray([[n_j]])\n",
    "    elif isinstance(n_j, list):\n",
    "        n_j = np.asarray(n_j)\n",
    "    if n_j.ndim == 1:\n",
    "        n_j = np.asarray([n_j]).reshape(-1, 1)\n",
    "    \n",
    "    dv = v_i[1]-v_i[0]\n",
    "    delta_n = [n / np.sqrt(2*np.pi*sigma_ens**2) * np.exp(-(v_vox-v_i)**2/2/sigma_ens**2) for n in n_j]\n",
    "    # delta_n = delta_n * (n_j / delta_n.sum()) / dv\n",
    "    return delta_n, v_i"
   ]
  },
  {
   "cell_type": "code",
   "execution_count": 102,
   "id": "ba857e84-4043-4143-bc45-495b2edf40c1",
   "metadata": {
    "tags": []
   },
   "outputs": [],
   "source": [
    "from scipy.stats import binom\n",
    "\n",
    "def probability(r_cl, ds=1, delta_n_ji=1):\n",
    "    \n",
    "    # Note: this is only valid for an ensemble of 1 clump size. Larger ensembles will need to use more-sophisticated arrays\n",
    "    # if not isinstance(r_cl, int) and not isinstance(r_cl, float):\n",
    "    #     print('Error: the ensemble can only be calculated for one clump type.')\n",
    "    #     exit()\n",
    "        \n",
    "    if isinstance(r_cl, int) or isinstance(r_cl, float):\n",
    "        r_cl = np.asarray([[r_cl]])\n",
    "    elif isinstance(r_cl, list):\n",
    "        r_cl = np.asarray(r_cl)\n",
    "    if r_cl.ndim == 1:\n",
    "        r_cl = np.asarray([r_cl]).reshape(-1, 1)\n",
    "        \n",
    "    if isinstance(delta_n_ji, int) or isinstance(delta_n_ji, float):\n",
    "        delta_n_ji = np.asarray([[delta_n_ji]])\n",
    "    elif isinstance(delta_n_ji, list):\n",
    "        delta_n_ji = np.asarray(delta_n_ji)\n",
    "    if delta_n_ji.ndim == 1: #not isinstance(delta_n_ji[0], list) or not isinstance(delta_n_ji[0], np.ndarray):\n",
    "        delta_n_ji = np.asarray([delta_n_ji])\n",
    "        \n",
    "    p_j = np.pi*r_cl**2/ds**2\n",
    "        \n",
    "    factor = [[delta_n / np.ceil(delta_n) for delta_n in delta_n_ji[cl]] for cl in range(delta_n_ji.shape[0])] #np.ones_like(ensemble_n) #\n",
    "    # print(factor)\n",
    "    k_ji_list = [[np.arange(int(np.ceil(delta_n))+1) for delta_n in delta_n_ji[:, i]] for i in range(delta_n_ji.shape[1])]\n",
    "    # print(len(k_ji_list), len(k_ji_list[100]), k_ji_list[120][0].shape)\n",
    "    # print(r_cl.shape, delta_n_ji.shape)\n",
    "    # for i in range(len(k_ji_list)):\n",
    "    #     print(len(k_ji_list[i]))\n",
    "    #     for k in np.meshgrid(*k_ji_list[i]):\n",
    "    #         print()\n",
    "    k_ji = np.asarray([[k.flatten() for k in np.meshgrid(*k_ji_list[i])] for i in range(len(k_ji_list))])\n",
    "    # print(k_ji.shape, len(k_ji[0, 0]))\n",
    "    p_ji = np.asarray([[binom.pmf(k_ji[i, cl], delta_n_ji[cl, i], p_j[cl]*factor[cl][i]) for i in range(delta_n_ji.shape[1])] for cl in range(delta_n_ji.shape[0])])\n",
    "    \n",
    "    return p_ji, k_ji"
   ]
  },
  {
   "cell_type": "code",
   "execution_count": 29,
   "id": "144d28f5-62bf-43c4-950a-4b874d15db9e",
   "metadata": {},
   "outputs": [
    {
     "name": "stdout",
     "output_type": "stream",
     "text": [
      "[[1.0]]\n",
      "[[array([0, 1, 2, 3, 4, 5, 6, 7, 8])]]\n",
      "(1, 1) (1, 1)\n"
     ]
    }
   ],
   "source": [
    "p, k = probability([0.5, 0.1], 1, [[8, 7, 6], [5, 1, 4]])"
   ]
  },
  {
   "cell_type": "code",
   "execution_count": 35,
   "id": "ccd8ac6d-b5d0-431f-be2a-75000ede4cd2",
   "metadata": {},
   "outputs": [
    {
     "data": {
      "text/plain": [
       "(3, 60)"
      ]
     },
     "execution_count": 35,
     "metadata": {},
     "output_type": "execute_result"
    }
   ],
   "source": [
    "p[1].shape"
   ]
  },
  {
   "cell_type": "code",
   "execution_count": 94,
   "id": "6373e3e2-0529-468d-a8c2-c3d3aef3d6fd",
   "metadata": {},
   "outputs": [],
   "source": [
    "ensemble_n, v_i = delta_n_ji([100, 1], 3, v_vox=0, n_gauss=3, n_v=10)"
   ]
  },
  {
   "cell_type": "code",
   "execution_count": 66,
   "id": "39c69875-f106-44de-8565-d3ae191bf7f0",
   "metadata": {
    "tags": []
   },
   "outputs": [
    {
     "data": {
      "text/plain": [
       "(2, 255)"
      ]
     },
     "execution_count": 66,
     "metadata": {},
     "output_type": "execute_result"
    }
   ],
   "source": [
    "np.asarray(ensemble_n).shape"
   ]
  },
  {
   "cell_type": "code",
   "execution_count": 103,
   "id": "a5c10593-2281-40d7-93f6-d5e95e291a16",
   "metadata": {
    "tags": []
   },
   "outputs": [
    {
     "name": "stdout",
     "output_type": "stream",
     "text": [
      "255 2 (15,)\n",
      "(255, 2) 24\n"
     ]
    }
   ],
   "source": [
    "prob, k_ji = probability([0.1, 0.5], 1, ensemble_n)"
   ]
  },
  {
   "cell_type": "code",
   "execution_count": 106,
   "id": "1b741d6b-8a08-47ec-a751-88f74ba320de",
   "metadata": {},
   "outputs": [
    {
     "data": {
      "text/plain": [
       "(2, 255)"
      ]
     },
     "execution_count": 106,
     "metadata": {},
     "output_type": "execute_result"
    }
   ],
   "source": [
    "prob.shape"
   ]
  },
  {
   "cell_type": "code",
   "execution_count": 108,
   "id": "555e42fa-d1c1-4cd7-857f-9ce6798c224c",
   "metadata": {},
   "outputs": [
    {
     "data": {
      "text/plain": [
       "[0.9993113163038112,\n",
       " 0.9992068009777902,\n",
       " 0.999087440031337,\n",
       " 0.998951285274663,\n",
       " 0.9987961570843967,\n",
       " 0.9986196204154375,\n",
       " 0.9984189588198616,\n",
       " 0.9981911463779791,\n",
       " 0.9979328174537047,\n",
       " 0.9976402341961392,\n",
       " 0.9973092517221341,\n",
       " 0.9969352809310769,\n",
       " 0.996513248923758,\n",
       " 0.9960375570225498,\n",
       " 0.9955020364208608,\n",
       " 0.9948999015266591,\n",
       " 0.9942237011084937,\n",
       " 0.9934652674036819,\n",
       " 0.9926156634079853,\n",
       " 0.9916651286349955,\n",
       " 0.9906030237124189,\n",
       " 0.989417774272314,\n",
       " 0.988096814693792,\n",
       " 0.9866265323704436,\n",
       " 0.9849922133012489,\n",
       " 0.9831779899432505,\n",
       " 0.9811667924168304,\n",
       " 0.9789403043196044,\n",
       " 0.9764789245818973,\n",
       " 0.9737617369839872,\n",
       " 0.9707664891506425,\n",
       " 0.9999163686925583,\n",
       " 0.9998982651623379,\n",
       " 0.9998758170442423,\n",
       " 0.9998480122803274,\n",
       " 0.9998136259589026,\n",
       " 0.9997711817801256,\n",
       " 0.9997189079412097,\n",
       " 0.9996546869319043,\n",
       " 0.9995759987519997,\n",
       " 0.9994798571042053,\n",
       " 0.999362738182232,\n",
       " 0.9992205017698867,\n",
       " 0.9990483044972239,\n",
       " 0.9988405052690296,\n",
       " 0.9996713054442622,\n",
       " 0.9996394192957758,\n",
       " 0.9996046778103994,\n",
       " 0.9995667963655147,\n",
       " 0.9995254439217316,\n",
       " 0.9994802320599808,\n",
       " 0.9994307015760843,\n",
       " 0.9993763062303958,\n",
       " 0.9993163932229394,\n",
       " 0.9992817462498285,\n",
       " 0.9992208380362423,\n",
       " 0.999155686923111,\n",
       " 0.9990860813887469,\n",
       " 0.9990118047046972,\n",
       " 0.9989326343861769,\n",
       " 0.9988483412928685,\n",
       " 0.9987586882794349,\n",
       " 0.9986647051602757,\n",
       " 0.9985642464505899,\n",
       " 0.9984579357027564,\n",
       " 0.9983455833511227,\n",
       " 0.9982270065525215,\n",
       " 0.9981020304150451,\n",
       " 0.9979705234205576,\n",
       " 0.9978322848061576,\n",
       " 0.9976871947115995,\n",
       " 0.9975351278816401,\n",
       " 0.9973759749751071,\n",
       " 0.9972096441394417,\n",
       " 0.9970360638126926,\n",
       " 0.9968551803322264,\n",
       " 0.9966669645878885,\n",
       " 0.9964714105816399,\n",
       " 0.9962685375791839,\n",
       " 0.9960583915431371,\n",
       " 0.995841046552045,\n",
       " 0.9956166059027792,\n",
       " 0.995385203520048,\n",
       " 0.9951470048958773,\n",
       " 0.9949022080645987,\n",
       " 0.9946510444108396,\n",
       " 0.9943937793187942,\n",
       " 0.9941307126667575,\n",
       " 0.9938621791349396,\n",
       " 0.9935885483287669,\n",
       " 0.9933102247025465,\n",
       " 0.9930276472749354,\n",
       " 0.9927412891288305,\n",
       " 0.9924516566887667,\n",
       " 0.992159288771333,\n",
       " 0.9918647554053132,\n",
       " 0.9915686564201976,\n",
       " 0.9912716198035401,\n",
       " 0.9909742998296084,\n",
       " 0.9906773749637544,\n",
       " 0.9903815455489816,\n",
       " 0.990087531283228,\n",
       " 0.9897960684979457,\n",
       " 0.9895079072505625,\n",
       " 0.989223808245381,\n",
       " 0.9889445395993589,\n",
       " 0.9886708734710034,\n",
       " 0.988403582572295,\n",
       " 0.9881434365850793,\n",
       " 0.9878911985047102,\n",
       " 0.9876476209349581,\n",
       " 0.9874134423591366,\n",
       " 0.9871893834131997,\n",
       " 0.9869761431870937,\n",
       " 0.9867743955809541,\n",
       " 0.9865847857428017,\n",
       " 0.9864079266141974,\n",
       " 0.9862443956098688,\n",
       " 0.9860947314566244,\n",
       " 0.985959431215924,\n",
       " 0.9858389475132878,\n",
       " 0.9857336859963042,\n",
       " 0.9856440030413508,\n",
       " 0.9855702037272904,\n",
       " 0.9855125400923943,\n",
       " 0.9854712096885118,\n",
       " 0.9854463544441816,\n",
       " 0.9854380598458956,\n",
       " 0.9854463544441816,\n",
       " 0.9854712096885118,\n",
       " 0.9855125400923943,\n",
       " 0.9855702037272904,\n",
       " 0.9856440030413508,\n",
       " 0.9857336859963042,\n",
       " 0.9858389475132878,\n",
       " 0.9859594312159238,\n",
       " 0.9860947314566244,\n",
       " 0.9862443956098688,\n",
       " 0.9864079266141974,\n",
       " 0.9865847857428017,\n",
       " 0.9867743955809541,\n",
       " 0.9869761431870937,\n",
       " 0.9871893834131997,\n",
       " 0.9874134423591366,\n",
       " 0.9876476209349581,\n",
       " 0.9878911985047103,\n",
       " 0.9881434365850794,\n",
       " 0.988403582572295,\n",
       " 0.9886708734710031,\n",
       " 0.988944539599359,\n",
       " 0.989223808245381,\n",
       " 0.9895079072505625,\n",
       " 0.9897960684979457,\n",
       " 0.990087531283228,\n",
       " 0.9903815455489816,\n",
       " 0.9906773749637544,\n",
       " 0.9909742998296084,\n",
       " 0.9912716198035401,\n",
       " 0.9915686564201976,\n",
       " 0.9918647554053133,\n",
       " 0.992159288771333,\n",
       " 0.992451656688767,\n",
       " 0.9927412891288305,\n",
       " 0.9930276472749356,\n",
       " 0.9933102247025464,\n",
       " 0.9935885483287675,\n",
       " 0.9938621791349396,\n",
       " 0.9941307126667575,\n",
       " 0.9943937793187942,\n",
       " 0.9946510444108396,\n",
       " 0.9949022080645987,\n",
       " 0.9951470048958773,\n",
       " 0.995385203520048,\n",
       " 0.9956166059027793,\n",
       " 0.9958410465520449,\n",
       " 0.9960583915431371,\n",
       " 0.9962685375791838,\n",
       " 0.9964714105816399,\n",
       " 0.9966669645878886,\n",
       " 0.9968551803322268,\n",
       " 0.9970360638126926,\n",
       " 0.9972096441394417,\n",
       " 0.9973759749751071,\n",
       " 0.9975351278816401,\n",
       " 0.9976871947115995,\n",
       " 0.9978322848061576,\n",
       " 0.9979705234205576,\n",
       " 0.9981020304150452,\n",
       " 0.9982270065525215,\n",
       " 0.9983455833511228,\n",
       " 0.9984579357027563,\n",
       " 0.99856424645059,\n",
       " 0.9986647051602757,\n",
       " 0.9987586882794349,\n",
       " 0.9988483412928685,\n",
       " 0.9989326343861769,\n",
       " 0.9990118047046972,\n",
       " 0.9990860813887469,\n",
       " 0.999155686923111,\n",
       " 0.9992208380362423,\n",
       " 0.9992817462498285,\n",
       " 0.9993163932229394,\n",
       " 0.9993763062303958,\n",
       " 0.9994307015760839,\n",
       " 0.9994802320599807,\n",
       " 0.9995254439217316,\n",
       " 0.9995667963655146,\n",
       " 0.9996046778103994,\n",
       " 0.9996394192957758,\n",
       " 0.9996713054442622,\n",
       " 0.9988405052690296,\n",
       " 0.9990483044972239,\n",
       " 0.9992205017698867,\n",
       " 0.999362738182232,\n",
       " 0.9994798571042053,\n",
       " 0.9995759987519997,\n",
       " 0.9996546869319043,\n",
       " 0.9997189079412098,\n",
       " 0.9997711817801256,\n",
       " 0.9998136259589026,\n",
       " 0.9998480122803275,\n",
       " 0.9998758170442423,\n",
       " 0.9998982651623379,\n",
       " 0.9999163686925583,\n",
       " 0.9707664891506425,\n",
       " 0.9737617369839872,\n",
       " 0.9764789245818973,\n",
       " 0.9789403043196044,\n",
       " 0.9811667924168304,\n",
       " 0.9831779899432506,\n",
       " 0.9849922133012489,\n",
       " 0.9866265323704437,\n",
       " 0.988096814693792,\n",
       " 0.989417774272314,\n",
       " 0.9906030237124189,\n",
       " 0.9916651286349955,\n",
       " 0.9926156634079853,\n",
       " 0.9934652674036819,\n",
       " 0.9942237011084937,\n",
       " 0.9948999015266591,\n",
       " 0.9955020364208608,\n",
       " 0.9960375570225498,\n",
       " 0.996513248923758,\n",
       " 0.9969352809310769,\n",
       " 0.9973092517221341,\n",
       " 0.9976402341961392,\n",
       " 0.9979328174537047,\n",
       " 0.9981911463779791,\n",
       " 0.9984189588198616,\n",
       " 0.9986196204154375,\n",
       " 0.9987961570843967,\n",
       " 0.998951285274663,\n",
       " 0.999087440031337,\n",
       " 0.9992068009777902,\n",
       " 0.9993113163038112]"
      ]
     },
     "execution_count": 108,
     "metadata": {},
     "output_type": "execute_result"
    }
   ],
   "source": [
    "[np.asarray(prob[:, p]).prod(0).sum(0) for p in range(prob.shape[1])]"
   ]
  },
  {
   "cell_type": "markdown",
   "id": "c345b6c9-8d35-4145-8e80-32440bf0e1c5",
   "metadata": {
    "tags": []
   },
   "source": [
    "## Discretisation"
   ]
  },
  {
   "cell_type": "markdown",
   "id": "5a632f42-c558-4752-b293-ab8a72c87607",
   "metadata": {
    "tags": []
   },
   "source": [
    "### Examining the original discretisation"
   ]
  },
  {
   "cell_type": "markdown",
   "id": "b648c254-b816-4351-ab21-f09cd823516b",
   "metadata": {},
   "source": [
    "In the work of Andree-Labsch et al. (2017), the spacing of the clumps in the ensemble was the same as the observing velocities, namely $\\delta v = 1 \\frac{km}{s}$. Since each clump had $\\sigma_{cl} \\approx 0.71 \\frac{km}{s}$, this discretisation was reasonable (though still not correct). In the current version of `kosmatau3d`, an internal velocity grid is created for the clumps in the ensemble with a velocity spacing of $\\delta v = \\mathrm{min} \\left( \\frac{\\sigma_{ens}}{n_{velocity}}, \\frac{\\sigma_{cl}}{n_{velocity}} \\right)$ with $n_{velocity} = 3$ being a reasonable approximation. For $\\sigma_{ens},\\sigma_{cl} < n_{velocity} \\times 1 \\frac{km}{s}$, this discretisation approximation gets worse and the resulting emissivity and opacity will be over-estimated."
   ]
  },
  {
   "cell_type": "code",
   "execution_count": null,
   "id": "2cc8e7bb-29d3-4abe-a53f-0ee97628db81",
   "metadata": {
    "jupyter": {
     "source_hidden": true
    },
    "tags": []
   },
   "outputs": [],
   "source": [
    "v_i = np.linspace(-10, 10, num=21)\n",
    "dv = v_i[1]-v_i[0]\n",
    "ensemble_n, v_i = delta_n_ji(n_j, sigma_ens, v_i=v_i, v_vox=v_vox, n_gauss=n_gauss, n_v=n_v)"
   ]
  },
  {
   "cell_type": "code",
   "execution_count": null,
   "id": "e31b153a-dfa0-40dc-b532-a049dda4a0b7",
   "metadata": {},
   "outputs": [],
   "source": [
    "ensemble_n.sum() * dv"
   ]
  },
  {
   "cell_type": "code",
   "execution_count": null,
   "id": "d63fa5f1-1e69-4d9d-a1a5-a16967c0c5b8",
   "metadata": {
    "jupyter": {
     "source_hidden": true
    },
    "tags": []
   },
   "outputs": [],
   "source": [
    "fig, ax = plt.subplots(1, 1, figsize=figsize)\n",
    "\n",
    "v = np.linspace(v_vox-10, v_vox+10, num=1000)\n",
    "n = n_j / np.sqrt(2*np.pi*sigma_ens**2) * np.exp(-(v_vox-v)**2/2/sigma_ens**2)\n",
    "ax.plot(v, n, label=r'$\\Delta N_{i,j} \\delta v$')\n",
    "ax.step(v_i, ensemble_n, where='mid', label='calculated')\n",
    "ax.set_xlabel(r'$v_i \\ \\left( \\frac{km}{s} \\right)$', fontsize=fontsize)\n",
    "ax.set_ylabel(r'$N_{j,i}$', fontsize=fontsize)\n",
    "ax.legend(fontsize=fontsize*legend_factor) ;"
   ]
  },
  {
   "cell_type": "code",
   "execution_count": null,
   "id": "c94933ca-f815-4c7a-a2ce-6d7928030fc7",
   "metadata": {
    "jupyter": {
     "source_hidden": true
    },
    "tags": []
   },
   "outputs": [],
   "source": [
    "# n_j = 100\n",
    "# sigma_ens = 2\n",
    "# sigma_cl = 0.71\n",
    "# n_v = 1\n",
    "# v_vox = 0\n",
    "# v_i = np.linspace(-10, 10, num=21)\n",
    "\n",
    "# ds = 1\n",
    "# eps_j = 10\n",
    "# kap_j = 0.7\n",
    "\n",
    "# fontsize = 20\n",
    "# old_computation = False\n",
    "# incorrect_computation = False\n",
    "# plot_all = True\n",
    "\n",
    "v_i = np.linspace(-10, 10, num=21)\n",
    "\n",
    "ensemble_n, v_i = delta_n_ji(n_j, sigma_ens, v_i=v_i, v_vox=v_vox, n_gauss=n_gauss)\n",
    "dv = v_i[1]-v_i[0]\n",
    "v_obs = np.linspace(-8, 8, num=1000)\n",
    "\n",
    "eps = n_j*eps_j / np.sqrt(2*np.pi*sigma_ens_tot**2) * np.exp(-(v_vox-v_obs)**2/2/sigma_ens_tot**2)\n",
    "eps_ens = np.zeros_like(eps)\n",
    "if plot_all:\n",
    "    fig, ax = plt.subplots(1, 1, figsize=figsize)\n",
    "for i, v_cl in enumerate(v_i):\n",
    "    if old_computation:\n",
    "        eps_i = ensemble_n[i]*eps_j*dv * np.exp(-(v_obs-v_cl)**2/2/sigma_cl**2)\n",
    "    elif incorrect_computation:\n",
    "        eps_i = ensemble_n[i]*eps_j * np.exp(-(v_obs-v_cl)**2/2/sigma_cl**2)\n",
    "    else:\n",
    "        eps_i = ensemble_n[i]*eps_j*dv / np.sqrt(2*np.pi*sigma_cl**2) * np.exp(-(v_obs-v_cl)**2/2/sigma_cl**2)\n",
    "    if plot_all:\n",
    "        ax.plot(v_obs, eps_i)\n",
    "    eps_ens += eps_i\n",
    "if plot_all:\n",
    "    ax.plot(v_obs, eps, lw=3, c='xkcd:black', label='approximated')\n",
    "    ax.plot(v_obs, eps_ens, ls='--', lw=2, c='xkcd:vomit', label='calculated')\n",
    "    ax.set_xlabel(r'$v_{obs} \\ \\left( \\frac{km}{s} \\right)$', fontsize=fontsize)\n",
    "    ax.set_ylabel(r'$\\epsilon \\ \\left( \\frac{K}{pc} \\right)$', fontsize=fontsize)\n",
    "    ax.legend(fontsize=fontsize*legend_factor)\n",
    "\n",
    "kap = n_j*kap_j / np.sqrt(2*np.pi*sigma_ens_tot**2) * np.exp(-(v_vox-v_obs)**2/2/sigma_ens_tot**2)\n",
    "kap_ens = np.zeros_like(eps)\n",
    "if plot_all:\n",
    "    fig, ax = plt.subplots(1, 1, figsize=figsize)\n",
    "for i, v_cl in enumerate(v_i):\n",
    "    if old_computation:\n",
    "        kap_i = ensemble_n[i]*kap_j*dv * np.exp(-(v_obs-v_cl)**2/2/sigma_cl**2)\n",
    "    elif incorrect_computation:\n",
    "        kap_i = ensemble_n[i]*kap_j * np.exp(-(v_obs-v_cl)**2/2/sigma_cl**2)\n",
    "    else:\n",
    "        kap_i = ensemble_n[i]*kap_j*dv / np.sqrt(2*np.pi*sigma_cl**2) * np.exp(-(v_obs-v_cl)**2/2/sigma_cl**2)\n",
    "    if plot_all:\n",
    "        ax.plot(v_obs, kap_i)\n",
    "    # kap_ens += np.exp(-kap_i*ds)\n",
    "    kap_ens += kap_i\n",
    "# kap_ens = -np.log(kap_ens)/ds\n",
    "if plot_all:\n",
    "    ax.plot(v_obs, kap, lw=3, c='xkcd:black', label='approximated')\n",
    "    ax.plot(v_obs, kap_ens, ls='--', lw=2, c='xkcd:vomit', label='calculated')\n",
    "    ax.set_xlabel(r'$v_{obs} \\ \\left( \\frac{km}{s} \\right)$', fontsize=fontsize)\n",
    "    ax.set_ylabel(r'$\\kappa \\ \\left( \\frac{1}{pc} \\right)$', fontsize=fontsize)\n",
    "    ax.legend(fontsize=fontsize*legend_factor)\n",
    "\n",
    "fig, ax = plt.subplots(1, 1, figsize=figsize)\n",
    "intensity = eps/kap * (1-np.exp(-kap*ds))\n",
    "intensity_ens = eps_ens/kap_ens * (1-np.exp(-kap_ens*ds))\n",
    "ax.plot(v_obs, intensity, lw=3, c='xkcd:black', label='approximated')\n",
    "ax.plot(v_obs, intensity_ens, ls='--', lw=2, c='xkcd:vomit', label='calculated')\n",
    "ax.set_xlabel(r'$v_{obs} \\ \\left( \\frac{km}{s} \\right)$', fontsize=fontsize)\n",
    "ax.set_ylabel(r'$\\left< I \\right>_{ens} \\ \\left( K \\right)$', fontsize=fontsize)\n",
    "ax.legend(fontsize=fontsize*legend_factor)\n",
    "\n",
    "print('Integrated intensity (no discretisation):', np.trapz(intensity, v_obs))\n",
    "print('Integrated intensity (with discretisation):', np.trapz(intensity_ens, v_obs))"
   ]
  },
  {
   "cell_type": "markdown",
   "id": "a2cbd265-5e95-4aad-87cd-4eaabc83cf53",
   "metadata": {},
   "source": [
    "The final plot is computed using the radiative transfer equation for a voxel with side length $\\Delta s$:\n",
    "\n",
    "$$\n",
    "I \\left( v_{obs} \\right) = \\frac{\\epsilon \\left( v_{obs} \\right)}{\\kappa \\left( v_{obs} \\right)} \\ e^{- \\kappa \\left( v_{obs} \\right) \\Delta s}\n",
    "$$\n",
    "\n",
    "The initial factor should equate to a constant provided the emissivity and opacity are Gaussian profiles as expected. One issue with the single-voxel model is that this factor is not equating to a constant with $v_{obs}$, so we will examine it here."
   ]
  },
  {
   "cell_type": "code",
   "execution_count": null,
   "id": "d9a15087-5338-4792-9633-d014940a2a33",
   "metadata": {
    "jupyter": {
     "source_hidden": true
    },
    "tags": []
   },
   "outputs": [],
   "source": [
    "plt.figure(figsize=figsize)\n",
    "plt.plot(v_obs, eps/kap)\n",
    "plt.title('Most likely combination', fontsize=fontsize)\n",
    "plt.xlabel(r'$v_{obs} \\ \\left( \\frac{km}{s} \\right)$', fontsize=fontsize)\n",
    "plt.ylabel(r'$\\frac{\\epsilon}{\\kappa} \\ \\left( K \\right)$', fontsize=fontsize) ;"
   ]
  },
  {
   "cell_type": "code",
   "execution_count": null,
   "id": "8ea28495-8068-4af6-a666-9c346255e995",
   "metadata": {
    "jupyter": {
     "source_hidden": true
    },
    "tags": []
   },
   "outputs": [],
   "source": [
    "plt.figure(figsize=figsize)\n",
    "plt.plot(v_obs, eps_ens/kap_ens)\n",
    "plt.title('Probabilistic calculation', fontsize=fontsize)\n",
    "plt.xlabel(r'$v_{obs} \\ \\left( \\frac{km}{s} \\right)$', fontsize=fontsize)\n",
    "plt.ylabel(r'$\\frac{\\left< \\epsilon \\right>_{ens}}{\\left< \\kappa \\right>_{ens}} \\ \\left( K \\right)$', fontsize=fontsize) ;"
   ]
  },
  {
   "cell_type": "markdown",
   "id": "333e5b29-ae05-456f-90db-1e32065d6e4a",
   "metadata": {},
   "source": [
    "So this discretisation appears to be appropriate for estimating the overall structure of the emission."
   ]
  },
  {
   "cell_type": "markdown",
   "id": "51730892-f11d-4093-bd5d-aa269027b7e7",
   "metadata": {
    "tags": []
   },
   "source": [
    "### Using a finer discretisation"
   ]
  },
  {
   "cell_type": "markdown",
   "id": "93ab5544-e62a-419b-b405-c3933779f245",
   "metadata": {},
   "source": [
    "Now we may us the same functions, but this time we specify that internal velocity grid that should be evalvulated automatically with our given value of $n_{velocity}$."
   ]
  },
  {
   "cell_type": "code",
   "execution_count": null,
   "id": "cf88a8f1-2a84-43a1-b784-809c40491403",
   "metadata": {
    "jupyter": {
     "source_hidden": true
    },
    "tags": []
   },
   "outputs": [],
   "source": [
    "ensemble_n, v_i = delta_n_ji(n_j, sigma_ens, v_i=None, v_vox=v_vox, n_gauss=n_gauss, n_v=n_v)\n",
    "dv = v_i[1]-v_i[0]"
   ]
  },
  {
   "cell_type": "code",
   "execution_count": null,
   "id": "6cfc8922-5d46-416c-abd4-249adcdddbc7",
   "metadata": {},
   "outputs": [],
   "source": [
    "ensemble_n.sum() * dv"
   ]
  },
  {
   "cell_type": "code",
   "execution_count": null,
   "id": "5154c170-72bb-4194-bcc0-f7e6e21736af",
   "metadata": {
    "jupyter": {
     "source_hidden": true
    },
    "tags": []
   },
   "outputs": [],
   "source": [
    "fig, ax = plt.subplots(1, 1, figsize=figsize)\n",
    "v = np.linspace(v_vox-10, v_vox+10, num=1000)\n",
    "n = n_j / np.sqrt(2*np.pi*sigma_ens**2) * np.exp(-(v_vox-v)**2/2/sigma_ens**2)\n",
    "ax.plot(v, n, label=r'$\\Delta N_{j,i} \\delta v$')\n",
    "ax.step(v_i, ensemble_n, where='mid', label='calculated')\n",
    "ax.set_xlabel(r'$v_i \\ \\left( \\frac{km}{s} \\right)$', fontsize=fontsize)\n",
    "ax.set_ylabel(r'$N_{j,i}$', fontsize=fontsize)\n",
    "ax.legend(fontsize=fontsize) ;"
   ]
  },
  {
   "cell_type": "code",
   "execution_count": null,
   "id": "e0bc56a5-6dc4-4ebd-99b9-8615d7ff4a1d",
   "metadata": {
    "jupyter": {
     "source_hidden": true
    },
    "tags": []
   },
   "outputs": [],
   "source": [
    "# n_j = 100\n",
    "# sigma_ens = 2\n",
    "# sigma_cl = 0.71\n",
    "# n_v = 1\n",
    "# v_vox = 0\n",
    "# v_i = np.linspace(-10, 10, num=21)\n",
    "\n",
    "# ds = 1\n",
    "# eps_j = 10\n",
    "# kap_j = 0.7\n",
    "\n",
    "# fontsize = 20\n",
    "# old_computation = False\n",
    "# incorrect_computation = False\n",
    "# plot_all = True\n",
    "\n",
    "ensemble_n, v_i = delta_n_ji(n_j, sigma_ens, v_i=None, v_vox=v_vox, n_gauss=n_gauss, n_v=n_v)\n",
    "dv = v_i[1]-v_i[0]\n",
    "v_obs = np.linspace(-8, 8, num=1000)\n",
    "\n",
    "eps = n_j*eps_j / np.sqrt(2*np.pi*sigma_ens_tot**2) * np.exp(-(v_vox-v_obs)**2/2/sigma_ens_tot**2)\n",
    "eps_ens = np.zeros_like(eps)\n",
    "if plot_all:\n",
    "    fig, ax = plt.subplots(1, 1, figsize=figsize)\n",
    "for i, v_cl in enumerate(v_i):\n",
    "    if old_computation:\n",
    "        eps_i = ensemble_n[i]*eps_j*dv * np.exp(-(v_obs-v_cl)**2/2/sigma_cl**2)\n",
    "    elif incorrect_computation:\n",
    "        eps_i = ensemble_n[i]*eps_j * np.exp(-(v_obs-v_cl)**2/2/sigma_cl**2)\n",
    "    else:\n",
    "        eps_i = ensemble_n[i]*eps_j*dv / np.sqrt(2*np.pi*sigma_cl**2) * np.exp(-(v_obs-v_cl)**2/2/sigma_cl**2)\n",
    "    if plot_all:\n",
    "        ax.plot(v_obs, eps_i)\n",
    "    eps_ens += eps_i\n",
    "if plot_all:\n",
    "    ax.plot(v_obs, eps, lw=3, c='xkcd:black', label='approximated')\n",
    "    ax.plot(v_obs, eps_ens, ls='--', lw=2, c='xkcd:vomit', label='calculated')\n",
    "    ax.set_xlabel(r'$v_{obs} \\ \\left( \\frac{km}{s} \\right)$', fontsize=fontsize)\n",
    "    ax.set_ylabel(r'$\\epsilon \\ \\left( \\frac{K}{pc} \\right)$', fontsize=fontsize)\n",
    "    ax.legend(fontsize=fontsize*legend_factor)\n",
    "\n",
    "kap = n_j*kap_j / np.sqrt(2*np.pi*sigma_ens_tot**2) * np.exp(-(v_vox-v_obs)**2/2/sigma_ens_tot**2)\n",
    "kap_ens = np.zeros_like(eps)\n",
    "if plot_all:\n",
    "    fig, ax = plt.subplots(1, 1, figsize=figsize)\n",
    "for i, v_cl in enumerate(v_i):\n",
    "    if old_computation:\n",
    "        kap_i = ensemble_n[i]*kap_j*dv * np.exp(-(v_obs-v_cl)**2/2/sigma_cl**2)\n",
    "    elif incorrect_computation:\n",
    "        kap_i = ensemble_n[i]*kap_j * np.exp(-(v_obs-v_cl)**2/2/sigma_cl**2)\n",
    "    else:\n",
    "        kap_i = ensemble_n[i]*kap_j*dv / np.sqrt(2*np.pi*sigma_cl**2) * np.exp(-(v_obs-v_cl)**2/2/sigma_cl**2)\n",
    "    if plot_all:\n",
    "        ax.plot(v_obs, kap_i)\n",
    "    kap_ens += kap_i\n",
    "if plot_all:\n",
    "    ax.plot(v_obs, kap, lw=3, c='xkcd:black', label='approximated')\n",
    "    ax.plot(v_obs, kap_ens, ls='--', lw=2, c='xkcd:vomit', label='calculated')\n",
    "    ax.set_xlabel(r'$v_{obs} \\ \\left( \\frac{km}{s} \\right)$', fontsize=fontsize)\n",
    "    ax.set_ylabel(r'$\\kappa \\ \\left( \\frac{1}{pc} \\right)$', fontsize=fontsize)\n",
    "    ax.legend(fontsize=fontsize*legend_factor)\n",
    "\n",
    "fig, ax = plt.subplots(1, 1, figsize=figsize)\n",
    "intensity = eps/kap * (1-np.exp(-kap*ds))\n",
    "intensity_ens = eps_ens/kap_ens * (1-np.exp(-kap_ens*ds))\n",
    "ax.plot(v_obs, intensity, lw=3, c='xkcd:black', label='approximated')\n",
    "ax.plot(v_obs, intensity_ens, ls='--', lw=2, c='xkcd:vomit', label='calculated')\n",
    "ax.set_xlabel(r'$v_{obs} \\ \\left( \\frac{km}{s} \\right)$', fontsize=fontsize)\n",
    "ax.set_ylabel(r'$\\left< I \\right>_{ens} \\ \\left( K \\right)$', fontsize=fontsize)\n",
    "ax.legend(fontsize=fontsize*legend_factor)\n",
    "\n",
    "print('Integrated intensity (no discretisation):', np.trapz(intensity, v_obs))\n",
    "print('Integrated intensity (with discretisation):', np.trapz(intensity_ens, v_obs))"
   ]
  },
  {
   "cell_type": "markdown",
   "id": "fc76013e-76e6-4d29-adf2-4e2364581a31",
   "metadata": {},
   "source": [
    "Below we see that these approximations of the ensemble intensity both follow the same Gaussian distribution, since the factor of $\\frac{\\epsilon_{ens}}{\\kappa_{ens}}$ is constant."
   ]
  },
  {
   "cell_type": "code",
   "execution_count": null,
   "id": "2e4fe4c8-af85-4a2e-8427-1178aa628349",
   "metadata": {
    "jupyter": {
     "source_hidden": true
    },
    "tags": []
   },
   "outputs": [],
   "source": [
    "plt.figure(figsize=figsize)\n",
    "plt.plot(v_obs, eps/kap)\n",
    "plt.title('Most likely combination', fontsize=fontsize)\n",
    "plt.xlabel(r'$v_{obs} \\ \\left( \\frac{km}{s} \\right)$', fontsize=fontsize)\n",
    "plt.ylabel(r'$\\frac{\\epsilon}{\\kappa} \\ \\left( K \\right)$', fontsize=fontsize) ;"
   ]
  },
  {
   "cell_type": "code",
   "execution_count": null,
   "id": "fdcf06e9-f906-41f1-a0c1-624c805eff26",
   "metadata": {
    "jupyter": {
     "source_hidden": true
    },
    "tags": []
   },
   "outputs": [],
   "source": [
    "plt.figure(figsize=figsize)\n",
    "plt.plot(v_obs, eps_ens/kap_ens)\n",
    "plt.title('Probabilistic calculation', fontsize=fontsize)\n",
    "plt.xlabel(r'$v_{obs} \\ \\left( \\frac{km}{s} \\right)$', fontsize=fontsize)\n",
    "plt.ylabel(r'$\\frac{\\left< \\epsilon \\right>_{ens}}{\\left< \\kappa \\right>_{ens}} \\ \\left( K \\right)$', fontsize=fontsize) ;"
   ]
  },
  {
   "cell_type": "markdown",
   "id": "3b37f810-5f59-4f79-9709-6bd2d1c23757",
   "metadata": {},
   "source": [
    "Judging by the calculated \\(\\varpi \\equiv \\int I dv\\), this method performs with the same accuracy."
   ]
  },
  {
   "cell_type": "markdown",
   "id": "37ee2ed8-dee8-4581-aee9-1616c1af3d7d",
   "metadata": {
    "tags": []
   },
   "source": [
    "## Probabilistic approach"
   ]
  },
  {
   "cell_type": "markdown",
   "id": "0882785f-8933-433c-ad11-ac45019bd9d5",
   "metadata": {},
   "source": [
    "Thus-far we have merely considered how the discretisation affects the intensity of the ensemble. The full implementation of `kosmatau3d` uses a probabilistic approach to calculate the likelihood of having a given combination $k_{j,i}$ of clumps in your line-of-sight. The probability of each clump depends on its projected area ($\\pi R_{cl}^2$) compared with the area of one face of the voxel ($\\Delta s$).\n",
    "\n",
    "$$\n",
    "p_{j,i} = \\binom{\\Delta N_{j,i}}{k_{j,i}} \\ p_j^{k_{j,i}} \\ \\left( 1 - p_j \\right)^{\\Delta N_{j,i} - k_{j,i}}\n",
    "$$"
   ]
  },
  {
   "cell_type": "markdown",
   "id": "6f46a13d-10f7-4b09-83cd-7cfd92588e9a",
   "metadata": {},
   "source": [
    "This probability is then applied to the emissivity and opacity in different ways due to how they enter into the radiative transfer equation. For each systematic velocity,\n",
    "\n",
    "$$\n",
    "\\left< \\epsilon \\right>_{i} = \\sum_{k} \\left( \\prod_{j} p_{j,i} \\right) \\left( \\sum_{j} k_{j,i} \\epsilon_{j} \\right), \\\\\n",
    "\\left< \\kappa \\right>_{i} = - \\mathrm{log} \\left[ \\sum_{k} \\left( \\prod_{j} p_{j,i} \\right) \\mathrm{exp} \\left( - \\sum_{j} k_{j,i} \\kappa_{j} \\Delta s \\right) \\right] \\ \\div \\ \\Delta s.\n",
    "$$"
   ]
  },
  {
   "cell_type": "code",
   "execution_count": null,
   "id": "73841417-df5d-4b33-9e45-bc2b0df39c07",
   "metadata": {
    "jupyter": {
     "source_hidden": true
    },
    "tags": []
   },
   "outputs": [],
   "source": [
    "md(r'Now we wish to apply this procedure to our previous example. Let us assume our clump has a radius of $R_{cl} =$'\n",
    "   + r'{} $pc$.'.format(r_j))"
   ]
  },
  {
   "cell_type": "markdown",
   "id": "c305f45e-ef06-4834-803e-8efc94e21c91",
   "metadata": {
    "tags": []
   },
   "source": [
    "### With the original discretisation"
   ]
  },
  {
   "cell_type": "markdown",
   "id": "660c193f-839e-4f28-b17c-f15a6eda52f6",
   "metadata": {},
   "source": [
    "First we examine how the original discretisation handles a dense voxel."
   ]
  },
  {
   "cell_type": "code",
   "execution_count": null,
   "id": "6d424502-a708-43f3-901e-8d0206f002ad",
   "metadata": {
    "jupyter": {
     "source_hidden": true
    },
    "tags": []
   },
   "outputs": [],
   "source": [
    "# n_j = 100\n",
    "# sigma_ens = 2\n",
    "# sigma_cl = 0.71\n",
    "# n_v = 3\n",
    "# v_vox = 0\n",
    "# v_i = np.linspace(-10, 10, num=21)\n",
    "\n",
    "# r_j = 0.5\n",
    "# ds = 1\n",
    "\n",
    "# ds = 1\n",
    "# eps_j = 10\n",
    "# kap_j = 1.5\n",
    "\n",
    "# fontsize = 20\n",
    "# old_computation = False\n",
    "# incorrect_computation = False\n",
    "# test_opacity = True\n",
    "# plot_all = True\n",
    "\n",
    "v_i = np.linspace(-10, 10, num=21)\n",
    "\n",
    "p_j = np.pi*r_j**2/ds**2\n",
    "x = np.arange(0, n_j+1)\n",
    "y = binom.pmf(x, n_j, p_j)\n",
    "n_ens = x[y.argmax()]\n",
    "\n",
    "ensemble_n, v_i = delta_n_ji(n_j, sigma_ens, v_i=v_i, v_vox=v_vox, n_gauss=n_gauss)\n",
    "dv = v_i[1]-v_i[0]\n",
    "p_ji, k_ji = probability(r_j, ds=ds, delta_n_ji=ensemble_n)\n",
    "v_obs = np.linspace(-8, 8, num=1000)\n",
    "\n",
    "eps = n_ens*eps_j / np.sqrt(2*np.pi*sigma_ens_tot**2) * np.exp(-(v_vox-v_obs)**2/2/sigma_ens_tot**2)\n",
    "eps_ens = np.zeros_like(eps)\n",
    "if plot_all:\n",
    "    fig, ax = plt.subplots(1, 1, figsize=figsize)\n",
    "for i, v_cl in enumerate(v_i):\n",
    "    if np.isnan(p_ji[i]).any():\n",
    "        continue\n",
    "    if old_computation:\n",
    "        eps_i = [k*eps_j*dv * np.exp(-(v_obs-v_cl)**2/2/sigma_cl**2) for k in k_ji[i]]\n",
    "    elif incorrect_computation:\n",
    "        eps_i = [k*eps_j * np.exp(-(v_obs-v_cl)**2/2/sigma_cl**2) for k in k_ji[i]]\n",
    "    else:\n",
    "        eps_i = [k*eps_j*dv / np.sqrt(2*np.pi*sigma_cl**2) * np.exp(-(v_obs-v_cl)**2/2/sigma_cl**2) for k in k_ji[i]]\n",
    "    if plot_all:\n",
    "        ax.plot(v_obs, np.sum(p_ji[i].reshape(-1, 1)*eps_i, axis=0))\n",
    "    eps_ens += np.sum((p_ji[i]/p_ji[i].sum()).reshape(-1, 1)*eps_i, axis=0)\n",
    "if plot_all:\n",
    "    ax.plot(v_obs, eps, lw=3, c='xkcd:black', label='approximated')\n",
    "    ax.plot(v_obs, eps_ens, ls='--', lw=2, c='xkcd:vomit', label='calculated')\n",
    "    ax.set_xlabel(r'$v_{obs} \\ \\left( \\frac{km}{s} \\right)$', fontsize=fontsize)\n",
    "    ax.set_ylabel(r'$\\epsilon \\ \\left( \\frac{K}{pc} \\right)$', fontsize=fontsize)\n",
    "    ax.legend(fontsize=fontsize*legend_factor)\n",
    "\n",
    "kap = n_ens*kap_j / np.sqrt(2*np.pi*sigma_ens_tot**2) * np.exp(-(v_vox-v_obs)**2/2/sigma_ens_tot**2)\n",
    "kap_ens = np.zeros_like(eps)\n",
    "if plot_all:\n",
    "    fig, ax = plt.subplots(1, 1, figsize=figsize)\n",
    "for i, v_cl in enumerate(v_i):\n",
    "    if np.isnan(p_ji[i]).any():\n",
    "        continue\n",
    "    if old_computation:\n",
    "        kap_i = np.asarray([k*kap_j*dv * np.exp(-(v_obs-v_cl)**2/2/sigma_cl**2) for k in k_ji[i]])\n",
    "    elif incorrect_computation:\n",
    "        kap_i = np.asarray([k*kap_j * np.exp(-(v_obs-v_cl)**2/2/sigma_cl**2) for k in k_ji[i]])\n",
    "    else:\n",
    "        kap_i = np.asarray([k*kap_j*dv / np.sqrt(2*np.pi*sigma_cl**2) * np.exp(-(v_obs-v_cl)**2/2/sigma_cl**2) for k in k_ji[i]])\n",
    "    if plot_all and test_opacity:\n",
    "        ax.plot(v_obs, np.sum(p_ji[i].reshape(-1, 1)*kap_i, axis=0))\n",
    "    elif plot_all:\n",
    "        ax.plot(v_obs, -np.log(np.sum(p_ji[i].reshape(-1, 1)*np.exp(-kap_i*ds), axis=0))/ds)\n",
    "    if test_opacity:\n",
    "        kap_ens += np.sum((p_ji[i]/p_ji[i].sum()).reshape(-1, 1)*kap_i, axis=0)\n",
    "    else:\n",
    "        kap_ens += -np.log(np.sum((p_ji[i]/p_ji[i].sum()).reshape(-1, 1)*np.exp(-kap_i*ds), axis=0))/ds\n",
    "if plot_all:\n",
    "    ax.plot(v_obs, kap, lw=3, c='xkcd:black', label='approximated')\n",
    "    ax.plot(v_obs, kap_ens, ls='--', lw=2, c='xkcd:vomit', label='calculated')\n",
    "    ax.set_xlabel(r'$v_{obs} \\ \\left( \\frac{km}{s} \\right)$', fontsize=fontsize)\n",
    "    ax.set_ylabel(r'$\\kappa \\ \\left( \\frac{1}{pc} \\right)$', fontsize=fontsize)\n",
    "    ax.legend(fontsize=fontsize*legend_factor)\n",
    "\n",
    "fig, ax = plt.subplots(1, 1, figsize=figsize)\n",
    "intensity = eps/kap * (1-np.exp(-kap*ds))\n",
    "intensity_ens = eps_ens/kap_ens * (1-np.exp(-kap_ens*ds))\n",
    "ax.plot(v_obs, intensity, lw=3, c='xkcd:black', label='approximated')\n",
    "ax.plot(v_obs, intensity_ens, ls='--', lw=2, c='xkcd:vomit', label='calculated')\n",
    "ax.set_xlabel(r'$v_{obs} \\ \\left( \\frac{km}{s} \\right)$', fontsize=fontsize)\n",
    "ax.set_ylabel(r'$\\left< I \\right>_{ens} \\ \\left( K \\right)$', fontsize=fontsize)\n",
    "ax.legend(fontsize=fontsize*legend_factor)\n",
    "\n",
    "print('Integrated intensity (no probabilistic discretisation):', np.trapz(intensity, v_obs))\n",
    "print('Integrated intensity (with probabilistic discretisation):', np.trapz(intensity_ens, v_obs))"
   ]
  },
  {
   "cell_type": "markdown",
   "id": "4b2fded3-4a7e-4767-be8c-394e841c6a77",
   "metadata": {},
   "source": [
    "As it can be seen, there are some wavy features on top of the absorption feature. So far as I can tell from the overall development of `kosmatau3d`, this is due to slight deviations of $\\epsilon$ and $\\kappa$ from a Gaussian distribution. The initial fraction in the radiative transfer equation, $\\left( \\frac{\\epsilon}{\\kappa} \\right)$, should cancel out the Gaussian structure and equate to a constant. Now in the probabilistic discretisation, $\\left< \\epsilon \\right>_{ens}$ and $\\left< \\kappa \\right>_{ens}$ are not perfect Gaussians but follow a similar structure. For that reason we are mainly concerned with the smoothness of this initial fraction. When it has wavy features, the resulting intensity $\\left< I \\right>_{vox} \\left( v_{obs} \\right)$ will also have these wavy features.\n",
    "\n",
    "Plots of this fraction can be seen below."
   ]
  },
  {
   "cell_type": "code",
   "execution_count": null,
   "id": "6e3bd82c-bead-47d5-afab-a9278246f3c5",
   "metadata": {
    "jupyter": {
     "source_hidden": true
    },
    "tags": []
   },
   "outputs": [],
   "source": [
    "plt.figure(figsize=figsize)\n",
    "plt.plot(v_obs, eps/kap)\n",
    "plt.title('Most likely combination', fontsize=fontsize)\n",
    "plt.xlabel(r'$v_{obs} \\ \\left( \\frac{km}{s} \\right)$', fontsize=fontsize)\n",
    "plt.ylabel(r'$\\frac{\\epsilon}{\\kappa} \\ \\left( K \\right)$', fontsize=fontsize) ;"
   ]
  },
  {
   "cell_type": "code",
   "execution_count": null,
   "id": "2bd5b065-a866-4098-940d-c343f641a3e9",
   "metadata": {
    "jupyter": {
     "source_hidden": true
    },
    "tags": []
   },
   "outputs": [],
   "source": [
    "plt.figure(figsize=figsize)\n",
    "plt.plot(v_obs, eps_ens/kap_ens)\n",
    "plt.title('Probabilistic calculation', fontsize=fontsize)\n",
    "plt.xlabel(r'$v_{obs} \\ \\left( \\frac{km}{s} \\right)$', fontsize=fontsize)\n",
    "plt.ylabel(r'$\\frac{\\left< \\epsilon \\right>_{ens}}{\\left< \\kappa \\right>_{ens}} \\ \\left( K \\right)$', fontsize=fontsize) ;"
   ]
  },
  {
   "cell_type": "markdown",
   "id": "6251b6b2-bb26-45e9-96cb-b68ca4374a9b",
   "metadata": {},
   "source": [
    "### Using a finer discretisation"
   ]
  },
  {
   "cell_type": "markdown",
   "id": "fb659796-41df-4e58-abbd-6b222c7f1d05",
   "metadata": {},
   "source": [
    "Using a higher velocity resolution in the model should remove this wavy feature in the resulting $\\left< I \\right>_{vox} (v_{obs})$."
   ]
  },
  {
   "cell_type": "code",
   "execution_count": null,
   "id": "8ed47f91-d366-4c9e-9364-1aa5bd47341e",
   "metadata": {
    "jupyter": {
     "source_hidden": true
    },
    "tags": []
   },
   "outputs": [],
   "source": [
    "# n_j = 100\n",
    "# sigma_ens = 2\n",
    "# sigma_cl = 0.71\n",
    "# n_v = 3\n",
    "# v_vox = 0\n",
    "\n",
    "# r_j = 0.5\n",
    "# ds = 1\n",
    "\n",
    "# ds = 1\n",
    "# eps_j = 10\n",
    "# kap_j = 1.5\n",
    "\n",
    "# fontsize = 20\n",
    "# old_computation = False\n",
    "# incorrect_computation = False\n",
    "# plot_all = True\n",
    "\n",
    "p_j = np.pi*r_j**2/ds**2\n",
    "x = np.arange(0, n_j+1)\n",
    "y = binom.pmf(x, n_j, p_j)\n",
    "n_ens = x[y.argmax()]\n",
    "\n",
    "ensemble_n, v_i = delta_n_ji(n_j, sigma_ens, v_i=None, v_vox=v_vox, n_gauss=n_gauss, n_v=n_v)\n",
    "dv = v_i[1]-v_i[0]\n",
    "p_ji, k_ji = probability(r_j, ds=ds, delta_n_ji=ensemble_n)\n",
    "v_obs = np.linspace(-8, 8, num=1000)\n",
    "\n",
    "eps = n_ens*eps_j / np.sqrt(2*np.pi*sigma_ens_tot**2) * np.exp(-(v_vox-v_obs)**2/2/sigma_ens_tot**2)\n",
    "eps_ens = np.zeros_like(eps)\n",
    "if plot_all:\n",
    "    fig, ax = plt.subplots(1, 1, figsize=figsize)\n",
    "for i, v_cl in enumerate(v_i):\n",
    "    if np.isnan(p_ji[i]).any():\n",
    "        continue\n",
    "    if old_computation:\n",
    "        eps_i = [k*eps_j*dv * np.exp(-(v_obs-v_cl)**2/2/sigma_cl**2) for k in k_ji[i]]\n",
    "    elif incorrect_computation:\n",
    "        eps_i = [k*eps_j * np.exp(-(v_obs-v_cl)**2/2/sigma_cl**2) for k in k_ji[i]]\n",
    "    else:\n",
    "        eps_i = [k*eps_j*dv / np.sqrt(2*np.pi*sigma_cl**2) * np.exp(-(v_obs-v_cl)**2/2/sigma_cl**2) for k in k_ji[i]]\n",
    "    if plot_all:\n",
    "        ax.plot(v_obs, np.sum(p_ji[i].reshape(-1, 1)*eps_i, axis=0))\n",
    "    eps_ens += np.sum((p_ji[i]/p_ji[i].sum()).reshape(-1, 1)*eps_i, axis=0)\n",
    "if plot_all:\n",
    "    ax.plot(v_obs, eps, lw=3, c='xkcd:black', label='approximated')\n",
    "    ax.plot(v_obs, eps_ens, ls='--', lw=2, c='xkcd:vomit', label='calculated')\n",
    "    ax.set_xlabel(r'$v_{obs} \\ \\left( \\frac{km}{s} \\right)$', fontsize=fontsize)\n",
    "    ax.set_ylabel(r'$\\epsilon \\ \\left( \\frac{K}{pc} \\right)$', fontsize=fontsize)\n",
    "    ax.legend(fontsize=fontsize*legend_factor)\n",
    "\n",
    "kap = n_ens*kap_j / np.sqrt(2*np.pi*sigma_ens_tot**2) * np.exp(-(v_vox-v_obs)**2/2/sigma_ens_tot**2)\n",
    "kap_ens = np.zeros_like(eps)\n",
    "if plot_all:\n",
    "    fig, ax = plt.subplots(1, 1, figsize=figsize)\n",
    "for i, v_cl in enumerate(v_i):\n",
    "    if np.isnan(p_ji[i]).any():\n",
    "        continue\n",
    "    if old_computation:\n",
    "        kap_i = np.asarray([k*kap_j*dv * np.exp(-(v_obs-v_cl)**2/2/sigma_cl**2) for k in k_ji[i]])\n",
    "    elif incorrect_computation:\n",
    "        kap_i = np.asarray([k*kap_j * np.exp(-(v_obs-v_cl)**2/2/sigma_cl**2) for k in k_ji[i]])\n",
    "    else:\n",
    "        kap_i = np.asarray([k*kap_j*dv / np.sqrt(2*np.pi*sigma_cl**2) * np.exp(-(v_obs-v_cl)**2/2/sigma_cl**2) for k in k_ji[i]])\n",
    "    if plot_all and test_opacity:\n",
    "        ax.plot(v_obs, np.sum(p_ji[i].reshape(-1, 1)*kap_i, axis=0))\n",
    "    elif plot_all:\n",
    "        ax.plot(v_obs, -np.log(np.sum(p_ji[i].reshape(-1, 1)*np.exp(-kap_i*ds), axis=0))/ds)\n",
    "    if test_opacity:\n",
    "        kap_ens += np.sum((p_ji[i]/p_ji[i].sum()).reshape(-1, 1)*kap_i, axis=0)\n",
    "    else:\n",
    "        kap_ens += -np.log(np.sum((p_ji[i]/p_ji[i].sum()).reshape(-1, 1)*np.exp(-kap_i*ds), axis=0))/ds\n",
    "if plot_all:\n",
    "    ax.plot(v_obs, kap, lw=3, c='xkcd:black', label='approximated')\n",
    "    ax.plot(v_obs, kap_ens, ls='--', lw=2, c='xkcd:vomit', label='calculated')\n",
    "    ax.set_xlabel(r'$v_{obs} \\ \\left( \\frac{km}{s} \\right)$', fontsize=fontsize)\n",
    "    ax.set_ylabel(r'$\\kappa \\ \\left( \\frac{1}{pc} \\right)$', fontsize=fontsize)\n",
    "    ax.legend(fontsize=fontsize*legend_factor)\n",
    "\n",
    "fig, ax = plt.subplots(1, 1, figsize=figsize)\n",
    "intensity = eps/kap * (1-np.exp(-kap*ds))\n",
    "intensity_ens = eps_ens/kap_ens * (1-np.exp(-kap_ens*ds))\n",
    "ax.plot(v_obs, intensity, lw=3, c='xkcd:black', label='approximated')\n",
    "ax.plot(v_obs, intensity_ens, ls='--', lw=2, c='xkcd:vomit', label='calculated')\n",
    "ax.set_xlabel(r'$v_{obs} \\ \\left( \\frac{km}{s} \\right)$', fontsize=fontsize)\n",
    "ax.set_ylabel(r'$\\left< I \\right>_{ens} \\ \\left( K \\right)$', fontsize=fontsize)\n",
    "ax.legend(fontsize=fontsize*legend_factor)\n",
    "\n",
    "print('Integrated intensity (no probabilistic discretisation):', np.trapz(intensity, v_obs))\n",
    "print('Integrated intensity (with probabilistic discretisation):', np.trapz(intensity_ens, v_obs))"
   ]
  },
  {
   "cell_type": "markdown",
   "id": "3686d5ff-82e7-4a44-b312-109a7ecbfe99",
   "metadata": {},
   "source": [
    "This looks like the wavy features are no longer an issue. To confirm, let us examine the initial fraction of the radiative transfer equation as in the previous subsection."
   ]
  },
  {
   "cell_type": "code",
   "execution_count": null,
   "id": "561de06b-1428-463b-b8cc-dd6b25a21dd4",
   "metadata": {
    "jupyter": {
     "source_hidden": true
    },
    "tags": []
   },
   "outputs": [],
   "source": [
    "plt.figure(figsize=figsize)\n",
    "plt.plot(v_obs, eps/kap)\n",
    "plt.title('Most likely combination', fontsize=fontsize)\n",
    "plt.xlabel(r'$v_{obs} \\ \\left( \\frac{km}{s} \\right)$', fontsize=fontsize)\n",
    "plt.ylabel(r'$\\frac{\\epsilon}{\\kappa} \\ \\left( K \\right)$', fontsize=fontsize) ;"
   ]
  },
  {
   "cell_type": "code",
   "execution_count": null,
   "id": "cf1aaec0-f82b-41cc-a866-64832ad8ad63",
   "metadata": {
    "tags": []
   },
   "outputs": [],
   "source": [
    "plt.figure(figsize=figsize)\n",
    "plt.plot(v_obs, eps_ens/kap_ens)\n",
    "plt.title('Probabilistic calculation', fontsize=fontsize)\n",
    "plt.xlabel(r'$v_{obs} \\ \\left( \\frac{km}{s} \\right)$', fontsize=fontsize)\n",
    "plt.ylabel(r'$\\frac{\\left< \\epsilon \\right>_{ens}}{\\left< \\kappa \\right>_{ens}} \\ \\left( K \\right)$', fontsize=fontsize) ;"
   ]
  },
  {
   "cell_type": "markdown",
   "id": "707a28d2-292e-4ada-8d6e-6333b1eb5c86",
   "metadata": {},
   "source": [
    "This not only shows that a smooth fraction will result in a smooth absorption feature, but also that $\\left< \\epsilon \\right>_{ens}$ and $\\left< \\kappa \\right>_{ens}$ follow different distributions. To approximate this in terms of a Gaussian, we will perform a fit to examine how much they differ."
   ]
  },
  {
   "cell_type": "code",
   "execution_count": null,
   "id": "8ae8f77c-cbbe-4661-9924-6a25e752b9d5",
   "metadata": {
    "jupyter": {
     "source_hidden": true
    },
    "tags": []
   },
   "outputs": [],
   "source": [
    "from scipy.optimize import curve_fit\n",
    "\n",
    "def eps_eff(v, a, sigma_eff):\n",
    "    return a * n_ens*eps_j/np.sqrt(2*np.pi*sigma_eff**2) * np.exp(-v**2/2/sigma_eff**2)\n",
    "\n",
    "def kap_eff(v, a, sigma_eff):\n",
    "    return a * n_ens*kap_j/np.sqrt(2*np.pi*sigma_eff**2) * np.exp(-v**2/2/sigma_eff**2)"
   ]
  },
  {
   "cell_type": "code",
   "execution_count": null,
   "id": "e54a1f28-198a-415d-a5c0-299242beafed",
   "metadata": {
    "jupyter": {
     "source_hidden": true
    },
    "tags": []
   },
   "outputs": [],
   "source": [
    "a_eps, sigma_eps_eff = curve_fit(eps_eff, v_obs, eps_ens, [1, sigma_ens])[0]\n",
    "a_kap, sigma_kap_eff = curve_fit(kap_eff, v_obs, kap_ens, [1, sigma_ens])[0]\n",
    "\n",
    "print('fitted amplitudes:\\n{}\\n{}\\n'.format(a_eps, a_kap))\n",
    "print('fitted dispersions:\\n{}\\n{}\\n'.format(sigma_eps_eff, sigma_kap_eff))\n",
    "\n",
    "eps_fit = eps_eff(v_obs, a_eps, sigma_eps_eff)\n",
    "kap_fit = kap_eff(v_obs, a_kap, sigma_kap_eff)"
   ]
  },
  {
   "cell_type": "code",
   "execution_count": null,
   "id": "e2f22f23-4325-4c8a-9d80-68f06d395c8b",
   "metadata": {
    "jupyter": {
     "source_hidden": true
    },
    "tags": []
   },
   "outputs": [],
   "source": [
    "plt.figure(figsize=figsize)\n",
    "plt.plot(v_obs, eps, c='xkcd:black', lw=3, label='approximated')\n",
    "plt.plot(v_obs, eps_fit, c='xkcd:charcoal', lw=2, ls='-', label='fitted')\n",
    "plt.plot(v_obs, eps_ens, c='xkcd:vomit', lw=2, ls='--', label='calculated')\n",
    "plt.legend(fontsize=fontsize*legend_factor)\n",
    "plt.title('Fitted emissivity', fontsize=fontsize)\n",
    "plt.xlabel(r'$v_{obs} \\ \\left( \\frac{km}{s} \\right)$', fontsize=fontsize)\n",
    "plt.ylabel(r'$\\left< \\epsilon \\right>_{ens} \\ \\left( \\frac{K}{pc} \\right)$', fontsize=fontsize) ;"
   ]
  },
  {
   "cell_type": "code",
   "execution_count": null,
   "id": "03b9fe27-6858-420a-8c07-3063cf52f9be",
   "metadata": {
    "jupyter": {
     "source_hidden": true
    },
    "tags": []
   },
   "outputs": [],
   "source": [
    "plt.figure(figsize=figsize)\n",
    "plt.plot(v_obs, kap, c='xkcd:black', lw=3, label='approximated')\n",
    "plt.plot(v_obs, kap_fit, c='xkcd:charcoal', lw=2, ls='-', label='fitted')\n",
    "plt.plot(v_obs, kap_ens, c='xkcd:vomit', lw=2, ls='--', label='calculated')\n",
    "plt.legend(fontsize=fontsize*legend_factor)\n",
    "plt.title('Fitted opacity', fontsize=fontsize)\n",
    "plt.xlabel(r'$v_{obs} \\ \\left( \\frac{km}{s} \\right)$', fontsize=fontsize)\n",
    "plt.ylabel(r'$\\left< \\kappa \\right>_{ens} \\ \\left( \\frac{1}{pc} \\right)$', fontsize=fontsize) ;"
   ]
  },
  {
   "cell_type": "code",
   "execution_count": null,
   "id": "d2cc8eb8-32c4-4e7a-af93-4c4557bc7a42",
   "metadata": {
    "jupyter": {
     "source_hidden": true
    },
    "tags": []
   },
   "outputs": [],
   "source": [
    "plt.figure(figsize=figsize)\n",
    "plt.plot(v_obs, eps/kap, c='xkcd:black', lw=3, label='approximated')\n",
    "plt.plot(v_obs, eps_fit/kap_fit, \n",
    "         c='xkcd:charcoal', lw=2, ls='-', label='fitted')\n",
    "plt.plot(v_obs, eps_ens/kap_ens, c='xkcd:vomit', lw=2, ls='--', label='calculated')\n",
    "plt.legend(fontsize=fontsize*legend_factor)\n",
    "plt.title('Fitted fraction', fontsize=fontsize)\n",
    "plt.xlabel(r'$v_{obs} \\ \\left( \\frac{km}{s} \\right)$', fontsize=fontsize)\n",
    "plt.ylabel(r'$\\frac{\\left< \\epsilon \\right>_{ens}}{\\left< \\kappa \\right>_{ens}} \\ \\left( K \\right)$', fontsize=fontsize) ;"
   ]
  },
  {
   "cell_type": "code",
   "execution_count": null,
   "id": "af8e678d-ba84-4f1e-ad6d-f9b8cb278d7a",
   "metadata": {
    "jupyter": {
     "source_hidden": true
    },
    "tags": []
   },
   "outputs": [],
   "source": [
    "plt.figure(figsize=figsize)\n",
    "plt.plot(v_obs, eps/kap*(1-np.exp(-kap*ds)), c='xkcd:black', lw=3, label='approximated')\n",
    "plt.plot(v_obs, eps_fit/kap_fit*(1-np.exp(-kap_fit*ds)), c='xkcd:charcoal', lw=2, ls='-', label='fitted')\n",
    "plt.plot(v_obs, eps_ens/kap_ens*(1-np.exp(-kap_ens*ds)), c='xkcd:vomit', lw=2, ls='--', label='calculated')\n",
    "plt.legend(fontsize=fontsize*legend_factor)\n",
    "plt.title('Fitted Intensity', fontsize=fontsize)\n",
    "plt.xlabel(r'$v_{obs} \\ \\left( \\frac{km}{s} \\right)$', fontsize=fontsize)\n",
    "plt.ylabel(r'$\\left< I \\right>_{ens} \\ \\left( K \\right)$', fontsize=fontsize) ;"
   ]
  },
  {
   "cell_type": "markdown",
   "id": "0cad7038-60d9-4529-9c01-2430c0dd503d",
   "metadata": {},
   "source": [
    "## Final remarks"
   ]
  },
  {
   "cell_type": "markdown",
   "id": "c3d0089b-920c-441e-ad2c-5b3a8ad0d10b",
   "metadata": {},
   "source": [
    "It is clear that the probabilistic approach affects the behaviour of the emissivity and opacity with respect to observing velocity. Using a standard assumption that both the emissivity and the absorption follow the same Gaussian distribution with velocity dispersion $\\sigma_{ens, eff}$, their ratio will cause the Gaussian distribution to cancel and the result will be a value constant with respect to observing velocity. If we assume the emissivity and opacity follow two slightly different Gaussians (as in the fitted values), then the ratio will also have a Gaussian structure. What seems to be happening in the probabilistic approach is that the voxel-averaged emissivity follows a more strongly-peaked Gaussian than the voxel-averaged opacity near the center velocity, whereas they follow the same Gaussian distribution far away from the center velocity. The pseudo-Gaussian behaviour of these values appear to cause the steep edges in the wings of the intensity plot. The fitted emissivity and opacity are very close to the voxel-averaged values, but they are unable to capture these sharp wings.\n",
    "\n",
    "In the end, we have to decide what how the model should work. If we just want the single-voxel model to model the emissivity and opacity as simple Gaussians, then much of the complexity in `kosmatau3d` can be removed. Personally, I think that one of the advantages in the probabilistic clumpy distribution is that it is more complex than a simple Gaussian. Therefore I am in favour of keeping the complexity of the probabilistic approach (even if it is computationally demanding).\n",
    "\n",
    "Another implementation suggestion is to remove the internal velocity grid entirely and use a modified $\\sigma_{ens}$ in the exponent (as attempted in the fitting function) when calculating the number of clumps. This is still a work in progress since it is not exactly clear how this should be accomplished. I could possibly remove the Gaussian structure of each clump, since this calculation is mainly an integration over each clumps contribution to the overall emissivity and opacity. The issue there is that the discrete nature of this method will not capture the wing features. The other option is to avoid the discrete nature and consider fractions of a clump. This has other implications regarding how one can consider a fraction of a clump."
   ]
  }
 ],
 "metadata": {
  "kernelspec": {
   "display_name": "Python 3 (ipykernel)",
   "language": "python",
   "name": "python3"
  },
  "language_info": {
   "codemirror_mode": {
    "name": "ipython",
    "version": 3
   },
   "file_extension": ".py",
   "mimetype": "text/x-python",
   "name": "python",
   "nbconvert_exporter": "python",
   "pygments_lexer": "ipython3",
   "version": "3.8.5"
  }
 },
 "nbformat": 4,
 "nbformat_minor": 5
}
