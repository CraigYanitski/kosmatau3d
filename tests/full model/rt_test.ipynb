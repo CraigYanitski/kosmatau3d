{
 "cells": [
  {
   "cell_type": "markdown",
   "metadata": {},
   "source": [
    "# Radiative transfer"
   ]
  },
  {
   "cell_type": "markdown",
   "metadata": {},
   "source": [
    "To test whether the radiative transfer calculation is working correctly, I will examine a model with erroneous intensity calculations (with some sightlines being $~10^{40}K$). Below we can see how the whole sky map can be narrowed to just a few erroneous sightlines.\n",
    "\n",
    "There is now functionality when evaluating the sightlines to save the intermediate arrays in numpy files (`I.npy`, `e.npy`, `de.npy`, `k.npy`, `dk.npy`, `a.npy`, and `b.npy`, corresponding to $I_\\nu$, $\\epsilon_\\nu$, $\\Delta \\epsilon_\\nu$, $\\kappa_\\nu$, $\\Delta \\kappa_\\nu$, $a_\\nu$, and $b_\\nu$, respectively) if an erroneous intensity is calculated. This allows us to load and work with the data in this notebook.\n",
    "\n",
    "Currently an intensity is flagged as erroneous if $I_\\nu > 10**{10} K$ or $I_\\nu < 0 K$."
   ]
  },
  {
   "cell_type": "markdown",
   "metadata": {},
   "source": [
    "## Theory"
   ]
  },
  {
   "cell_type": "markdown",
   "metadata": {},
   "source": [
    "In order to test the correct calculation of radiative transfer, the theory must first be covered. The radiative transfer (RT) equation,\n",
    "\n",
    "(1)$$\n",
    "dI_\\nu = - I_\\nu \\kappa_\\nu ds + \\epsilon_\\nu ds\n",
    "$$\n",
    "\n",
    "must be integrated to calculate the observed intensity. Simple applications of RT assume constant $\\epsilon_\\nu$ and $\\kappa_\\nu$ between voxels to obtain the observed intensity. The benefit of `kosmatau3d` is the improved calculation of the RT equation. Here the emissivity and absorption terms, $\\epsilon_\\nu$ and $\\kappa_\\nu$, are still used, but the first-order linear terms, $\\Delta\\epsilon_\\nu = \\frac{\\epsilon_\\nu}{\\Delta s}$ and $\\Delta\\kappa_\\nu = \\frac{\\kappa_\\nu}{\\Delta s}$, also appear. Here $\\Delta s$ is the width of each voxel. This leads to,\n",
    "\n",
    "(2)$$\n",
    "I_\\nu = e^{-\\kappa_\\nu \\Delta s - \\frac{1}{2} \\Delta \\kappa_\\nu \\Delta s^2} \\left[ \\int_0^{\\Delta s}\\left( \\epsilon_\\nu + \\Delta \\epsilon_\\nu s' \\right) e^{\\kappa_\\nu s' + \\frac{1}{2} \\Delta \\kappa_\\nu s'^2} ds' + I_{bg} \\right],\n",
    "$$\n",
    "\n",
    "and allows us to define specific cases for the way we integrate the RT equation:\n",
    "\n",
    " - *Basic*: $\\Delta\\kappa = 0$ and $| \\kappa \\Delta s | < 10^{-10}$\n",
    " - *Simple*: $\\kappa > 10^3 \\Delta \\kappa \\Delta s$\n",
    " - *Complex*: otherwise\n",
    "   - *method 1*: $\\Delta \\kappa > 0$\n",
    "   - *method 2*: $\\Delta \\kappa < 0$\n",
    "   \n",
    "The complex methods of calculating the RT equation are the most accurate, and should be used by default. The other methods are simplifications that can be made. The *Basic* case occurs when there is (mostly) no absorption. Since $\\kappa_\\nu = 0$ and $\\Delta\\kappa_\\nu = 0$, the RT equation becomes, \n",
    "\n",
    "$$\n",
    "\\int_0^{I_\\nu} dI_\\nu = \\int_0^{\\Delta s} \\left( \\epsilon_\\nu + \\Delta\\epsilon_\\nu s' \\right) ds', \\\\\n",
    "I_\\nu = \\epsilon_\\nu \\Delta s + \\frac{1}{2} \\Delta\\epsilon_\\nu \\left( \\Delta s \\right)^2 + I_{\\nu,0}.\n",
    "$$\n",
    "\n",
    "The *Simple* case occurs when there is constant absorption, so $\\Delta\\kappa_\\nu = 0$ and $\\kappa_\\nu \\neq 0$. This has a more-complex equation:\n",
    "\n",
    "$$\n",
    "\\int_0^{I_\\nu} dI_\\nu = e^{-\\kappa_\\nu \\Delta s} \\left( \\int_0^{\\Delta s} (\\epsilon_\\nu + \\Delta \\epsilon_\\nu s') e^{\\kappa_\\nu s'} ds' + I_0 \\right), \\\\\n",
    "I_\\nu = \\left( \\frac{\\epsilon_\\nu \\kappa_\\nu + \\Delta\\epsilon_\\nu (\\kappa_\\nu \\Delta s - 1)}{\\kappa_\\nu^2} \\right) - e^{-\\kappa_\\nu \\Delta s} \\left( \\frac{\\epsilon_\\nu \\kappa_\\nu - \\Delta\\epsilon_\\nu}{\\kappa_\\nu^2} \\right) + e^{-\\kappa_\\nu \\Delta s} I_{\\nu,0}.\n",
    "$$\n",
    "\n",
    "Finally, the *Complex* integration is the full unsimplified integration of the RT equation:\n",
    "\n",
    "$$\n",
    "I_\\nu = \\tilde{I_\\nu} + I_{bg}, \\\\\n",
    "\\tilde{I_\\nu} = \\frac{\\Delta \\epsilon_\\nu}{\\Delta \\kappa_\\nu} \\left[ 1 - e^{-\\kappa_\\nu \\Delta s - \\frac{1}{2} \\Delta \\kappa_\\nu \\Delta s^2} \\right] - \\frac{\\epsilon_\\nu \\Delta \\kappa_\\nu - \\kappa_\\nu \\Delta \\epsilon_\\nu}{\\sqrt{\\Delta \\kappa_\\nu}^3} \\sqrt{\\frac{\\pi}{2}} e^{-\\frac{(\\kappa_\\nu + \\Delta \\kappa_\\nu \\Delta s)^2}{2 \\Delta \\kappa_\\nu}} \\left[ \\mathrm{erfi} \\left( \\frac{\\kappa_\\nu}{\\sqrt{2 \\Delta \\kappa_\\nu}} \\right) - \\mathrm{erfi} \\left( \\frac{\\kappa_\\nu + \\Delta \\kappa_\\nu \\Delta s}{\\sqrt{2 \\Delta \\kappa_\\nu}} \\right) \\right].\n",
    "$$\n",
    "\n",
    "The only distinction made is if $\\Delta\\kappa \\lessgtr 0$.\n",
    "\n",
    "$$\n",
    "I_\\nu = \\frac{\\Delta\\epsilon_\\nu}{\\Delta\\kappa_\\nu} \\left( 1 - e^{-\\kappa_\\nu \\Delta s - \\frac{1}{2} \\Delta\\kappa_\\nu (\\Delta s)^2} \\right) - \\frac{\\epsilon_\\nu \\Delta\\kappa_\\nu - \\kappa_\\nu \\Delta\\epsilon_\\nu}{\\Delta\\kappa_\\nu} \\sqrt{\\frac{\\pi}{2|\\Delta\\kappa_\\nu|}} \\left( e^{a_\\nu^2 - b_\\nu^2}\\tilde{E}(a_\\nu) - \\tilde{E}(b_\\nu) \\right) + I_{\\nu,0} e^{-\\kappa_\\nu \\Delta s - \\frac{1}{2} \\Delta\\kappa_\\nu (\\Delta s)^2}\n",
    "$$\n",
    "\n",
    "Here $a_\\nu=\\frac{\\kappa_\\nu}{\\sqrt{2\\Delta\\kappa_\\nu}}$ and $b_\\nu=\\frac{\\kappa_\\nu + \\Delta\\kappa_\\nu \\Delta s}{\\sqrt{2 \\Delta\\kappa_\\nu}}$, while $\\tilde{E}$ is an approximation of the imaginary error function. The distinction we make is how we treat the error function if $a,b$ are real or imaginary values. This is what I believe to be the primary issue in the calculation of the RT equation: the handling of complex values. I need to perform the integration to properly understand how to treat the complex numbers, namely in the exponential function of $a$ and $b$. As seen below, this might be causing the erroneous negative observed intensities."
   ]
  },
  {
   "cell_type": "markdown",
   "metadata": {},
   "source": [
    "## Calculation"
   ]
  },
  {
   "cell_type": "markdown",
   "metadata": {},
   "source": [
    "With the radiative transfer method focused on the offending sightlines, we can obtain these values used in the RT equation. Now it is simply a matter of re-evaluating manually to compare the results (and find any relevant error). Since our model of interest has voxels with size $s=400pc$, we have $\\Delta s = s [cm]$."
   ]
  },
  {
   "cell_type": "code",
   "execution_count": 34,
   "metadata": {},
   "outputs": [],
   "source": [
    "import numpy as np\n",
    "\n",
    "ds = np.load(r'ds_dust.npy')\n",
    "test_intensity = np.load(r'I_dust.npy')\n",
    "test_epsilon = np.load(r'e_dust.npy')\n",
    "test_depsilon = np.load(r'de_dust.npy')\n",
    "test_kappa = np.load(r'k_dust.npy')\n",
    "test_dkappa = np.load(r'dk_dust.npy')\n",
    "test_a_old = np.load(r'a_dust.npy')\n",
    "test_b_old = np.load(r'b_dust.npy')\n",
    "test_a = test_kappa[:-1]/np.sqrt(2*np.abs(test_dkappa))\n",
    "test_b = (test_kappa[:-1]+test_dkappa*ds)/np.sqrt(2*np.abs(test_dkappa))"
   ]
  },
  {
   "cell_type": "code",
   "execution_count": 18,
   "metadata": {},
   "outputs": [
    {
     "data": {
      "text/plain": [
       "((22, 1), (23, 1), (22, 1))"
      ]
     },
     "execution_count": 18,
     "metadata": {},
     "output_type": "execute_result"
    }
   ],
   "source": [
    "test_a_old.shape, test_kappa.shape, (test_kappa[:-1]/np.sqrt(np.abs(test_dkappa))).shape"
   ]
  },
  {
   "cell_type": "code",
   "execution_count": 20,
   "metadata": {},
   "outputs": [
    {
     "data": {
      "text/plain": [
       "(22, 1)"
      ]
     },
     "execution_count": 20,
     "metadata": {},
     "output_type": "execute_result"
    }
   ],
   "source": [
    "test_a.shape"
   ]
  },
  {
   "cell_type": "code",
   "execution_count": 2,
   "metadata": {},
   "outputs": [],
   "source": [
    "from scipy import interpolate\n",
    "from scipy.special import erfi, erfc\n",
    "\n",
    "# GRIDPATH = r'c:\\users\\cyani\\KOSMA-tau^3\\kosmatau3d\\grid'\n",
    "GRIDPATH = '/home/yanitski/kosmatau3d/kosmatau3d/grid'\n",
    "\n",
    "def eTildeRealData(file='/Ereal.dat'):\n",
    "    ereal = np.genfromtxt(GRIDPATH+file, names=['x', 'Ereal'])\n",
    "    return (ereal['x'], ereal['Ereal'])\n",
    "\n",
    "\n",
    "def eTildeImaginaryData(file='/Eimag.dat'):\n",
    "    eimaginary = np.genfromtxt(GRIDPATH+file, names=['x', 'Eimaginary'])\n",
    "    return (eimaginary['x'], eimaginary['Eimaginary'])\n",
    "\n",
    "eTildeRealObs = eTildeRealData()\n",
    "eTildeImaginaryObs = eTildeImaginaryData()\n",
    "\n",
    "eTildeReal = interpolate.interp1d(eTildeRealObs[0], eTildeRealObs[1], kind='linear')\n",
    "eTildeImaginary = interpolate.interp1d(eTildeImaginaryObs[0], eTildeImaginaryObs[1], kind='linear')\n",
    "\n",
    "def Ereal(x, test=False):\n",
    "  \n",
    "    Er = 0\n",
    "    \n",
    "    if test is True:\n",
    "        Er = np.zeros(x.size)\n",
    "        il = x < 0.01\n",
    "        ig = (~il) & (x > 8.0)\n",
    "        ib = ~(ig | il)\n",
    "        if (il | ig | ib).all():\n",
    "            if il.any():\n",
    "                Er[il] = (2*x[il]/np.sqrt(np.pi))\n",
    "            if ig.any():\n",
    "                Er[ig] = (1/(np.sqrt(np.pi) * x[ig]))\n",
    "            if ib.any():\n",
    "                Er[ib] = eTildeReal(x[ib])\n",
    "        else:\n",
    "            print('Ereal() error: incorrect input')\n",
    "    \n",
    "    elif test is False:\n",
    "        if x < 0.01:\n",
    "            Er = (2*x/np.sqrt(np.pi))\n",
    "        elif x > 8.0:\n",
    "            Er = (1/(np.sqrt(np.pi) * x))\n",
    "        else:\n",
    "            Er = eTildeReal(x)\n",
    "          \n",
    "    return Er\n",
    "\n",
    "def Eimag(x, test=False):\n",
    "  \n",
    "    Ei = 0\n",
    "    \n",
    "    if test is True:\n",
    "        Ei = np.zeros(x.size)\n",
    "        im = x > 0\n",
    "        il = ~im & (abs(x) < 0.01)\n",
    "        ig = ~im & (abs(x) > 8.0)\n",
    "        ib = ~(ig | il | im)\n",
    "        if (im|il|ig|ib).all():\n",
    "            if im.any():\n",
    "                # MASER case: treat with linear approximation\n",
    "                Ei[im] = 1 + 2*np.abs(x[im])/np.sqrt(np.pi)\n",
    "            if il.any():\n",
    "                Ei[il] = (1 - 2*np.abs(x[il])/np.sqrt(np.pi))\n",
    "            if ig.any():\n",
    "                Ei[ig] = (1/(np.sqrt(np.pi) * np.abs(x[ig])))\n",
    "            if ib.any():\n",
    "                Ei[ib] = eTildeImaginary(np.abs(x[ib]))\n",
    "        else:\n",
    "            print('Eimag() error: incorrect input')\n",
    "            \n",
    "    elif test is False:\n",
    "        if x < 0:\n",
    "            # MASER case: treat with linear approximation\n",
    "            Ei = 1 + 2*np.abs(x)/np.sqrt(np.pi)\n",
    "        elif (x > 0) and (np.abs(x) < 0.01):\n",
    "            Ei = (1 - 2*np.abs(x)/np.sqrt(np.pi))\n",
    "        elif (x > 0) and (np.abs(x) > 8.0):\n",
    "            Ei = (1/(np.sqrt(np.pi) * np.abs(x)))\n",
    "        else:\n",
    "            Ei = eTildeImaginary(np.abs(x))\n",
    "          \n",
    "    return Ei\n",
    "\n",
    "def rt_basic(i, vel, spe, intensity, PRINT=0):\n",
    "    if PRINT > 0:\n",
    "        print(1)\n",
    "        print(intensity, 'K')\n",
    "    return test_epsilon[i, spe]*ds \\\n",
    "           + 0.5*test_depsilon[i, spe]*ds**2. \\\n",
    "           + intensity\n",
    "\n",
    "def rt_simple(i, vel, spe, intensity, PRINT=0):\n",
    "    if PRINT > 0:\n",
    "        print(2)\n",
    "        print(intensity, 'K')\n",
    "    return ((test_epsilon[i, spe]*test_kappa[i, spe] + test_depsilon[i, spe]*(test_kappa[i, spe]*ds-1.))\n",
    "            /test_kappa[i, spe]**2.) \\\n",
    "           - np.exp(-test_kappa[i, spe]*ds) \\\n",
    "           * ((test_epsilon[i, spe]*test_kappa[i, spe] \n",
    "               - test_depsilon[i, spe])\n",
    "              /test_kappa[i, spe]**2.) \\\n",
    "           + np.exp(-test_kappa[i, spe]*ds)*intensity\n",
    "\n",
    "def rt_complex1(i, vel, spe, intensity, test=False, PRINT=0):\n",
    "    if PRINT > 0:\n",
    "        print(3)\n",
    "        print(intensity, 'K')\n",
    "    return (test_depsilon[i, spe]/test_dkappa[i, spe]\n",
    "            * (1-np.exp(-test_kappa[i, spe]*ds - 0.5*test_dkappa[i, spe]*ds**2.))\n",
    "            - (test_epsilon[i, spe]*test_dkappa[i, spe] - test_kappa[i, spe]*test_depsilon[i, spe])/test_dkappa[i, spe]\n",
    "            * np.sqrt(np.pi/2./np.abs(test_dkappa[i, spe]))\n",
    "            * np.exp(-test_b[i, spe]**2.)*(erfi(test_a[i, spe]) - erfi(test_b[i, spe])) \n",
    "            + intensity*np.exp(-test_kappa[i, spe]*ds - 0.5*test_dkappa[i, spe]*ds**2.))\n",
    "\n",
    "def rt_complex2(i, vel, spe, intensity, test=False, PRINT=0):\n",
    "    if PRINT > 0:\n",
    "        print(4)\n",
    "        print(intensity, 'K at index', i)\n",
    "#         print('epsilon', test_epsilon[i, spe])\n",
    "#         print('Delta epsilon', test_depsilon[i, spe])\n",
    "#         print('kappa', test_kappa[i, spe])\n",
    "#         print('Delta kappa', test_dkappa[i, spe])\n",
    "#         print('a', test_a[i, spe])\n",
    "#         print('b', test_b[i, spe])\n",
    "    return (test_depsilon[i, spe]/test_dkappa[i, spe]\n",
    "            * (1-np.exp(-test_kappa[i, spe]*ds - 0.5*test_dkappa[i, spe]*ds**2.)) \n",
    "            - (test_epsilon[i, spe]*test_dkappa[i, spe] - test_kappa[i, spe]*test_depsilon[i, spe])/test_dkappa[i, spe]\n",
    "            * np.sqrt(np.pi/2./np.abs(test_dkappa[i, spe]))\n",
    "            * np.exp(test_b[i, spe]**2)*(erfc(test_a[i, spe]) - erfc(test_b[i, spe])) \n",
    "            + intensity*np.exp(-test_kappa[i, spe]*ds - 0.5*test_dkappa[i, spe]*ds**2.))\n"
   ]
  },
  {
   "cell_type": "markdown",
   "metadata": {},
   "source": [
    "Here we will iterate through the voxels and integrate the RT equation along the sightline. At the moment `PRINT=1` will show which method of integration is used (1:basic, 2:simple, 3:complex1, 4:complex2) then the background intensity. We can therefore see which calculation is causing the negative intensity (in this instance it is case 4). I apologise for the output of this cell being so verbose, since there are >600 voxels."
   ]
  },
  {
   "cell_type": "code",
   "execution_count": 3,
   "metadata": {},
   "outputs": [
    {
     "name": "stdout",
     "output_type": "stream",
     "text": [
      "3\n",
      "[0.] K\n",
      "3\n",
      "[0.00139764] K\n",
      "3\n",
      "[0.00304079] K\n",
      "3\n",
      "[0.00500681] K\n",
      "3\n",
      "[0.00739363] K\n",
      "3\n",
      "[0.01026944] K\n",
      "4\n",
      "[0.01363403] K at index 6\n",
      "3\n",
      "[0.0171905] K\n",
      "3\n",
      "[0.02089216] K\n",
      "4\n",
      "[0.0248971] K at index 9\n",
      "3\n",
      "[0.02906628] K\n",
      "4\n",
      "[0.03327947] K at index 11\n",
      "4\n",
      "[0.03744283] K at index 12\n",
      "4\n",
      "[0.04138956] K at index 13\n",
      "3\n",
      "[0.04495467] K\n",
      "4\n",
      "[0.04842537] K at index 15\n",
      "4\n",
      "[0.05180614] K at index 16\n",
      "3\n",
      "[0.05475839] K\n",
      "4\n",
      "[0.05767851] K at index 18\n",
      "4\n",
      "[0.06059774] K at index 19\n",
      "4\n",
      "[0.0631446] K at index 20\n",
      "3\n",
      "[0.06533682] K\n",
      "\n",
      " Old intensity: [-0.00193788]\n",
      "Test intensity: [0.067656]\n"
     ]
    }
   ],
   "source": [
    "spe = 'all'\n",
    "vel = 0\n",
    "test = False\n",
    "PRINT = 1\n",
    "\n",
    "if type(spe) == int:\n",
    "    \n",
    "    if PRINT > 1:\n",
    "        print('single species')\n",
    "    \n",
    "    intensity = 0\n",
    "\n",
    "elif spe == 'all':\n",
    "    \n",
    "    if PRINT > 1:\n",
    "        print('all species')\n",
    "    \n",
    "    intensity = np.zeros(test_depsilon.shape[1])\n",
    "\n",
    "for i in range(test_depsilon.shape[0]):\n",
    "  \n",
    "    if type(spe) == int:\n",
    "\n",
    "        k0 = np.asarray((test_dkappa[i, spe] == 0) and (np.abs(test_kappa[i, spe]*ds) < 10**-10))\n",
    "        kg = np.asarray(np.abs(test_kappa[i, spe]) > np.abs(10**3*test_dkappa[i, spe]*ds))\n",
    "        keg = np.asarray(test_dkappa[i, spe] > 0)\n",
    "        kel = np.asarray(test_dkappa[i, spe] < 0)\n",
    "    \n",
    "    elif spe == 'all':\n",
    "\n",
    "        k0 = np.asarray((test_dkappa[i, :] == 0) & (np.abs(test_kappa[i, :]*ds) < 10**-10))\n",
    "        kg = np.asarray(~k0 & ((np.abs(test_kappa[i, :]) > np.abs(10**3*test_dkappa[i, :]*ds))))\n",
    "        keg = np.asarray(~k0 & ~kg & (test_dkappa[i, :] > 0))\n",
    "        kel = np.asarray(~k0 & ~kg & (test_dkappa[i, :] < 0))\n",
    "    \n",
    "    else:\n",
    "    \n",
    "        print('species not recognised')\n",
    "        exit()\n",
    "  \n",
    "    if (k0 | kg | kel | keg).all():\n",
    "      \n",
    "        if k0.any():\n",
    "\n",
    "            if PRINT > 0:\n",
    "    #       print(1)\n",
    "                if PRINT == 3:\n",
    "                    print('Intensity:', intensity)\n",
    "                    print('epsilon:', test_epsilon[i], test_depsilon[i])\n",
    "                    print('kappa:', test_kappa[i], test_dkappa[i])\n",
    "\n",
    "            if type(spe) == int:\n",
    "                intensity = rt_basic(i, vel, spe, intensity, PRINT=PRINT)\n",
    "\n",
    "            elif spe == 'all':\n",
    "                intensity[k0] = rt_basic(i, vel, k0, intensity[k0], PRINT=PRINT)\n",
    "\n",
    "        if kg.any():\n",
    "\n",
    "            if PRINT > 0:\n",
    "        #       print(2)\n",
    "                if PRINT == 3:\n",
    "                    print('Intensity:', intensity)\n",
    "                    print('epsilon:', test_epsilon[i], test_depsilon[i])\n",
    "                    print('kappa:', test_kappa[i], test_dkappa[i])\n",
    "                    print(10**3*test_dkappa[i]*ds)\n",
    "\n",
    "            if type(spe) == int:\n",
    "                intensity = rt_simple(i, vel, spe, intensity, PRINT=PRINT)\n",
    "\n",
    "            elif spe == 'all':\n",
    "                intensity[kg] = rt_simple(i, vel, kg, intensity[kg], PRINT=PRINT)\n",
    "\n",
    "        if keg.any():\n",
    "\n",
    "            if PRINT > 0:\n",
    "      #         print(3)\n",
    "                if PRINT == 3:\n",
    "                    print('Intensity:', intensity)\n",
    "                    print('epsilon:', test_epsilon[i], test_depsilon[i])\n",
    "                    print('kappa:', test_kappa[i], test_dkappa[i])\n",
    "\n",
    "            if type(spe) == int:\n",
    "                intensity = rt_complex1(i, vel, spe, intensity, test=False, PRINT=PRINT)\n",
    "\n",
    "            elif spe == 'all':\n",
    "                intensity[keg] = rt_complex1(i, vel, keg, intensity[keg], test=True, PRINT=PRINT)\n",
    "\n",
    "        if kel.any():\n",
    "\n",
    "            if PRINT > 0:\n",
    "        #         print(4)\n",
    "                if PRINT == 3:\n",
    "                    print('Intensity:', intensity)\n",
    "                    print('epsilon:', test_epsilon[i], test_depsilon[i])\n",
    "                    print('kappa:', test_kappa[i], test_dkappa[i])\n",
    "\n",
    "            if type(spe) == int:\n",
    "                intensity = rt_complex2(i, vel, spe, intensity, test=False, PRINT=PRINT)\n",
    "\n",
    "            elif spe == 'all':\n",
    "                intensity[kel] = rt_complex2(i, vel, kel, intensity[kel], test=True, PRINT=PRINT)\n",
    "      \n",
    "    else:\n",
    "\n",
    "        print('Error!')\n",
    "        print(k0, kg, kel, keg)\n",
    "        print(test_kappa[i, :], test_dkappa[i, :])\n",
    "\n",
    "          \n",
    "if type(spe) == int:\n",
    "    print('\\n Old intensity:', test_intensity[spe])\n",
    "elif spe == 'all':\n",
    "    print('\\n Old intensity:', test_intensity)\n",
    "print('Test intensity:', intensity)"
   ]
  },
  {
   "cell_type": "markdown",
   "metadata": {},
   "source": [
    "In this output \"Old intensity\" is the intensity calculated by running the full model (taken from `I.npy`). \"Test intensity\" is the intensity calculated from the in the notebook. They should be the same if both intensities are calculated the same way."
   ]
  },
  {
   "cell_type": "markdown",
   "metadata": {},
   "source": [
    "Below we focus on the voxel calculation that causes $I_\\nu < 0$."
   ]
  },
  {
   "cell_type": "code",
   "execution_count": 22,
   "metadata": {},
   "outputs": [
    {
     "name": "stdout",
     "output_type": "stream",
     "text": [
      "4\n",
      "0.16776924 K at index 219\n",
      "epsilon 5.575318122633235e-23\n",
      "Delta epsilon -1.3838436708961511e-43\n",
      "kappa -2.0296550558435232e-24\n",
      "Delta kappa -1.7518254186768699e-47\n",
      "a 0.3428955312822489j\n",
      "b 0.3432588531423153j\n"
     ]
    },
    {
     "data": {
      "text/plain": [
       "array([-1.49256869])"
      ]
     },
     "execution_count": 22,
     "metadata": {},
     "output_type": "execute_result"
    }
   ],
   "source": [
    "rt_complex2(219, 0, 0, 0.16776924, test=True, PRINT=1)"
   ]
  },
  {
   "cell_type": "code",
   "execution_count": 49,
   "metadata": {},
   "outputs": [
    {
     "name": "stdout",
     "output_type": "stream",
     "text": [
      "0.6687586546077037 0.6687586546077037 0.40345421710549456\n",
      "0.6690660623466406 0.6690660623466406 0.402930912679136\n"
     ]
    },
    {
     "data": {
      "text/plain": [
       "0.029837066308471855"
      ]
     },
     "execution_count": 49,
     "metadata": {},
     "output_type": "execute_result"
    }
   ],
   "source": [
    "e = test_epsilon[9, 0]\n",
    "de = test_depsilon[9, 0]\n",
    "k = test_kappa[9, 0]\n",
    "dk = test_dkappa[9, 0]\n",
    "a = test_a[9, 0]\n",
    "b = test_b[9, 0]\n",
    "\n",
    "I = 0.02576811\n",
    "\n",
    "print(eTildeImaginary(a), Eimag(a), a)\n",
    "print(eTildeImaginary(b), Eimag(b), b)\n",
    "\n",
    "de/dk * (1 - np.exp(-k*ds - 0.5*dk*ds**2)) - (e*dk - k*de)/dk * np.sqrt(np.pi/2/np.abs(dk)) * (np.exp(-a**2 + b**2)*Eimag(a) - Eimag(b)) + I*np.exp(-k*ds - 0.5*dk*ds**2)"
   ]
  },
  {
   "cell_type": "code",
   "execution_count": 48,
   "metadata": {
    "tags": []
   },
   "outputs": [
    {
     "name": "stdout",
     "output_type": "stream",
     "text": [
      "0.668748923896462 0.40345421710549456\n",
      "0.66905714274677 0.402930912679136\n"
     ]
    },
    {
     "data": {
      "text/plain": [
       "0.029936922197935492"
      ]
     },
     "execution_count": 48,
     "metadata": {},
     "output_type": "execute_result"
    }
   ],
   "source": [
    "from scipy.special import erfc\n",
    "\n",
    "e = test_epsilon[9, 0]\n",
    "de = test_depsilon[9, 0]\n",
    "k = test_kappa[9, 0]\n",
    "dk = test_dkappa[9, 0]\n",
    "a = test_a[9, 0]\n",
    "b = test_b[9, 0]\n",
    "\n",
    "I = 0.02576811\n",
    "\n",
    "print(np.exp(a**2)*erfc(a), a)\n",
    "print(np.exp(b**2)*erfc(b), b)\n",
    "\n",
    "de/dk * (1 - np.exp(-k*ds - 0.5*dk*ds**2)) - (e*dk - k*de)/dk * np.sqrt(np.pi/2/np.abs(dk)) * (np.exp(-a**2+b**2)*(np.exp(a**2)*erfc(a)) - (np.exp(b**2)*erfc(b))) + I*np.exp(-k*ds - 0.5*dk*ds**2)"
   ]
  },
  {
   "cell_type": "code",
   "execution_count": 66,
   "metadata": {},
   "outputs": [
    {
     "data": {
      "text/plain": [
       "(6.6418958354775635, 144009798674.66104)"
      ]
     },
     "execution_count": 66,
     "metadata": {},
     "output_type": "execute_result"
    }
   ],
   "source": [
    "x = -5\n",
    "Eimag(x), np.exp(x**2)*erfc(x)"
   ]
  },
  {
   "cell_type": "markdown",
   "metadata": {},
   "source": [
    "These cells show the difference in calculation due to the imaginary component."
   ]
  },
  {
   "cell_type": "code",
   "execution_count": 8,
   "metadata": {},
   "outputs": [
    {
     "data": {
      "text/plain": [
       "((0.0002492948872418327+0j), -0.0002492948872418327)"
      ]
     },
     "execution_count": 8,
     "metadata": {},
     "output_type": "execute_result"
    }
   ],
   "source": [
    "a**2-b**2, a.imag**2-b.imag**2"
   ]
  },
  {
   "cell_type": "code",
   "execution_count": 28,
   "metadata": {},
   "outputs": [
    {
     "data": {
      "text/plain": [
       "((1.0002493259637946+0j), 0.9997507361841466)"
      ]
     },
     "execution_count": 28,
     "metadata": {},
     "output_type": "execute_result"
    }
   ],
   "source": [
    "np.exp(a**2-b**2), np.exp(a.imag**2-b.imag**2)"
   ]
  },
  {
   "cell_type": "code",
   "execution_count": 19,
   "metadata": {},
   "outputs": [
    {
     "name": "stdout",
     "output_type": "stream",
     "text": [
      "1.3872619682008194\n",
      "1.38657046597124\n",
      "1.3873261388068867\n"
     ]
    }
   ],
   "source": [
    "print(np.exp(a**2-b**2).real*Eimag(a.imag))\n",
    "print(np.exp(a.imag**2-b.imag**2)*Eimag(a.imag))\n",
    "print(Eimag(b.imag))"
   ]
  },
  {
   "cell_type": "markdown",
   "metadata": {},
   "source": [
    "Finally I attempt to numerically integrate the integral in equation (2) using quadrature. Assuming everything is correct, the values should be the same. As you can see, they are not."
   ]
  },
  {
   "cell_type": "code",
   "execution_count": 16,
   "metadata": {},
   "outputs": [
    {
     "name": "stdout",
     "output_type": "stream",
     "text": [
      "quad integration: 0.0058023461817977105\n"
     ]
    },
    {
     "data": {
      "text/plain": [
       "(-1.6603797545448504+0j)"
      ]
     },
     "execution_count": 16,
     "metadata": {},
     "output_type": "execute_result"
    }
   ],
   "source": [
    "import numpy as np\n",
    "from scipy.integrate import quad\n",
    "\n",
    "def f (x, e, de, k, dk):\n",
    "    return (e+de*x)*np.exp(k*x+0.5*dk*x**2)\n",
    "\n",
    "print('quad integration:', np.exp(-k*ds - 0.5*dk*ds**2) * quad(f, 0, ds, args=(e, de, k, dk))[0])\n",
    "de/dk * (1 - np.exp(-k*ds - 0.5*dk*ds**2)) - (e*dk - k*de)/dk * np.sqrt(np.pi/2/np.abs(dk)) * (np.exp(a**2 - b**2)*Eimag(a.imag) - Eimag(b.imag))"
   ]
  },
  {
   "cell_type": "markdown",
   "metadata": {},
   "source": [
    "This is a plot to show the behaviour of the interpolated function with respect to $s'$."
   ]
  },
  {
   "cell_type": "code",
   "execution_count": 82,
   "metadata": {},
   "outputs": [
    {
     "data": {
      "image/png": "[encoded data removed]",
      "text/plain": [
       "<Figure size 432x288 with 1 Axes>"
      ]
     },
     "metadata": {
      "needs_background": "light"
     },
     "output_type": "display_data"
    }
   ],
   "source": [
    "import matplotlib.pyplot as plt\n",
    "\n",
    "x = np.linspace(0, ds, num=10000)\n",
    "plt.plot(x, f(x, e, de, k, dk)) ;\n",
    "\n",
    "i1,i2 = (f(0, e, de, k, dk), f(ds, e, de, k, dk))\n",
    "\n",
    "m = (i2-i1)/ds\n",
    "\n",
    "plt.plot(x[::500], x[::500]*m+i1, ls='', marker='x') ;"
   ]
  },
  {
   "cell_type": "code",
   "execution_count": 76,
   "metadata": {},
   "outputs": [
    {
     "data": {
      "text/plain": [
       "array([0.00000000e+00, 2.45546949e+16, 4.91093898e+16, ...,\n",
       "       1.22699810e+20, 1.22724365e+20, 1.22748920e+20])"
      ]
     },
     "execution_count": 76,
     "metadata": {},
     "output_type": "execute_result"
    }
   ],
   "source": [
    "x[::2]"
   ]
  },
  {
   "cell_type": "code",
   "execution_count": 47,
   "metadata": {},
   "outputs": [
    {
     "data": {
      "text/plain": [
       "1.1247686222284667"
      ]
     },
     "execution_count": 47,
     "metadata": {},
     "output_type": "execute_result"
    }
   ],
   "source": [
    "np.exp(-k**2/2/dk)"
   ]
  },
  {
   "cell_type": "code",
   "execution_count": 44,
   "metadata": {},
   "outputs": [
    {
     "data": {
      "text/plain": [
       "1.2276119715538785e+20"
      ]
     },
     "execution_count": 44,
     "metadata": {},
     "output_type": "execute_result"
    }
   ],
   "source": [
    "ds"
   ]
  },
  {
   "cell_type": "markdown",
   "metadata": {},
   "source": [
    "## Sightline determination"
   ]
  },
  {
   "cell_type": "markdown",
   "metadata": {},
   "source": [
    "It is unreasonable to expect one to evaluate the entire intensity map if there are just a handful of sightlines that are flagged as erroneous. For that reason, one can use the following cells to identify which sightline(s) the intensity is not calculated correctly."
   ]
  },
  {
   "cell_type": "code",
   "execution_count": 1,
   "metadata": {},
   "outputs": [],
   "source": [
    "from pprint import pprint\n",
    "\n",
    "import numpy as np\n",
    "from astropy.io import fits"
   ]
  },
  {
   "cell_type": "code",
   "execution_count": 16,
   "metadata": {},
   "outputs": [],
   "source": [
    "chmap = fits.open(r\"/media/4,0 TB Hard Disk/yanitski/projects/pdr/KT3_history/MilkyWay/r400_cm1.0-1.0_d1.0_uv10/channel_intensity.fits\")"
   ]
  },
  {
   "cell_type": "code",
   "execution_count": 17,
   "metadata": {},
   "outputs": [
    {
     "data": {
      "text/plain": [
       "(701, 3, 360, 17)"
      ]
     },
     "execution_count": 17,
     "metadata": {},
     "output_type": "execute_result"
    }
   ],
   "source": [
    "chmap[1].shape"
   ]
  },
  {
   "cell_type": "code",
   "execution_count": 18,
   "metadata": {
    "collapsed": true,
    "jupyter": {
     "outputs_hidden": true
    }
   },
   "outputs": [
    {
     "name": "stdout",
     "output_type": "stream",
     "text": [
      "XTENSION= 'IMAGE   '           / Image extension                                \n",
      "BITPIX  =                  -64 / array data type                                \n",
      "NAXIS   =                    4 / number of array dimensions                     \n",
      "NAXIS1  =                   17                                                  \n",
      "NAXIS2  =                  360                                                  \n",
      "NAXIS3  =                    3                                                  \n",
      "NAXIS4  =                  701                                                  \n",
      "PCOUNT  =                    0 / number of parameters                           \n",
      "GCOUNT  =                    1 / number of groups                               \n",
      "TYPE    = 'Species transitions'                                                 \n",
      "BUNIT   = 'K       '                                                            \n",
      "CTYPE1  = 'Wavelength'                                                          \n",
      "CUNIT1  = 'm       '                                                            \n",
      "CRVAL1  = 'N/A     '                                                            \n",
      "CDELT1  = 'N/A     '                                                            \n",
      "CRPIX1  = 'N/A     '                                                            \n",
      "CTYPE2  = 'GLON    '                                                            \n",
      "CUNIT2  = 'rad     '                                                            \n",
      "CRVAL2  =                  0.0                                                  \n",
      "CDELT2  =  0.01750190893364787                                                  \n",
      "CRPIX2  =                180.0                                                  \n",
      "CTYPE3  = 'GLAT    '                                                            \n",
      "CUNIT3  = 'rad     '                                                            \n",
      "CRVAL3  =                  0.0                                                  \n",
      "CDELT3  =  0.02617993877991494                                                  \n",
      "CRPIX3  =                  1.5                                                  \n",
      "CTYPE4  = 'Velocity'                                                            \n",
      "CUNIT4  = 'km/s    '                                                            \n",
      "CRVAL4  =                  0.0                                                  \n",
      "CDELT4  =                  1.0                                                  \n",
      "CRPIX4  =                350.5                                                  \n",
      "DIREC   = 'Radial  '                                                            \n",
      "SPECIES = 'C+ 1, C 1, C 2, CO 1, CO 2, CO 3, CO 4, CO 5, 13C+ 1, 13C 1, 13C &'  \n",
      "CONTINUE  '2, 13CO 1, 13CO 2, 13CO 3, 13CO 4, 13CO 5, HCO+ 1'                   \n"
     ]
    }
   ],
   "source": [
    "pprint(chmap[1].header)"
   ]
  },
  {
   "cell_type": "code",
   "execution_count": 20,
   "metadata": {},
   "outputs": [
    {
     "data": {
      "text/plain": [
       "-5.868130065198171"
      ]
     },
     "execution_count": 20,
     "metadata": {},
     "output_type": "execute_result"
    }
   ],
   "source": [
    "chmap[1].data[:, :, :, 0].min()"
   ]
  },
  {
   "cell_type": "code",
   "execution_count": 23,
   "metadata": {},
   "outputs": [
    {
     "data": {
      "text/plain": [
       "(array([617, 617, 617]), array([0, 1, 2]))"
      ]
     },
     "execution_count": 23,
     "metadata": {},
     "output_type": "execute_result"
    }
   ],
   "source": [
    "np.where(chmap[1].data[:,:,180,0]<0)"
   ]
  },
  {
   "cell_type": "code",
   "execution_count": 9,
   "metadata": {},
   "outputs": [],
   "source": [
    "vel = np.linspace(chmap[1].header['CRVAL1'] - chmap[1].header['CDELT1']*chmap[1].header['CRPIX1'],\n",
    "                  chmap[1].header['CRVAL1'] + chmap[1].header['CDELT1']*chmap[1].header['CRPIX1'],\n",
    "                  num=chmap[1].header['NAXIS1'])\n",
    "lon = np.linspace(chmap[1].header['CRVAL2'] - chmap[1].header['CDELT2']*chmap[1].header['CRPIX2'],\n",
    "                  chmap[1].header['CRVAL2'] + chmap[1].header['CDELT2']*chmap[1].header['CRPIX2'],\n",
    "                  num=chmap[1].header['NAXIS2'])"
   ]
  },
  {
   "cell_type": "code",
   "execution_count": 11,
   "metadata": {},
   "outputs": [
    {
     "data": {
      "text/plain": [
       "(2.8414642208742613, 2.9473572974285815)"
      ]
     },
     "execution_count": 11,
     "metadata": {},
     "output_type": "execute_result"
    }
   ],
   "source": [
    "lon[170],lon[173]"
   ]
  },
  {
   "cell_type": "markdown",
   "metadata": {},
   "source": [
    "Below I copy the portion of `kosmatau3d` that selects the voxels in an sightline. I will use this to focus on the *glitches* in the PV diagram."
   ]
  },
  {
   "cell_type": "code",
   "execution_count": null,
   "metadata": {},
   "outputs": [],
   "source": [
    "eps_sp = fits.open('/media/4,0 TB Hard Disk/yanitski/projects/pdr/KT3_history/MilkyWay/r400_cm1.0-1.0_d1.0_uv10/species_emissivity.fits')[0].data\n",
    "kap_sp = fits.open('/media/4,0 TB Hard Disk/yanitski/projects/pdr/KT3_history/MilkyWay/r400_cm1.0-1.0_d1.0_uv10/species_absorption.fits')[0].data\n",
    "eps_d = fits.open('/media/4,0 TB Hard Disk/yanitski/projects/pdr/KT3_history/MilkyWay/r400_cm1.0-1.0_d1.0_uv10/dust_emissivity.fits')[0].data\n",
    "kap_d = fits.open('/media/4,0 TB Hard Disk/yanitski/projects/pdr/KT3_history/MilkyWay/r400_cm1.0-1.0_d1.0_uv10/dust_absorption.fits')[0].data\n",
    "xGrid,yGrid,zGrid = (fits.open('/media/4,0 TB Hard Disk/yanitski/projects/pdr/KT3_history/MilkyWay/r400_cm1.0-1.0_d1.0_uv10/voxel_position.fits')[0].data[:, 0],\n",
    "                     fits.open('/media/4,0 TB Hard Disk/yanitski/projects/pdr/KT3_history/MilkyWay/r400_cm1.0-1.0_d1.0_uv10/voxel_position.fits')[0].data[:, 1],\n",
    "                     fits.open('/media/4,0 TB Hard Disk/yanitski/projects/pdr/KT3_history/MilkyWay/r400_cm1.0-1.0_d1.0_uv10/voxel_position.fits')[0].data[:, 2])\n",
    "\n",
    "radGrid = np.sqrt((xGrid-constants.rGalEarth)**2 + yGrid**2 + zGrid**2)\n",
    "lonGrid = np.arctan2(yGrid, -(xGrid-constants.rGalEarth))\n",
    "if lon < 0:\n",
    "    lonGrid[lonGrid > 0] = lonGrid[lonGrid > 0] - 2*np.pi\n",
    "if lon > 0:\n",
    "    lonGrid[lonGrid < 0] = lonGrid[lonGrid < 0] + 2*np.pi\n",
    "rPolar = np.sqrt((xGrid-constants.rGalEarth)**2+yGrid**2)\n",
    "latGrid = np.arctan2(zGrid, rPolar)\n",
    "if lat < 0:\n",
    "    latGrid[latGrid > 0] = latGrid[latGrid > 0] - np.pi\n",
    "if lat > 0:\n",
    "    latGrid[latGrid < 0] = latGrid[latGrid < 0] + np.pi\n",
    "scaling = np.sqrt(2)  # 2#\n",
    "width = scaling*constants.voxel_size*np.max([np.sin(np.abs(lonGrid-np.pi/4)),\n",
    "                                             np.sin(np.abs(lonGrid+np.pi/4))], axis=0)\n",
    "height = scaling*constants.voxel_size*np.max([np.sin(np.abs(latGrid-np.pi/4)),\n",
    "                                              np.sin(np.abs(latGrid+np.pi/4))], axis=0)\n",
    "d_lon = 0.5*np.arctan(width/radGrid)\n",
    "d_lon[(lat > 1.0) | (lat < -1.0)] = np.pi\n",
    "d_lat = 0.5*np.arctan(height/radGrid)\n",
    "d_lat[(lat > 1.0) | (lat < -1.0)] = np.pi/2.\n",
    "# iLoS = np.where((abs(lonGrid-x1LoS)<=dLon)&(abs(latGrid-x2LoS)<=dLat)&rt.i_vox)[0]\n",
    "i_los = np.where((abs(lonGrid-x1LoS) <= d_lon) & (abs(latGrid-x2LoS) <= d_lat))[0]\n",
    "i_los_ordered = i_los[np.argsort(radGrid[i_los])[::-1]]\n",
    "\n",
    "e_sp = eps_sp[i_los_ordered, 617, :] / 3.086/10**18\n",
    "de_sp = \n",
    "k_sp = kap_sp[i_los_ordered, 617, :] / 3.086/10**18\n",
    "dk_sp = \n",
    "e_d = eps_d[i_los_ordered, 617, :] / 3.086/10**18\n",
    "de_d = \n",
    "k_d = kap_d[i_los_ordered, 617, :] / 3.086/10**18\n",
    "dk_d = "
   ]
  }
 ],
 "metadata": {
  "kernelspec": {
   "display_name": "Python 3",
   "language": "python",
   "name": "python3"
  },
  "language_info": {
   "codemirror_mode": {
    "name": "ipython",
    "version": 3
   },
   "file_extension": ".py",
   "mimetype": "text/x-python",
   "name": "python",
   "nbconvert_exporter": "python",
   "pygments_lexer": "ipython3",
   "version": "3.8.10"
  }
 },
 "nbformat": 4,
 "nbformat_minor": 4
}
