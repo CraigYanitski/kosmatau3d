{
 "cells": [
  {
   "cell_type": "markdown",
   "metadata": {},
   "source": [
    "# Radiative transfer"
   ]
  },
  {
   "cell_type": "markdown",
   "metadata": {},
   "source": [
    "To test whether the radiative transfer calculation is working correctly, I will examine a model with erroneous intensity calculations (with some sightlines being $~10^{40}K$). Below we can see how the whole sky map can be narrowed to just a few erroneous sightlines.\n",
    "\n",
    "There is also an option when evaluating the refined sightlines to save the intermediate arrays in numpy files (`I.npy`, `e.npy`, `de.npy`, `k.npy`, `dk.npy`, `a.npy`, and `b.npy`, corresponding to $I_\\nu$, $\\epsilon_\\nu$, $\\Delta \\epsilon_\\nu$, $\\kappa_\\nu$, $\\Delta \\kappa_\\nu$, $a_\\nu$, and $b_\\nu$, respectively) to load and work with the data."
   ]
  },
  {
   "cell_type": "code",
   "execution_count": 6,
   "metadata": {},
   "outputs": [],
   "source": [
    "from pprint import pprint\n",
    "\n",
    "import numpy as np\n",
    "from astropy.io import fits"
   ]
  },
  {
   "cell_type": "code",
   "execution_count": 3,
   "metadata": {},
   "outputs": [],
   "source": [
    "chmap = fits.open(r\"c:\\users\\cyani\\projects\\pdr\\KT3_history\\MilkyWay\\r400_cm1-1_d1_uv10\\channel_intensity.fits\")"
   ]
  },
  {
   "cell_type": "code",
   "execution_count": 5,
   "metadata": {},
   "outputs": [
    {
     "data": {
      "text/plain": [
       "(701, 5, 180, 18)"
      ]
     },
     "execution_count": 5,
     "metadata": {},
     "output_type": "execute_result"
    }
   ],
   "source": [
    "chmap[1].shape"
   ]
  },
  {
   "cell_type": "code",
   "execution_count": 7,
   "metadata": {
    "collapsed": true,
    "jupyter": {
     "outputs_hidden": true
    }
   },
   "outputs": [
    {
     "name": "stdout",
     "output_type": "stream",
     "text": [
      "XTENSION= 'IMAGE   '           / Image extension                                \n",
      "BITPIX  =                  -64 / array data type                                \n",
      "NAXIS   =                    4 / number of array dimensions                     \n",
      "NAXIS1  =                   18                                                  \n",
      "NAXIS2  =                  180                                                  \n",
      "NAXIS3  =                    5                                                  \n",
      "NAXIS4  =                  701                                                  \n",
      "PCOUNT  =                    0 / number of parameters                           \n",
      "GCOUNT  =                    1 / number of groups                               \n",
      "TYPE    = 'Species transitions'                                                 \n",
      "BUNIT   = 'K       '                                                            \n",
      "CTYPE1  = 'Wavelength'                                                          \n",
      "CUNIT1  = 'm       '                                                            \n",
      "CRVAL1  = 'N/A     '                                                            \n",
      "CDELT1  = 'N/A     '                                                            \n",
      "CRPIX1  = 'N/A     '                                                            \n",
      "CTYPE2  = 'GLON    '                                                            \n",
      "CUNIT2  = 'rad     '                                                            \n",
      "CRVAL2  =                  0.0                                                  \n",
      "CDELT2  =  0.03510159389485802                                                  \n",
      "CRPIX2  =                 90.0                                                  \n",
      "CTYPE3  = 'GLAT    '                                                            \n",
      "CUNIT3  = 'rad     '                                                            \n",
      "CRVAL3  =                  0.0                                                  \n",
      "CDELT3  =   0.1963495408493621                                                  \n",
      "CRPIX3  =                  2.5                                                  \n",
      "CTYPE4  = 'Velocity'                                                            \n",
      "CUNIT4  = 'km/s    '                                                            \n",
      "CRVAL4  =                  0.0                                                  \n",
      "CDELT4  =                  1.0                                                  \n",
      "CRPIX4  =                350.5                                                  \n",
      "DIREC   = 'Radial  '                                                            \n",
      "SPECIES = 'C+ 1, C 1, C 2, C 3, CO 1, CO 2, CO 3, CO 4, CO 5, 13C+ 1, 13C 1, &' \n",
      "CONTINUE  '13C 2, 13CO 1, 13CO 2, 13CO 3, 13CO 4, 13CO 5, HCO+ 1'               \n"
     ]
    }
   ],
   "source": [
    "pprint(chmap[1].header)"
   ]
  },
  {
   "cell_type": "code",
   "execution_count": 4,
   "metadata": {},
   "outputs": [
    {
     "data": {
      "text/plain": [
       "(array([341, 341, 341, 341, 359, 359, 359, 359], dtype=int64),\n",
       " array([2, 2, 2, 2, 2, 2, 2, 2], dtype=int64),\n",
       " array([170, 171, 172, 173,   6,   7,   8,   9], dtype=int64))"
      ]
     },
     "execution_count": 4,
     "metadata": {},
     "output_type": "execute_result"
    }
   ],
   "source": [
    "np.where(chmap[1].data[:,:,:,0]>10**30)"
   ]
  },
  {
   "cell_type": "code",
   "execution_count": 9,
   "metadata": {},
   "outputs": [],
   "source": [
    "lon = np.linspace(chmap[1].header['CRVAL2'] - chmap[1].header['CDELT2']*chmap[1].header['CRPIX2'],\n",
    "                  chmap[1].header['CRVAL2'] + chmap[1].header['CDELT2']*chmap[1].header['CRPIX2'],\n",
    "                  num=chmap[1].header['NAXIS2'])"
   ]
  },
  {
   "cell_type": "code",
   "execution_count": 11,
   "metadata": {},
   "outputs": [
    {
     "data": {
      "text/plain": [
       "(2.8414642208742613, 2.9473572974285815)"
      ]
     },
     "execution_count": 11,
     "metadata": {},
     "output_type": "execute_result"
    }
   ],
   "source": [
    "lon[170],lon[173]"
   ]
  },
  {
   "cell_type": "markdown",
   "metadata": {},
   "source": [
    "### Theory"
   ]
  },
  {
   "cell_type": "markdown",
   "metadata": {},
   "source": [
    "In order to test the correct calculation of radiative transfer, the theory must first be covered. The radiative transfer (RT) equation,\n",
    "\n",
    "$$\n",
    "dI_\\nu = - I_\\nu \\kappa_\\nu ds + \\epsilon_\\nu ds\n",
    "$$\n",
    "\n",
    "must be integrated to calculate the observed intensity. Simple applications of RT assume constant $\\epsilon_\\nu$ and $\\kappa_\\nu$ between voxels to obtain the observed intensity. The benefit of `kosmatau3d` is the more accurate calculation of the RT equation. Here the emissivity and absorption terms, $\\epsilon_\\nu$ and $\\kappa_\\nu$, are still used, but the first-order linear terms, $\\Delta\\epsilon_\\nu = \\frac{\\epsilon_\\nu}{\\Delta s}$ and $\\Delta\\kappa_\\nu = \\frac{\\kappa_\\nu}{\\Delta s}$, also appear. Here $\\Delta s$ is the width of each voxel. This allows us to define specific cases for the way we integrate the RT equation:\n",
    "\n",
    " - *Basic*: $\\Delta\\kappa = 0$ and $| \\kappa \\Delta s | < 10^{-10}$\n",
    " - *Simple*: $\\kappa > 10^3 \\Delta \\kappa \\Delta s$\n",
    " - *Complex*: otherwise\n",
    "   - *method 1*: $\\Delta \\kappa > 0$\n",
    "   - *method 2*: $\\Delta \\kappa < 0$\n",
    "   \n",
    "The complex methods of calculating the RT equation are the most accurate, and should be used by default. The other methods are simplifications that can be made. The *Basic* case occurs when there is (mostly) no absorption. Since $\\kappa_\\nu = 0$ and $\\Delta\\kappa_\\nu = 0$, the RT equation becomes, \n",
    "\n",
    "$$\n",
    "\\int_0^{I_\\nu} dI_\\nu = \\int_0^{\\Delta s} \\left( \\epsilon_\\nu + \\Delta\\epsilon_\\nu s' \\right) ds', \\\\\n",
    "I_\\nu = \\epsilon_\\nu \\Delta s + \\frac{1}{2} \\Delta\\epsilon_\\nu \\left( \\Delta s \\right)^2 + I_{\\nu,0}.\n",
    "$$\n",
    "\n",
    "The *Simple* case occurs when there is constant absorption, so $\\Delta\\kappa_\\nu = 0$ and $\\kappa_\\nu \\neq 0$. This has a more-complex equation:\n",
    "\n",
    "$$\n",
    "\\int_0^{I_\\nu} dI_\\nu = e^{-\\kappa_\\nu \\Delta s} \\left( \\int_0^{\\Delta s} (\\epsilon_\\nu + \\Delta \\epsilon_\\nu s') e^{\\kappa_\\nu s'} ds' + I_0 \\right), \\\\\n",
    "I_\\nu = \\left( \\frac{\\epsilon_\\nu \\kappa_\\nu + \\Delta\\epsilon_\\nu (\\kappa_\\nu \\Delta s - 1)}{\\kappa_\\nu^2} \\right) - e^{-\\kappa_\\nu \\Delta s} \\left( \\frac{\\epsilon_\\nu \\kappa_\\nu - \\Delta\\epsilon_\\nu}{\\kappa_\\nu^2} \\right) + e^{-\\kappa_\\nu \\Delta s} I_{\\nu,0}.\n",
    "$$\n",
    "\n",
    "Finally, the *Complex* integration is the full unsimplified integration of the RT equation. The only distinction made is if $\\Delta\\kappa \\lessgtr 0$.\n",
    "\n",
    "$$\n",
    "I_\\nu = \\frac{\\Delta\\epsilon_\\nu}{\\Delta\\kappa_\\nu} \\left( 1 - e^{-\\kappa_\\nu \\Delta s - \\frac{1}{2} \\Delta\\kappa_\\nu (\\Delta s)^2} \\right) - \\frac{\\epsilon_\\nu \\Delta\\kappa_\\nu - \\kappa_\\nu \\Delta\\epsilon_\\nu}{\\Delta\\kappa_\\nu} \\sqrt{\\frac{\\pi}{2|\\Delta\\kappa_\\nu|}} \\left( e^{a_\\nu^2 - b_\\nu^2}\\tilde{E}(a_\\nu) - \\tilde{E}(b_\\nu) \\right) + I_{\\nu,0} e^{-\\kappa_\\nu \\Delta s - \\frac{1}{2} \\Delta\\kappa_\\nu (\\Delta s)^2}\n",
    "$$\n",
    "\n",
    "Here $a_\\nu=\\frac{\\kappa_\\nu}{\\sqrt{2\\Delta\\kappa_\\nu}}$ and $b_\\nu=\\frac{\\kappa_\\nu + \\Delta\\kappa_\\nu \\Delta s}{\\sqrt{2 \\Delta\\kappa_\\nu}}$, while $\\tilde{E}$ is an approximation of the imaginary error function. The distinction we make is how we treat the error function if $a,b$ are real or imaginary values."
   ]
  },
  {
   "cell_type": "markdown",
   "metadata": {},
   "source": [
    "### Calculation"
   ]
  },
  {
   "cell_type": "markdown",
   "metadata": {},
   "source": [
    "With the radiative transfer method focused on the offending sightlines, we can obtain these values used in the RT equation. Now it is simply a matter of re-evaluating manually to compare the results (and find any relevant error). Since our model of interest has voxels with size $s=400pc$, we have $\\Delta s = s [cm]$."
   ]
  },
  {
   "cell_type": "code",
   "execution_count": 4,
   "metadata": {},
   "outputs": [],
   "source": [
    "import numpy as np\n",
    "\n",
    "ds = 1.2276119715538785e20# 400 * 3.086*10**18\n",
    "\n",
    "test_intensity = np.load(r'c:\\users\\cyani\\KOSMA-tau^3\\tests\\full model\\I.npy')\n",
    "test_epsilon = np.load(r'c:\\users\\cyani\\KOSMA-tau^3\\tests\\full model\\e.npy')\n",
    "test_depsilon = np.load(r'c:\\users\\cyani\\KOSMA-tau^3\\tests\\full model\\de.npy')\n",
    "test_kappa = np.load(r'c:\\users\\cyani\\KOSMA-tau^3\\tests\\full model\\k.npy')\n",
    "test_dkappa = np.load(r'c:\\users\\cyani\\KOSMA-tau^3\\tests\\full model\\dk.npy')\n",
    "test_a = np.load(r'c:\\users\\cyani\\KOSMA-tau^3\\tests\\full model\\a.npy')\n",
    "test_b = np.load(r'c:\\users\\cyani\\KOSMA-tau^3\\tests\\full model\\b.npy')"
   ]
  },
  {
   "cell_type": "code",
   "execution_count": 5,
   "metadata": {},
   "outputs": [],
   "source": [
    "from scipy import interpolate\n",
    "\n",
    "GRIDPATH = r'c:\\users\\cyani\\KOSMA-tau^3\\kosmatau3d\\grid'\n",
    "\n",
    "def eTildeRealData(file='\\Ereal.dat'):\n",
    "    ereal = np.genfromtxt(GRIDPATH+file, names=['x', 'Ereal'])\n",
    "    return (ereal['x'], ereal['Ereal'])\n",
    "\n",
    "\n",
    "def eTildeImaginaryData(file='\\Eimag.dat'):\n",
    "    eimaginary = np.genfromtxt(GRIDPATH+file, names=['x', 'Eimaginary'])\n",
    "    return (eimaginary['x'], eimaginary['Eimaginary'])\n",
    "\n",
    "eTildeRealObs = eTildeRealData()\n",
    "eTildeImaginaryObs = eTildeImaginaryData()\n",
    "\n",
    "eTildeReal = interpolate.interp1d(eTildeRealObs[0], eTildeRealObs[1], kind='linear')\n",
    "eTildeImaginary = interpolate.interp1d(eTildeImaginaryObs[0], eTildeImaginaryObs[1], kind='linear')\n",
    "\n",
    "def Ereal(x, test=False):\n",
    "  \n",
    "    Er = 0\n",
    "    \n",
    "    if test is True:\n",
    "        Er = np.zeros(x.size)\n",
    "        il = x < 0.01\n",
    "        ig = (~il) & (x > 8.0)\n",
    "        ib = ~(ig | il)\n",
    "        if (il | ig | ib).all():\n",
    "            if il.any():\n",
    "                Er[il] = (2*x[il]/np.sqrt(np.pi))\n",
    "            if ig.any():\n",
    "                Er[ig] = (1/(np.sqrt(np.pi) * x[ig]))\n",
    "            if ib.any():\n",
    "                Er[ib] = eTildeReal(x[ib])\n",
    "        else:\n",
    "            print('Ereal() error: incorrect input')\n",
    "    \n",
    "    elif test is False:\n",
    "        if x < 0.01:\n",
    "            Er = (2*x/np.sqrt(np.pi))\n",
    "        elif x > 8.0:\n",
    "            Er = (1/(np.sqrt(np.pi) * x))\n",
    "        else:\n",
    "            Er = eTildeReal(x)\n",
    "          \n",
    "    return Er\n",
    "\n",
    "def Eimag(x, test=False):\n",
    "  \n",
    "    Ei = 0\n",
    "    \n",
    "    if test is True:\n",
    "        Ei = np.zeros(x.size)\n",
    "        im = x > 0\n",
    "        il = ~im & (abs(x) < 0.01)\n",
    "        ig = ~im & (abs(x) > 8.0)\n",
    "        ib = ~(ig | il | im)\n",
    "        if (im|il|ig|ib).all():\n",
    "            if im.any():\n",
    "                # MASER case: treat with linear approximation\n",
    "                Ei[im] = 1 + 2*np.abs(x[im])/np.sqrt(np.pi)\n",
    "            if il.any():\n",
    "                Ei[il] = (1 - 2*np.abs(x[il])/np.sqrt(np.pi))\n",
    "            if ig.any():\n",
    "                Ei[ig] = (1/(np.sqrt(np.pi) * np.abs(x[ig])))\n",
    "            if ib.any():\n",
    "                Ei[ib] = eTildeImaginary(np.abs(x[ib]))\n",
    "        else:\n",
    "            print('Eimag() error: incorrect input')\n",
    "            \n",
    "    elif test is False:\n",
    "        if x > 0:\n",
    "            # MASER case: treat with linear approximation\n",
    "            Ei = 1 + 2*np.abs(x)/np.sqrt(np.pi)\n",
    "        elif (x < 0) and (np.abs(x) < 0.01):\n",
    "            Ei = (1 - 2*np.abs(x)/np.sqrt(np.pi))\n",
    "        elif (x == (-1j*np.abs(x))) and (np.abs(x) > 8.0):\n",
    "            Ei = (1/(np.sqrt(np.pi) * np.abs(x)))\n",
    "        else:\n",
    "            Ei = eTildeImaginary(np.abs(x))\n",
    "          \n",
    "    return Ei\n",
    "\n",
    "def rt_basic(i, vel, spe, intensity, PRINT=0):\n",
    "    if PRINT > 0:\n",
    "        print(1)\n",
    "    return test_epsilon[i, spe]*ds \\\n",
    "           + 0.5*test_depsilon[i, spe]*ds**2. \\\n",
    "           + intensity\n",
    "\n",
    "def rt_simple(i, vel, spe, intensity, PRINT=0):\n",
    "    if PRINT > 0:\n",
    "        print(2)\n",
    "    return ((test_epsilon[i, spe]*test_kappa[i, spe] + test_depsilon[i, spe]*(test_kappa[i, spe]*ds-1.))\n",
    "            /test_kappa[i, spe]**2.) \\\n",
    "           - np.exp(-test_kappa[i, spe]*ds) \\\n",
    "           * ((test_epsilon[i, spe]*test_kappa[i, spe] \n",
    "               - test_depsilon[i, spe])\n",
    "              /test_kappa[i, spe]**2.) \\\n",
    "           + np.exp(-test_kappa[i, spe]*ds)*intensity\n",
    "\n",
    "def rt_complex1(i, vel, spe, intensity, test=False, PRINT=0):\n",
    "    if PRINT > 0:\n",
    "        print(3)\n",
    "    return (test_depsilon[i, spe]/test_dkappa[i, spe]\n",
    "            * (1-np.exp(-test_kappa[i, spe]*ds - 0.5*test_dkappa[i, spe]*ds**2.))\n",
    "            - (test_epsilon[i, spe]*test_dkappa[i, spe] - test_kappa[i, spe]*test_depsilon[i, spe])/test_dkappa[i, spe]\n",
    "            * np.sqrt(np.pi/2./np.abs(test_dkappa[i, spe]))\n",
    "            * (np.exp(test_a[i, spe]**2.-test_b[i, spe]**2.).real*Ereal(test_a[i, spe].real, test=test) \n",
    "                      - Ereal(test_b[i, spe].real, test=test)) \n",
    "            + intensity*np.exp(-test_kappa[i, spe]*ds - 0.5*test_dkappa[i, spe]*ds**2.))\n",
    "\n",
    "def rt_complex2(i, vel, spe, intensity, test=False, PRINT=0):\n",
    "    if PRINT > 0:\n",
    "        print(4)\n",
    "    return (test_depsilon[i, spe]/test_dkappa[i, spe]\n",
    "            * (1-np.exp(-test_kappa[i, spe]*ds - 0.5*test_dkappa[i, spe]*ds**2.)) \n",
    "            - (test_epsilon[i, spe]*test_dkappa[i, spe] - test_kappa[i, spe]*test_depsilon[i, spe])/test_dkappa[i, spe]\n",
    "            * np.sqrt(np.pi/2./np.abs(test_dkappa[i, spe]))\n",
    "            * (np.exp(test_a[i, spe]**2.-test_b[i, spe]**2).real*Eimag(test_a[i, spe].imag, test=test) \n",
    "                      - Eimag(test_b[i, spe].imag, test=test)) \n",
    "            + intensity*np.exp(-test_kappa[i, spe]*ds - 0.5*test_dkappa[i, spe]*ds**2.))\n"
   ]
  },
  {
   "cell_type": "code",
   "execution_count": 6,
   "metadata": {},
   "outputs": [
    {
     "name": "stdout",
     "output_type": "stream",
     "text": [
      "\n",
      " Old intensity: [-1.41568931]\n",
      "Test intensity: [-1.41568931]\n"
     ]
    }
   ],
   "source": [
    "spe = 'all'\n",
    "vel = 0\n",
    "test = False\n",
    "PRINT = 0\n",
    "\n",
    "if type(spe) == int:\n",
    "    \n",
    "    if PRINT > 1:\n",
    "        print('single species')\n",
    "    \n",
    "    intensity = 0\n",
    "\n",
    "elif spe == 'all':\n",
    "    \n",
    "    if PRINT > 1:\n",
    "        print('all species')\n",
    "    \n",
    "    intensity = np.zeros(test_depsilon.shape[1])\n",
    "\n",
    "for i in range(test_depsilon.shape[0]):\n",
    "  \n",
    "    if type(spe) == int:\n",
    "\n",
    "        k0 = np.asarray((test_dkappa[i, spe] == 0) and (np.abs(test_kappa[i, spe]*ds) < 10**-10))\n",
    "        kg = np.asarray((test_dkappa[i, spe] == 0) or (np.abs(test_kappa[i, spe]) > np.abs(10**3*test_dkappa[i, spe]*ds)))\n",
    "        keg = np.asarray(test_dkappa[i, spe] > 0)\n",
    "        kel = np.asarray(test_dkappa[i, spe] < 0)\n",
    "    \n",
    "    elif spe == 'all':\n",
    "\n",
    "        k0 = np.asarray((test_dkappa[i, :] == 0) & (np.abs(test_kappa[i, :]*ds) < 10**-10))\n",
    "    #     kg = np.asarray(~k0 & ((test_dkappa[i, vel, :] == 0) | (np.abs(test_kappa[i, vel, :]) > np.abs(10**3*test_dkappa[i, vel, :]*ds))))\n",
    "        kg = np.asarray(~k0 & ((np.abs(test_kappa[i, :]) > np.abs(10**3*test_dkappa[i, :]*ds))))\n",
    "        keg = np.asarray(~k0 & ~kg & (test_dkappa[i, :] > 0))\n",
    "        kel = np.asarray(~k0 & ~kg & (test_dkappa[i, :] < 0))\n",
    "    \n",
    "    else:\n",
    "    \n",
    "        print('species not recognised')\n",
    "        exit()\n",
    "    \n",
    "#   np.set_printoptions(precision=16)\n",
    "#     print(intensity[0])\n",
    "  \n",
    "    if k0.any():\n",
    "    \n",
    "        if PRINT > 0:\n",
    "#       print(1)\n",
    "            if PRINT == 3:\n",
    "                print('Intensity:', intensity)\n",
    "                print('epsilon:', test_epsilon[i], test_depsilon[i])\n",
    "                print('kappa:', test_kappa[i], test_dkappa[i])\n",
    "        \n",
    "        if type(spe) == int:\n",
    "            intensity = rt_basic(i, vel, spe, intensity, PRINT=PRINT)\n",
    "      \n",
    "        elif spe == 'all':\n",
    "            intensity[k0] = rt_basic(i, vel, k0, intensity[k0], PRINT=PRINT)\n",
    "      \n",
    "    elif kg.any():\n",
    "\n",
    "        if PRINT > 0:\n",
    "    #       print(2)\n",
    "            if PRINT == 3:\n",
    "                print('Intensity:', intensity)\n",
    "                print('epsilon:', test_epsilon[i], test_depsilon[i])\n",
    "                print('kappa:', test_kappa[i], test_dkappa[i])\n",
    "                print(10**3*test_dkappa[i]*ds)\n",
    "\n",
    "        if type(spe) == int:\n",
    "            intensity = rt_simple(i, vel, spe, intensity, PRINT=PRINT)\n",
    "\n",
    "        elif spe == 'all':\n",
    "            intensity[kg] = rt_simple(i, vel, kg, intensity[kg], PRINT=PRINT)\n",
    "      \n",
    "    else:\n",
    "      # It is a bit redundent to have this else statement containing another if statement, \n",
    "      #  but this is done for clarity of the integration case.\n",
    "      if keg.any():\n",
    "\n",
    "          if PRINT > 0:\n",
    "    #         print(3)\n",
    "              if PRINT == 3:\n",
    "                  print('Intensity:', intensity)\n",
    "                  print('epsilon:', test_epsilon[i], test_depsilon[i])\n",
    "                  print('kappa:', test_kappa[i], test_dkappa[i])\n",
    "\n",
    "          if type(spe) == int:\n",
    "              intensity = rt_complex1(i, vel, spe, intensity, test=False, PRINT=PRINT)\n",
    "\n",
    "          elif spe == 'all':\n",
    "              intensity[keg] = rt_complex1(i, vel, keg, intensity[keg], test=True, PRINT=PRINT)\n",
    "\n",
    "      elif kel.any():\n",
    "\n",
    "          if PRINT > 0:\n",
    "      #         print(4)\n",
    "              if PRINT == 3:\n",
    "                  print('Intensity:', intensity)\n",
    "                  print('epsilon:', test_epsilon[i], test_depsilon[i])\n",
    "                  print('kappa:', test_kappa[i], test_dkappa[i])\n",
    "\n",
    "          if type(spe) == int:\n",
    "              intensity = rt_complex2(i, vel, spe, intensity, test=False, PRINT=PRINT)\n",
    "\n",
    "          elif spe == 'all':\n",
    "              intensity[kel] = rt_complex2(i, vel, kel, intensity[kel], test=True, PRINT=PRINT)\n",
    "\n",
    "      else:\n",
    "\n",
    "          print('Error!')\n",
    "\n",
    "if type(spe) == int:\n",
    "    print('\\n Old intensity:', test_intensity[spe])\n",
    "elif spe == 'all':\n",
    "    print('\\n Old intensity:', test_intensity)\n",
    "print('Test intensity:', intensity)"
   ]
  },
  {
   "cell_type": "code",
   "execution_count": 19,
   "metadata": {},
   "outputs": [
    {
     "data": {
      "text/plain": [
       "array([ True, False])"
      ]
     },
     "execution_count": 19,
     "metadata": {},
     "output_type": "execute_result"
    }
   ],
   "source": [
    "a = ~ np.asarray([True, False])"
   ]
  },
  {
   "cell_type": "code",
   "execution_count": 73,
   "metadata": {},
   "outputs": [
    {
     "data": {
      "text/plain": [
       "array([ True,  True,  True,  True])"
      ]
     },
     "execution_count": 73,
     "metadata": {},
     "output_type": "execute_result"
    }
   ],
   "source": [
    "test_epsilon[300,0] == test_epsilon[300,:]"
   ]
  },
  {
   "cell_type": "code",
   "execution_count": 30,
   "metadata": {},
   "outputs": [
    {
     "data": {
      "text/plain": [
       "array([-1.00452326e+00, -4.63788106e-02, -2.19011849e-02, -1.35091614e-01,\n",
       "       -1.61151223e-01, -8.17112877e-02, -3.11454402e-02, -8.40420609e-04,\n",
       "       -2.58992159e-04, -3.37617615e-02, -2.17602348e-03])"
      ]
     },
     "execution_count": 30,
     "metadata": {},
     "output_type": "execute_result"
    }
   ],
   "source": [
    "test_intensity"
   ]
  },
  {
   "cell_type": "code",
   "execution_count": 63,
   "metadata": {},
   "outputs": [
    {
     "name": "stdout",
     "output_type": "stream",
     "text": [
      "[False False  True  True False  True  True  True  True False]\n",
      "[False False  True False False False  True False False False]\n",
      "[ True  True False False  True False False False False  True]\n"
     ]
    }
   ],
   "source": [
    "a = np.random.rand(10)\n",
    "b = np.random.rand(10)\n",
    "print(a > 0.5)\n",
    "print(b < 0.2)\n",
    "print(~(a>0.5) & ~(b<0.2))"
   ]
  }
 ],
 "metadata": {
  "kernelspec": {
   "display_name": "Python 3",
   "language": "python",
   "name": "python3"
  },
  "language_info": {
   "codemirror_mode": {
    "name": "ipython",
    "version": 3
   },
   "file_extension": ".py",
   "mimetype": "text/x-python",
   "name": "python",
   "nbconvert_exporter": "python",
   "pygments_lexer": "ipython3",
   "version": "3.7.9"
  }
 },
 "nbformat": 4,
 "nbformat_minor": 4
}
