{
 "cells": [
  {
   "cell_type": "code",
   "execution_count": 4,
   "metadata": {},
   "outputs": [],
   "source": [
    "import numpy as np\n",
    "from astropy.io import fits\n",
    "from pprint import pprint"
   ]
  },
  {
   "cell_type": "code",
   "execution_count": 6,
   "metadata": {},
   "outputs": [
    {
     "name": "stdout",
     "output_type": "stream",
     "text": [
      "SIMPLE  =                    T  / Standard FITS format                          \n",
      "BITPIX  =                   16  / Bits per pixel                                \n",
      "NAXIS   =                    2  / Number of axes                                \n",
      "NAXIS1  =                 2961  / Number pixels on axis 1                       \n",
      "NAXIS2  =                  561  / Number pixels on axis 2                       \n",
      "CTYPE1  = 'GLON-CAR'            / axis 1 coord type                             \n",
      "CRVAL1  =         0.000000E+00 / coord value at CRPIX1                          \n",
      "CDELT1  =        -1.250000E-01 / pixel spacing for axis 1                       \n",
      "CRPIX1  =          1481.000000  / ref pixel for axis 1                          \n",
      "CTYPE2  = 'GLAT-CAR'            / axis 2 coord type                             \n",
      "CRVAL2  =         0.000000E+00 / coord value at CRPIX2                          \n",
      "CDELT2  =         1.250000E-01 / pixel spacing for axis 2                       \n",
      "CRPIX2  =           281.000000  / ref pixel for axis 2                          \n",
      "BSCALE  =         2.610167E-02 / real = int*bscale + bzero                      \n",
      "BZERO   =         8.321995E+02                                                  \n",
      "DATAMIN =        -6.326761E+00 / minimum real value                             \n",
      "DATAMAX =         1.670731E+03 / maximum real value                             \n",
      "BLANK   =               -32768  / missing data flag                             \n",
      "COMMENT PARENT DISK FILE: Wco_DHT2001.fits                                      \n",
      "COMMENT temp  =colscales( CHANGE-ME , -185.0000, 185.0000)                      \n",
      "COMMENT coords=rowscales( temp, 35.0000, -35.0000)                              \n",
      "COMMENT Written by MacFITS                                                      \n",
      "COMMENT Created: Thursday, 23 January, 2003  08:44:07 AM                        \n",
      "COMMENT Whole-Galaxy velocity-integrated CO map (Fig2) from:                    \n",
      "COMMENT The Milky Way in Molecular Clouds: A New Complete CO Survey             \n",
      "COMMENT T.M. Dame, Dap Hartmann, & P. Thaddeus                                  \n",
      "COMMENT ApJ, 547, 792.                                                          \n",
      "COMMENT WARNING: Both the angular resolution and the sensitivity varies         \n",
      "COMMENT from region to region in this map: see Fig. 1 and Table 1 from          \n",
      "COMMENT the paper above.  Moment masking and clipping were used as              \n",
      "COMMENT necessary to keep the noise in the map below ~1.5 K km/s.               \n",
      "COMMENT See Section 2.2 for details.                                            \n",
      "COMMENT For small-scale studies needing accurate column densities and           \n",
      "COMMENT uncertainties, you might resort to one of the individual CO             \n",
      "COMMENT surveys listed in Table 1 of the paper.                                 \n"
     ]
    },
    {
     "name": "stderr",
     "output_type": "stream",
     "text": [
      "WARNING: VerifyWarning: Verification reported errors: [astropy.io.fits.verify]\n",
      "WARNING: VerifyWarning: Card 'CRVAL1' is not FITS standard (invalid value string: '0.000000e+00  / coord value at CRPIX1').  Fixed 'CRVAL1' card to meet the FITS standard. [astropy.io.fits.verify]\n",
      "WARNING: VerifyWarning: Note: astropy.io.fits uses zero-based indexing.\n",
      " [astropy.io.fits.verify]\n",
      "WARNING: VerifyWarning: Card 'CDELT1' is not FITS standard (invalid value string: '-1.250000e-01  / pixel spacing for axis 1').  Fixed 'CDELT1' card to meet the FITS standard. [astropy.io.fits.verify]\n",
      "WARNING: VerifyWarning: Card 'CRVAL2' is not FITS standard (invalid value string: '0.000000e+00  / coord value at CRPIX2').  Fixed 'CRVAL2' card to meet the FITS standard. [astropy.io.fits.verify]\n",
      "WARNING: VerifyWarning: Card 'CDELT2' is not FITS standard (invalid value string: '1.250000e-01  / pixel spacing for axis 2').  Fixed 'CDELT2' card to meet the FITS standard. [astropy.io.fits.verify]\n",
      "WARNING: VerifyWarning: Card 'BSCALE' is not FITS standard (invalid value string: '2.610167e-02  / real = int*bscale + bzero').  Fixed 'BSCALE' card to meet the FITS standard. [astropy.io.fits.verify]\n",
      "WARNING: VerifyWarning: Card 'BZERO' is not FITS standard (invalid value string: '8.321995e+02  /').  Fixed 'BZERO' card to meet the FITS standard. [astropy.io.fits.verify]\n",
      "WARNING: VerifyWarning: Card 'DATAMIN' is not FITS standard (invalid value string: '-6.326761e+00  / minimum real value').  Fixed 'DATAMIN' card to meet the FITS standard. [astropy.io.fits.verify]\n",
      "WARNING: VerifyWarning: Card 'DATAMAX' is not FITS standard (invalid value string: '1.670731e+03  / maximum real value').  Fixed 'DATAMAX' card to meet the FITS standard. [astropy.io.fits.verify]\n"
     ]
    }
   ],
   "source": [
    "wco = fits.open(r'e:\\drive\\Koeln\\COBE__data\\PVmap\\fit_files\\Wco_DHT2001.fits')\n",
    "pprint(wco[0].header)"
   ]
  },
  {
   "cell_type": "code",
   "execution_count": 11,
   "metadata": {},
   "outputs": [
    {
     "name": "stdout",
     "output_type": "stream",
     "text": [
      "SIMPLE  =                    T  / Standard FITS format                          \n",
      "BITPIX  =                   16  / Bits per pixel                                \n",
      "NAXIS   =                    3  / Number of axes                                \n",
      "NAXIS1  =                  493  / Number pixels on axis 1                       \n",
      "NAXIS2  =                 2881  / Number pixels on axis 2                       \n",
      "NAXIS3  =                  481  / Number pixels on axis 3                       \n",
      "CTYPE1  = 'VELO-LSR'            / axis 1 coord type                             \n",
      "CRVAL1  =        -3.198000E+02  / coord value at CRPIX1                         \n",
      "CDELT1  =         1.300000E+00  / linear pixel spacing axis 1                   \n",
      "CRPIX1  =             1.000000  / ref pixel for axis 1                          \n",
      "CTYPE2  = 'GLON-CAR'            / axis 2 coord type                             \n",
      "CRVAL2  =         1.800000E+02  / coord value at CRPIX2                         \n",
      "CDELT2  =        -1.250000E-01  / linear pixel spacing axis 2                   \n",
      "CRPIX2  =             1.000000  / ref pixel for axis 2                          \n",
      "CTYPE3  = 'GLAT-CAR'            / axis 3 coord type                             \n",
      "CRVAL3  =         0.000000E+00  / coord value at CRPIX3                         \n",
      "CDELT3  =         1.250000E-01  / linear pixel spacing axis 3                   \n",
      "CRPIX3  =           241.000000  / ref pixel for axis 3                          \n",
      "BSCALE  =         5.030823E-04  / real = int*bscale + bzero                     \n",
      "BZERO   =         1.449984E+01  /                                               \n",
      "DATAMIN =        -1.200000E+00  / minimum real value                            \n",
      "DATAMAX =         3.020000E+01  / maximum real value                            \n",
      "BLANK   =               -32768  / missing data flag                             \n",
      "BUNIT   = 'K'                   / main beam brightness temp                     \n",
      "COMMENT Spectra linearly interp'ed for <= 2 missing channels                    \n",
      "COMMENT lb image slices interp'ed for single missing pts                        \n",
      "COMMENT ----------------------------------------                                \n",
      "COMMENT |    A composite of surveys from       |                                \n",
      "COMMENT |  Dame, Hartmann, & Thaddeus (2001)   |                                \n",
      "COMMENT |           ApJ, 547, 792              |                                \n",
      "COMMENT ----------------------------------------                                \n",
      "COMMENT Axis units: v(km/s) x LII(deg) x BII(deg)                               \n",
      "COMMENT Contact: Tom Dame (tdame@cfa.harvard.edu)                               \n",
      "COMMENT Created: Thu Jun 24 14:30:12 2010                                       \n"
     ]
    },
    {
     "data": {
      "text/plain": [
       "626332143"
      ]
     },
     "execution_count": 11,
     "metadata": {},
     "output_type": "execute_result"
    }
   ],
   "source": [
    "cogal = fits.open(r'e:\\drive\\Koeln\\COBE__data\\PVmap\\fit_files\\COGAL_all_interp_all.fits')\n",
    "pprint(cogal[0].header)\n",
    "np.where(np.isnan(cogal[0].data))[0].size"
   ]
  },
  {
   "cell_type": "code",
   "execution_count": 8,
   "metadata": {
    "collapsed": true,
    "jupyter": {
     "outputs_hidden": true
    }
   },
   "outputs": [
    {
     "name": "stdout",
     "output_type": "stream",
     "text": [
      "SIMPLE  =                    T  / Standard FITS format                          \n",
      "BITPIX  =                   16  / Bits per pixel                                \n",
      "NAXIS   =                    3  / Number of axes                                \n",
      "NAXIS1  =                  493  / Number pixels on axis 1                       \n",
      "NAXIS2  =                 2881  / Number pixels on axis 2                       \n",
      "NAXIS3  =                   81  / Number pixels on axis 3                       \n",
      "CTYPE1  = 'VELO-LSR'            / axis 1 coord type                             \n",
      "CRVAL1  =        -3.198000E+02  / coord value at CRPIX1                         \n",
      "CDELT1  =         1.300000E+00  / linear pixel spacing axis 1                   \n",
      "CRPIX1  =             1.000000  / ref pixel for axis 1                          \n",
      "CTYPE2  = 'GLON-CAR'            / axis 2 coord type                             \n",
      "CRVAL2  =         1.800000E+02  / coord value at CRPIX2                         \n",
      "CDELT2  =        -1.250000E-01  / linear pixel spacing axis 2                   \n",
      "CRPIX2  =             1.000000  / ref pixel for axis 2                          \n",
      "CTYPE3  = 'GLAT-CAR'            / axis 3 coord type                             \n",
      "CRVAL3  =         0.000000E+00  / coord value at CRPIX3                         \n",
      "CDELT3  =         1.250000E-01  / linear pixel spacing axis 3                   \n",
      "CRPIX3  =            41.000000  / ref pixel for axis 3                          \n",
      "BSCALE  =         3.364563E-04  / real = int*bscale + bzero                     \n",
      "BZERO   =         9.499844E+00  /                                               \n",
      "DATAMIN =        -1.000000E+00  / minimum real value                            \n",
      "DATAMAX =         2.000000E+01  / maximum real value                            \n",
      "BLANK   =               -32768  / missing data flag                             \n",
      "BUNIT   = 'K'                   / main beam brightness temp                     \n",
      "COMMENT Spectra linearly interp'ed for <= 2 missing channels                    \n",
      "COMMENT lb image slices interp'ed for single missing pts                        \n",
      "COMMENT ----------------------------------------                                \n",
      "COMMENT |    A composite of surveys from       |                                \n",
      "COMMENT |  Dame, Hartmann, & Thaddeus (2001)   |                                \n",
      "COMMENT |           ApJ, 547, 792              |                                \n",
      "COMMENT ----------------------------------------                                \n",
      "COMMENT Axis units: v(km/s) x LII(deg) x BII(deg)                               \n",
      "COMMENT Contact: Tom Dame (tdame@cfa.harvard.edu)                               \n",
      "COMMENT Created: Thu Jun 24 14:35:13 2010                                       \n"
     ]
    }
   ],
   "source": [
    "cogal = fits.open(r'e:\\drive\\Koeln\\COBE__data\\PVmap\\fit_files\\COGAL_deep_interp_5degree.fits')\n",
    "pprint(cogal[0].header)"
   ]
  },
  {
   "cell_type": "code",
   "execution_count": null,
   "metadata": {},
   "outputs": [],
   "source": [
    "from scipy.interpolate import interp2d\n",
    "from copy import copy\n",
    "\n",
    "def model_selection(path=r'c:\\users\\cyani\\projects\\pdr\\KT3_history\\MilkyWay', resolution=400, \n",
    "                    f_clump=[0.5, 1.0, 2.0, 4.0], f_interclump=[1.0, 2.0], \n",
    "                    f_density=[0.5, 1.0, 2.0, 4.0], f_uv=[10, 100], transition='CO 1'):\n",
    "    # This function will compare the Milky Way models to the position-velocity observations depending on the\n",
    "    #  dataset. It will utilise the sightlines of the dataset.\n",
    "    # Currently, this will look solely at the galactic plane.\n",
    "    \n",
    "    if transition == 'CO 1':\n",
    "        obs = fits.open('/media/yanitski/4,0 TB Hard Disk/yanitski/projects/pdr/observational_data/MilkyWay/COGAL/COGAL_all_interp_all.fits')\n",
    "        obs_data = obs[0].data.sum(0)\n",
    "        lon = np.linspace(obs[0].header['CRVAL2']-obs[0].header['CDELT2']*obs[0].header['CRPIX2'],\n",
    "                          obs[0].header['CRVAL2']+obs[0].header['CDELT2']*obs[0].header['CRPIX2'],\n",
    "                          num=obs[0].header['NAXIS2'])\n",
    "        vel = np.linspace(obs[0].header['CRVAL1']-obs[0].header['CDELT1']*obs[0].header['CRPIX1'],\n",
    "                          obs[0].header['CRVAL1']+obs[0].header['CDELT1']*obs[0].header['CRPIX1'],\n",
    "                          num=obs[0].header['NAXIS1'])\n",
    "        obs_error = 0.5\n",
    "        \n",
    "    \n",
    "    elif transition == '13CO 2':\n",
    "        print('This transition usiing SEDIGISM is still pending...')\n",
    "#         obs = fits.open(r'e:\\drive\\Koeln\\COBE__data\\PVmap\\fit_files\\COGAL_all_interp_all.fits')\n",
    "    \n",
    "    chi2_grid = []\n",
    "    likelihood_grid = []\n",
    "    \n",
    "    # Loop through the different models\n",
    "    for fcl in f_clump:\n",
    "        for ficl in f_interclump:\n",
    "            for fden in f_density:\n",
    "                for fuv in f_uv:\n",
    "                    \n",
    "                    # Open the model\n",
    "                    dir_model = '/r{}_cm{}-{}_d{}_uv{}/channel_intensity'.format(resolution, fcl, ficl, fden, fuv)\n",
    "                    model = fits.open(path+dir_model)\n",
    "                    \n",
    "                    # Locate the species transition\n",
    "                    i_spec = np.where(model[1].header['species'].split(', ') == transition)[0][0]\n",
    "                    \n",
    "                    # Locate the galactic disk\n",
    "                    if model[1].header['CRPIX3'] == 0:\n",
    "                        i_lat = np.floor(model[1].header['NAXIS3']/2).astype(np.int)\n",
    "                    else:\n",
    "                        lat = np.linspace(model[1].header['CRVAL3']-model[1].header['CDELT3']*model[1].header['CRPIX3'],\n",
    "                                          model[1].header['CRVAL3']+model[1].header['CDELT3']*model[1].header['CRPIX3'],\n",
    "                                          num=model[1].header['NAXIS3'])\n",
    "                        i_lat = np.where(np.abs(lat-0) == np.abs(lat-0).min())[0][0]\n",
    "                    \n",
    "                    # Create arrays for the longitude and velocity axes\n",
    "                    lon_model = np.linspace(model[1].header['CRVAL2']-model[1].header['CDELT2']*model[1].header['CRPIX2'],\n",
    "                                            model[1].header['CRVAL2']+model[1].header['CDELT2']*model[1].header['CRPIX2'],\n",
    "                                            num=model[1].header['NAXIS2'])\n",
    "                    vel_model = np.linspace(model[1].header['CRVAL4']-model[1].header['CDELT4']*model[1].header['CRPIX4'],\n",
    "                                            model[1].header['CRVAL4']+model[1].header['CDELT4']*model[1].header['CRPIX4'],\n",
    "                                            num=model[1].header['NAXIS4'])\n",
    "                    \n",
    "                    # Interpolate at the observational axes\n",
    "                    f_model_interp = interp2d(vel_model, lon_model, model[1].data[:,i_lat,:,i_spec], kind='cubic')\n",
    "                    model_interp = f_model_interp(vel, lon)\n",
    "                    \n",
    "                    # Calculate the chi**2 and overall likelihood\n",
    "                    chi2 = (obs_data*model_interp)**2/obs_error**2\n",
    "                    likelihood = np.exp(-chi2-2)/np.sqrt(2*np.pi*obs_error)\n",
    "                    \n",
    "                    chi2_grid.append(chi2.prod())\n",
    "                    likelihood_grid.append(likelihood.prod())"
   ]
  }
 ],
 "metadata": {
  "kernelspec": {
   "display_name": "Python 3",
   "language": "python",
   "name": "python3"
  },
  "language_info": {
   "codemirror_mode": {
    "name": "ipython",
    "version": 3
   },
   "file_extension": ".py",
   "mimetype": "text/x-python",
   "name": "python",
   "nbconvert_exporter": "python",
   "pygments_lexer": "ipython3",
   "version": "3.8.5"
  }
 },
 "nbformat": 4,
 "nbformat_minor": 4
}
