{
 "cells": [
  {
   "cell_type": "markdown",
   "metadata": {
    "jupyter": {
     "outputs_hidden": true
    },
    "slideshow": {
     "slide_type": "slide"
    }
   },
   "source": [
    "# Model Selection"
   ]
  },
  {
   "cell_type": "markdown",
   "metadata": {},
   "source": [
    "This notebook shows how one can use the `comparison` submodule of `kosmatau3d` to compare the models with observations.\n",
    "\n",
    "***Note:*** *For now the observations must have the same gridding in longitude.*"
   ]
  },
  {
   "cell_type": "code",
   "execution_count": null,
   "metadata": {},
   "outputs": [],
   "source": [
    "import numpy as np\n",
    "import matplotlib.pyplot as plt\n",
    "\n",
    "from kosmatau3d import comparison as comp"
   ]
  },
  {
   "cell_type": "code",
   "execution_count": null,
   "metadata": {},
   "outputs": [],
   "source": [
    "# Path to observational data survey folders\n",
    "path = '/mnt/hpc_backup/yanitski/projects/pdr/observational_data/MilkyWay/'\n",
    "\n",
    "# target header and kernel for regridding\n",
    "target_header = {\n",
    "    'NAXIS': 3,\n",
    "    'NAXIS1': 361,\n",
    "    'NAXIS2': 181,\n",
    "    'NAXIS3': 701,\n",
    "    'CTYPE1': 'GLON-CAR',\n",
    "    'CRVAL1': 0,\n",
    "    'CDELT1': 1,\n",
    "    'CRPIX1': 181,\n",
    "    'CTYPE2': 'GLAT-CAR',\n",
    "    'CRVAL2': 0,\n",
    "    'CDELT2': 1,\n",
    "    'CRPIX2': 91,\n",
    "    'CTYPE3': 'VELO',\n",
    "    'CRVAL3': 0,\n",
    "    'CDELT3': 1,\n",
    "    'CRPIX3': 351,\n",
    "}\n",
    "kernel_sigma = 0.5\n",
    "target_kernel = (\n",
    "    'gauss1d',\n",
    "    (kernel_sigma,),\n",
    "    kernel_sigma*3,\n",
    "    kernel_sigma/2,\n",
    ")\n",
    "\n",
    "# List of survey missions to work on\n",
    "mission = ['Mopra']#['COGAL', 'SEDIGISM', 'Mopra', 'ThrUMMS']"
   ]
  },
  {
   "cell_type": "markdown",
   "metadata": {},
   "source": [
    "### regrid surveys"
   ]
  },
  {
   "cell_type": "code",
   "execution_count": null,
   "metadata": {},
   "outputs": [],
   "source": [
    "comp.regrid_observations(\n",
    "    path='/mnt/hpc_backup/yanitski/projects/pdr/observational_data/MilkyWay/',\n",
    "    mission='COGAL',\n",
    "    target_header=target_header,\n",
    "    target_kernel=target_kernel,\n",
    ")"
   ]
  },
  {
   "cell_type": "markdown",
   "metadata": {},
   "source": [
    "### view survey"
   ]
  },
  {
   "cell_type": "code",
   "execution_count": null,
   "metadata": {},
   "outputs": [],
   "source": [
    "comp.view_observation(\n",
    "    path='/mnt/hpc_backup/yanitski/projects/pdr/observational_data/MilkyWay/',\n",
    "    mission='COGAL',\n",
    "    regridded_path='/regridded/temp/',\n",
    "    # regridded_path='/regridded/',\n",
    "    list_observations=False,\n",
    "    # regridded_path='',\n",
    "    # filename='G300.5-12CO_Vfull_regridded.fits',\n",
    "    #FIRAS HIGH: CO 6, C 2, C+ 1, O 1\n",
    "    #FIRAS HRES:\n",
    "    # filename='FIRAS_LINE_EMISSION_MAP_HIGH_regridded.fits',\n",
    "    # filename='dust_COM_CompMap_dust-commander_0256_R2.00.fits',\n",
    "    # filename='co1_test_regridded_error.fits',\n",
    "    filename='co1_test_regridded.fits',\n",
    "    # filename='13co2_test_regridded_error.fits',\n",
    "    # filename='13co2_test_regridded.fits',\n",
    "\n",
    "    # filename='G001_13CO21_Tmb_DR1.fits',\n",
    "    transition='CO 1',\n",
    "    plot='integrated',\n",
    "    integrate_b=[89, 93],\n",
    "    # i_lat=91,\n",
    "    # ylabel=r'$I_{CII}$ $(nW \\ m^{-2} \\ sr^{-1})$',\n",
    "    clabel=r'$\\int T_{B}db$ $(K^\\circ)$',\n",
    "    # title=r'COGAL CO $1 \\rightarrow 0$',\n",
    "    scale=0.5,\n",
    "    logval=False,\n",
    "    vmin=-2,\n",
    "    vmax=100,\n",
    "    # xlim=[60, 180],\n",
    "    # ylim=[-200, 200],\n",
    "    # cmap='gist_ncar',\n",
    "    cmap='jet',\n",
    "    save=False,\n",
    ")"
   ]
  },
  {
   "cell_type": "markdown",
   "metadata": {},
   "source": [
    "### compare to models"
   ]
  },
  {
   "cell_type": "code",
   "execution_count": null,
   "metadata": {},
   "outputs": [],
   "source": [
    "# Available directories:\n",
    "# - '/r400_cm{}-{}_d{}_uv{:.0f}/'\n",
    "#   [[0.25, 0.5, 1.0, 2.0, 4.0], [1.0, 2.0], [0.25, 0.5, 1.0, 2.0, 4.0], [10, 100]]\n",
    "# - '/r400_fcm{}_ficm{}/'\n",
    "#   [[0.25, 0.5, 1.0, 2.0, 4.0], [0.25, 0.5, 1.0, 2.0, 4.0]]\n",
    "# - '/r400_fcm{}_cm{}/'\n",
    "#   [[0.25, 0.5, 1.0, 2.0, 4.0], ['0_2', '0_3', '1_2', '1_3']]\n",
    "# - '/r400_ficm{}_icm{}/'\n",
    "#   [[0.25, 0.5, 1.0, 2.0, 4.0], ['-2', '-2_-1', '-3_-1', '-3_-2']]\n",
    "# - '/r400_rcmz{:.0f}_uv{}/'\n",
    "#   [np.arange(0, 3001, 200), [10, 50, 100]]\n",
    "comp.model_selection(\n",
    "    mission=['COBE-FIRAS'],\n",
    "    lat=None,\n",
    "    PLOT=False,\n",
    "    debug=False,\n",
    "    cmap='viridis',\n",
    "    model_dir='/r400_rcmz{:.0f}_uv{}/',\n",
    "    model_param=[np.arange(0, 3001, 200), [10, 50, 100]],\n",
    "    PRINT=True,\n",
    "    )"
   ]
  },
  {
   "cell_type": "markdown",
   "metadata": {},
   "source": [
    "### plot comparison results"
   ]
  },
  {
   "cell_type": "code",
   "execution_count": null,
   "metadata": {},
   "outputs": [],
   "source": [
    "# This should be set to used to create plots of the model comparison for\n",
    "#  various 2-dimensional grids. For grids with more parameters, the other\n",
    "#  parameters will be identified via subplots.\n",
    "plot_comparison(\n",
    "    file_format='r400_rcmz{:.0f}_uv{}',\n",
    "    missions=['COGAL'],\n",
    "    model_param=[np.arange(0, 3001, 200), [10, 50, 100]],\n",
    "    xlabel=r'$R_{CMZ}$',\n",
    "    ylabel=r'$f_{FUV}$',\n",
    "    clabel=r'$log_{10}(\\mathcal{L})$'\n",
    ")"
   ]
  }
 ],
 "metadata": {
  "kernelspec": {
   "display_name": "Python 3",
   "language": "python",
   "name": "python3"
  },
  "language_info": {
   "codemirror_mode": {
    "name": "ipython",
    "version": 3
   },
   "file_extension": ".py",
   "mimetype": "text/x-python",
   "name": "python",
   "nbconvert_exporter": "python",
   "pygments_lexer": "ipython3",
   "version": "3.8.5"
  }
 },
 "nbformat": 4,
 "nbformat_minor": 4
}
