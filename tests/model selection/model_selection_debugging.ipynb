{
 "cells": [
  {
   "cell_type": "markdown",
   "metadata": {},
   "source": [
    "## Model comparison debugging"
   ]
  },
  {
   "cell_type": "code",
   "execution_count": 5,
   "metadata": {},
   "outputs": [],
   "source": [
    "import numpy as np\n",
    "import matplotlib.pyplot as plt"
   ]
  },
  {
   "cell_type": "code",
   "execution_count": 22,
   "metadata": {},
   "outputs": [],
   "source": [
    "fit = np.load('/mnt/hpc_backup/yanitski/projects/pdr/KT3_history/MilkyWay/fit_results/COGAL/co1_test_regridded/CO 1/r400_rcmz0_uv10_loglikelihood.npy')"
   ]
  },
  {
   "cell_type": "code",
   "execution_count": 3,
   "metadata": {},
   "outputs": [
    {
     "data": {
      "text/plain": [
       "False"
      ]
     },
     "execution_count": 3,
     "metadata": {},
     "output_type": "execute_result"
    }
   ],
   "source": [
    "(fit==0).any()"
   ]
  },
  {
   "cell_type": "code",
   "execution_count": 4,
   "metadata": {},
   "outputs": [
    {
     "data": {
      "text/plain": [
       "(5, 701, 361)"
      ]
     },
     "execution_count": 4,
     "metadata": {},
     "output_type": "execute_result"
    }
   ],
   "source": [
    "fit.shape"
   ]
  },
  {
   "cell_type": "code",
   "execution_count": 23,
   "metadata": {},
   "outputs": [
    {
     "data": {
      "text/plain": [
       "<matplotlib.colorbar.Colorbar at 0x7fcd834bb610>"
      ]
     },
     "execution_count": 23,
     "metadata": {},
     "output_type": "execute_result"
    },
    {
     "data": {
      "image/png": "[encoded data removed]",
      "text/plain": [
       "<Figure size 432x288 with 2 Axes>"
      ]
     },
     "metadata": {
      "needs_background": "light"
     },
     "output_type": "display_data"
    }
   ],
   "source": [
    "fit[fit == 0] = np.nan\n",
    "cb = plt.imshow(10**fit[2, :, :])\n",
    "plt.colorbar(cb)"
   ]
  },
  {
   "cell_type": "code",
   "execution_count": 3,
   "metadata": {},
   "outputs": [
    {
     "data": {
      "text/plain": [
       "(['one', 'two'], ['three'])"
      ]
     },
     "execution_count": 3,
     "metadata": {},
     "output_type": "execute_result"
    }
   ],
   "source": [
    "lst = ['one', 'two', 'three']\n",
    "lst_del = []\n",
    "for e in lst:\n",
    "    if 'ee' in e:\n",
    "        lst.remove(e)\n",
    "        lst_del.append(e)\n",
    "lst, lst_del"
   ]
  },
  {
   "cell_type": "code",
   "execution_count": 4,
   "metadata": {},
   "outputs": [
    {
     "name": "stdout",
     "output_type": "stream",
     "text": [
      "one 1\n",
      "two 2\n"
     ]
    }
   ],
   "source": [
    "for i,j in zip(lst, [1, 2]):\n",
    "    print(i, j)"
   ]
  },
  {
   "cell_type": "markdown",
   "metadata": {},
   "source": [
    "# "
   ]
  },
  {
   "cell_type": "markdown",
   "metadata": {},
   "source": [
    "using `kosmatau3d`... (coming soon)"
   ]
  },
  {
   "cell_type": "code",
   "execution_count": null,
   "metadata": {},
   "outputs": [],
   "source": [
    "from kosmatau3d import comparison as comp\n",
    "\n",
    "path = '/mnt/hpc_backup/yanitski/projects/pdr/observational_data/MilkyWay/'\n",
    "target_header = {\n",
    "    'NAXIS': 3,\n",
    "    'NAXIS1': 361,\n",
    "    'NAXIS2': 181,\n",
    "    'NAXIS3': 701,\n",
    "    'CTYPE1': 'GLON-CAR',\n",
    "    'CRVAL1': 0,\n",
    "    'CDELT1': 1,\n",
    "    'CRPIX1': 181,\n",
    "    'CTYPE2': 'GLAT-CAR',\n",
    "    'CRVAL2': 0,\n",
    "    'CDELT2': 1,\n",
    "    'CRPIX2': 91,\n",
    "    'CTYPE3': 'VELO',\n",
    "    'CRVAL3': 0,\n",
    "    'CDELT3': 1,\n",
    "    'CRPIX3': 351,\n",
    "}\n",
    "kernel_sigma = 0.5\n",
    "target_kernel = (\n",
    "    'gauss1d',\n",
    "    (kernel_sigma,),\n",
    "    kernel_sigma*3,\n",
    "    kernel_sigma/2,\n",
    ")\n",
    "mission = ['Mopra']#['COGAL', 'SEDIGISM', 'Mopra', 'ThrUMMS']"
   ]
  },
  {
   "cell_type": "code",
   "execution_count": null,
   "metadata": {
    "jupyter": {
     "source_hidden": true
    }
   },
   "outputs": [],
   "source": [
    "comp.regrid_observations(\n",
    "    path=path,\n",
    "    mission='COGAL',\n",
    "    target_header=target_header,\n",
    "    target_kernel=target_kernel,\n",
    ")"
   ]
  },
  {
   "cell_type": "code",
   "execution_count": null,
   "metadata": {
    "jupyter": {
     "source_hidden": true
    }
   },
   "outputs": [],
   "source": [
    "comp.view_observation(\n",
    "    path=path,\n",
    "    mission='COGAL',\n",
    "    regridded_path='/regridded/temp/',\n",
    "    # regridded_path='/regridded/',\n",
    "    list_observations=False,\n",
    "    # regridded_path='',\n",
    "    # filename='G300.5-12CO_Vfull_regridded.fits',\n",
    "    #FIRAS HIGH: CO 6, C 2, C+ 1, O 1\n",
    "    #FIRAS HRES:\n",
    "    # filename='FIRAS_LINE_EMISSION_MAP_HIGH_regridded.fits',\n",
    "    # filename='dust_COM_CompMap_dust-commander_0256_R2.00.fits',\n",
    "    # filename='co1_test_regridded_error.fits',\n",
    "    filename='co1_test_regridded.fits',\n",
    "    # filename='13co2_test_regridded_error.fits',\n",
    "    # filename='13co2_test_regridded.fits',\n",
    "\n",
    "    # filename='G001_13CO21_Tmb_DR1.fits',\n",
    "    transition='CO 1',\n",
    "    plot='integrated',\n",
    "    integrate_b=[89, 93],\n",
    "    # i_lat=91,\n",
    "    # ylabel=r'$I_{CII}$ $(nW \\ m^{-2} \\ sr^{-1})$',\n",
    "    clabel=r'$\\int T_{B}db$ $(K^\\circ)$',\n",
    "    # title=r'COGAL CO $1 \\rightarrow 0$',\n",
    "    scale=0.5,\n",
    "    logval=False,\n",
    "    vmin=-2,\n",
    "    vmax=100,\n",
    "    # xlim=[60, 180],\n",
    "    # ylim=[-200, 200],\n",
    "    # cmap='gist_ncar',\n",
    "    cmap='jet',\n",
    "    save=False,\n",
    ")"
   ]
  },
  {
   "cell_type": "code",
   "execution_count": null,
   "metadata": {},
   "outputs": [],
   "source": [
    "# Available directories:\n",
    "# - '/r400_cm{}-{}_d{}_uv{:.0f}/'\n",
    "#   [[0.25, 0.5, 1.0, 2.0, 4.0], [1.0, 2.0], [0.25, 0.5, 1.0, 2.0, 4.0], [10, 100]]\n",
    "# - '/r400_fcm{}_ficm{}/'\n",
    "#   [[0.25, 0.5, 1.0, 2.0, 4.0], [0.25, 0.5, 1.0, 2.0, 4.0]]\n",
    "# - '/r400_fcm{}_cm{}/'\n",
    "#   [[0.25, 0.5, 1.0, 2.0, 4.0], ['0_2', '0_3', '1_2', '1_3']]\n",
    "# - '/r400_ficm{}_icm{}/'\n",
    "#   [[0.25, 0.5, 1.0, 2.0, 4.0], ['-2', '-2_-1', '-3_-1', '-3_-2']]\n",
    "# - '/r400_rcmz{:.0f}_uv{}/'\n",
    "#   [np.arange(0, 3001, 200), [10, 50, 100]]\n",
    "comp.model_selection(\n",
    "    mission=None,\n",
    "    PLOT=False,\n",
    "    debug=False,\n",
    "    cmap='viridis',\n",
    "    model_dir='/r400_rcmz{:.0f}_uv{}/',\n",
    "    model_param=[np.arange(0, 3001, 200), [10, 50, 100]],\n",
    "    PRINT=True,\n",
    ")"
   ]
  },
  {
   "cell_type": "code",
   "execution_count": null,
   "metadata": {},
   "outputs": [],
   "source": [
    "# This should be set to used to create plots of the model comparison for\n",
    "#  various 2-dimensional grids. For grids with more parameters, the other\n",
    "#  parameters will be identified via subplots.\n",
    "comp.plot_comparison(\n",
    "    file_format='r400_rcmz{:.0f}_uv{}',\n",
    "    missions=['COBE-FIRAS', 'COGAL'],\n",
    "    model_param=[np.arange(0, 3001, 200), [10, 50, 100]],\n",
    "    xlabel=r'$R_{CMZ}$',\n",
    "    ylabel=r'$f_{FUV}$',\n",
    "    clabel=r'$log_{10}(\\mathcal{L})$'\n",
    ")"
   ]
  }
 ],
 "metadata": {
  "kernelspec": {
   "display_name": "Python 3",
   "language": "python",
   "name": "python3"
  },
  "language_info": {
   "codemirror_mode": {
    "name": "ipython",
    "version": 3
   },
   "file_extension": ".py",
   "mimetype": "text/x-python",
   "name": "python",
   "nbconvert_exporter": "python",
   "pygments_lexer": "ipython3",
   "version": "3.8.5"
  }
 },
 "nbformat": 4,
 "nbformat_minor": 4
}
