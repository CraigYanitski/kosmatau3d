{
 "cells": [
  {
   "cell_type": "markdown",
   "metadata": {},
   "source": [
    "# Single-voxel test"
   ]
  },
  {
   "cell_type": "markdown",
   "metadata": {},
   "source": [
    "This notebook will show some of the functionality of a single voxel instances.\n",
    "\n",
    " 1. The first example will examine a simple instance of a clump with only a few observed velocities. This example is fully worked-out with explanations for some of the steps hidden inside the voxel setup. It is compared to the analytical result to ensure accuracy, then repeated using more model velocities to show how the model becomes more accurate.\n",
    " 2. Next it will be shown how absorption within the voxel is handled. A couple of examples will be given highlighting different scenarios where there are different numbers of clumps in a line-of-sight. These begin by evaluating the model, then the result is analytically approximated to show the accuracy.\n",
    " 3. An example will be given to test the effect of the observed velocity dispersion on intensity.\n",
    " 4. An example showcasing the ability of the voxel to be resized in order to fit a given number of the largest clump. It still uses a simple model with just one clump mass, but will test the effect on intensity when the number of clumps is normalised to different amounts.\n",
    " 5. An example using multiple clump masses and showing how it affects the overall voxel emission. Here we repeat a previous example and just change which clump masses we use. Finally an example is given to show how a larger voxel with higher mass can produce the same intensity."
   ]
  },
  {
   "cell_type": "markdown",
   "metadata": {},
   "source": [
    "## "
   ]
  },
  {
   "cell_type": "markdown",
   "metadata": {},
   "source": [
    "## Theoretical basis"
   ]
  },
  {
   "cell_type": "markdown",
   "metadata": {},
   "source": [
    "We need to ensure that we can replicate the intensity and optical depth that we would expect from a $10 \\ M_\\odot$ clump in the voxel. In order to do that, let us consider the $C^+ \\ 1 \\rightarrow 0$ and $^{13}C^+ \\ 1 \\rightarrow 0$ transitions and the first dust line. In the radiative transfer equation,\n",
    "\n",
    "(1)$$\n",
    "dI_\\nu = - I_\\nu \\kappa_\\nu ds + \\epsilon_nu ds,\n",
    "$$\n",
    "\n",
    "we can assume $\\kappa$ and $\\epsilon$ (the absorption and emissivity coefficients, respectively) are constant in the voxel. Therefore they are calculated using the voxel-averaged emmision:\n",
    "\n",
    "(2)$$\n",
    "\\epsilon_\\nu (v_{obs}) = \\frac{\\left<I_\\nu\\right> (v_{obs})}{\\Delta s},\n",
    "$$\n",
    "\n",
    "(3)$$\n",
    "\\kappa_\\nu (v_{obs}) = \\frac{\\left<\\tau_\\nu\\right> (v_{obs})}{\\Delta s},\n",
    "$$\n",
    "\n",
    "In order to properly understand these voxel-averaged values, it is necessary to have some insight for what is happening inside the voxel. The clumpy PDR is approximated by an ensemble of spherically-symetric KOSMA-$\\tau$ 'clumps'. The ensemble of clumps has a Gaussian velocity distribution with dispersion $\\sigma_{ens}$, and each clump has an intrinsic velocity dispersion $\\sigma_{cl}$ (this value depends on which underlying KOSMA-$\\tau$ grid is used, but currently it is $\\sim0.71 \\frac{km}{s}$). The number of clumps with a particular mass ($N_j$) follows the mass spectrum:\n",
    "\n",
    "(4)$$\n",
    "\\frac{\\mathrm{d}N}{\\mathrm{d}M} = A M^{-\\alpha}\n",
    "$$\n",
    "\n",
    "Here we adopt $\\alpha=1.84$ from Heithausen et al. (1998), and $A$ is a constant. Henceforth the subscript $j$ will refer to a property specific for clumps with mass $M_j$. Clumps can be observed with a particular radial velocity, so we also use the formalism of the subscript $i$ to refer to a property with radial velocity $v_i$. Note that this is a velocity within the voxel, not the observed velocity. The observed radial velocity is $v_{obs}$.\n",
    "\n",
    "Now the number of clumps with a particular radial velocity $v_i$ is determined by the number of clumps of a particular mass $N_j$ and velocity distribution of the ensemble $\\sigma_{ens}$.\n",
    "\n",
    "(5)$$\n",
    "\\Delta N_{j,i} (v_{obs}) = \\frac{N_j}{\\sqrt{2 \\pi} \\sigma_{ens}} \\ \\mathrm{exp} \\left( -\\frac{(v_{vox}-v_i)^2}{2 \\sigma_{ens}} \\right) \\Delta v\n",
    "$$\n",
    "\n",
    "$p_{j,i}$ is the probability of having $k_{j,i}$ clumps in a line-of-sight observed at velocity $v_i$, determined by Binomial distribution of the number of clumps at that velocity:\n",
    "\n",
    "(6)$$\n",
    "p_{j,i} = \\binom{N_{j,i}}{k_{j,i}} p_j^{k_{j,i}} (1-p_j)^{N_{j,i}-k_{j,i}}\n",
    "$$\n",
    "\n",
    "Where $p_j$ is the area fraction of clump $j$. If $p_j N_{j,i}>5$, then a gaussian expression is used with $\\mu_{j,i} = p_j N_{j,i}$ and $\\sigma_{j,i} = \\sqrt{N_{j,i} p_j (1-p_j)}$.\n",
    "\n",
    "For having $k_{j,i}$ clumps in a line-of-sight, the intensity and optical depth ($I_{\\nu,j,i}$ \\& $\\tau_{\\nu,j,i}$) can be calculated. Here the subscript $\\nu$ means the properties refer to a particular transition (which is what we get from the KOSMA-$\\tau$ grid). \n",
    "\n",
    "(7)$$\n",
    "I_{\\nu,j,i} (v_{obs}) = k_{j,i} I_{cl,j} \\mathrm{exp} \\left( \\frac{(v_i-v_{obs})^2}{2\\sigma_{cl}^2} \\right)\n",
    "$$\n",
    "\n",
    "(8)$$\n",
    "\\tau_{\\nu,j,i} (v_{obs}) = k_{j,i} \\tau_{cl,j} \\mathrm{exp} \\left( \\frac{(v_i-v_{obs})^2}{2\\sigma_{cl}^2} \\right)\n",
    "$$\n",
    "\n",
    "Finally the intensity and optical depth can be averaged over the voxel using all possible combinations and their corresponding probabilities to determine voxel properties we require.\n",
    "\n",
    "(9)$$\n",
    "\\left< I_\\nu \\right> (v_{obs}) = \\sum_i \\left( \\prod_j p_{j,i}(k_{j,i}) \\right) \\left( \\sum_j k_{j,i} I_{\\nu,j,i} (v_{obs}) \\right)\n",
    "$$\n",
    "\n",
    "(10)$$\n",
    "\\left< \\tau_\\nu \\right> (v_{obs}) = -\\mathrm{ln} \\left[ \\sum_i \\left( \\prod_j p_{j,i}(k_{j,i}) \\right) \\ \\mathrm{exp} \\left( - \\sum_j k_{j,i} \\tau_{\\nu,j,i} (v_{obs}) \\right) \\right]\n",
    "$$\n",
    "\n",
    "Here the sums and products ensure we consider contributions from all clump masses at all radial velocities, since there is a velocity dispersion to each clump's intensity and opticalo depth. Now we can finally substitute these into the radiative transfer equation to determine the intensity we expect to observe from this voxel.\n",
    "\n",
    "(11)$$\n",
    "I_{\\mathrm{vox},\\nu} (v_{obs}) = \\frac{\\epsilon_\\nu (v_{obs})}{\\kappa_\\nu (v_{obs})} \\left( 1 - e^{-\\kappa_\\nu (v_{obs}) \\Delta s} \\right) + I_{bg} e^{-\\kappa_\\nu (v_{obs}) \\Delta s}\n",
    "$$"
   ]
  },
  {
   "cell_type": "markdown",
   "metadata": {},
   "source": [
    "# 1. Simple voxel"
   ]
  },
  {
   "cell_type": "markdown",
   "metadata": {},
   "source": [
    "## Model result"
   ]
  },
  {
   "cell_type": "markdown",
   "metadata": {},
   "source": [
    "We want to consider a small mass of clumps in a reasonably-large voxel. The instance can be initialised easily, but the voxel properties will require kwargs. The full list of kwargs can be seen in `Voxel.py`. We will define the kwargs as `parameters` for convenience, since it contains all of the arguments needed for setting the model and thus how the intensity and optical depth are calculated. At the moment this is a very long dictionary, so please let me know if you have any suggestions to make this simpler. It currently shows which kwargs affect the model and which kwargs set the actual voxel properties.\n",
    "\n",
    "Model Parameters\n",
    " - `voxel_size`: The size in parsecs of the voxel. The default is $1pc$.\n",
    " - `molecules`: This is a list of the species transitions included in the model. At the moment this is a string with '[molecule] [transition]'. The default is 'all' to include all species and transitions.\n",
    " - `alpha`: The exponent used in the mass spectrum power law for the clumps. The default is 1.84 as in Heithausen (1995).\n",
    " - `gamma`: The exponent used in the mass-radius power law for the clumps. The default is 2.31 as in Heithausen (1995).\n",
    " - `clumpMassRange`: KOSMA-$\\tau^3$ accepts a list of clump types to be included in the model. The argument supplied here therefore is a list of clump mass ranges, specified in $dex(M_\\odot)$. The values are interpolated from the KOSMA-$\\tau$ grid included with this package, which covers the range $[-3, 3] \\ dex$. By default this is [[0, 2], [-2]] to model the clump and diffuse interclump regions.\n",
    " - `clumpMassNumber`: This specifies the number of different clump masses in the model. This should be a list with the length of the number of clump sets you want modelled. By default it is [3,1].\n",
    " - `clumpNmax`: This is used for normalising the number of clumps that are calculated. This should be a list with the length of the number of clump sets you want modelled. If a float or int is given, that is the value used for each clump set. By default it is set to [1,100]\n",
    " - `velocityRange`: The range of observing velocities in the model, in $\\frac{km}{s}$. By default it is set to $[-10, 10]$. This does not affect the internal system velocities.\n",
    " - `velocityNumber`: The number of observing velocities in `velocityRange`. By default it is set to $201$. This does not affect the internal system velocities.\n",
    " \n",
    "Voxel Properties\n",
    " - `velocity`: The mean radial velocity of the clumps in the voxel in $\\frac{km}{s}$. The default is $0 \\frac{km}{s}$.\n",
    " - `ensembleDispersion`: The velocity dispersion of the ensemble of clumps in the voxel. This should be a list with the length of the number of clump sets you want modelled. If a float or int is given, that is the value used for each clump set. giving a value of $0$ will create all clumps at one observing velocity. The default is $[2, 5] \\ \\frac{km}{s}$.\n",
    " - `clumpMass`: The clump mass to be modeled in the voxel in $M_\\odot$. This should be a list with the length of the number of clump sets you want modelled. If a float or int is given, that is the value used for each clump set. The default is $100 \\ M_\\odot$.\n",
    " - `ensembleDensity`: The mean ensemble density in $cm^{-3}$ of the voxel, which is used to calculate the density of each clump. This should be a list with the length of the number of clump sets you want modelled. If a float or int is given, that is the value used for each clump set. These are interpolated from the KOSMA-$\\tau$ grid included with this package, which covers the range $[10^3, 10^7] \\ cm^{-3}$. The default is $[15000, 1911] \\ cm^{-3}$.\n",
    " - `FUV`: The FUV radiation in Draine units of the voxel. This should be a list with the length of the number of clump sets you want modelled. If a float or int is given, that is the value used for each clump set. These are interpolated from the KOSMA-$\\tau$ grid included with this package, which covers the range $[10^0, 10^6] \\ \\chi_0$. The default is $[20000, 1] \\ \\chi_0$."
   ]
  },
  {
   "cell_type": "markdown",
   "metadata": {},
   "source": [
    "The voxel we want to make will only have one observing velocity and one clump mass so there is only one clump in the ensemble. For now we do not need more than one clump set, so the lists in model parameters for ensemble velocity dispersion, clump mass, ensemble density, and FUV radiation should all have length $1$. The ensemble density and FUV radiation of the voxel is $10^5 \\ cm^{-3}$ and $10^4 \\ \\chi_0$, respectively. We want to create just one $10 \\ M_\\odot$ clump, so we use an ensemble velocity dispersion of $0 \\ \\frac{km}{s}$. After these values are set accordingly, unpack and pass the `parameters` disctionary to the `Voxel.setProperties` method."
   ]
  },
  {
   "cell_type": "code",
   "execution_count": 104,
   "metadata": {},
   "outputs": [],
   "source": [
    "from kosmatau3d import models\n",
    "import numpy as np\n",
    "\n",
    "# Use these to change the voxel properties, which is necessary in the default mode.\n",
    "parameters = { \\\n",
    "                # Model parameters\n",
    "                'voxel_size' : 1, \\\n",
    "                 'molecules' : 'all', \\\n",
    "                      'dust' : 'PAH', \\\n",
    "            'clumpMassRange' : [[1]], \\\n",
    "           'clumpMassNumber' : [1], \\\n",
    "                 'clumpNmax' : [1], \\\n",
    "             'velocityRange' : [-10, 10], \\\n",
    "            'velocityNumber' : 201, \\\n",
    "\n",
    "                # Voxel properties\n",
    "                  'velocity' : 0., \\\n",
    "        'ensembleDispersion' : 0, \\\n",
    "                 'clumpMass' : 10, \\\n",
    "           'ensembleDensity' : 1e5, \\\n",
    "                       'FUV' : 1e4 \\\n",
    "          }\n",
    "\n",
    "vox = models.Voxel()\n",
    "vox.setProperties(**parameters)"
   ]
  },
  {
   "cell_type": "markdown",
   "metadata": {},
   "source": [
    "Here we can verify that we are modelling an appropriate clump mass. These should be exactly the same since there is no velocity dispersion."
   ]
  },
  {
   "cell_type": "code",
   "execution_count": 105,
   "metadata": {},
   "outputs": [
    {
     "data": {
      "text/plain": [
       "[10]"
      ]
     },
     "execution_count": 105,
     "metadata": {},
     "output_type": "execute_result"
    }
   ],
   "source": [
    "vox.getClumpMass() #mass of the clumps to be modelled in M_sol. This is merely the input given to vox.setProperties()."
   ]
  },
  {
   "cell_type": "code",
   "execution_count": 106,
   "metadata": {},
   "outputs": [
    {
     "data": {
      "text/plain": [
       "[9.999999999999998]"
      ]
     },
     "execution_count": 106,
     "metadata": {},
     "output_type": "execute_result"
    }
   ],
   "source": [
    "vox.getModelMass() #mass of the clumps that have been modelled in M_sol. This is the mass of the voxel represented in clumps, which may differ from the input due to discretisation."
   ]
  },
  {
   "cell_type": "markdown",
   "metadata": {},
   "source": [
    "That works fine. It is important to note that there are numerous things going on in this method, such as\n",
    "\n",
    " - setting the voxel properties (mass, density, FUV field),\n",
    " - reading the molecules available on the grid,\n",
    " - determining the intensity (in K) and optical depth from each clump in the model,\n",
    " - calculating how many clumps are at each observed radial velocity,\n",
    " - and calculating the clump combinations\n",
    " \n",
    "We can check all of these directly from their corresponding sub-modules. To check the model parameters, examine the `constants` sub-module (so-called since it contains values constant in the model, not values that are always constant). We can verify our model clumps, observed velocities, and check which species transitions and dust wavelengths we can calculate. Note that the clump properties are lists since you can evaluate more than one set of clumps. We only evaluated one set, so we only need the first (only) element."
   ]
  },
  {
   "cell_type": "code",
   "execution_count": 107,
   "metadata": {},
   "outputs": [
    {
     "data": {
      "text/plain": [
       "array([[1.]])"
      ]
     },
     "execution_count": 107,
     "metadata": {},
     "output_type": "execute_result"
    }
   ],
   "source": [
    "models.constants.clumpLogMass[0] #in dex(M_sol)"
   ]
  },
  {
   "cell_type": "code",
   "execution_count": 108,
   "metadata": {},
   "outputs": [
    {
     "data": {
      "text/plain": [
       "array([-10. ,  -9.9,  -9.8,  -9.7,  -9.6,  -9.5,  -9.4,  -9.3,  -9.2,\n",
       "        -9.1,  -9. ,  -8.9,  -8.8,  -8.7,  -8.6,  -8.5,  -8.4,  -8.3,\n",
       "        -8.2,  -8.1,  -8. ,  -7.9,  -7.8,  -7.7,  -7.6,  -7.5,  -7.4,\n",
       "        -7.3,  -7.2,  -7.1,  -7. ,  -6.9,  -6.8,  -6.7,  -6.6,  -6.5,\n",
       "        -6.4,  -6.3,  -6.2,  -6.1,  -6. ,  -5.9,  -5.8,  -5.7,  -5.6,\n",
       "        -5.5,  -5.4,  -5.3,  -5.2,  -5.1,  -5. ,  -4.9,  -4.8,  -4.7,\n",
       "        -4.6,  -4.5,  -4.4,  -4.3,  -4.2,  -4.1,  -4. ,  -3.9,  -3.8,\n",
       "        -3.7,  -3.6,  -3.5,  -3.4,  -3.3,  -3.2,  -3.1,  -3. ,  -2.9,\n",
       "        -2.8,  -2.7,  -2.6,  -2.5,  -2.4,  -2.3,  -2.2,  -2.1,  -2. ,\n",
       "        -1.9,  -1.8,  -1.7,  -1.6,  -1.5,  -1.4,  -1.3,  -1.2,  -1.1,\n",
       "        -1. ,  -0.9,  -0.8,  -0.7,  -0.6,  -0.5,  -0.4,  -0.3,  -0.2,\n",
       "        -0.1,   0. ,   0.1,   0.2,   0.3,   0.4,   0.5,   0.6,   0.7,\n",
       "         0.8,   0.9,   1. ,   1.1,   1.2,   1.3,   1.4,   1.5,   1.6,\n",
       "         1.7,   1.8,   1.9,   2. ,   2.1,   2.2,   2.3,   2.4,   2.5,\n",
       "         2.6,   2.7,   2.8,   2.9,   3. ,   3.1,   3.2,   3.3,   3.4,\n",
       "         3.5,   3.6,   3.7,   3.8,   3.9,   4. ,   4.1,   4.2,   4.3,\n",
       "         4.4,   4.5,   4.6,   4.7,   4.8,   4.9,   5. ,   5.1,   5.2,\n",
       "         5.3,   5.4,   5.5,   5.6,   5.7,   5.8,   5.9,   6. ,   6.1,\n",
       "         6.2,   6.3,   6.4,   6.5,   6.6,   6.7,   6.8,   6.9,   7. ,\n",
       "         7.1,   7.2,   7.3,   7.4,   7.5,   7.6,   7.7,   7.8,   7.9,\n",
       "         8. ,   8.1,   8.2,   8.3,   8.4,   8.5,   8.6,   8.7,   8.8,\n",
       "         8.9,   9. ,   9.1,   9.2,   9.3,   9.4,   9.5,   9.6,   9.7,\n",
       "         9.8,   9.9,  10. ])"
      ]
     },
     "execution_count": 108,
     "metadata": {},
     "output_type": "execute_result"
    }
   ],
   "source": [
    "models.constants.velocityRange #in km/s"
   ]
  },
  {
   "cell_type": "code",
   "execution_count": 109,
   "metadata": {},
   "outputs": [
    {
     "data": {
      "text/plain": [
       "array(['C+ 1', 'C 1', 'C 2', 'C 3', 'O 1', 'O 2', 'O 3', 'CO 1', 'CO 2',\n",
       "       'CO 3', 'CO 4', 'CO 5', 'CO 6', 'CO 7', 'CO 8', 'CO 9', 'CO 10',\n",
       "       'CO 11', 'CO 12', 'CO 13', 'CO 14', 'CO 15', 'CO 16', 'CO 17',\n",
       "       'CO 18', 'CO 19', 'CO 20', 'CO 21', 'CO 22', 'CO 23', 'CO 24',\n",
       "       'CO 25', 'CO 26', 'CO 27', 'CO 28', 'CO 29', 'CO 30', 'CO 31',\n",
       "       'CO 32', 'CO 33', 'CO 34', 'CO 35', 'CO 36', 'CO 37', 'CO 38',\n",
       "       'CO 39', 'CO 40', 'CO 41', 'CO 42', 'CO 43', 'CO 44', 'CO 45',\n",
       "       'CO 46', 'CO 47', 'CO 48', 'CO 49', '13CO 1', '13CO 2', '13CO 3',\n",
       "       '13CO 4', '13CO 5', '13CO 6', '13CO 7', '13CO 8', '13CO 9',\n",
       "       '13CO 10', '13CO 11', '13CO 12', '13CO 13', '13CO 14', '13CO 15',\n",
       "       '13CO 16', '13CO 17', '13CO 18', '13CO 19', '13CO 20', '13CO 21',\n",
       "       '13CO 22', '13CO 23', '13CO 24', '13CO 25', '13CO 26', '13CO 27',\n",
       "       '13CO 28', '13CO 29', '13CO 30', '13CO 31', '13CO 32', '13CO 33',\n",
       "       '13CO 34', '13CO 35', '13CO 36', '13CO 37', '13CO 38', '13CO 39',\n",
       "       '13CO 40', '13CO 41', '13CO 42', '13CO 43', '13CO 44', '13CO 45',\n",
       "       '13CO 46', '13CO 47', '13CO 48', '13CO 49', '13C+ 1', '13C 1',\n",
       "       '13C 2', '13C 3', 'HCO+ 1', 'HCO+ 2', 'HCO+ 3', 'HCO+ 4', 'HCO+ 5',\n",
       "       'HCO+ 6', 'HCO+ 7', 'HCO+ 8', 'HCO+ 9', 'HCO+ 10', 'HCO+ 11',\n",
       "       'HCO+ 12', 'HCO+ 13', 'HCO+ 14', 'HCO+ 15', 'H13CO+ 1', 'H13CO+ 2',\n",
       "       'H13CO+ 3', 'H13CO+ 4', 'H13CO+ 5', 'H13CO+ 6', 'H13CO+ 7',\n",
       "       'H13CO+ 8', 'H13CO+ 9', 'H13CO+ 10', 'H13CO+ 11', 'H13CO+ 12',\n",
       "       'H13CO+ 13', 'H13CO+ 14', 'H13CO+ 15', 'H13CO+ 16', 'H13CO+ 17',\n",
       "       'H13CO+ 18', 'H13CO+ 19', 'H13CO+ 20', 'H13CO+ 21', 'H13CO+ 22',\n",
       "       'H13CO+ 23', 'H13CO+ 24', 'H13CO+ 25', 'H13CO+ 26', 'H13CO+ 27',\n",
       "       'H13CO+ 28', 'H13CO+ 29', 'H13CO+ 30', 'H3O+ 1', 'H3O+ 2',\n",
       "       'H3O+ 3', 'H3O+ 4', 'H3O+ 5', 'H3O+ 6', 'H3O+ 7', 'H3O+ 8',\n",
       "       'H3O+ 9', 'H3O+ 10', 'H3O+ 11', 'H3O+ 12', 'H3O+ 13', 'H3O+ 14',\n",
       "       'H3O+ 15', 'H3O+ 16', 'H3O+ 17'], dtype='<U9')"
      ]
     },
     "execution_count": 109,
     "metadata": {},
     "output_type": "execute_result"
    }
   ],
   "source": [
    "models.constants.molecules#.reshape(-1,1)"
   ]
  },
  {
   "cell_type": "code",
   "execution_count": 110,
   "metadata": {},
   "outputs": [
    {
     "data": {
      "text/plain": [
       "array(['3.1mm', '2.4mm', '1.8mm', '1.3mm', '1.0mm', '850um', '700um',\n",
       "       '550um', '420um', '300um', '240um', '188.4um', '177.8um',\n",
       "       '167.9um', '158.5um', '149.6um', '141.3um', '133.4um', '125.9um',\n",
       "       '118.9um', '112.2um', '105.9um', '100.0um', '94.41um', '89.13um',\n",
       "       '84.14um', '79.43um', '74.99um', '70.79um', '66.83um', '63.1um',\n",
       "       '59.57um', '56.23um', '53.09um', '50.12um', '47.32um', '44.67um',\n",
       "       '44.28um', '42.75um', '41.33um', '39.99um', '38.74um', '37.57um',\n",
       "       '36.47um', '35.42um', '34.44um', '33.51um', '32.63um', '31.79um',\n",
       "       '31.um', '30.24um', '29.52um', '28.83um', '28.18um', '27.55um',\n",
       "       '26.95um', '26.38um', '25.83um', '25.3um', '24.8um', '24.31um',\n",
       "       '23.84um', '23.39um', '22.96um', '22.54um', '22.14um', '21.75um',\n",
       "       '21.38um', '21.01um', '20.66um', '20.32um', '20.um', '19.68um',\n",
       "       '19.37um', '19.07um', '18.79um', '18.5', '18.23um', '17.97um',\n",
       "       '17.71um', '17.46um', '17.22um', '16.98um', '16.75um', '16.53um',\n",
       "       '16.31um', '16.1um', '15.89um', '15.69um', '15.5um', '15.31um',\n",
       "       '15.12um', '14.94um', '14.42um', '13.93um', '13.78um', '13.62um',\n",
       "       '13.48um', '13.33um', '13.19um', '13.05um', '12.91um', '12.78um',\n",
       "       '12.65um', '12.52um', '12.4um', '12.28um', '12.15um', '12.04um',\n",
       "       '11.92um', '11.81um', '11.7um', '11.59um', '11.48um', '11.37um',\n",
       "       '11.27um', '11.17um', '11.07um', '10.97um', '10.88um', '10.78um',\n",
       "       '10.69um', '10.6um', '10.51um', '10.42um', '10.33um', '10.16um',\n",
       "       '10.08um', '9.998um', '9.918um', '9.84um', '9.762um', '9.686um',\n",
       "       '9.611um', '9.537um', '9.464um', '9.392um', '9.322um', '9.252um',\n",
       "       '9.184um', '9.116um', '9.05um', '8.984um', '8.919um', '8.856um',\n",
       "       '8.793um', '8.731um', '8.67um', '8.61um', '8.55um', '8.492um',\n",
       "       '8.434um', '8.377um', '8.321um', '8.265um', '8.211um', '8.157um',\n",
       "       '8.103um', '8.051um', '7.999um', '7.947um', '7.897um', '7.847um',\n",
       "       '7.797um', '7.749um', '7.701um', '7.653um', '7.606um', '7.56um',\n",
       "       '7.514um', '7.424um', '7.38um', '7.336um', '7.293um', '7.25um',\n",
       "       '7.208um', '7.166um', '7.125um', '7.085um', '7.044um', '7.005um',\n",
       "       '6.965um', '6.926um', '6.888um', '6.85um', '6.812um', '6.775um',\n",
       "       '6.738um', '6.702um', '6.595um', '6.491um', '6.391um', '6.293um',\n",
       "       '6.199um', '6.107um', '5.989um', '5.904um', '5.793um', '5.61um',\n",
       "       '5.39um', '5.209um', '4.999um', '4.805um', '4.592um', '4.396um',\n",
       "       '4.203um', '3.999um', '3.936um', '3.874um', '3.815um', '3.757um',\n",
       "       '3.701um', '3.647um', '3.594um', '3.542um', '3.492um', '3.444um',\n",
       "       '3.397um', '3.342um', '3.324um', '3.306um', '3.297um', '3.29um',\n",
       "       '3.28um', '3.246um', '3.204um', '3.099um', '3.002um', '2.8um',\n",
       "       '2.661um', '2.512um', '2.371um', '2.239um', '2.113um', '1.995um',\n",
       "       '1.884um', '1.778um', '1.679um', '1.585um', '1.496um', '1.413um',\n",
       "       '1.334um', '1.259um', '1.189um', '1.122um', '1.059um', '1.um',\n",
       "       '944.1nm', '891.3nm', '841.4nm', '794.3nm', '749.9nm', '707.9nm',\n",
       "       '668.3nm', '631nm', '595.7nm', '562.3nm', '530.9nm', '501.2nm',\n",
       "       '473.2nm', '446.7nm', '421.7nm', '398.1nm', '375.8nm', '354.8nm',\n",
       "       '335nm', '316.2nm', '298.5nm', '281.8nm', '266.1nm', '251.2nm',\n",
       "       '237.1nm', '223.9nm', '211.3nm', '199.5nm', '188.4nm', '177.8nm',\n",
       "       '167.9nm', '158.5nm', '149.6nm', '141.3nm', '133.4nm', '125.9nm',\n",
       "       '121.6nm', '118.9nm', '112.2nm', '105.9nm', '100nm', '94.41nm',\n",
       "       '89.13nm', '84.14nm', '79.43nm', '74.99nm', '70.79nm', '66.83nm',\n",
       "       '63.1nm', '59.57nm', '58.4nm', '56.23nm', '53.09nm', '50.12nm',\n",
       "       '47.32nm', '44.67nm', '42.17nm', '39.81nm', '37.58nm', '35.48nm',\n",
       "       '33.5nm', '31.62nm', '30.4nm', '29.85nm', '28.18nm', '26.61nm',\n",
       "       '25.12nm', '23.71nm', '22.39nm', '19.95nm', '17.78nm', '15.85nm',\n",
       "       '14.13nm', '12.59nm', '11.22nm', '10.6nm', '10nm', '9nm', '8nm',\n",
       "       '7nm', '6nm', '5nm', '4nm', '3nm', '2nm', '1nm'], dtype='<U7')"
      ]
     },
     "execution_count": 110,
     "metadata": {},
     "output_type": "execute_result"
    }
   ],
   "source": [
    "models.constants.dustNames"
   ]
  },
  {
   "cell_type": "markdown",
   "metadata": {},
   "source": [
    "The `ensemble` sub-module takes the voxel properties and combines it with the model velocities to calculate the ensemble distribution, ie. how many clumps are observed at each velocity. This *binning* is described in Silke's thesis. If you have $N_j$ clumps of mass $j$, the number of clumps with velocity $i$ is,\n",
    "\n",
    "$$\n",
    "\\Delta N_{j,i} = \\frac{N_j}{\\sqrt{2 \\pi} \\sigma_\\mathrm{ens}} exp \\left(-\\frac{(v_\\mathrm{vox}-v_i)^2}{2(\\sigma_\\mathrm{ens})^2}\\right) \\Delta v\n",
    "$$\n",
    "\n",
    "Here $\\sigma_\\mathrm{ens}$ is the velocity dispersion of the ensemble, $v_\\mathrm{vox}$ is the radial velocity of the voxel (which is 0 for our test case), and $\\Delta v$ is the velocity bin size. We can check the value of this quantity using one of the methods in `ensemble`."
   ]
  },
  {
   "cell_type": "code",
   "execution_count": 111,
   "metadata": {},
   "outputs": [
    {
     "name": "stdout",
     "output_type": "stream",
     "text": [
      "\n",
      "C L U M P   S E T   1\n",
      "\n",
      "Nj:\n",
      "[[1.]]\n",
      "delta Nji:\n",
      "[[1.]]\n",
      "\n",
      "Normalised Nj:\n",
      "[[1.]]\n",
      "Normalised delta Nj:\n",
      "[[1.]]\n",
      "\n"
     ]
    }
   ],
   "source": [
    "models.ensemble.printEnsembleParameters()"
   ]
  },
  {
   "cell_type": "markdown",
   "metadata": {},
   "source": [
    "This method is already setup to display this information for each clump set (of which we have just one). Here you see why we chose a strange value for $\\sigma_\\mathrm{ens}$: at an observing velocity of $0 \\frac{km}{s}$ this equation essentially becomes $\\Delta N_{j} = N_j \\Delta v$. We could have chosen $\\sigma_\\mathrm{ens}$ to be such that we only observe $1$ clump in the center velocity, but then we would have clumps at more than one observing velocity. That is fine, since we can clearly see one of the features of KOSMA-$\\tau^3$: the normalisation of the ensemble. One of the kwargs we used in setting up the voxel was `clumpNmax`, which is used to scale the voxel to number of the largest clump. This is possible due to the relation between the voxel size and the number of clumps in the voxel. For $N_j$ clumps in a voxel of size $s$, we maintain that $N_j \\propto s^2$. When the $\\Delta N_{j,i}$ is normalised to $\\Delta N_{\\mathrm{norm}; \\ j,i}$, this also affects the effective voxel size $s_\\mathrm{eff}$, which in turn affects the probability of seeing a clump in the voxel. These effects combine to ensure the observed intensity is the same.\n",
    "\n",
    "So in our example of $2$ clumps in a $1$ pc voxel are normalised to $1$ clump in a voxel with size $\\frac{1}{\\sqrt{2}}$ pc. When viewing the voxel face-on, the probability of seeing a clump along our line-of-sight is $\\mathcal{P_j} = \\frac{\\pi R_j^2}{\\Delta s^2}$, where $R_j$ is the clump radius assuming uniform density. This value can be obtained from the `masspoints` sub-module. It must always be smaller than the effective voxel size. We will see an example later on where the voxel has to be rescaled to fit the largest clump. What is most important to take away from this probability is the $\\Delta s^{-1}$ dependance, so the intensity is kept constant since,\n",
    "\n",
    "$$\n",
    "\\Delta N_{j,i} \\mathcal{P_j} = \\Delta N_{\\mathrm{norm}; \\ j,i} \\mathcal{P_{\\mathrm{eff}; \\ j}}\n",
    "$$"
   ]
  },
  {
   "cell_type": "code",
   "execution_count": 112,
   "metadata": {},
   "outputs": [
    {
     "data": {
      "text/plain": [
       "array([[0.0989]])"
      ]
     },
     "execution_count": 112,
     "metadata": {},
     "output_type": "execute_result"
    }
   ],
   "source": [
    "models.masspoints.clumpRadius[0] #in parsecs"
   ]
  },
  {
   "cell_type": "code",
   "execution_count": 113,
   "metadata": {},
   "outputs": [
    {
     "data": {
      "text/plain": [
       "array([[[0.9693],\n",
       "        [0.0307]]], dtype=float128)"
      ]
     },
     "execution_count": 113,
     "metadata": {},
     "output_type": "execute_result"
    }
   ],
   "source": [
    "models.ensemble.clumpProbability[0]"
   ]
  },
  {
   "cell_type": "markdown",
   "metadata": {},
   "source": [
    "The probabilities are used when calculating the FUV absorption, intensity, and optical depth for the different combinations of clumps that are visible in a line of sight. These actual combinations are defined in `ensemble` and used to setup the `combinations` sub-module. The latter sub-module is used to combine the combinations with the values determined in `masspoints`. In the setup of the voxel, this is used to determine the FUV absorption."
   ]
  },
  {
   "cell_type": "markdown",
   "metadata": {},
   "source": [
    "## "
   ]
  },
  {
   "cell_type": "markdown",
   "metadata": {},
   "source": [
    "After you set the voxel properties, you can call the `Voxel.calculateEmission` method to finally calculate the voxel intensity and optical depth. The `verbose` kwarg is just to notify you when the emission has finished calculating."
   ]
  },
  {
   "cell_type": "code",
   "execution_count": 114,
   "metadata": {},
   "outputs": [
    {
     "name": "stdout",
     "output_type": "stream",
     "text": [
      "Voxel emission calculated.\n"
     ]
    }
   ],
   "source": [
    "vox.calculateEmission(verbose=True)"
   ]
  },
  {
   "cell_type": "markdown",
   "metadata": {},
   "source": [
    "The `masspoints` sub-module can be used to check the intensity and optical depth of each clump in the model. You can verify these values of each clump this way, as well as check the density and FUV field used to interpolate the KOSMA-$\\tau$ grid."
   ]
  },
  {
   "cell_type": "code",
   "execution_count": 115,
   "metadata": {},
   "outputs": [
    {
     "data": {
      "text/plain": [
       "array([  0.009 , 135.0001,   2.9748,  21.8206])"
      ]
     },
     "execution_count": 115,
     "metadata": {},
     "output_type": "execute_result"
    }
   ],
   "source": [
    "molecules = ['dust 3.1mm', 'C+ 1', 'C 1', 'CO 1']\n",
    "models.masspoints.clumpIntensity[0][0,models.species.speciesIndeces(molecules)] #kn K; for the first dust line and the first transition of C+, C, and CO"
   ]
  },
  {
   "cell_type": "code",
   "execution_count": 116,
   "metadata": {},
   "outputs": [
    {
     "data": {
      "text/plain": [
       "array([0.0003, 1.8551, 0.063 , 0.6843])"
      ]
     },
     "execution_count": 116,
     "metadata": {},
     "output_type": "execute_result"
    }
   ],
   "source": [
    "models.masspoints.clumpOpticalDepth[0][0,models.species.speciesIndeces(molecules)] #dimensionless; for the first dust line and the first transition of C+, C, and CO"
   ]
  },
  {
   "cell_type": "markdown",
   "metadata": {},
   "source": [
    "The intensity and optical depth of different clump combinations are attributes of `combinations`. These are lists with an array for each clump set. Each array has shape (len(combinations), len(clumps)). Our example has just one clump in the voxel, so the combination is [0, 1]. The lists of intensities and optical depths of each combination are accessed as follows,"
   ]
  },
  {
   "cell_type": "code",
   "execution_count": 117,
   "metadata": {},
   "outputs": [
    {
     "data": {
      "text/plain": [
       "array([[  0.    ,   0.    ,   0.    ,   0.    ],\n",
       "       [  0.009 , 135.0001,   2.9748,  21.8206]])"
      ]
     },
     "execution_count": 117,
     "metadata": {},
     "output_type": "execute_result"
    }
   ],
   "source": [
    "models.combinations.clumpIntensity[0][:,models.species.speciesIndeces(molecules)] #in K; for the first dust line and the first transition of C+, C, and CO"
   ]
  },
  {
   "cell_type": "code",
   "execution_count": 118,
   "metadata": {},
   "outputs": [
    {
     "data": {
      "text/plain": [
       "array([[0.    , 0.    , 0.    , 0.    ],\n",
       "       [0.0003, 1.8551, 0.063 , 0.6843]])"
      ]
     },
     "execution_count": 118,
     "metadata": {},
     "output_type": "execute_result"
    }
   ],
   "source": [
    "models.combinations.clumpOpticalDepth[0][:,models.species.speciesIndeces(molecules)] #dimensionless; for the first dust line and the first transition of C+, C, and CO"
   ]
  },
  {
   "cell_type": "markdown",
   "metadata": {},
   "source": [
    "## "
   ]
  },
  {
   "cell_type": "markdown",
   "metadata": {},
   "source": [
    "Finally we can access the intensity and optical depth in the voxel using two methods: `getIntensity()` and `getOpticalDepth()`. There are also two methods to plot these properties in defferent ways. First there is `plotMolecule()`, which can be used to plot the intensity or optical depth of one or more molecules with respect to the radial velocity. The other is `plotSpectrum()`, which plots the intensity or optical depth of the dust continuum and identifies molecules by vertical lines, separating different molecules by colour.\n",
    "\n",
    "For this example, we will first look at the spectrum at the central velocity. The properties we can view as a spectrum are the emissivity, absorption, and intensity after computing the radiative transfer equation. For this example, note that there is very little absorption and the emissivity and absorption are very similar."
   ]
  },
  {
   "cell_type": "code",
   "execution_count": 119,
   "metadata": {},
   "outputs": [
    {
     "data": {
      "image/png": "[encoded data removed]",
      "text/plain": [
       "<Figure size 720x360 with 1 Axes>"
      ]
     },
     "metadata": {
      "needs_background": "light"
     },
     "output_type": "display_data"
    }
   ],
   "source": [
    "vox.plotSpectrum(quantity='emissivity')"
   ]
  },
  {
   "cell_type": "code",
   "execution_count": 120,
   "metadata": {},
   "outputs": [
    {
     "data": {
      "image/png": "[encoded data removed]",
      "text/plain": [
       "<Figure size 720x360 with 1 Axes>"
      ]
     },
     "metadata": {
      "needs_background": "light"
     },
     "output_type": "display_data"
    }
   ],
   "source": [
    "vox.plotSpectrum(quantity='absorption')"
   ]
  },
  {
   "cell_type": "code",
   "execution_count": 121,
   "metadata": {},
   "outputs": [
    {
     "data": {
      "image/png": "[encoded data removed]",
      "text/plain": [
       "<Figure size 720x360 with 1 Axes>"
      ]
     },
     "metadata": {
      "needs_background": "light"
     },
     "output_type": "display_data"
    }
   ],
   "source": [
    "vox.plotSpectrum(quantity='intensity')"
   ]
  },
  {
   "cell_type": "markdown",
   "metadata": {},
   "source": [
    "The molecular intensity and optical depth can be plotted against velocity, and this can be used to compare to the analytic result."
   ]
  },
  {
   "cell_type": "code",
   "execution_count": 122,
   "metadata": {},
   "outputs": [
    {
     "data": {
      "image/png": "[encoded data removed]",
      "text/plain": [
       "<Figure size 720x360 with 1 Axes>"
      ]
     },
     "metadata": {
      "needs_background": "light"
     },
     "output_type": "display_data"
    }
   ],
   "source": [
    "vox.plotMolecule(molecule=['C+ 1', 'C 1', 'CO 1'], quantity='emissivity', logscale=False)"
   ]
  },
  {
   "cell_type": "code",
   "execution_count": 123,
   "metadata": {},
   "outputs": [
    {
     "data": {
      "image/png": "[encoded data removed]",
      "text/plain": [
       "<Figure size 720x360 with 1 Axes>"
      ]
     },
     "metadata": {
      "needs_background": "light"
     },
     "output_type": "display_data"
    }
   ],
   "source": [
    "vox.plotMolecule(molecule=['C+ 1', 'C 1', 'CO 1'], quantity='absorption', logscale=False)"
   ]
  },
  {
   "cell_type": "code",
   "execution_count": 124,
   "metadata": {},
   "outputs": [
    {
     "data": {
      "image/png": "[encoded data removed]",
      "text/plain": [
       "<Figure size 720x360 with 1 Axes>"
      ]
     },
     "metadata": {
      "needs_background": "light"
     },
     "output_type": "display_data"
    }
   ],
   "source": [
    "vox.plotMolecule(molecule=['C+ 1', 'C 1', 'CO 1'], quantity='intensity', logscale=False)"
   ]
  },
  {
   "cell_type": "code",
   "execution_count": 125,
   "metadata": {},
   "outputs": [],
   "source": [
    "np.set_printoptions(precision=8)"
   ]
  },
  {
   "cell_type": "code",
   "execution_count": 126,
   "metadata": {},
   "outputs": [
    {
     "data": {
      "text/plain": [
       "array([0.00027585, 4.14462714, 0.09132854, 0.66991168])"
      ]
     },
     "execution_count": 126,
     "metadata": {},
     "output_type": "execute_result"
    }
   ],
   "source": [
    "molecules = ['dust 3.1mm', 'C+ 1', 'C 1', 'CO 1']\n",
    "vox.getEmissivity()[0][100,models.species.speciesIndeces(molecules)] #for the first dust line and the first transition of C+, C, and CO"
   ]
  },
  {
   "cell_type": "code",
   "execution_count": 127,
   "metadata": {},
   "outputs": [
    {
     "data": {
      "text/plain": [
       "array([0.0000102 , 0.0262392 , 0.00187619, 0.015331  ])"
      ]
     },
     "execution_count": 127,
     "metadata": {},
     "output_type": "execute_result"
    }
   ],
   "source": [
    "vox.getAbsorption()[0][100,models.species.speciesIndeces(molecules)] #for the first dust line and the first transition of C+, C, and CO"
   ]
  },
  {
   "cell_type": "code",
   "execution_count": 128,
   "metadata": {},
   "outputs": [
    {
     "data": {
      "text/plain": [
       "array([0.00027585, 4.09072379, 0.09124292, 0.66480261])"
      ]
     },
     "execution_count": 128,
     "metadata": {},
     "output_type": "execute_result"
    }
   ],
   "source": [
    "vox.getIntensity()[0][100,models.species.speciesIndeces(molecules)] #for the first dust line and the first transition of C+, C, and CO"
   ]
  },
  {
   "cell_type": "code",
   "execution_count": 129,
   "metadata": {},
   "outputs": [
    {
     "data": {
      "text/plain": [
       "0.030913943210059658899"
      ]
     },
     "execution_count": 129,
     "metadata": {},
     "output_type": "execute_result"
    }
   ],
   "source": [
    "vox.getFUVabsorption()[0]"
   ]
  },
  {
   "cell_type": "markdown",
   "metadata": {},
   "source": [
    "## Analytic result"
   ]
  },
  {
   "cell_type": "markdown",
   "metadata": {},
   "source": [
    "So if we have one $10 M_\\odot$ clump in the voxel, we can calculate the voxel-averaged intensity and optical depth for the 3.1 mm dust line and the first transition of C+, C, and CO. We should note that the clump radius is 0.07846164 pc, and the intensities and optical depths we consider are,\n",
    "\n",
    "|               | 3.1mm dust line | C+ 1         | C 1        | CO 1        |\n",
    "| ------------- | --------------- | ------------ | ---------- | ----------- |\n",
    "| intensity     | 0.0152 K        | 178 K        | 5.05 K     | 36.1 K      |\n",
    "| optical depth | 0.000528        | 1.86         | 0.0789     | 1.13        |\n",
    "\n",
    "We now use this in to calculate the radiative transfer equation.\n",
    "\n",
    "|           | 3.1mm dust line | C+ 1   | C 1      | CO 1    |\n",
    "| --------- | --------------- | ------ | -------- | ------- |\n",
    "| intensity | 0.000294 K      | 1.56 K | 0.0939 K | 0.418 K |"
   ]
  },
  {
   "cell_type": "markdown",
   "metadata": {},
   "source": [
    "## "
   ]
  },
  {
   "cell_type": "markdown",
   "metadata": {},
   "source": [
    "# 2. Accounting for absorption"
   ]
  },
  {
   "cell_type": "markdown",
   "metadata": {},
   "source": [
    "The object here is to show the effect of absorption when there are overlapping clumps in a line-of-sight."
   ]
  },
  {
   "cell_type": "markdown",
   "metadata": {},
   "source": [
    "## Model solution"
   ]
  },
  {
   "cell_type": "markdown",
   "metadata": {},
   "source": [
    "Here we consider a larger voxel with larger mass, but we still consider a simple model with one clump mass. What we can show, for example, is how different clump sets can be created for the same voxel. The mass of dense clump component in the model is the same ($10 \\ M_\\odot$), but we are now modelling a larger ensemble mass of $10^4 M_\\odot$, a high density of $10^6 cm^{-3}$, and FUV radiation $10^4 \\chi_0$. The additional clump set we wish to include is the diffuse interclump component. We model this with $10^{-2} M_\\odot$ clumps, ensemble mass $10^2 M_\\odot$, density $1911 cm^{-3}$, and FUV radiation $1 \\chi_0$."
   ]
  },
  {
   "cell_type": "code",
   "execution_count": null,
   "metadata": {},
   "outputs": [],
   "source": [
    "from kosmatau3d import models\n",
    "import numpy as np\n",
    "\n",
    "np.set_printoptions(precision=8)\n",
    "\n",
    "# Use these to change the voxel properties, which is necessary in the default mode.\n",
    "parameters = { \\\n",
    "                # Model parameters\n",
    "                'voxel_size' : 1, \\\n",
    "                 'molecules' : ['all'], \\\n",
    "                      'dust' : 'PAH', \\\n",
    "            'clumpMassRange' : [[1],[-2]], \\\n",
    "           'clumpMassNumber' : [1,1], \\\n",
    "                 'clumpNmax' : [1,100], \\\n",
    "             'velocityRange' : [-10, 10], \\\n",
    "            'velocityNumber' : 201, \\\n",
    "\n",
    "                # Voxel properties\n",
    "                  'velocity' : 0., \\\n",
    "        'ensembleDispersion' : [1,1], \\\n",
    "                 'clumpMass' : [1e5,1e2], \\\n",
    "           'ensembleDensity' : [1e6,1911], \\\n",
    "                       'FUV' : [1e4,1] \\\n",
    "          }\n",
    "\n",
    "vox = models.Voxel()\n",
    "vox.setProperties(**parameters)\n",
    "vox.calculateEmission(verbose=True)"
   ]
  },
  {
   "cell_type": "markdown",
   "metadata": {},
   "source": [
    "Now we can get some information needed for the theoretical solution."
   ]
  },
  {
   "cell_type": "code",
   "execution_count": null,
   "metadata": {},
   "outputs": [],
   "source": [
    "vox.getClumpMass()"
   ]
  },
  {
   "cell_type": "code",
   "execution_count": null,
   "metadata": {},
   "outputs": [],
   "source": [
    "vox.getModelMass()"
   ]
  },
  {
   "cell_type": "code",
   "execution_count": null,
   "metadata": {},
   "outputs": [],
   "source": [
    "models.masspoints.clumpRadius #in pc"
   ]
  },
  {
   "cell_type": "code",
   "execution_count": null,
   "metadata": {},
   "outputs": [],
   "source": [
    "molecules = ['dust 3.1mm', 'C+ 1', 'C 1', 'CO 1']\n",
    "models.masspoints.clumpIntensity[0][:,models.species.speciesIndeces(molecules)] #for the 3.1mm dust line, C+, C, and CO; in K"
   ]
  },
  {
   "cell_type": "code",
   "execution_count": null,
   "metadata": {},
   "outputs": [],
   "source": [
    "models.masspoints.clumpOpticalDepth[0][:,models.species.speciesIndeces(molecules)] #for the 3.1mm dust line, C+, C, and CO"
   ]
  },
  {
   "cell_type": "markdown",
   "metadata": {},
   "source": [
    "Finally, the intensity and optical depth of the single-voxel model is shown."
   ]
  },
  {
   "cell_type": "code",
   "execution_count": null,
   "metadata": {},
   "outputs": [],
   "source": [
    "vox.plotMolecule(molecule=['C+ 1', 'C 1', 'CO 1'], quantity='intensity', title='', logscale=False)"
   ]
  },
  {
   "cell_type": "code",
   "execution_count": null,
   "metadata": {},
   "outputs": [],
   "source": [
    "vox.getFUVabsorption()"
   ]
  },
  {
   "cell_type": "code",
   "execution_count": null,
   "metadata": {},
   "outputs": [],
   "source": [
    "molecules = ['dust 3.1mm', 'C+ 1', 'C 1', 'CO 1']\n",
    "vox.getIntensity()[0][100,models.species.speciesIndeces(molecules)] #for the 3.1mm dust line, C+, C, and CO; in K"
   ]
  },
  {
   "cell_type": "code",
   "execution_count": null,
   "metadata": {},
   "outputs": [],
   "source": [
    "vox.getEmissivity()[0][100,models.species.speciesIndeces(molecules)] #for the 3.1mm dust line, C+, C, and CO; in K/pc"
   ]
  },
  {
   "cell_type": "code",
   "execution_count": null,
   "metadata": {},
   "outputs": [],
   "source": [
    "vox.getEmissivity()[0].shape"
   ]
  },
  {
   "cell_type": "code",
   "execution_count": null,
   "metadata": {},
   "outputs": [],
   "source": [
    "vox.getAbsorption()[0][100,models.species.speciesIndeces(molecules)] #for the 3.1mm dust line, C+, C, and CO; in 1/pc"
   ]
  },
  {
   "cell_type": "code",
   "execution_count": null,
   "metadata": {},
   "outputs": [],
   "source": [
    "molecules = ['dust 3.1mm', 'C+ 1', 'C 1', 'CO 1']\n",
    "for i in range(2):\n",
    "  \n",
    "  print('\\n\\nC L U M P   S E T   {}\\n'.format(i))\n",
    "  \n",
    "  eps_dust,eps_CII,eps_C,eps_CO = vox.getEmissivity()[i][:,models.species.speciesIndeces(molecules)].max(0)\n",
    "  kap_dust,kap_CII,kap_C,kap_CO = vox.getAbsorption()[i][:,models.species.speciesIndeces(molecules)].max(0)\n",
    "\n",
    "  #compute I via radiative transfer; in K\n",
    "  I_dust = eps_dust/kap_dust * (1-np.exp(-kap_dust*models.constants.voxel_size))\n",
    "  I_CII = eps_CII/kap_CII * (1-np.exp(-kap_CII*models.constants.voxel_size))\n",
    "  I_C = eps_C/kap_C * (1-np.exp(-kap_C*models.constants.voxel_size))\n",
    "  I_CO = eps_CO/kap_CO * (1-np.exp(-kap_CO*models.constants.voxel_size))\n",
    "\n",
    "  print('The peak brightness temperature of dust at 3.1mm is {:.6f}'.format(I_dust))\n",
    "  print('The peak brightness temperature of the first transition of C+ is {:.6f}'.format(I_CII))\n",
    "  print('The peak brightness temperature of the first transition of C is {:.6f}'.format(I_C))\n",
    "  print('The peak brightness temperature of the first transition of CO is {:.6f}'.format(I_CO))"
   ]
  },
  {
   "cell_type": "markdown",
   "metadata": {},
   "source": [
    "## Analytic solution"
   ]
  },
  {
   "cell_type": "markdown",
   "metadata": {},
   "source": [
    "### Clump Set 1"
   ]
  },
  {
   "cell_type": "markdown",
   "metadata": {},
   "source": [
    "We now need to compare this result to the expected analytical intensity. Having a large number of clumps in the model means the probability of seeing a certain number of clumps is peaked in a narrow range. (ie. We can use this value to approximate the optical depth.) The probability mass distribution peaks at ~66, as seen below."
   ]
  },
  {
   "cell_type": "code",
   "execution_count": null,
   "metadata": {},
   "outputs": [],
   "source": [
    "import numpy as np\n",
    "from scipy.stats import binom\n",
    "import matplotlib.pyplot as plt\n",
    "\n",
    "rcl = models.masspoints.clumpRadius[0][0,0]\n",
    "p = np.pi*rcl**2\n",
    "\n",
    "k = np.arange(0,100)\n",
    "prob = binom.pmf(k,1e4, p)\n",
    "plt.plot(k, prob)\n",
    "plt.plot([66,66], [0,0.05], ls='--', c='xkcd:bright red')\n",
    "plt.text(68,0,'66',color='xkcd:bright red', fontsize=16)\n",
    "plt.xlabel('k', fontsize=20)\n",
    "plt.ylabel(r'$\\mathcal{P}$', fontsize=20) ;"
   ]
  },
  {
   "cell_type": "markdown",
   "metadata": {},
   "source": [
    "We can directly calculate the intensity that we would expect in such a voxel. With more than one clump in our line-of-sight, we will also need to account for the total amount of absorption in the voxel. We will need to calculate $\\epsilon_{\\nu,cl}$ and $\\kappa_{\\nu,cl}$ for the clump, which is constant.\n",
    "\n",
    "(8)$$\n",
    "\\epsilon_{\\nu, cl} = \\frac{I_{\\nu,cl}}{2R_{cl}}\n",
    "$$\n",
    "\n",
    "(9)$$\n",
    "\\kappa_{\\nu, cl} = \\frac{\\tau_{\\nu,cl}}{2R_{cl}}\n",
    "$$"
   ]
  },
  {
   "cell_type": "markdown",
   "metadata": {},
   "source": [
    "Now we can use these values to integrate the radiative equation:\n",
    "\n",
    "(10)\n",
    "$$\n",
    "I_\\nu = e^{-\\int_0^{\\Delta s} \\kappa_{\\nu,cl} ds} \\left( \\int_0^{\\Delta s} \\epsilon_{\\nu,cl} e^{\\int_0^{\\Delta s} \\kappa_{\\nu,cl} s'} ds' + I_{bg} \\right)\n",
    "$$\n",
    "\n",
    "Since the emission and absorption coefficients $\\left( \\epsilon_{\\nu,cl}, \\kappa_{\\nu,cl} \\right)$ are valid just in each clump, integration over $\\mathcal{N}$ clumps with $I_{bg}=0$ gives,\n",
    "\n",
    "\n",
    "(11)\n",
    "$$\n",
    "I_\\nu = \\frac{\\epsilon_{\\nu,cl}}{\\kappa_{\\nu,cl}} \\left( 1 - e^{-\\kappa_{\\nu,cl} (2\\mathcal{N}R_{cl})} \\right)\n",
    "$$"
   ]
  },
  {
   "cell_type": "markdown",
   "metadata": {},
   "source": [
    "We can now analytically calculate what is the intensity of a given transition if we have 66 clumps in our line-of-sight."
   ]
  },
  {
   "cell_type": "code",
   "execution_count": null,
   "metadata": {},
   "outputs": [],
   "source": [
    "# Define how many clumps are in a line-of-sight\n",
    "nClumps = 66\n",
    "# Get the clump radius\n",
    "rcl = models.masspoints.clumpRadius[0][0,0]\n",
    "# Specify transitions\n",
    "molecules = ['dust 3.1mm', 'C+ 1', 'C 1', 'CO 1']\n",
    "# get the clump intensity and optical depth for the required transitions\n",
    "icl = models.masspoints.clumpIntensity[0][0,models.species.speciesIndeces(molecules)]\n",
    "tcl = models.masspoints.clumpOpticalDepth[0][0,models.species.speciesIndeces(molecules)]\n",
    "\n",
    "# Uncomment these if you would like to compare to the individual clump intensities\n",
    "print('Clump intensities:')\n",
    "for i,I in enumerate(icl/tcl*(1-np.exp(-tcl))):\n",
    "  print('{:>10}: {:.6} K'.format(molecules[i], I))\n",
    "print('\\n')\n",
    "\n",
    "# Initialise the line intensities\n",
    "I = np.zeros(icl.size)\n",
    "\n",
    "# Integrate over the number of clumps along a line-of-sight\n",
    "# for i in range(nClumps):\n",
    "#   I = np.exp(-tcl) * ( icl/tcl*(np.exp(tcl)-1) + I )\n",
    "  \n",
    "# Integrate in an alternate simplified equation\n",
    "I = icl/tcl * (1-np.exp(-nClumps*tcl))\n",
    "\n",
    "for i,transition in enumerate(molecules):\n",
    "  print('The brightness temperature of the {:^10} transition is {:.6} K'.format(transition, I[i]))"
   ]
  },
  {
   "cell_type": "markdown",
   "metadata": {},
   "source": [
    "These values are very similar to the results of the single-voxel model. The accurracy of this result is due to the large number of clumps in the voxel, giving a very specific number of clump in a line-of-sight. The difference between this result and the intensity of a single clump is larger for transitions with lower optical depth. That is how the CI and CII transitions get larger than that of a single clump; the background intensity has a larger effect.\n",
    "\n",
    "There is also a difference between this analytic result and the one obtained with the single-voxel model in the CI transition. The issue here is the ensemble velocity dispersion in the single-voxel model. We gave it a velocity dispersion of $1 \\frac{km}{s}$—very close to the intrinsic clump velocity dispersion of $0.71 \\frac{km}{s}$—but even this is enough to ensure the $10^4$ clumps are actually spread over the ensemble velocities. In this way, it reduces the peak intensity of the voxel. The reason it only is seen in the CI transition is that it is not suffering from large absorption effects (you can see this by the lack of a plateau feature in the velocity-intensity plot seen earlier)."
   ]
  },
  {
   "cell_type": "markdown",
   "metadata": {},
   "source": [
    "### Clump Set 2"
   ]
  },
  {
   "cell_type": "code",
   "execution_count": null,
   "metadata": {},
   "outputs": [],
   "source": [
    "import numpy as np\n",
    "from scipy.stats import binom\n",
    "import matplotlib.pyplot as plt\n",
    "\n",
    "rcl = models.masspoints.clumpRadius[1][0,0]\n",
    "p = np.pi*rcl**2\n",
    "\n",
    "k = np.arange(0,100)\n",
    "prob = binom.pmf(k,1e4, p)\n",
    "plt.plot(k, prob)\n",
    "plt.plot([42,42], [0,0.06], ls='--', c='xkcd:bright red')\n",
    "plt.text(45,0,'42',color='xkcd:bright red', fontsize=16)\n",
    "plt.xlabel('k', fontsize=20)\n",
    "plt.ylabel(r'$\\mathcal{P}$', fontsize=20) ;"
   ]
  },
  {
   "cell_type": "markdown",
   "metadata": {},
   "source": [
    "We can directly calculate the intensity that we would expect in such a voxel. With more than one clump in our line-of-sight, we will also need to account for the total amount of absorption in the voxel. We will need to calculate $\\epsilon_{\\nu,cl}$ and $\\kappa_{\\nu,cl}$ for the clump, which is constant.\n",
    "\n",
    "(8)$$\n",
    "\\epsilon_{\\nu, cl} = \\frac{I_{\\nu,cl}}{2R_{cl}}\n",
    "$$\n",
    "\n",
    "(9)$$\n",
    "\\kappa_{\\nu, cl} = \\frac{\\tau_{\\nu,cl}}{2R_{cl}}\n",
    "$$"
   ]
  },
  {
   "cell_type": "markdown",
   "metadata": {},
   "source": [
    "Now we can use these values to integrate the radiative equation:\n",
    "\n",
    "(10)\n",
    "$$\n",
    "I_\\nu = e^{-\\int_0^{\\Delta s} \\kappa_{\\nu,cl} ds} \\left( \\int_0^{\\Delta s} \\epsilon_{\\nu,cl} e^{\\int_0^{\\Delta s} \\kappa_{\\nu,cl} s'} ds' + I_{bg} \\right)\n",
    "$$\n",
    "\n",
    "Since the emission and absorption coefficients $\\left( \\epsilon_{\\nu,cl}, \\kappa_{\\nu,cl} \\right)$ are valid just in each clump, integration over $\\mathcal{N}$ clumps with $I_{bg}=0$ gives,\n",
    "\n",
    "\n",
    "(11)\n",
    "$$\n",
    "I_\\nu = \\frac{\\epsilon_{\\nu,cl}}{\\kappa_{\\nu,cl}} \\left( 1 - e^{-\\kappa_{\\nu,cl} (2\\mathcal{N}R_{cl})} \\right)\n",
    "$$"
   ]
  },
  {
   "cell_type": "markdown",
   "metadata": {},
   "source": [
    "We can now analytically calculate what is the intensity of a given transition if we have 66 clumps in our line-of-sight."
   ]
  },
  {
   "cell_type": "code",
   "execution_count": null,
   "metadata": {},
   "outputs": [],
   "source": [
    "# Define how many clumps are in a line-of-sight\n",
    "nClumps = 42\n",
    "# Get the clump radius\n",
    "rcl = models.masspoints.clumpRadius[0][0,0]\n",
    "# Specify transitions\n",
    "molecules = ['dust 3.1mm', 'C+ 1', 'C 1', 'CO 1']\n",
    "# get the clump intensity and optical depth for the required transitions\n",
    "icl = models.masspoints.clumpIntensity[1][0,models.species.speciesIndeces(molecules)]\n",
    "tcl = models.masspoints.clumpOpticalDepth[1][0,models.species.speciesIndeces(molecules)]\n",
    "\n",
    "# Uncomment these to view the clump intensities\n",
    "# print('Clump intensities:')\n",
    "# for i,I in enumerate(icl/tcl*(1-np.exp(-tcl))):\n",
    "#   print('{:>10}: {:.6} K'.format(molecules[i], I))\n",
    "# print('\\n')\n",
    "\n",
    "# Initialise the line intensities\n",
    "I = np.zeros(icl.size)\n",
    "\n",
    "# Integrate over the number of clumps along a line-of-sight\n",
    "# for i in range(nClumps):\n",
    "#   I = np.exp(-tcl) * ( icl/tcl*(np.exp(tcl)-1) + I )\n",
    "  \n",
    "# Integrate in an alternate simplified equation\n",
    "I = icl/tcl * (1-np.exp(-nClumps*tcl))\n",
    "\n",
    "for i,transition in enumerate(molecules):\n",
    "  print('The brightness temperature of the {:^10} transition is {:.6} K'.format(transition, I[i]))"
   ]
  },
  {
   "cell_type": "markdown",
   "metadata": {},
   "source": [
    "Like in the previous clump set, these values are very similar to the results of the single-voxel model. The accurracy of this result is due to the large number of clumps in the voxel, giving a very specific number of clump in a line-of-sight.\n",
    "\n",
    "This time the difference between the analytic result and the one obtained with the single-voxel model is due primarily to the ensemble velocity dispersion. We gave it a velocity dispersion of $1 \\frac{km}{s}$—very close to the intrinsic clump velocity dispersion of $0.71 \\frac{km}{s}$—but even this is enough to ensure the $10^4$ clumps are actually spread over the ensemble velocities. In this way, it reduces the peak intensity of the voxel. It is seen in the CI and CO transitions since they are not suffering from large absorption effects (you can see this by the lack of a plateau feature in the velocity-intensity plot seen earlier)."
   ]
  },
  {
   "cell_type": "markdown",
   "metadata": {},
   "source": [
    "# "
   ]
  },
  {
   "cell_type": "markdown",
   "metadata": {},
   "source": [
    "# 3. Changing the velocity dispersion in the voxel"
   ]
  },
  {
   "cell_type": "markdown",
   "metadata": {},
   "source": [
    "Here we will consider two voxel with similar properties except for the ensemble dispersion. Thus we will examine the how the velocity dispersion affects the resulting intensity."
   ]
  },
  {
   "cell_type": "code",
   "execution_count": null,
   "metadata": {},
   "outputs": [],
   "source": [
    "from kosmatau3d import models\n",
    "import numpy as np\n",
    "\n",
    "np.set_printoptions(precision=8)\n",
    "\n",
    "# Use these to change the voxel properties, which is necessary in the default mode.\n",
    "parameters = { \\\n",
    "                # Model parameters\n",
    "                'voxel_size' : 1, \\\n",
    "                 'molecules' : 'all', \\\n",
    "                      'dust' : 'PAH', \\\n",
    "            'clumpMassRange' : [[1]], \\\n",
    "           'clumpMassNumber' : [1], \\\n",
    "                 'clumpNmax' : [1], \\\n",
    "             'velocityRange' : [-10, 10], \\\n",
    "            'velocityNumber' : 201, \\\n",
    "\n",
    "                # Voxel properties\n",
    "                  'velocity' : 0., \\\n",
    "        'ensembleDispersion' : 1, \\\n",
    "                 'clumpMass' : 1e3, \\\n",
    "           'ensembleDensity' : 1e6, \\\n",
    "                       'FUV' : 1e4 \\\n",
    "          }\n",
    "\n",
    "vox = models.Voxel()\n",
    "vox.setProperties(**parameters)\n",
    "vox.calculateEmission(verbose=True)\n",
    "vox.plotMolecule(molecule=['C+ 1', 'C 1', 'CO 1'])"
   ]
  },
  {
   "cell_type": "code",
   "execution_count": null,
   "metadata": {},
   "outputs": [],
   "source": [
    "from kosmatau3d import models\n",
    "import numpy as np\n",
    "\n",
    "np.set_printoptions(precision=8)\n",
    "\n",
    "# Use these to change the voxel properties, which is necessary in the default mode.\n",
    "parameters = { \\\n",
    "                # Model parameters\n",
    "                'voxel_size' : 1, \\\n",
    "                 'molecules' : 'all', \\\n",
    "                      'dust' : 'PAH', \\\n",
    "            'clumpMassRange' : [[1]], \\\n",
    "           'clumpMassNumber' : [1], \\\n",
    "                 'clumpNmax' : [1], \\\n",
    "             'velocityRange' : [-10, 10], \\\n",
    "            'velocityNumber' : 201, \\\n",
    "\n",
    "                # Voxel properties\n",
    "                  'velocity' : 0., \\\n",
    "        'ensembleDispersion' : 2, \\\n",
    "                 'clumpMass' : 1e3, \\\n",
    "           'ensembleDensity' : 1e6, \\\n",
    "                       'FUV' : 1e4 \\\n",
    "          }\n",
    "\n",
    "vox = models.Voxel()\n",
    "vox.setProperties(**parameters)\n",
    "vox.calculateEmission(verbose=True)\n",
    "vox.plotMolecule(molecule=['C+ 1', 'C 1', 'CO 1'])"
   ]
  },
  {
   "cell_type": "markdown",
   "metadata": {},
   "source": [
    "## "
   ]
  },
  {
   "cell_type": "markdown",
   "metadata": {},
   "source": [
    "# 4. Resizing the voxel"
   ]
  },
  {
   "cell_type": "markdown",
   "metadata": {},
   "source": [
    "### Small clumps\n",
    "\n",
    "Here we consider a voxel with larger mass and more observed velocities, but we still consider a simple model with one clump mass. The mass clump this time is much smaller ($10^{-2} \\ M_\\odot$). This is the typical clump size used to model the interclump medium. Andree-Labsch (2017) models the interclump medium by forcing $\\mathrm{n}_{max}=100$ (this is called `clumpNmax` in the single-voxel model). As you might have seen, specifying `clumpNmax` will normalise the number of clumps in the model to that value by scaling the voxel size. Using a value of None will not use this feature. We can model $10^2 M_\\odot$ in the voxel, but vary $\\mathrm{n}_{max} \\in (100,1,None)$. This example will be used to examine the validity of this normalisation and rescaling of the voxel."
   ]
  },
  {
   "cell_type": "code",
   "execution_count": null,
   "metadata": {},
   "outputs": [],
   "source": [
    "from kosmatau3d import models\n",
    "import numpy as np\n",
    "\n",
    "# Use these to change the voxel properties, which is necessary in the default mode.\n",
    "parameters = { \\\n",
    "                # Model parameters\n",
    "                'voxel_size' : 1, \\\n",
    "                 'molecules' : 'all', \\\n",
    "                      'dust' : 'PAH', \\\n",
    "            'clumpMassRange' : [[-2]], \\\n",
    "           'clumpMassNumber' : [1], \\\n",
    "                 'clumpNmax' : [100], \\\n",
    "             'velocityRange' : [-10, 10], \\\n",
    "            'velocityNumber' : 201, \\\n",
    "\n",
    "                # Voxel properties\n",
    "                  'velocity' : 0., \\\n",
    "        'ensembleDispersion' : 3, \\\n",
    "                 'clumpMass' : 1e2, \\\n",
    "           'ensembleDensity' : 1e6, \\\n",
    "                       'FUV' : 1e4 \\\n",
    "          }\n",
    "\n",
    "vox = models.Voxel()\n",
    "vox.setProperties(**parameters)\n",
    "vox.calculateEmission(verbose=True)\n",
    "\n",
    "molecules = ['C+ 1', 'C 1', 'CO 1']\n",
    "print('Peak intensities for ', molecules)\n",
    "print(vox.getIntensity()[0][:,models.species.speciesIndeces(molecules)].max(0))\n",
    "vox.plotMolecule(molecule=molecules)"
   ]
  },
  {
   "cell_type": "code",
   "execution_count": null,
   "metadata": {},
   "outputs": [],
   "source": [
    "models.ensemble.printEnsembleParameters()"
   ]
  },
  {
   "cell_type": "code",
   "execution_count": null,
   "metadata": {},
   "outputs": [],
   "source": [
    "from kosmatau3d import models\n",
    "import numpy as np\n",
    "\n",
    "# Use these to change the voxel properties, which is necessary in the default mode.\n",
    "parameters = { \\\n",
    "                # Model parameters\n",
    "                'voxel_size' : 1, \\\n",
    "                 'molecules' : 'all', \\\n",
    "                      'dust' : 'PAH', \\\n",
    "            'clumpMassRange' : [[-2]], \\\n",
    "           'clumpMassNumber' : [1], \\\n",
    "                 'clumpNmax' : [1], \\\n",
    "             'velocityRange' : [-10, 10], \\\n",
    "            'velocityNumber' : 201, \\\n",
    "\n",
    "                # Voxel properties\n",
    "                  'velocity' : 0., \\\n",
    "        'ensembleDispersion' : 3, \\\n",
    "                 'clumpMass' : 1e2, \\\n",
    "           'ensembleDensity' : 1e6, \\\n",
    "                       'FUV' : 1e4 \\\n",
    "          }\n",
    "\n",
    "vox = models.Voxel()\n",
    "vox.setProperties(**parameters)\n",
    "vox.calculateEmission(verbose=True)\n",
    "\n",
    "molecules = ['C+ 1', 'C 1', 'CO 1']\n",
    "print('Peak intensities for ', molecules)\n",
    "print(vox.getIntensity()[0][:,models.species.speciesIndeces(molecules)].max(0))\n",
    "vox.plotMolecule(molecule=molecules)"
   ]
  },
  {
   "cell_type": "code",
   "execution_count": null,
   "metadata": {},
   "outputs": [],
   "source": [
    "models.ensemble.printEnsembleParameters()"
   ]
  },
  {
   "cell_type": "code",
   "execution_count": null,
   "metadata": {},
   "outputs": [],
   "source": [
    "from kosmatau3d import models\n",
    "import numpy as np\n",
    "\n",
    "# Use these to change the voxel properties, which is necessary in the default mode.\n",
    "parameters = { \\\n",
    "                # Model parameters\n",
    "                'voxel_size' : 1, \\\n",
    "                 'molecules' : 'all', \\\n",
    "                      'dust' : 'PAH', \\\n",
    "            'clumpMassRange' : [[-2]], \\\n",
    "           'clumpMassNumber' : [1], \\\n",
    "                 'clumpNmax' : [None], \\\n",
    "             'velocityRange' : [-10, 10], \\\n",
    "            'velocityNumber' : 201, \\\n",
    "\n",
    "                # Voxel properties\n",
    "                  'velocity' : 0., \\\n",
    "        'ensembleDispersion' : 3, \\\n",
    "                 'clumpMass' : 1e2, \\\n",
    "           'ensembleDensity' : 1e6, \\\n",
    "                       'FUV' : 1e4 \\\n",
    "          }\n",
    "\n",
    "vox = models.Voxel()\n",
    "vox.setProperties(**parameters)\n",
    "vox.calculateEmission(verbose=True)\n",
    "\n",
    "molecules = ['C+ 1', 'C 1', 'CO 1']\n",
    "print('Peak intensities for ', molecules)\n",
    "print(vox.getIntensity()[0][:,models.species.speciesIndeces(molecules)].max(0))\n",
    "vox.plotMolecule(molecule=molecules)"
   ]
  },
  {
   "cell_type": "code",
   "execution_count": null,
   "metadata": {},
   "outputs": [],
   "source": [
    "models.ensemble.printEnsembleParameters()"
   ]
  },
  {
   "cell_type": "markdown",
   "metadata": {},
   "source": [
    "As we can see here, changing $\\mathrm{n}_{max}$ has little effect on the resulting intensity of the voxel $(< 5 \\%)$. The main motivation for specifying $\\mathrm{n}_{max}$ is a computational one: it limits the number of clump combinations calculated and thus the computational footprint of the model."
   ]
  },
  {
   "cell_type": "markdown",
   "metadata": {},
   "source": [
    "### Large clumps\n",
    "\n",
    "One reason the test using $10^{-2} M_\\odot$ did not show much of a difference using different $\\mathrm{n}_{max}$ is that there is not much absorption in such a small clump mass. We can thus repeat this experiment for a more massive clump of $10 M_\\odot$. In this case we use an ensemble mass of $10^3 M_\\odot$ to ensure the voxel still has enough clumps to suffer from self-absorption but not so many to be completely self-absorbed (seen by a plateau in the velocity-intensity plot)."
   ]
  },
  {
   "cell_type": "code",
   "execution_count": null,
   "metadata": {},
   "outputs": [],
   "source": [
    "from kosmatau3d import models\n",
    "import numpy as np\n",
    "\n",
    "# Use these to change the voxel properties, which is necessary in the default mode.\n",
    "parameters = { \\\n",
    "                # Model parameters\n",
    "                'voxel_size' : 1, \\\n",
    "                 'molecules' : 'all', \\\n",
    "                      'dust' : 'PAH', \\\n",
    "            'clumpMassRange' : [[1]], \\\n",
    "           'clumpMassNumber' : [1], \\\n",
    "                 'clumpNmax' : [3], \\\n",
    "             'velocityRange' : [-10, 10], \\\n",
    "            'velocityNumber' : 201, \\\n",
    "\n",
    "                # Voxel properties\n",
    "                  'velocity' : 0., \\\n",
    "        'ensembleDispersion' : 1, \\\n",
    "                 'clumpMass' : 1e3, \\\n",
    "           'ensembleDensity' : 1e6, \\\n",
    "                       'FUV' : 1e4 \\\n",
    "          }\n",
    "\n",
    "vox = models.Voxel()\n",
    "vox.setProperties(**parameters)\n",
    "vox.calculateEmission(verbose=True)\n",
    "\n",
    "molecules = ['C+ 1', 'C 1', 'CO 1']\n",
    "print('Peak intensities for ', molecules)\n",
    "print(vox.getIntensity()[0][:,models.species.speciesIndeces(molecules)].max(0))\n",
    "vox.plotMolecule(molecule=molecules)"
   ]
  },
  {
   "cell_type": "code",
   "execution_count": null,
   "metadata": {},
   "outputs": [],
   "source": [
    "models.ensemble.printEnsembleParameters()"
   ]
  },
  {
   "cell_type": "code",
   "execution_count": null,
   "metadata": {},
   "outputs": [],
   "source": [
    "from kosmatau3d import models\n",
    "import numpy as np\n",
    "\n",
    "# Use these to change the voxel properties, which is necessary in the default mode.\n",
    "parameters = { \\\n",
    "                # Model parameters\n",
    "                'voxel_size' : 1, \\\n",
    "                 'molecules' : 'all', \\\n",
    "                      'dust' : 'PAH', \\\n",
    "            'clumpMassRange' : [[1]], \\\n",
    "           'clumpMassNumber' : [1], \\\n",
    "                 'clumpNmax' : [1], \\\n",
    "             'velocityRange' : [-10, 10], \\\n",
    "            'velocityNumber' : 201, \\\n",
    "\n",
    "                # Voxel properties\n",
    "                  'velocity' : 0., \\\n",
    "        'ensembleDispersion' : 1, \\\n",
    "                 'clumpMass' : 1e3, \\\n",
    "           'ensembleDensity' : 1e6, \\\n",
    "                       'FUV' : 1e4 \\\n",
    "          }\n",
    "\n",
    "vox = models.Voxel()\n",
    "vox.setProperties(**parameters)\n",
    "vox.calculateEmission(verbose=True)\n",
    "\n",
    "molecules = ['C+ 1', 'C 1', 'CO 1']\n",
    "print('Peak intensities for ', molecules)\n",
    "print(vox.getIntensity()[0][:,models.species.speciesIndeces(molecules)].max(0))\n",
    "vox.plotMolecule(molecule=molecules)"
   ]
  },
  {
   "cell_type": "code",
   "execution_count": null,
   "metadata": {},
   "outputs": [],
   "source": [
    "models.ensemble.printEnsembleParameters()"
   ]
  },
  {
   "cell_type": "code",
   "execution_count": null,
   "metadata": {},
   "outputs": [],
   "source": [
    "from kosmatau3d import models\n",
    "import numpy as np\n",
    "\n",
    "# Use these to change the voxel properties, which is necessary in the default mode.\n",
    "parameters = { \\\n",
    "                # Model parameters\n",
    "                'voxel_size' : 1, \\\n",
    "                 'molecules' : 'all', \\\n",
    "                      'dust' : 'PAH', \\\n",
    "            'clumpMassRange' : [[1]], \\\n",
    "           'clumpMassNumber' : [1], \\\n",
    "                 'clumpNmax' : [None], \\\n",
    "             'velocityRange' : [-10, 10], \\\n",
    "            'velocityNumber' : 201, \\\n",
    "\n",
    "                # Voxel properties\n",
    "                  'velocity' : 0., \\\n",
    "        'ensembleDispersion' : 1, \\\n",
    "                 'clumpMass' : 1e3, \\\n",
    "           'ensembleDensity' : 1e6, \\\n",
    "                       'FUV' : 1e4 \\\n",
    "          }\n",
    "\n",
    "vox = models.Voxel()\n",
    "vox.setProperties(**parameters)\n",
    "vox.calculateEmission(verbose=True)\n",
    "\n",
    "molecules = ['C+ 1', 'C 1', 'CO 1']\n",
    "print('Peak intensities for ', molecules)\n",
    "print(vox.getIntensity()[0][:,models.species.speciesIndeces(molecules)].max(0))\n",
    "vox.plotMolecule(molecule=molecules)"
   ]
  },
  {
   "cell_type": "code",
   "execution_count": null,
   "metadata": {},
   "outputs": [],
   "source": [
    "models.ensemble.printEnsembleParameters()"
   ]
  },
  {
   "cell_type": "markdown",
   "metadata": {},
   "source": [
    "The difference here can approach $5 \\%$. This difference, while not much, should be kept in mind when using the single-voxel model. This error is also most evident in models with enough clumps for self absorption, but not so many that a plateau appears in the velocity-intensity plot. In cases that feature a plateau, this error is mitigated."
   ]
  },
  {
   "cell_type": "markdown",
   "metadata": {},
   "source": [
    "# "
   ]
  },
  {
   "cell_type": "markdown",
   "metadata": {},
   "source": [
    "# 5. Dense voxel with multiple clump masses"
   ]
  },
  {
   "cell_type": "markdown",
   "metadata": {},
   "source": [
    "Having shown the functionality of using one clump in the model, we now repeat the previous example using clump masses $0.1$, $1$, and $10 \\ M_\\odot$ in the model. What we will see is that there is a similar intensity and optical depth. Note the change in `clumpMassRange` and `clumpMassNumber` kwargs."
   ]
  },
  {
   "cell_type": "code",
   "execution_count": 45,
   "metadata": {},
   "outputs": [
    {
     "name": "stdout",
     "output_type": "stream",
     "text": [
      "Voxel emission calculated.\n"
     ]
    }
   ],
   "source": [
    "from kosmatau3d import models\n",
    "import numpy as np\n",
    "\n",
    "# Use these to change the voxel properties, which is necessary in the default mode.\n",
    "parameters = { \\\n",
    "                # Model parameters\n",
    "                'voxel_size' : 0.1, \\\n",
    "                 'molecules' : 'all', \\\n",
    "                      'dust' : 'PAH', \\\n",
    "            'clumpMassRange' : [[0, 2]], \\\n",
    "           'clumpMassNumber' : [3], \\\n",
    "                 'clumpNmax' : [1], \\\n",
    "             'velocityRange' : [-10, 10], \\\n",
    "            'velocityNumber' : 201, \\\n",
    "\n",
    "                # Voxel properties\n",
    "                  'velocity' : 0., \\\n",
    "        'ensembleDispersion' : 2, \\\n",
    "                 'clumpMass' : 1e3, \\\n",
    "           'ensembleDensity' : 1e6, \\\n",
    "                       'FUV' : 1e4 \\\n",
    "          }\n",
    "\n",
    "vox = models.Voxel()\n",
    "vox.setProperties(**parameters)\n",
    "vox.calculateEmission(verbose=True)"
   ]
  },
  {
   "cell_type": "code",
   "execution_count": 46,
   "metadata": {},
   "outputs": [
    {
     "data": {
      "image/png": "[encoded data removed]",
      "text/plain": [
       "<Figure size 720x360 with 1 Axes>"
      ]
     },
     "metadata": {
      "needs_background": "light"
     },
     "output_type": "display_data"
    }
   ],
   "source": [
    "vox.plotMolecule(molecule=['C+ 1', 'C 1', 'CO 1', '13C+ 1', '13C 1', '13CO 1'], quantity='intensity', logscale=False)"
   ]
  },
  {
   "cell_type": "markdown",
   "metadata": {},
   "source": [
    "There still strange results in the plateaux due to the effects of the smaller clumps. The largest clump gives the edges (\"shoulders\") of the plateaux, while the smaller clumps cause the variation in plateaux intensity."
   ]
  },
  {
   "cell_type": "markdown",
   "metadata": {},
   "source": [
    "### Increasing the voxel size"
   ]
  },
  {
   "cell_type": "markdown",
   "metadata": {},
   "source": [
    "Finally we can see how changing the voxel parameters appropriately can give the same result. We will use the same model parameters as the previous example with a larger voxel size. If we increase the Voxel size to $1 pc$ (a factor of 10 greater) and increase the mass to $10^5 M_\\odot$ (a factor of 100 greater), we should get the same results as the previous example."
   ]
  },
  {
   "cell_type": "code",
   "execution_count": 47,
   "metadata": {},
   "outputs": [],
   "source": [
    "from kosmatau3d import models\n",
    "import numpy as np\n",
    "\n",
    "# Use these to change the voxel properties, which is necessary in the default mode.\n",
    "parameters = { \\\n",
    "                # Model parameters\n",
    "                'voxel_size' : 1, \\\n",
    "                 'molecules' : 'all', \\\n",
    "                      'dust' : 'PAH', \\\n",
    "            'clumpMassRange' : [[0, 2]], \\\n",
    "           'clumpMassNumber' : [3], \\\n",
    "                 'clumpNmax' : [1], \\\n",
    "             'velocityRange' : [-10, 10], \\\n",
    "            'velocityNumber' : 201, \\\n",
    "\n",
    "                # Voxel properties\n",
    "                  'velocity' : 0., \\\n",
    "        'ensembleDispersion' : 2, \\\n",
    "                 'clumpMass' : 1e5, \\\n",
    "           'ensembleDensity' : 1e6, \\\n",
    "                       'FUV' : 1e4 \\\n",
    "          }\n",
    "\n",
    "vox = models.Voxel()\n",
    "vox.setProperties(**parameters)\n",
    "vox.calculateEmission()"
   ]
  },
  {
   "cell_type": "code",
   "execution_count": 48,
   "metadata": {},
   "outputs": [
    {
     "data": {
      "image/png": "[encoded data removed]",
      "text/plain": [
       "<Figure size 720x360 with 1 Axes>"
      ]
     },
     "metadata": {
      "needs_background": "light"
     },
     "output_type": "display_data"
    }
   ],
   "source": [
    "vox.plotMolecule(molecule=['C+ 1', 'C 1', 'CO 1', '13C+ 1', '13C 1', '13CO 1'], quantity='intensity', logscale=False)"
   ]
  },
  {
   "cell_type": "markdown",
   "metadata": {},
   "source": [
    "Indeed the same results are present in this model as well. Since we do not change the model clumps, the voxel density, or FUV field, this should be expected by comparing the results of `ensemble.printEnsembleParameters()`. In the end, this just verifies the validity of rescaling the voxel."
   ]
  }
 ],
 "metadata": {
  "kernelspec": {
   "display_name": "Python 3",
   "language": "python",
   "name": "python3"
  },
  "language_info": {
   "codemirror_mode": {
    "name": "ipython",
    "version": 3
   },
   "file_extension": ".py",
   "mimetype": "text/x-python",
   "name": "python",
   "nbconvert_exporter": "python",
   "pygments_lexer": "ipython3",
   "version": "3.7.7"
  }
 },
 "nbformat": 4,
 "nbformat_minor": 4
}
